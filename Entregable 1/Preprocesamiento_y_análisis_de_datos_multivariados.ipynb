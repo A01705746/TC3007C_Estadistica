{
  "nbformat": 4,
  "nbformat_minor": 0,
  "metadata": {
    "colab": {
      "provenance": [],
      "collapsed_sections": [
        "MoFXsA5qum0V",
        "W_uxXjczhu1_",
        "SLyBxmoCiEYH",
        "kzafJlFIChbj",
        "fqvho1pRRhol",
        "sCvhT__outYs",
        "1EwvAWTw8IYC",
        "_KfUOX5AxsWd",
        "kZDCWtFhWB68",
        "dhLYmDfmyX8N",
        "CGX6l8RmdM2R",
        "qaQ9O6mfdWgz",
        "lDABCINydfY4",
        "cMuxmUNBdbs9",
        "48xHXA1GZU2p",
        "YYxMOfJaf3IG",
        "cMM34WdJf8uu",
        "gqFeUHC0ehgO",
        "Q8KXHyVBg4TH",
        "_FwtH038g2RS"
      ]
    },
    "kernelspec": {
      "name": "python3",
      "display_name": "Python 3"
    },
    "language_info": {
      "name": "python"
    }
  },
  "cells": [
    {
      "cell_type": "markdown",
      "source": [
        "**Enrique Santos Fraire, 25/11/2022**"
      ],
      "metadata": {
        "id": "zdm73Qb-UTFM"
      }
    },
    {
      "cell_type": "markdown",
      "source": [
        "# Introducción"
      ],
      "metadata": {
        "id": "MoFXsA5qum0V"
      }
    },
    {
      "cell_type": "markdown",
      "source": [
        "Utilizando el dataset del bloque anterior se realizó lo siguiente:\n",
        "\n",
        "\n",
        "1.- Realiza un análisis exploratorio de las variables:\n",
        "\n",
        "Calcula matriz de varianza y covarianza, así como matriz de correlación de las variables independientes y la dependiente. Explicar qué es la varianza, covarianza y correlación. Interpreta la matriz de correlación. Tiene que utilizar álgebra matricial y corroborar resultados con funciones de Python.\n",
        "\n",
        "Corre pruebas estadísticas para detectar outliers y leverage points. Tiene que utilizar álgebra matricial para las pruebas y explicar claramente cómo funcionan las pruebas. Puede utilizar funciones de Python para corroborar resultados.\n",
        "\n",
        "2.- Hace un análisis de multicolinealidad explicando la prueba e implicaciones en el modelo.\n",
        "\n",
        "3.- Propone e implementa soluciones a los problemas de los puntos anteriores para que el modelo sea el más adecuado.\n",
        "\n",
        "4.-Estima e interpreta un modelo de regresión múltiple después de atender los problemas anteriores. Tiene que utilizar álgebra matricial para estimar coeficientes y errores estándar del modelo de regresión, y utilizar funciones de Python para corroborar resultados.\n"
      ],
      "metadata": {
        "id": "cf-KdyNAutEe"
      }
    },
    {
      "cell_type": "markdown",
      "source": [
        "# CARGA Y LIMPIEZA DE DATOS"
      ],
      "metadata": {
        "id": "W_uxXjczhu1_"
      }
    },
    {
      "cell_type": "code",
      "source": [
        "from google.colab import drive\n",
        "\n",
        "drive.mount(\"/content/gdrive\")  \n",
        "!pwd  # show current path "
      ],
      "metadata": {
        "colab": {
          "base_uri": "https://localhost:8080/"
        },
        "id": "zU72cnwjNJiO",
        "outputId": "8a1c4f8d-35bf-43ba-a050-f94bc0c480a3"
      },
      "execution_count": 1,
      "outputs": [
        {
          "output_type": "stream",
          "name": "stdout",
          "text": [
            "Mounted at /content/gdrive\n",
            "/content\n"
          ]
        }
      ]
    },
    {
      "cell_type": "code",
      "source": [
        "%cd \"/content/gdrive/MyDrive/Semestre IA 2/Estadística Avanzada para la Ciencia de Datos\"\n",
        "!ls  # show current directory"
      ],
      "metadata": {
        "colab": {
          "base_uri": "https://localhost:8080/"
        },
        "id": "ybps8ec_NOeX",
        "outputId": "c1391d1b-9db9-4ff0-c1d1-d1403e610063"
      },
      "execution_count": 2,
      "outputs": [
        {
          "output_type": "stream",
          "name": "stdout",
          "text": [
            "/content/gdrive/MyDrive/Semestre IA 2/Estadística Avanzada para la Ciencia de Datos\n",
            "'Evaluación de un modelo y su aplicación para predicción.ipynb'\n",
            " IGAE.csv\n",
            "'Preprocesamiento y análisis de datos multivariados.ipynb'\n",
            " us2022q2a.csv\n",
            " usfirms2022.csv\n"
          ]
        }
      ]
    },
    {
      "cell_type": "markdown",
      "source": [
        "IMPORTACIÓN DE LIBRERÍAS"
      ],
      "metadata": {
        "id": "4_I27-PA2PB9"
      }
    },
    {
      "cell_type": "code",
      "source": [
        "import numpy as np\n",
        "import pandas as pd\n",
        "import plotly.express as px\n",
        "import matplotlib.pyplot as plt\n",
        "\n",
        "df1 = pd.read_csv('us2022q2a.csv')\n",
        "df2 = pd.read_csv('usfirms2022.csv')"
      ],
      "metadata": {
        "id": "yqLuGskjN5It"
      },
      "execution_count": 3,
      "outputs": []
    },
    {
      "cell_type": "markdown",
      "source": [
        "DROPEAMOS LOS DATOS QUE NO APORTAN INFORMACIÓN AL MODELO, FISCALMONTH, YEAR Y CTO YA ESTAN EN Q. COUNTRY OF ORIGIN Y ASSET ES INFORMACIÓN QUE NO CAMBIA."
      ],
      "metadata": {
        "id": "nd42TaZVgRcP"
      }
    },
    {
      "cell_type": "code",
      "source": [
        "df1 = df1.drop(['fiscalmonth', 'year', 'cto'], axis=1)\n",
        "df2 = df2.drop(['N', 'Country\\nof Origin', 'Type of Asset'], axis=1)"
      ],
      "metadata": {
        "id": "Xb_j9P5ec2yj"
      },
      "execution_count": 4,
      "outputs": []
    },
    {
      "cell_type": "markdown",
      "source": [
        "UNIMOS AMBOS DATA FRAMES."
      ],
      "metadata": {
        "id": "1JfkDAFagoXw"
      }
    },
    {
      "cell_type": "code",
      "source": [
        "df_merge = df1.merge(df2, left_on='firm', right_on='Ticker')\n",
        "df_merge"
      ],
      "metadata": {
        "colab": {
          "base_uri": "https://localhost:8080/",
          "height": 956
        },
        "id": "BNaU3QgATJHr",
        "outputId": "5d8d2abb-6ae4-45bc-aafa-870f5ce6b86b"
      },
      "execution_count": 5,
      "outputs": [
        {
          "output_type": "execute_result",
          "data": {
            "text/plain": [
              "        firm       q    revenue       cogs          sgae  otheropexp  \\\n",
              "0          A  2000q1        NaN        NaN           NaN         NaN   \n",
              "1          A  2000q2  2485000.0  1261000.0  1.010000e+06         0.0   \n",
              "2          A  2000q3  2670000.0  1369000.0  1.091000e+06         0.0   \n",
              "3          A  2000q4  3372000.0  1732000.0  1.182000e+06         0.0   \n",
              "4          A  2001q1  2841000.0  1449000.0  1.113000e+06         0.0   \n",
              "...      ...     ...        ...        ...           ...         ...   \n",
              "323811  ZYNE  2021q2        0.0        0.0  9.838494e+03         0.0   \n",
              "323812  ZYNE  2021q3        0.0        0.0  1.021065e+04         0.0   \n",
              "323813  ZYNE  2021q4        0.0        0.0  8.836436e+03         0.0   \n",
              "323814  ZYNE  2022q1        0.0        0.0  8.903915e+03         0.0   \n",
              "323815  ZYNE  2022q2        0.0        0.0  9.168770e+03         0.0   \n",
              "\n",
              "         extraincome  finexp  incometax  totalassets  ...  originalprice  \\\n",
              "0                NaN     NaN        NaN          NaN  ...       104.0000   \n",
              "1       42000.000000   0.000    90000.0  7321000.000  ...        73.7500   \n",
              "2       28000.000000   0.000    83000.0  7827000.000  ...        48.9375   \n",
              "3       10000.000000   0.000   163000.0  8425000.000  ...        54.7500   \n",
              "4       -6000.000000   0.000   119000.0  9208000.000  ...        30.7300   \n",
              "...              ...     ...        ...          ...  ...            ...   \n",
              "323811   -117.528220  -5.943        0.0    98195.904  ...         5.2900   \n",
              "323812   -376.636750  -5.038        0.0    89996.170  ...         4.2400   \n",
              "323813     16.937906  -4.433        0.0    81171.507  ...         2.8800   \n",
              "323814    317.252110 -96.044        0.0    74381.029  ...         2.0500   \n",
              "323815   -775.927860 -91.691        0.0    67006.959  ...         1.1400   \n",
              "\n",
              "        sharesoutstanding  Ticker                          Name  Class  \\\n",
              "0              452000.000       A     Agilent Technologies, Inc    Com   \n",
              "1              452271.967       A     Agilent Technologies, Inc    Com   \n",
              "2              453014.579       A     Agilent Technologies, Inc    Com   \n",
              "3              456366.381       A     Agilent Technologies, Inc    Com   \n",
              "4              456769.737       A     Agilent Technologies, Inc    Com   \n",
              "...                   ...     ...                           ...    ...   \n",
              "323811          41251.537    ZYNE  Zynerba Pharmaceuticals, Inc    Com   \n",
              "323812          41251.537    ZYNE  Zynerba Pharmaceuticals, Inc    Com   \n",
              "323813          41217.537    ZYNE  Zynerba Pharmaceuticals, Inc    Com   \n",
              "323814          42447.037    ZYNE  Zynerba Pharmaceuticals, Inc    Com   \n",
              "323815          43595.959    ZYNE  Zynerba Pharmaceuticals, Inc    Com   \n",
              "\n",
              "        Sector NAICS\\nlevel 1  Exchange / Src Sector\\nEconomatica  \\\n",
              "0               Manufacturing            NYSE   Electric Electron   \n",
              "1               Manufacturing            NYSE   Electric Electron   \n",
              "2               Manufacturing            NYSE   Electric Electron   \n",
              "3               Manufacturing            NYSE   Electric Electron   \n",
              "4               Manufacturing            NYSE   Electric Electron   \n",
              "...                       ...             ...                 ...   \n",
              "323811          Manufacturing          NASDAQ            Chemical   \n",
              "323812          Manufacturing          NASDAQ            Chemical   \n",
              "323813          Manufacturing          NASDAQ            Chemical   \n",
              "323814          Manufacturing          NASDAQ            Chemical   \n",
              "323815          Manufacturing          NASDAQ            Chemical   \n",
              "\n",
              "                             Sector NAICS\\nlast available partind  \n",
              "0       Navigational, Measuring, Electromedical, and C...   0.124  \n",
              "1       Navigational, Measuring, Electromedical, and C...   0.124  \n",
              "2       Navigational, Measuring, Electromedical, and C...   0.124  \n",
              "3       Navigational, Measuring, Electromedical, and C...   0.124  \n",
              "4       Navigational, Measuring, Electromedical, and C...   0.124  \n",
              "...                                                   ...     ...  \n",
              "323811          Pharmaceutical and Medicine Manufacturing       -  \n",
              "323812          Pharmaceutical and Medicine Manufacturing       -  \n",
              "323813          Pharmaceutical and Medicine Manufacturing       -  \n",
              "323814          Pharmaceutical and Medicine Manufacturing       -  \n",
              "323815          Pharmaceutical and Medicine Manufacturing       -  \n",
              "\n",
              "[323816 rows x 25 columns]"
            ],
            "text/html": [
              "\n",
              "  <div id=\"df-c5c240e0-aa42-44d5-b947-c6913cd2b976\">\n",
              "    <div class=\"colab-df-container\">\n",
              "      <div>\n",
              "<style scoped>\n",
              "    .dataframe tbody tr th:only-of-type {\n",
              "        vertical-align: middle;\n",
              "    }\n",
              "\n",
              "    .dataframe tbody tr th {\n",
              "        vertical-align: top;\n",
              "    }\n",
              "\n",
              "    .dataframe thead th {\n",
              "        text-align: right;\n",
              "    }\n",
              "</style>\n",
              "<table border=\"1\" class=\"dataframe\">\n",
              "  <thead>\n",
              "    <tr style=\"text-align: right;\">\n",
              "      <th></th>\n",
              "      <th>firm</th>\n",
              "      <th>q</th>\n",
              "      <th>revenue</th>\n",
              "      <th>cogs</th>\n",
              "      <th>sgae</th>\n",
              "      <th>otheropexp</th>\n",
              "      <th>extraincome</th>\n",
              "      <th>finexp</th>\n",
              "      <th>incometax</th>\n",
              "      <th>totalassets</th>\n",
              "      <th>...</th>\n",
              "      <th>originalprice</th>\n",
              "      <th>sharesoutstanding</th>\n",
              "      <th>Ticker</th>\n",
              "      <th>Name</th>\n",
              "      <th>Class</th>\n",
              "      <th>Sector NAICS\\nlevel 1</th>\n",
              "      <th>Exchange / Src</th>\n",
              "      <th>Sector\\nEconomatica</th>\n",
              "      <th>Sector NAICS\\nlast available</th>\n",
              "      <th>partind</th>\n",
              "    </tr>\n",
              "  </thead>\n",
              "  <tbody>\n",
              "    <tr>\n",
              "      <th>0</th>\n",
              "      <td>A</td>\n",
              "      <td>2000q1</td>\n",
              "      <td>NaN</td>\n",
              "      <td>NaN</td>\n",
              "      <td>NaN</td>\n",
              "      <td>NaN</td>\n",
              "      <td>NaN</td>\n",
              "      <td>NaN</td>\n",
              "      <td>NaN</td>\n",
              "      <td>NaN</td>\n",
              "      <td>...</td>\n",
              "      <td>104.0000</td>\n",
              "      <td>452000.000</td>\n",
              "      <td>A</td>\n",
              "      <td>Agilent Technologies, Inc</td>\n",
              "      <td>Com</td>\n",
              "      <td>Manufacturing</td>\n",
              "      <td>NYSE</td>\n",
              "      <td>Electric Electron</td>\n",
              "      <td>Navigational, Measuring, Electromedical, and C...</td>\n",
              "      <td>0.124</td>\n",
              "    </tr>\n",
              "    <tr>\n",
              "      <th>1</th>\n",
              "      <td>A</td>\n",
              "      <td>2000q2</td>\n",
              "      <td>2485000.0</td>\n",
              "      <td>1261000.0</td>\n",
              "      <td>1.010000e+06</td>\n",
              "      <td>0.0</td>\n",
              "      <td>42000.000000</td>\n",
              "      <td>0.000</td>\n",
              "      <td>90000.0</td>\n",
              "      <td>7321000.000</td>\n",
              "      <td>...</td>\n",
              "      <td>73.7500</td>\n",
              "      <td>452271.967</td>\n",
              "      <td>A</td>\n",
              "      <td>Agilent Technologies, Inc</td>\n",
              "      <td>Com</td>\n",
              "      <td>Manufacturing</td>\n",
              "      <td>NYSE</td>\n",
              "      <td>Electric Electron</td>\n",
              "      <td>Navigational, Measuring, Electromedical, and C...</td>\n",
              "      <td>0.124</td>\n",
              "    </tr>\n",
              "    <tr>\n",
              "      <th>2</th>\n",
              "      <td>A</td>\n",
              "      <td>2000q3</td>\n",
              "      <td>2670000.0</td>\n",
              "      <td>1369000.0</td>\n",
              "      <td>1.091000e+06</td>\n",
              "      <td>0.0</td>\n",
              "      <td>28000.000000</td>\n",
              "      <td>0.000</td>\n",
              "      <td>83000.0</td>\n",
              "      <td>7827000.000</td>\n",
              "      <td>...</td>\n",
              "      <td>48.9375</td>\n",
              "      <td>453014.579</td>\n",
              "      <td>A</td>\n",
              "      <td>Agilent Technologies, Inc</td>\n",
              "      <td>Com</td>\n",
              "      <td>Manufacturing</td>\n",
              "      <td>NYSE</td>\n",
              "      <td>Electric Electron</td>\n",
              "      <td>Navigational, Measuring, Electromedical, and C...</td>\n",
              "      <td>0.124</td>\n",
              "    </tr>\n",
              "    <tr>\n",
              "      <th>3</th>\n",
              "      <td>A</td>\n",
              "      <td>2000q4</td>\n",
              "      <td>3372000.0</td>\n",
              "      <td>1732000.0</td>\n",
              "      <td>1.182000e+06</td>\n",
              "      <td>0.0</td>\n",
              "      <td>10000.000000</td>\n",
              "      <td>0.000</td>\n",
              "      <td>163000.0</td>\n",
              "      <td>8425000.000</td>\n",
              "      <td>...</td>\n",
              "      <td>54.7500</td>\n",
              "      <td>456366.381</td>\n",
              "      <td>A</td>\n",
              "      <td>Agilent Technologies, Inc</td>\n",
              "      <td>Com</td>\n",
              "      <td>Manufacturing</td>\n",
              "      <td>NYSE</td>\n",
              "      <td>Electric Electron</td>\n",
              "      <td>Navigational, Measuring, Electromedical, and C...</td>\n",
              "      <td>0.124</td>\n",
              "    </tr>\n",
              "    <tr>\n",
              "      <th>4</th>\n",
              "      <td>A</td>\n",
              "      <td>2001q1</td>\n",
              "      <td>2841000.0</td>\n",
              "      <td>1449000.0</td>\n",
              "      <td>1.113000e+06</td>\n",
              "      <td>0.0</td>\n",
              "      <td>-6000.000000</td>\n",
              "      <td>0.000</td>\n",
              "      <td>119000.0</td>\n",
              "      <td>9208000.000</td>\n",
              "      <td>...</td>\n",
              "      <td>30.7300</td>\n",
              "      <td>456769.737</td>\n",
              "      <td>A</td>\n",
              "      <td>Agilent Technologies, Inc</td>\n",
              "      <td>Com</td>\n",
              "      <td>Manufacturing</td>\n",
              "      <td>NYSE</td>\n",
              "      <td>Electric Electron</td>\n",
              "      <td>Navigational, Measuring, Electromedical, and C...</td>\n",
              "      <td>0.124</td>\n",
              "    </tr>\n",
              "    <tr>\n",
              "      <th>...</th>\n",
              "      <td>...</td>\n",
              "      <td>...</td>\n",
              "      <td>...</td>\n",
              "      <td>...</td>\n",
              "      <td>...</td>\n",
              "      <td>...</td>\n",
              "      <td>...</td>\n",
              "      <td>...</td>\n",
              "      <td>...</td>\n",
              "      <td>...</td>\n",
              "      <td>...</td>\n",
              "      <td>...</td>\n",
              "      <td>...</td>\n",
              "      <td>...</td>\n",
              "      <td>...</td>\n",
              "      <td>...</td>\n",
              "      <td>...</td>\n",
              "      <td>...</td>\n",
              "      <td>...</td>\n",
              "      <td>...</td>\n",
              "      <td>...</td>\n",
              "    </tr>\n",
              "    <tr>\n",
              "      <th>323811</th>\n",
              "      <td>ZYNE</td>\n",
              "      <td>2021q2</td>\n",
              "      <td>0.0</td>\n",
              "      <td>0.0</td>\n",
              "      <td>9.838494e+03</td>\n",
              "      <td>0.0</td>\n",
              "      <td>-117.528220</td>\n",
              "      <td>-5.943</td>\n",
              "      <td>0.0</td>\n",
              "      <td>98195.904</td>\n",
              "      <td>...</td>\n",
              "      <td>5.2900</td>\n",
              "      <td>41251.537</td>\n",
              "      <td>ZYNE</td>\n",
              "      <td>Zynerba Pharmaceuticals, Inc</td>\n",
              "      <td>Com</td>\n",
              "      <td>Manufacturing</td>\n",
              "      <td>NASDAQ</td>\n",
              "      <td>Chemical</td>\n",
              "      <td>Pharmaceutical and Medicine Manufacturing</td>\n",
              "      <td>-</td>\n",
              "    </tr>\n",
              "    <tr>\n",
              "      <th>323812</th>\n",
              "      <td>ZYNE</td>\n",
              "      <td>2021q3</td>\n",
              "      <td>0.0</td>\n",
              "      <td>0.0</td>\n",
              "      <td>1.021065e+04</td>\n",
              "      <td>0.0</td>\n",
              "      <td>-376.636750</td>\n",
              "      <td>-5.038</td>\n",
              "      <td>0.0</td>\n",
              "      <td>89996.170</td>\n",
              "      <td>...</td>\n",
              "      <td>4.2400</td>\n",
              "      <td>41251.537</td>\n",
              "      <td>ZYNE</td>\n",
              "      <td>Zynerba Pharmaceuticals, Inc</td>\n",
              "      <td>Com</td>\n",
              "      <td>Manufacturing</td>\n",
              "      <td>NASDAQ</td>\n",
              "      <td>Chemical</td>\n",
              "      <td>Pharmaceutical and Medicine Manufacturing</td>\n",
              "      <td>-</td>\n",
              "    </tr>\n",
              "    <tr>\n",
              "      <th>323813</th>\n",
              "      <td>ZYNE</td>\n",
              "      <td>2021q4</td>\n",
              "      <td>0.0</td>\n",
              "      <td>0.0</td>\n",
              "      <td>8.836436e+03</td>\n",
              "      <td>0.0</td>\n",
              "      <td>16.937906</td>\n",
              "      <td>-4.433</td>\n",
              "      <td>0.0</td>\n",
              "      <td>81171.507</td>\n",
              "      <td>...</td>\n",
              "      <td>2.8800</td>\n",
              "      <td>41217.537</td>\n",
              "      <td>ZYNE</td>\n",
              "      <td>Zynerba Pharmaceuticals, Inc</td>\n",
              "      <td>Com</td>\n",
              "      <td>Manufacturing</td>\n",
              "      <td>NASDAQ</td>\n",
              "      <td>Chemical</td>\n",
              "      <td>Pharmaceutical and Medicine Manufacturing</td>\n",
              "      <td>-</td>\n",
              "    </tr>\n",
              "    <tr>\n",
              "      <th>323814</th>\n",
              "      <td>ZYNE</td>\n",
              "      <td>2022q1</td>\n",
              "      <td>0.0</td>\n",
              "      <td>0.0</td>\n",
              "      <td>8.903915e+03</td>\n",
              "      <td>0.0</td>\n",
              "      <td>317.252110</td>\n",
              "      <td>-96.044</td>\n",
              "      <td>0.0</td>\n",
              "      <td>74381.029</td>\n",
              "      <td>...</td>\n",
              "      <td>2.0500</td>\n",
              "      <td>42447.037</td>\n",
              "      <td>ZYNE</td>\n",
              "      <td>Zynerba Pharmaceuticals, Inc</td>\n",
              "      <td>Com</td>\n",
              "      <td>Manufacturing</td>\n",
              "      <td>NASDAQ</td>\n",
              "      <td>Chemical</td>\n",
              "      <td>Pharmaceutical and Medicine Manufacturing</td>\n",
              "      <td>-</td>\n",
              "    </tr>\n",
              "    <tr>\n",
              "      <th>323815</th>\n",
              "      <td>ZYNE</td>\n",
              "      <td>2022q2</td>\n",
              "      <td>0.0</td>\n",
              "      <td>0.0</td>\n",
              "      <td>9.168770e+03</td>\n",
              "      <td>0.0</td>\n",
              "      <td>-775.927860</td>\n",
              "      <td>-91.691</td>\n",
              "      <td>0.0</td>\n",
              "      <td>67006.959</td>\n",
              "      <td>...</td>\n",
              "      <td>1.1400</td>\n",
              "      <td>43595.959</td>\n",
              "      <td>ZYNE</td>\n",
              "      <td>Zynerba Pharmaceuticals, Inc</td>\n",
              "      <td>Com</td>\n",
              "      <td>Manufacturing</td>\n",
              "      <td>NASDAQ</td>\n",
              "      <td>Chemical</td>\n",
              "      <td>Pharmaceutical and Medicine Manufacturing</td>\n",
              "      <td>-</td>\n",
              "    </tr>\n",
              "  </tbody>\n",
              "</table>\n",
              "<p>323816 rows × 25 columns</p>\n",
              "</div>\n",
              "      <button class=\"colab-df-convert\" onclick=\"convertToInteractive('df-c5c240e0-aa42-44d5-b947-c6913cd2b976')\"\n",
              "              title=\"Convert this dataframe to an interactive table.\"\n",
              "              style=\"display:none;\">\n",
              "        \n",
              "  <svg xmlns=\"http://www.w3.org/2000/svg\" height=\"24px\"viewBox=\"0 0 24 24\"\n",
              "       width=\"24px\">\n",
              "    <path d=\"M0 0h24v24H0V0z\" fill=\"none\"/>\n",
              "    <path d=\"M18.56 5.44l.94 2.06.94-2.06 2.06-.94-2.06-.94-.94-2.06-.94 2.06-2.06.94zm-11 1L8.5 8.5l.94-2.06 2.06-.94-2.06-.94L8.5 2.5l-.94 2.06-2.06.94zm10 10l.94 2.06.94-2.06 2.06-.94-2.06-.94-.94-2.06-.94 2.06-2.06.94z\"/><path d=\"M17.41 7.96l-1.37-1.37c-.4-.4-.92-.59-1.43-.59-.52 0-1.04.2-1.43.59L10.3 9.45l-7.72 7.72c-.78.78-.78 2.05 0 2.83L4 21.41c.39.39.9.59 1.41.59.51 0 1.02-.2 1.41-.59l7.78-7.78 2.81-2.81c.8-.78.8-2.07 0-2.86zM5.41 20L4 18.59l7.72-7.72 1.47 1.35L5.41 20z\"/>\n",
              "  </svg>\n",
              "      </button>\n",
              "      \n",
              "  <style>\n",
              "    .colab-df-container {\n",
              "      display:flex;\n",
              "      flex-wrap:wrap;\n",
              "      gap: 12px;\n",
              "    }\n",
              "\n",
              "    .colab-df-convert {\n",
              "      background-color: #E8F0FE;\n",
              "      border: none;\n",
              "      border-radius: 50%;\n",
              "      cursor: pointer;\n",
              "      display: none;\n",
              "      fill: #1967D2;\n",
              "      height: 32px;\n",
              "      padding: 0 0 0 0;\n",
              "      width: 32px;\n",
              "    }\n",
              "\n",
              "    .colab-df-convert:hover {\n",
              "      background-color: #E2EBFA;\n",
              "      box-shadow: 0px 1px 2px rgba(60, 64, 67, 0.3), 0px 1px 3px 1px rgba(60, 64, 67, 0.15);\n",
              "      fill: #174EA6;\n",
              "    }\n",
              "\n",
              "    [theme=dark] .colab-df-convert {\n",
              "      background-color: #3B4455;\n",
              "      fill: #D2E3FC;\n",
              "    }\n",
              "\n",
              "    [theme=dark] .colab-df-convert:hover {\n",
              "      background-color: #434B5C;\n",
              "      box-shadow: 0px 1px 3px 1px rgba(0, 0, 0, 0.15);\n",
              "      filter: drop-shadow(0px 1px 2px rgba(0, 0, 0, 0.3));\n",
              "      fill: #FFFFFF;\n",
              "    }\n",
              "  </style>\n",
              "\n",
              "      <script>\n",
              "        const buttonEl =\n",
              "          document.querySelector('#df-c5c240e0-aa42-44d5-b947-c6913cd2b976 button.colab-df-convert');\n",
              "        buttonEl.style.display =\n",
              "          google.colab.kernel.accessAllowed ? 'block' : 'none';\n",
              "\n",
              "        async function convertToInteractive(key) {\n",
              "          const element = document.querySelector('#df-c5c240e0-aa42-44d5-b947-c6913cd2b976');\n",
              "          const dataTable =\n",
              "            await google.colab.kernel.invokeFunction('convertToInteractive',\n",
              "                                                     [key], {});\n",
              "          if (!dataTable) return;\n",
              "\n",
              "          const docLinkHtml = 'Like what you see? Visit the ' +\n",
              "            '<a target=\"_blank\" href=https://colab.research.google.com/notebooks/data_table.ipynb>data table notebook</a>'\n",
              "            + ' to learn more about interactive tables.';\n",
              "          element.innerHTML = '';\n",
              "          dataTable['output_type'] = 'display_data';\n",
              "          await google.colab.output.renderOutput(dataTable, element);\n",
              "          const docLink = document.createElement('div');\n",
              "          docLink.innerHTML = docLinkHtml;\n",
              "          element.appendChild(docLink);\n",
              "        }\n",
              "      </script>\n",
              "    </div>\n",
              "  </div>\n",
              "  "
            ]
          },
          "metadata": {},
          "execution_count": 5
        }
      ]
    },
    {
      "cell_type": "markdown",
      "source": [
        "ASIGNAMOS EN MULTI-INDEX"
      ],
      "metadata": {
        "id": "ElReV0Xq2CDI"
      }
    },
    {
      "cell_type": "code",
      "source": [
        "df_merge['qdate'] = pd.PeriodIndex(df_merge['q'], freq=\"Q\")\n",
        "\n",
        "df_merge.set_index(['firm', 'qdate'], inplace = True)"
      ],
      "metadata": {
        "id": "ikCw11dcyJKJ"
      },
      "execution_count": 6,
      "outputs": []
    },
    {
      "cell_type": "markdown",
      "source": [
        "OBTENEMOS EL ÚLTIMO PRECIO ANUAL Y LOS RETORNOS COMPUESTOS"
      ],
      "metadata": {
        "id": "0k3GZgoRZS0G"
      }
    },
    {
      "cell_type": "code",
      "source": [
        "df_merge['R'] = np.log(df_merge.groupby(['firm'])['adjprice'].shift(-1)) - np.log(df_merge.groupby(['firm'])['adjprice'].shift(3))"
      ],
      "metadata": {
        "id": "2Ad9Sme0N83N"
      },
      "execution_count": 7,
      "outputs": []
    },
    {
      "cell_type": "markdown",
      "source": [
        "GUARDAMOS UN COPIA DEL DATAFRAME"
      ],
      "metadata": {
        "id": "6pSPuMsI5uHl"
      }
    },
    {
      "cell_type": "code",
      "source": [
        "df_copy = df_merge.copy()"
      ],
      "metadata": {
        "id": "0xhxJLFyWZzF"
      },
      "execution_count": 8,
      "outputs": []
    },
    {
      "cell_type": "markdown",
      "source": [
        "# DATOS ESTADÍSTICOS Y LIMPIEZA"
      ],
      "metadata": {
        "id": "SLyBxmoCiEYH"
      }
    },
    {
      "cell_type": "markdown",
      "source": [
        "DROPEAMOS LOS SECTORES QUE NO NECESITAMOS"
      ],
      "metadata": {
        "id": "T8oZIWYGFKrx"
      }
    },
    {
      "cell_type": "code",
      "source": [
        "df_copy = df_copy.drop(df_copy[(df_copy['Sector NAICS\\nlevel 1'] == '-')].index)\n",
        "df_copy = df_copy.drop(df_copy[(df_copy['Sector NAICS\\nlevel 1'] == 'Agriculture, Forestry, Fishing and Hunting')].index)\n",
        "df_copy = df_copy.drop(df_copy[(df_copy['Sector NAICS\\nlevel 1'] == 'Arts, Entertainment, and Recreation')].index)\n",
        "df_copy = df_copy.drop(df_copy[(df_copy['Sector NAICS\\nlevel 1'] == 'Construction')].index)\n",
        "df_copy = df_copy.drop(df_copy[(df_copy['Sector NAICS\\nlevel 1'] == 'Finance and Insurance')].index)\n",
        "df_copy = df_copy.drop(df_copy[(df_copy['Sector NAICS\\nlevel 1'] == 'Health Care and Social Assistance')].index)\n",
        "df_copy = df_copy.drop(df_copy[(df_copy['Sector NAICS\\nlevel 1'] == 'Information')].index)\n",
        "df_copy = df_copy.drop(df_copy[(df_copy['Sector NAICS\\nlevel 1'] == 'Manufacturing')].index)\n",
        "df_copy = df_copy.drop(df_copy[(df_copy['Sector NAICS\\nlevel 1'] == 'Mining, Quarrying, and Oil and Gas Extraction')].index)\n",
        "df_copy = df_copy.drop(df_copy[(df_copy['Sector NAICS\\nlevel 1'] == 'Real Estate and Rental and Leasing')].index)\n",
        "df_copy = df_copy.drop(df_copy[(df_copy['Sector NAICS\\nlevel 1'] == 'Retail Trade')].index)\n",
        "df_copy = df_copy.drop(df_copy[(df_copy['Sector NAICS\\nlevel 1'] == 'Transportation and Warehousing')].index)\n",
        "df_copy = df_copy.drop(df_copy[(df_copy['Sector NAICS\\nlevel 1'] == 'Utilities')].index)\n",
        "df_copy = df_copy.drop(df_copy[(df_copy['Sector NAICS\\nlevel 1'] == 'Wholesale Trade')].index)"
      ],
      "metadata": {
        "id": "flnEAKn8JZqG"
      },
      "execution_count": 9,
      "outputs": []
    },
    {
      "cell_type": "markdown",
      "source": [
        "CONSERVAMOS LOS DATOS DEL PRIMER CUARTO DEL 2022, EL MÁS RECIENTE."
      ],
      "metadata": {
        "id": "HxVfkIiBFSkw"
      }
    },
    {
      "cell_type": "code",
      "source": [
        "mask = df_copy['q'] == '2022q1'\n",
        "df_mask = df_copy[mask]\n",
        "df_services = df_mask.copy()"
      ],
      "metadata": {
        "id": "8iz3BWxpHx4u"
      },
      "execution_count": 10,
      "outputs": []
    },
    {
      "cell_type": "markdown",
      "source": [
        "PARA EVITAR PROBLEMAS CON LOS RATIOS SE CAMBIAN LOS CEROS POR NAN'S PARA QUE NO AFECTE A LOS DENOMINADORES."
      ],
      "metadata": {
        "id": "cBLJBHbduz6i"
      }
    },
    {
      "cell_type": "code",
      "source": [
        "df_services['revenue'].replace(0, np.nan, inplace=True)"
      ],
      "metadata": {
        "id": "4QwKaufW9--u"
      },
      "execution_count": 11,
      "outputs": []
    },
    {
      "cell_type": "markdown",
      "source": [
        "SE CREAN LAS COLUMNAS DE DATOS ESTADÍSTICOS QUE NOS AYUDARÁN A RESOLVER LOS PROBLEMAS."
      ],
      "metadata": {
        "id": "eT6GLufRg7g0"
      }
    },
    {
      "cell_type": "code",
      "source": [
        "# Firm Size Measures\n",
        "df_services['Book'] = df_services['totalassets'] - df_services['totalliabilities']\n",
        "df_services['Market'] = df_services['originalprice'] * df_services['sharesoutstanding']\n",
        "\n",
        "# Profit Margin Measures\n",
        "df_services['EBIT'] = df_services['revenue'] - df_services['cogs'] - df_services['sgae'] - df_services['otheropexp']\n",
        "df_services['Net Income'] = df_services['EBIT'] + df_services['extraincome']- df_services['incometax'] - df_services['finexp']\n",
        "df_services['Earnings Per Share (EPS)'] = df_services['Net Income'] / df_services['sharesoutstanding']\n",
        "\n",
        "# Se eligen los 3 márgenes para el análisis estadístico\n",
        "df_services['EPSP (deflated by price)'] = df_services['Earnings Per Share (EPS)'] / df_services['originalprice']\n",
        "df_services['Operating Profit Margin (OPM)'] = df_services['EBIT'] / df_services['revenue']\n",
        "df_services['Book-to-Market ratio'] = df_services['Book'] / df_services['Market']"
      ],
      "metadata": {
        "id": "hJ1u75aThNSf"
      },
      "execution_count": 12,
      "outputs": []
    },
    {
      "cell_type": "code",
      "source": [
        "df_services.dropna(subset=[\"Market\"], how=\"all\", inplace=True)"
      ],
      "metadata": {
        "id": "nXvCZc8ZJj8l"
      },
      "execution_count": 13,
      "outputs": []
    },
    {
      "cell_type": "markdown",
      "source": [
        "VARIABLES DUUMIES DEL TAMAÑO PARA OBTENER LAS EMPRESAS PEQUEÑAS, MEDIANAS Y GRANDES."
      ],
      "metadata": {
        "id": "UtQAFTCHFiAp"
      }
    },
    {
      "cell_type": "code",
      "source": [
        "def dense_inclusive_pct(x):\n",
        "    r = x.rank(method='dense') - 1\n",
        "    return r / r.max() * 100\n",
        "\n",
        "df_services[\"pct\"]=df_services.groupby('q')['Market'].apply(dense_inclusive_pct).astype(int)\n",
        "\n",
        "df_services[\"isSmall\"] = df_services.pct <= 33\n",
        "df_services[\"isSmall\"] = df_services[\"isSmall\"].astype(int)\n",
        "\n",
        "df_services[\"isMedium\"] = (df_services.pct <= 66) & (df_services.pct > 33) \n",
        "df_services[\"isMedium\"] = df_services[\"isMedium\"].astype(int)"
      ],
      "metadata": {
        "id": "yK6v4eNgJl0l"
      },
      "execution_count": 14,
      "outputs": []
    },
    {
      "cell_type": "code",
      "source": [
        "len(df_services)"
      ],
      "metadata": {
        "colab": {
          "base_uri": "https://localhost:8080/"
        },
        "id": "qRnLMLrp-0pd",
        "outputId": "06a73bc8-4648-4cb5-df70-3bdd0e819d8e"
      },
      "execution_count": 15,
      "outputs": [
        {
          "output_type": "execute_result",
          "data": {
            "text/plain": [
              "375"
            ]
          },
          "metadata": {},
          "execution_count": 15
        }
      ]
    },
    {
      "cell_type": "code",
      "source": [
        "df_services.head(10)"
      ],
      "metadata": {
        "colab": {
          "base_uri": "https://localhost:8080/",
          "height": 540
        },
        "id": "1QaST2teJry1",
        "outputId": "e80683ae-5735-47a1-a23c-e56756d6c3c9"
      },
      "execution_count": 16,
      "outputs": [
        {
          "output_type": "execute_result",
          "data": {
            "text/plain": [
              "                  q    revenue       cogs      sgae  otheropexp  extraincome  \\\n",
              "firm qdate                                                                     \n",
              "ABM  2022Q1  2022q1  1936200.0  1659600.0  170600.0         0.0        500.0   \n",
              "ABNB 2022Q1  2022q1  1508937.0   362623.0  918116.0    233329.0      -1935.0   \n",
              "ABSI 2022Q1  2022q1      819.0        0.0   29622.0         0.0        125.0   \n",
              "ACCD 2022Q1  2022q1    93756.0    43593.0   87109.0     -7134.0       -114.0   \n",
              "ACM  2022Q1  2022q1  3213658.0  3003706.0   37098.0     73292.0       2179.0   \n",
              "ACVA 2022Q1  2022q1   103065.0    60888.0   38437.0     32829.0         44.0   \n",
              "ADT  2022Q1  2022q1  1544747.0   509768.0  958471.0       528.0       1496.0   \n",
              "AGTI 2022Q1  2022q1   294444.0   170817.0   86138.0         0.0        -28.0   \n",
              "AGYS 2022Q1  2022q1    46558.0    18866.0   25152.0       995.0        198.0   \n",
              "AIKI 2022Q1  2022q1        NaN        0.0    3803.0         0.0         89.0   \n",
              "\n",
              "              finexp  incometax  totalassets  totalliabilities  ...  \\\n",
              "firm qdate                                                      ...   \n",
              "ABM  2022Q1   6200.0    24300.0    4504900.0         2849600.0  ...   \n",
              "ABNB 2022Q1   1020.0    10706.0   17068442.0        12331026.0  ...   \n",
              "ABSI 2022Q1    195.0      621.0     395460.0           54964.0  ...   \n",
              "ACCD 2022Q1    768.0     3862.0    1285529.0          429735.0  ...   \n",
              "ACM  2022Q1  24173.0    36011.0   11196063.0         8546410.0  ...   \n",
              "ACVA 2022Q1    210.0      240.0    1019344.0          485722.0  ...   \n",
              "ADT  2022Q1   6307.0    19524.0   17014781.0        13734514.0  ...   \n",
              "AGTI 2022Q1  10664.0     6905.0    2487261.0         1561243.0  ...   \n",
              "AGYS 2022Q1     -7.0     -232.0     214162.0          116818.0  ...   \n",
              "AIKI 2022Q1   -179.0        0.0     117946.0           22895.0  ...   \n",
              "\n",
              "                   Market      EBIT  Net Income  Earnings Per Share (EPS)  \\\n",
              "firm qdate                                                                  \n",
              "ABM  2022Q1  3.078651e+06  106000.0     76000.0                  1.136550   \n",
              "ABNB 2022Q1  1.088397e+08   -5131.0    -18792.0                 -0.029656   \n",
              "ABSI 2022Q1  7.820738e+05  -28803.0    -29494.0                 -0.317917   \n",
              "ACCD 2022Q1  1.175789e+06  -29812.0    -34556.0                 -0.516082   \n",
              "ACM  2022Q1  1.085654e+07   99562.0     41557.0                  0.294016   \n",
              "ACVA 2022Q1  2.314308e+06  -29089.0    -29495.0                 -0.188748   \n",
              "ADT  2022Q1  5.821701e+06   75980.0     51645.0                  0.067332   \n",
              "AGTI 2022Q1  2.766654e+06   37489.0     19892.0                  0.151707   \n",
              "AGYS 2022Q1  9.856076e+05    1545.0      1982.0                  0.080196   \n",
              "AIKI 2022Q1  4.018205e+04       NaN         NaN                       NaN   \n",
              "\n",
              "             EPSP (deflated by price)  Operating Profit Margin (OPM)  \\\n",
              "firm qdate                                                             \n",
              "ABM  2022Q1                  0.024686                       0.054746   \n",
              "ABNB 2022Q1                 -0.000173                      -0.003400   \n",
              "ABSI 2022Q1                 -0.037713                     -35.168498   \n",
              "ACCD 2022Q1                 -0.029390                      -0.317974   \n",
              "ACM  2022Q1                  0.003828                       0.030981   \n",
              "ACVA 2022Q1                 -0.012745                      -0.282239   \n",
              "ADT  2022Q1                  0.008871                       0.049186   \n",
              "AGTI 2022Q1                  0.007190                       0.127321   \n",
              "AGYS 2022Q1                  0.002011                       0.033184   \n",
              "AIKI 2022Q1                       NaN                            NaN   \n",
              "\n",
              "            Book-to-Market ratio pct isSmall isMedium  \n",
              "firm qdate                                             \n",
              "ABM  2022Q1             0.537670  61       0        1  \n",
              "ABNB 2022Q1             0.043527  98       0        0  \n",
              "ABSI 2022Q1             0.435376  36       0        1  \n",
              "ACCD 2022Q1             0.727846  42       0        1  \n",
              "ACM  2022Q1             0.244061  82       0        0  \n",
              "ACVA 2022Q1             0.230575  54       0        1  \n",
              "ADT  2022Q1             0.563455  74       0        0  \n",
              "AGTI 2022Q1             0.334707  59       0        1  \n",
              "AGYS 2022Q1             0.098765  40       0        1  \n",
              "AIKI 2022Q1             2.365509   6       1        0  \n",
              "\n",
              "[10 rows x 36 columns]"
            ],
            "text/html": [
              "\n",
              "  <div id=\"df-3c5a22ec-de8c-478f-93f4-a93c3a582eb7\">\n",
              "    <div class=\"colab-df-container\">\n",
              "      <div>\n",
              "<style scoped>\n",
              "    .dataframe tbody tr th:only-of-type {\n",
              "        vertical-align: middle;\n",
              "    }\n",
              "\n",
              "    .dataframe tbody tr th {\n",
              "        vertical-align: top;\n",
              "    }\n",
              "\n",
              "    .dataframe thead th {\n",
              "        text-align: right;\n",
              "    }\n",
              "</style>\n",
              "<table border=\"1\" class=\"dataframe\">\n",
              "  <thead>\n",
              "    <tr style=\"text-align: right;\">\n",
              "      <th></th>\n",
              "      <th></th>\n",
              "      <th>q</th>\n",
              "      <th>revenue</th>\n",
              "      <th>cogs</th>\n",
              "      <th>sgae</th>\n",
              "      <th>otheropexp</th>\n",
              "      <th>extraincome</th>\n",
              "      <th>finexp</th>\n",
              "      <th>incometax</th>\n",
              "      <th>totalassets</th>\n",
              "      <th>totalliabilities</th>\n",
              "      <th>...</th>\n",
              "      <th>Market</th>\n",
              "      <th>EBIT</th>\n",
              "      <th>Net Income</th>\n",
              "      <th>Earnings Per Share (EPS)</th>\n",
              "      <th>EPSP (deflated by price)</th>\n",
              "      <th>Operating Profit Margin (OPM)</th>\n",
              "      <th>Book-to-Market ratio</th>\n",
              "      <th>pct</th>\n",
              "      <th>isSmall</th>\n",
              "      <th>isMedium</th>\n",
              "    </tr>\n",
              "    <tr>\n",
              "      <th>firm</th>\n",
              "      <th>qdate</th>\n",
              "      <th></th>\n",
              "      <th></th>\n",
              "      <th></th>\n",
              "      <th></th>\n",
              "      <th></th>\n",
              "      <th></th>\n",
              "      <th></th>\n",
              "      <th></th>\n",
              "      <th></th>\n",
              "      <th></th>\n",
              "      <th></th>\n",
              "      <th></th>\n",
              "      <th></th>\n",
              "      <th></th>\n",
              "      <th></th>\n",
              "      <th></th>\n",
              "      <th></th>\n",
              "      <th></th>\n",
              "      <th></th>\n",
              "      <th></th>\n",
              "      <th></th>\n",
              "    </tr>\n",
              "  </thead>\n",
              "  <tbody>\n",
              "    <tr>\n",
              "      <th>ABM</th>\n",
              "      <th>2022Q1</th>\n",
              "      <td>2022q1</td>\n",
              "      <td>1936200.0</td>\n",
              "      <td>1659600.0</td>\n",
              "      <td>170600.0</td>\n",
              "      <td>0.0</td>\n",
              "      <td>500.0</td>\n",
              "      <td>6200.0</td>\n",
              "      <td>24300.0</td>\n",
              "      <td>4504900.0</td>\n",
              "      <td>2849600.0</td>\n",
              "      <td>...</td>\n",
              "      <td>3.078651e+06</td>\n",
              "      <td>106000.0</td>\n",
              "      <td>76000.0</td>\n",
              "      <td>1.136550</td>\n",
              "      <td>0.024686</td>\n",
              "      <td>0.054746</td>\n",
              "      <td>0.537670</td>\n",
              "      <td>61</td>\n",
              "      <td>0</td>\n",
              "      <td>1</td>\n",
              "    </tr>\n",
              "    <tr>\n",
              "      <th>ABNB</th>\n",
              "      <th>2022Q1</th>\n",
              "      <td>2022q1</td>\n",
              "      <td>1508937.0</td>\n",
              "      <td>362623.0</td>\n",
              "      <td>918116.0</td>\n",
              "      <td>233329.0</td>\n",
              "      <td>-1935.0</td>\n",
              "      <td>1020.0</td>\n",
              "      <td>10706.0</td>\n",
              "      <td>17068442.0</td>\n",
              "      <td>12331026.0</td>\n",
              "      <td>...</td>\n",
              "      <td>1.088397e+08</td>\n",
              "      <td>-5131.0</td>\n",
              "      <td>-18792.0</td>\n",
              "      <td>-0.029656</td>\n",
              "      <td>-0.000173</td>\n",
              "      <td>-0.003400</td>\n",
              "      <td>0.043527</td>\n",
              "      <td>98</td>\n",
              "      <td>0</td>\n",
              "      <td>0</td>\n",
              "    </tr>\n",
              "    <tr>\n",
              "      <th>ABSI</th>\n",
              "      <th>2022Q1</th>\n",
              "      <td>2022q1</td>\n",
              "      <td>819.0</td>\n",
              "      <td>0.0</td>\n",
              "      <td>29622.0</td>\n",
              "      <td>0.0</td>\n",
              "      <td>125.0</td>\n",
              "      <td>195.0</td>\n",
              "      <td>621.0</td>\n",
              "      <td>395460.0</td>\n",
              "      <td>54964.0</td>\n",
              "      <td>...</td>\n",
              "      <td>7.820738e+05</td>\n",
              "      <td>-28803.0</td>\n",
              "      <td>-29494.0</td>\n",
              "      <td>-0.317917</td>\n",
              "      <td>-0.037713</td>\n",
              "      <td>-35.168498</td>\n",
              "      <td>0.435376</td>\n",
              "      <td>36</td>\n",
              "      <td>0</td>\n",
              "      <td>1</td>\n",
              "    </tr>\n",
              "    <tr>\n",
              "      <th>ACCD</th>\n",
              "      <th>2022Q1</th>\n",
              "      <td>2022q1</td>\n",
              "      <td>93756.0</td>\n",
              "      <td>43593.0</td>\n",
              "      <td>87109.0</td>\n",
              "      <td>-7134.0</td>\n",
              "      <td>-114.0</td>\n",
              "      <td>768.0</td>\n",
              "      <td>3862.0</td>\n",
              "      <td>1285529.0</td>\n",
              "      <td>429735.0</td>\n",
              "      <td>...</td>\n",
              "      <td>1.175789e+06</td>\n",
              "      <td>-29812.0</td>\n",
              "      <td>-34556.0</td>\n",
              "      <td>-0.516082</td>\n",
              "      <td>-0.029390</td>\n",
              "      <td>-0.317974</td>\n",
              "      <td>0.727846</td>\n",
              "      <td>42</td>\n",
              "      <td>0</td>\n",
              "      <td>1</td>\n",
              "    </tr>\n",
              "    <tr>\n",
              "      <th>ACM</th>\n",
              "      <th>2022Q1</th>\n",
              "      <td>2022q1</td>\n",
              "      <td>3213658.0</td>\n",
              "      <td>3003706.0</td>\n",
              "      <td>37098.0</td>\n",
              "      <td>73292.0</td>\n",
              "      <td>2179.0</td>\n",
              "      <td>24173.0</td>\n",
              "      <td>36011.0</td>\n",
              "      <td>11196063.0</td>\n",
              "      <td>8546410.0</td>\n",
              "      <td>...</td>\n",
              "      <td>1.085654e+07</td>\n",
              "      <td>99562.0</td>\n",
              "      <td>41557.0</td>\n",
              "      <td>0.294016</td>\n",
              "      <td>0.003828</td>\n",
              "      <td>0.030981</td>\n",
              "      <td>0.244061</td>\n",
              "      <td>82</td>\n",
              "      <td>0</td>\n",
              "      <td>0</td>\n",
              "    </tr>\n",
              "    <tr>\n",
              "      <th>ACVA</th>\n",
              "      <th>2022Q1</th>\n",
              "      <td>2022q1</td>\n",
              "      <td>103065.0</td>\n",
              "      <td>60888.0</td>\n",
              "      <td>38437.0</td>\n",
              "      <td>32829.0</td>\n",
              "      <td>44.0</td>\n",
              "      <td>210.0</td>\n",
              "      <td>240.0</td>\n",
              "      <td>1019344.0</td>\n",
              "      <td>485722.0</td>\n",
              "      <td>...</td>\n",
              "      <td>2.314308e+06</td>\n",
              "      <td>-29089.0</td>\n",
              "      <td>-29495.0</td>\n",
              "      <td>-0.188748</td>\n",
              "      <td>-0.012745</td>\n",
              "      <td>-0.282239</td>\n",
              "      <td>0.230575</td>\n",
              "      <td>54</td>\n",
              "      <td>0</td>\n",
              "      <td>1</td>\n",
              "    </tr>\n",
              "    <tr>\n",
              "      <th>ADT</th>\n",
              "      <th>2022Q1</th>\n",
              "      <td>2022q1</td>\n",
              "      <td>1544747.0</td>\n",
              "      <td>509768.0</td>\n",
              "      <td>958471.0</td>\n",
              "      <td>528.0</td>\n",
              "      <td>1496.0</td>\n",
              "      <td>6307.0</td>\n",
              "      <td>19524.0</td>\n",
              "      <td>17014781.0</td>\n",
              "      <td>13734514.0</td>\n",
              "      <td>...</td>\n",
              "      <td>5.821701e+06</td>\n",
              "      <td>75980.0</td>\n",
              "      <td>51645.0</td>\n",
              "      <td>0.067332</td>\n",
              "      <td>0.008871</td>\n",
              "      <td>0.049186</td>\n",
              "      <td>0.563455</td>\n",
              "      <td>74</td>\n",
              "      <td>0</td>\n",
              "      <td>0</td>\n",
              "    </tr>\n",
              "    <tr>\n",
              "      <th>AGTI</th>\n",
              "      <th>2022Q1</th>\n",
              "      <td>2022q1</td>\n",
              "      <td>294444.0</td>\n",
              "      <td>170817.0</td>\n",
              "      <td>86138.0</td>\n",
              "      <td>0.0</td>\n",
              "      <td>-28.0</td>\n",
              "      <td>10664.0</td>\n",
              "      <td>6905.0</td>\n",
              "      <td>2487261.0</td>\n",
              "      <td>1561243.0</td>\n",
              "      <td>...</td>\n",
              "      <td>2.766654e+06</td>\n",
              "      <td>37489.0</td>\n",
              "      <td>19892.0</td>\n",
              "      <td>0.151707</td>\n",
              "      <td>0.007190</td>\n",
              "      <td>0.127321</td>\n",
              "      <td>0.334707</td>\n",
              "      <td>59</td>\n",
              "      <td>0</td>\n",
              "      <td>1</td>\n",
              "    </tr>\n",
              "    <tr>\n",
              "      <th>AGYS</th>\n",
              "      <th>2022Q1</th>\n",
              "      <td>2022q1</td>\n",
              "      <td>46558.0</td>\n",
              "      <td>18866.0</td>\n",
              "      <td>25152.0</td>\n",
              "      <td>995.0</td>\n",
              "      <td>198.0</td>\n",
              "      <td>-7.0</td>\n",
              "      <td>-232.0</td>\n",
              "      <td>214162.0</td>\n",
              "      <td>116818.0</td>\n",
              "      <td>...</td>\n",
              "      <td>9.856076e+05</td>\n",
              "      <td>1545.0</td>\n",
              "      <td>1982.0</td>\n",
              "      <td>0.080196</td>\n",
              "      <td>0.002011</td>\n",
              "      <td>0.033184</td>\n",
              "      <td>0.098765</td>\n",
              "      <td>40</td>\n",
              "      <td>0</td>\n",
              "      <td>1</td>\n",
              "    </tr>\n",
              "    <tr>\n",
              "      <th>AIKI</th>\n",
              "      <th>2022Q1</th>\n",
              "      <td>2022q1</td>\n",
              "      <td>NaN</td>\n",
              "      <td>0.0</td>\n",
              "      <td>3803.0</td>\n",
              "      <td>0.0</td>\n",
              "      <td>89.0</td>\n",
              "      <td>-179.0</td>\n",
              "      <td>0.0</td>\n",
              "      <td>117946.0</td>\n",
              "      <td>22895.0</td>\n",
              "      <td>...</td>\n",
              "      <td>4.018205e+04</td>\n",
              "      <td>NaN</td>\n",
              "      <td>NaN</td>\n",
              "      <td>NaN</td>\n",
              "      <td>NaN</td>\n",
              "      <td>NaN</td>\n",
              "      <td>2.365509</td>\n",
              "      <td>6</td>\n",
              "      <td>1</td>\n",
              "      <td>0</td>\n",
              "    </tr>\n",
              "  </tbody>\n",
              "</table>\n",
              "<p>10 rows × 36 columns</p>\n",
              "</div>\n",
              "      <button class=\"colab-df-convert\" onclick=\"convertToInteractive('df-3c5a22ec-de8c-478f-93f4-a93c3a582eb7')\"\n",
              "              title=\"Convert this dataframe to an interactive table.\"\n",
              "              style=\"display:none;\">\n",
              "        \n",
              "  <svg xmlns=\"http://www.w3.org/2000/svg\" height=\"24px\"viewBox=\"0 0 24 24\"\n",
              "       width=\"24px\">\n",
              "    <path d=\"M0 0h24v24H0V0z\" fill=\"none\"/>\n",
              "    <path d=\"M18.56 5.44l.94 2.06.94-2.06 2.06-.94-2.06-.94-.94-2.06-.94 2.06-2.06.94zm-11 1L8.5 8.5l.94-2.06 2.06-.94-2.06-.94L8.5 2.5l-.94 2.06-2.06.94zm10 10l.94 2.06.94-2.06 2.06-.94-2.06-.94-.94-2.06-.94 2.06-2.06.94z\"/><path d=\"M17.41 7.96l-1.37-1.37c-.4-.4-.92-.59-1.43-.59-.52 0-1.04.2-1.43.59L10.3 9.45l-7.72 7.72c-.78.78-.78 2.05 0 2.83L4 21.41c.39.39.9.59 1.41.59.51 0 1.02-.2 1.41-.59l7.78-7.78 2.81-2.81c.8-.78.8-2.07 0-2.86zM5.41 20L4 18.59l7.72-7.72 1.47 1.35L5.41 20z\"/>\n",
              "  </svg>\n",
              "      </button>\n",
              "      \n",
              "  <style>\n",
              "    .colab-df-container {\n",
              "      display:flex;\n",
              "      flex-wrap:wrap;\n",
              "      gap: 12px;\n",
              "    }\n",
              "\n",
              "    .colab-df-convert {\n",
              "      background-color: #E8F0FE;\n",
              "      border: none;\n",
              "      border-radius: 50%;\n",
              "      cursor: pointer;\n",
              "      display: none;\n",
              "      fill: #1967D2;\n",
              "      height: 32px;\n",
              "      padding: 0 0 0 0;\n",
              "      width: 32px;\n",
              "    }\n",
              "\n",
              "    .colab-df-convert:hover {\n",
              "      background-color: #E2EBFA;\n",
              "      box-shadow: 0px 1px 2px rgba(60, 64, 67, 0.3), 0px 1px 3px 1px rgba(60, 64, 67, 0.15);\n",
              "      fill: #174EA6;\n",
              "    }\n",
              "\n",
              "    [theme=dark] .colab-df-convert {\n",
              "      background-color: #3B4455;\n",
              "      fill: #D2E3FC;\n",
              "    }\n",
              "\n",
              "    [theme=dark] .colab-df-convert:hover {\n",
              "      background-color: #434B5C;\n",
              "      box-shadow: 0px 1px 3px 1px rgba(0, 0, 0, 0.15);\n",
              "      filter: drop-shadow(0px 1px 2px rgba(0, 0, 0, 0.3));\n",
              "      fill: #FFFFFF;\n",
              "    }\n",
              "  </style>\n",
              "\n",
              "      <script>\n",
              "        const buttonEl =\n",
              "          document.querySelector('#df-3c5a22ec-de8c-478f-93f4-a93c3a582eb7 button.colab-df-convert');\n",
              "        buttonEl.style.display =\n",
              "          google.colab.kernel.accessAllowed ? 'block' : 'none';\n",
              "\n",
              "        async function convertToInteractive(key) {\n",
              "          const element = document.querySelector('#df-3c5a22ec-de8c-478f-93f4-a93c3a582eb7');\n",
              "          const dataTable =\n",
              "            await google.colab.kernel.invokeFunction('convertToInteractive',\n",
              "                                                     [key], {});\n",
              "          if (!dataTable) return;\n",
              "\n",
              "          const docLinkHtml = 'Like what you see? Visit the ' +\n",
              "            '<a target=\"_blank\" href=https://colab.research.google.com/notebooks/data_table.ipynb>data table notebook</a>'\n",
              "            + ' to learn more about interactive tables.';\n",
              "          element.innerHTML = '';\n",
              "          dataTable['output_type'] = 'display_data';\n",
              "          await google.colab.output.renderOutput(dataTable, element);\n",
              "          const docLink = document.createElement('div');\n",
              "          docLink.innerHTML = docLinkHtml;\n",
              "          element.appendChild(docLink);\n",
              "        }\n",
              "      </script>\n",
              "    </div>\n",
              "  </div>\n",
              "  "
            ]
          },
          "metadata": {},
          "execution_count": 16
        }
      ]
    },
    {
      "cell_type": "markdown",
      "source": [
        "# Matrices"
      ],
      "metadata": {
        "id": "kzafJlFIChbj"
      }
    },
    {
      "cell_type": "markdown",
      "source": [
        "RENOMBRAMOS COLUMNAS PARA TRABAJAR MÁS FACILMENTE CON ELLAS"
      ],
      "metadata": {
        "id": "ZEC0syYTF5CJ"
      }
    },
    {
      "cell_type": "code",
      "source": [
        "df_services.rename(columns = {'EPSP (deflated by price)':'EPSP', 'Operating Profit Margin (OPM)':'OPM', 'Book-to-Market ratio':'BtMr'}, inplace = True)\n",
        "df_services = df_services.reset_index()"
      ],
      "metadata": {
        "id": "-XuqiOhHClNF"
      },
      "execution_count": 17,
      "outputs": []
    },
    {
      "cell_type": "markdown",
      "source": [
        "ASIGNAMOS LAS X'S Y LAS Y'S"
      ],
      "metadata": {
        "id": "yxyupe-ZF9BH"
      }
    },
    {
      "cell_type": "code",
      "source": [
        "temp = df_services[['EPSP', 'OPM', 'BtMr', 'isSmall', 'isMedium', 'R']]\n",
        "temp = temp.dropna()\n",
        "x = temp[['EPSP', 'OPM', 'BtMr', 'isSmall', 'isMedium']]\n",
        "y = temp['R']"
      ],
      "metadata": {
        "id": "byA9etfti8e0"
      },
      "execution_count": 18,
      "outputs": []
    },
    {
      "cell_type": "markdown",
      "source": [
        "SE OBTIENEN LAS MATRIZ DE VARIANZA Y COVARIANZA SIGUIENDO EL PROCEDIMIENTO DEL DOCUMENTO. SIMPLIFICANDOSE EN LA SIGUIENTE FÓRUMULA:"
      ],
      "metadata": {
        "id": "xV3KihcyGKUz"
      }
    },
    {
      "cell_type": "markdown",
      "source": [
        "![imagen.png](data:image/png;base64,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)"
      ],
      "metadata": {
        "id": "jwudhrd7HAe5"
      }
    },
    {
      "cell_type": "markdown",
      "source": [
        "## Soluciones Varianza-Covarianza"
      ],
      "metadata": {
        "id": "rG9IR99xw0Cj"
      }
    },
    {
      "cell_type": "markdown",
      "source": [
        "### Solución 1"
      ],
      "metadata": {
        "id": "fqvho1pRRhol"
      }
    },
    {
      "cell_type": "code",
      "source": [
        "x_transpose = x.transpose()"
      ],
      "metadata": {
        "id": "K-W0_mt1EjtH"
      },
      "execution_count": 19,
      "outputs": []
    },
    {
      "cell_type": "code",
      "source": [
        "temp1 = x_transpose.dot(x)"
      ],
      "metadata": {
        "id": "T6uNPEqSSbiD"
      },
      "execution_count": 20,
      "outputs": []
    },
    {
      "cell_type": "code",
      "source": [
        "ones = np.ones((x_transpose.shape[1], 1))"
      ],
      "metadata": {
        "id": "k10j7Kt2uwYE"
      },
      "execution_count": 21,
      "outputs": []
    },
    {
      "cell_type": "code",
      "source": [
        "temp2 = x_transpose.dot(ones)"
      ],
      "metadata": {
        "id": "91Hk9PxfvFE8"
      },
      "execution_count": 22,
      "outputs": []
    },
    {
      "cell_type": "code",
      "source": [
        "temp3 = temp2.transpose()"
      ],
      "metadata": {
        "id": "Dce-dgZ4vNSM"
      },
      "execution_count": 23,
      "outputs": []
    },
    {
      "cell_type": "code",
      "source": [
        "temp4 = temp2.dot(temp3)"
      ],
      "metadata": {
        "id": "5BNozi52vUUn"
      },
      "execution_count": 24,
      "outputs": []
    },
    {
      "cell_type": "code",
      "source": [
        "temp5 = temp4 / x.shape[0]"
      ],
      "metadata": {
        "id": "DaftBQQ8vfEP"
      },
      "execution_count": 25,
      "outputs": []
    },
    {
      "cell_type": "code",
      "source": [
        "temp6 = temp1 - temp5"
      ],
      "metadata": {
        "id": "81c_oMWFvnZr"
      },
      "execution_count": 26,
      "outputs": []
    },
    {
      "cell_type": "code",
      "source": [
        "varcov = temp6 / (x.shape[0] - 1)"
      ],
      "metadata": {
        "id": "TTqPL8YvvsgL"
      },
      "execution_count": 27,
      "outputs": []
    },
    {
      "cell_type": "code",
      "source": [
        "varcov"
      ],
      "metadata": {
        "colab": {
          "base_uri": "https://localhost:8080/",
          "height": 270
        },
        "id": "8QCPxt3Mv5Xn",
        "outputId": "062a6347-4265-4fd4-b0b0-7abe22d17ca6"
      },
      "execution_count": 28,
      "outputs": [
        {
          "output_type": "execute_result",
          "data": {
            "text/plain": [
              "              EPSP         OPM      BtMr   isSmall  isMedium\n",
              "EPSP      0.008576    0.095351 -0.006378 -0.011938  0.004549\n",
              "OPM       0.095351  266.685817  0.037558  0.087182 -0.580925\n",
              "BtMr     -0.006378    0.037558  0.260931  0.086589 -0.023577\n",
              "isSmall  -0.011938    0.087182  0.086589  0.223518 -0.106857\n",
              "isMedium  0.004549   -0.580925 -0.023577 -0.106857  0.217431"
            ],
            "text/html": [
              "\n",
              "  <div id=\"df-584793b2-6861-45be-a696-aef9b5a6b346\">\n",
              "    <div class=\"colab-df-container\">\n",
              "      <div>\n",
              "<style scoped>\n",
              "    .dataframe tbody tr th:only-of-type {\n",
              "        vertical-align: middle;\n",
              "    }\n",
              "\n",
              "    .dataframe tbody tr th {\n",
              "        vertical-align: top;\n",
              "    }\n",
              "\n",
              "    .dataframe thead th {\n",
              "        text-align: right;\n",
              "    }\n",
              "</style>\n",
              "<table border=\"1\" class=\"dataframe\">\n",
              "  <thead>\n",
              "    <tr style=\"text-align: right;\">\n",
              "      <th></th>\n",
              "      <th>EPSP</th>\n",
              "      <th>OPM</th>\n",
              "      <th>BtMr</th>\n",
              "      <th>isSmall</th>\n",
              "      <th>isMedium</th>\n",
              "    </tr>\n",
              "  </thead>\n",
              "  <tbody>\n",
              "    <tr>\n",
              "      <th>EPSP</th>\n",
              "      <td>0.008576</td>\n",
              "      <td>0.095351</td>\n",
              "      <td>-0.006378</td>\n",
              "      <td>-0.011938</td>\n",
              "      <td>0.004549</td>\n",
              "    </tr>\n",
              "    <tr>\n",
              "      <th>OPM</th>\n",
              "      <td>0.095351</td>\n",
              "      <td>266.685817</td>\n",
              "      <td>0.037558</td>\n",
              "      <td>0.087182</td>\n",
              "      <td>-0.580925</td>\n",
              "    </tr>\n",
              "    <tr>\n",
              "      <th>BtMr</th>\n",
              "      <td>-0.006378</td>\n",
              "      <td>0.037558</td>\n",
              "      <td>0.260931</td>\n",
              "      <td>0.086589</td>\n",
              "      <td>-0.023577</td>\n",
              "    </tr>\n",
              "    <tr>\n",
              "      <th>isSmall</th>\n",
              "      <td>-0.011938</td>\n",
              "      <td>0.087182</td>\n",
              "      <td>0.086589</td>\n",
              "      <td>0.223518</td>\n",
              "      <td>-0.106857</td>\n",
              "    </tr>\n",
              "    <tr>\n",
              "      <th>isMedium</th>\n",
              "      <td>0.004549</td>\n",
              "      <td>-0.580925</td>\n",
              "      <td>-0.023577</td>\n",
              "      <td>-0.106857</td>\n",
              "      <td>0.217431</td>\n",
              "    </tr>\n",
              "  </tbody>\n",
              "</table>\n",
              "</div>\n",
              "      <button class=\"colab-df-convert\" onclick=\"convertToInteractive('df-584793b2-6861-45be-a696-aef9b5a6b346')\"\n",
              "              title=\"Convert this dataframe to an interactive table.\"\n",
              "              style=\"display:none;\">\n",
              "        \n",
              "  <svg xmlns=\"http://www.w3.org/2000/svg\" height=\"24px\"viewBox=\"0 0 24 24\"\n",
              "       width=\"24px\">\n",
              "    <path d=\"M0 0h24v24H0V0z\" fill=\"none\"/>\n",
              "    <path d=\"M18.56 5.44l.94 2.06.94-2.06 2.06-.94-2.06-.94-.94-2.06-.94 2.06-2.06.94zm-11 1L8.5 8.5l.94-2.06 2.06-.94-2.06-.94L8.5 2.5l-.94 2.06-2.06.94zm10 10l.94 2.06.94-2.06 2.06-.94-2.06-.94-.94-2.06-.94 2.06-2.06.94z\"/><path d=\"M17.41 7.96l-1.37-1.37c-.4-.4-.92-.59-1.43-.59-.52 0-1.04.2-1.43.59L10.3 9.45l-7.72 7.72c-.78.78-.78 2.05 0 2.83L4 21.41c.39.39.9.59 1.41.59.51 0 1.02-.2 1.41-.59l7.78-7.78 2.81-2.81c.8-.78.8-2.07 0-2.86zM5.41 20L4 18.59l7.72-7.72 1.47 1.35L5.41 20z\"/>\n",
              "  </svg>\n",
              "      </button>\n",
              "      \n",
              "  <style>\n",
              "    .colab-df-container {\n",
              "      display:flex;\n",
              "      flex-wrap:wrap;\n",
              "      gap: 12px;\n",
              "    }\n",
              "\n",
              "    .colab-df-convert {\n",
              "      background-color: #E8F0FE;\n",
              "      border: none;\n",
              "      border-radius: 50%;\n",
              "      cursor: pointer;\n",
              "      display: none;\n",
              "      fill: #1967D2;\n",
              "      height: 32px;\n",
              "      padding: 0 0 0 0;\n",
              "      width: 32px;\n",
              "    }\n",
              "\n",
              "    .colab-df-convert:hover {\n",
              "      background-color: #E2EBFA;\n",
              "      box-shadow: 0px 1px 2px rgba(60, 64, 67, 0.3), 0px 1px 3px 1px rgba(60, 64, 67, 0.15);\n",
              "      fill: #174EA6;\n",
              "    }\n",
              "\n",
              "    [theme=dark] .colab-df-convert {\n",
              "      background-color: #3B4455;\n",
              "      fill: #D2E3FC;\n",
              "    }\n",
              "\n",
              "    [theme=dark] .colab-df-convert:hover {\n",
              "      background-color: #434B5C;\n",
              "      box-shadow: 0px 1px 3px 1px rgba(0, 0, 0, 0.15);\n",
              "      filter: drop-shadow(0px 1px 2px rgba(0, 0, 0, 0.3));\n",
              "      fill: #FFFFFF;\n",
              "    }\n",
              "  </style>\n",
              "\n",
              "      <script>\n",
              "        const buttonEl =\n",
              "          document.querySelector('#df-584793b2-6861-45be-a696-aef9b5a6b346 button.colab-df-convert');\n",
              "        buttonEl.style.display =\n",
              "          google.colab.kernel.accessAllowed ? 'block' : 'none';\n",
              "\n",
              "        async function convertToInteractive(key) {\n",
              "          const element = document.querySelector('#df-584793b2-6861-45be-a696-aef9b5a6b346');\n",
              "          const dataTable =\n",
              "            await google.colab.kernel.invokeFunction('convertToInteractive',\n",
              "                                                     [key], {});\n",
              "          if (!dataTable) return;\n",
              "\n",
              "          const docLinkHtml = 'Like what you see? Visit the ' +\n",
              "            '<a target=\"_blank\" href=https://colab.research.google.com/notebooks/data_table.ipynb>data table notebook</a>'\n",
              "            + ' to learn more about interactive tables.';\n",
              "          element.innerHTML = '';\n",
              "          dataTable['output_type'] = 'display_data';\n",
              "          await google.colab.output.renderOutput(dataTable, element);\n",
              "          const docLink = document.createElement('div');\n",
              "          docLink.innerHTML = docLinkHtml;\n",
              "          element.appendChild(docLink);\n",
              "        }\n",
              "      </script>\n",
              "    </div>\n",
              "  </div>\n",
              "  "
            ]
          },
          "metadata": {},
          "execution_count": 28
        }
      ]
    },
    {
      "cell_type": "markdown",
      "source": [
        "COMPROBACIÓN DE LA MATRIZ DE VARIANZA-COVARIANZA"
      ],
      "metadata": {
        "id": "h5WM6ZFKHMpC"
      }
    },
    {
      "cell_type": "code",
      "source": [
        "x.cov()"
      ],
      "metadata": {
        "colab": {
          "base_uri": "https://localhost:8080/",
          "height": 270
        },
        "id": "HzVIJScEwEJV",
        "outputId": "99aa3405-e8f3-402c-d14d-529a1f36ddfa"
      },
      "execution_count": 29,
      "outputs": [
        {
          "output_type": "execute_result",
          "data": {
            "text/plain": [
              "              EPSP         OPM      BtMr   isSmall  isMedium\n",
              "EPSP      0.008576    0.095351 -0.006378 -0.011938  0.004549\n",
              "OPM       0.095351  266.685817  0.037558  0.087182 -0.580925\n",
              "BtMr     -0.006378    0.037558  0.260931  0.086589 -0.023577\n",
              "isSmall  -0.011938    0.087182  0.086589  0.223518 -0.106857\n",
              "isMedium  0.004549   -0.580925 -0.023577 -0.106857  0.217431"
            ],
            "text/html": [
              "\n",
              "  <div id=\"df-d0c83de0-2450-4ed4-8978-7d2d9eff1669\">\n",
              "    <div class=\"colab-df-container\">\n",
              "      <div>\n",
              "<style scoped>\n",
              "    .dataframe tbody tr th:only-of-type {\n",
              "        vertical-align: middle;\n",
              "    }\n",
              "\n",
              "    .dataframe tbody tr th {\n",
              "        vertical-align: top;\n",
              "    }\n",
              "\n",
              "    .dataframe thead th {\n",
              "        text-align: right;\n",
              "    }\n",
              "</style>\n",
              "<table border=\"1\" class=\"dataframe\">\n",
              "  <thead>\n",
              "    <tr style=\"text-align: right;\">\n",
              "      <th></th>\n",
              "      <th>EPSP</th>\n",
              "      <th>OPM</th>\n",
              "      <th>BtMr</th>\n",
              "      <th>isSmall</th>\n",
              "      <th>isMedium</th>\n",
              "    </tr>\n",
              "  </thead>\n",
              "  <tbody>\n",
              "    <tr>\n",
              "      <th>EPSP</th>\n",
              "      <td>0.008576</td>\n",
              "      <td>0.095351</td>\n",
              "      <td>-0.006378</td>\n",
              "      <td>-0.011938</td>\n",
              "      <td>0.004549</td>\n",
              "    </tr>\n",
              "    <tr>\n",
              "      <th>OPM</th>\n",
              "      <td>0.095351</td>\n",
              "      <td>266.685817</td>\n",
              "      <td>0.037558</td>\n",
              "      <td>0.087182</td>\n",
              "      <td>-0.580925</td>\n",
              "    </tr>\n",
              "    <tr>\n",
              "      <th>BtMr</th>\n",
              "      <td>-0.006378</td>\n",
              "      <td>0.037558</td>\n",
              "      <td>0.260931</td>\n",
              "      <td>0.086589</td>\n",
              "      <td>-0.023577</td>\n",
              "    </tr>\n",
              "    <tr>\n",
              "      <th>isSmall</th>\n",
              "      <td>-0.011938</td>\n",
              "      <td>0.087182</td>\n",
              "      <td>0.086589</td>\n",
              "      <td>0.223518</td>\n",
              "      <td>-0.106857</td>\n",
              "    </tr>\n",
              "    <tr>\n",
              "      <th>isMedium</th>\n",
              "      <td>0.004549</td>\n",
              "      <td>-0.580925</td>\n",
              "      <td>-0.023577</td>\n",
              "      <td>-0.106857</td>\n",
              "      <td>0.217431</td>\n",
              "    </tr>\n",
              "  </tbody>\n",
              "</table>\n",
              "</div>\n",
              "      <button class=\"colab-df-convert\" onclick=\"convertToInteractive('df-d0c83de0-2450-4ed4-8978-7d2d9eff1669')\"\n",
              "              title=\"Convert this dataframe to an interactive table.\"\n",
              "              style=\"display:none;\">\n",
              "        \n",
              "  <svg xmlns=\"http://www.w3.org/2000/svg\" height=\"24px\"viewBox=\"0 0 24 24\"\n",
              "       width=\"24px\">\n",
              "    <path d=\"M0 0h24v24H0V0z\" fill=\"none\"/>\n",
              "    <path d=\"M18.56 5.44l.94 2.06.94-2.06 2.06-.94-2.06-.94-.94-2.06-.94 2.06-2.06.94zm-11 1L8.5 8.5l.94-2.06 2.06-.94-2.06-.94L8.5 2.5l-.94 2.06-2.06.94zm10 10l.94 2.06.94-2.06 2.06-.94-2.06-.94-.94-2.06-.94 2.06-2.06.94z\"/><path d=\"M17.41 7.96l-1.37-1.37c-.4-.4-.92-.59-1.43-.59-.52 0-1.04.2-1.43.59L10.3 9.45l-7.72 7.72c-.78.78-.78 2.05 0 2.83L4 21.41c.39.39.9.59 1.41.59.51 0 1.02-.2 1.41-.59l7.78-7.78 2.81-2.81c.8-.78.8-2.07 0-2.86zM5.41 20L4 18.59l7.72-7.72 1.47 1.35L5.41 20z\"/>\n",
              "  </svg>\n",
              "      </button>\n",
              "      \n",
              "  <style>\n",
              "    .colab-df-container {\n",
              "      display:flex;\n",
              "      flex-wrap:wrap;\n",
              "      gap: 12px;\n",
              "    }\n",
              "\n",
              "    .colab-df-convert {\n",
              "      background-color: #E8F0FE;\n",
              "      border: none;\n",
              "      border-radius: 50%;\n",
              "      cursor: pointer;\n",
              "      display: none;\n",
              "      fill: #1967D2;\n",
              "      height: 32px;\n",
              "      padding: 0 0 0 0;\n",
              "      width: 32px;\n",
              "    }\n",
              "\n",
              "    .colab-df-convert:hover {\n",
              "      background-color: #E2EBFA;\n",
              "      box-shadow: 0px 1px 2px rgba(60, 64, 67, 0.3), 0px 1px 3px 1px rgba(60, 64, 67, 0.15);\n",
              "      fill: #174EA6;\n",
              "    }\n",
              "\n",
              "    [theme=dark] .colab-df-convert {\n",
              "      background-color: #3B4455;\n",
              "      fill: #D2E3FC;\n",
              "    }\n",
              "\n",
              "    [theme=dark] .colab-df-convert:hover {\n",
              "      background-color: #434B5C;\n",
              "      box-shadow: 0px 1px 3px 1px rgba(0, 0, 0, 0.15);\n",
              "      filter: drop-shadow(0px 1px 2px rgba(0, 0, 0, 0.3));\n",
              "      fill: #FFFFFF;\n",
              "    }\n",
              "  </style>\n",
              "\n",
              "      <script>\n",
              "        const buttonEl =\n",
              "          document.querySelector('#df-d0c83de0-2450-4ed4-8978-7d2d9eff1669 button.colab-df-convert');\n",
              "        buttonEl.style.display =\n",
              "          google.colab.kernel.accessAllowed ? 'block' : 'none';\n",
              "\n",
              "        async function convertToInteractive(key) {\n",
              "          const element = document.querySelector('#df-d0c83de0-2450-4ed4-8978-7d2d9eff1669');\n",
              "          const dataTable =\n",
              "            await google.colab.kernel.invokeFunction('convertToInteractive',\n",
              "                                                     [key], {});\n",
              "          if (!dataTable) return;\n",
              "\n",
              "          const docLinkHtml = 'Like what you see? Visit the ' +\n",
              "            '<a target=\"_blank\" href=https://colab.research.google.com/notebooks/data_table.ipynb>data table notebook</a>'\n",
              "            + ' to learn more about interactive tables.';\n",
              "          element.innerHTML = '';\n",
              "          dataTable['output_type'] = 'display_data';\n",
              "          await google.colab.output.renderOutput(dataTable, element);\n",
              "          const docLink = document.createElement('div');\n",
              "          docLink.innerHTML = docLinkHtml;\n",
              "          element.appendChild(docLink);\n",
              "        }\n",
              "      </script>\n",
              "    </div>\n",
              "  </div>\n",
              "  "
            ]
          },
          "metadata": {},
          "execution_count": 29
        }
      ]
    },
    {
      "cell_type": "markdown",
      "source": [
        "### Solución 2"
      ],
      "metadata": {
        "id": "sCvhT__outYs"
      }
    },
    {
      "cell_type": "code",
      "source": [
        "x_transpose = x.transpose()"
      ],
      "metadata": {
        "id": "ZnR14on6SKM3"
      },
      "execution_count": 30,
      "outputs": []
    },
    {
      "cell_type": "code",
      "source": [
        "n = len(x)"
      ],
      "metadata": {
        "id": "6Dsle7KjRb1W"
      },
      "execution_count": 31,
      "outputs": []
    },
    {
      "cell_type": "code",
      "source": [
        "ones = np.ones((n,1))"
      ],
      "metadata": {
        "id": "_eZD1duLEk6w"
      },
      "execution_count": 32,
      "outputs": []
    },
    {
      "cell_type": "code",
      "source": [
        "xt = x_transpose.dot(ones)"
      ],
      "metadata": {
        "id": "B-7878wySp_i"
      },
      "execution_count": 33,
      "outputs": []
    },
    {
      "cell_type": "code",
      "source": [
        "xtx = x_transpose.dot(x)"
      ],
      "metadata": {
        "id": "TmK_D9mXS1eS"
      },
      "execution_count": 34,
      "outputs": []
    },
    {
      "cell_type": "code",
      "source": [
        "xt1t = xt.transpose()"
      ],
      "metadata": {
        "id": "GWhiByXATJ9r"
      },
      "execution_count": 35,
      "outputs": []
    },
    {
      "cell_type": "code",
      "source": [
        "VarCov = (1/(n-1))*(xtx - (1/n)*(xt.dot(xt1t)) )"
      ],
      "metadata": {
        "id": "ZEiFTyzlTPsz"
      },
      "execution_count": 36,
      "outputs": []
    },
    {
      "cell_type": "code",
      "source": [
        "VarCov"
      ],
      "metadata": {
        "colab": {
          "base_uri": "https://localhost:8080/",
          "height": 270
        },
        "id": "xXBVDV6tT5wj",
        "outputId": "07dec941-ac6b-415f-f3c3-8ef2f833a303"
      },
      "execution_count": 37,
      "outputs": [
        {
          "output_type": "execute_result",
          "data": {
            "text/plain": [
              "              EPSP         OPM      BtMr   isSmall  isMedium\n",
              "EPSP      0.008576    0.095351 -0.006378 -0.011938  0.004549\n",
              "OPM       0.095351  266.685817  0.037558  0.087182 -0.580925\n",
              "BtMr     -0.006378    0.037558  0.260931  0.086589 -0.023577\n",
              "isSmall  -0.011938    0.087182  0.086589  0.223518 -0.106857\n",
              "isMedium  0.004549   -0.580925 -0.023577 -0.106857  0.217431"
            ],
            "text/html": [
              "\n",
              "  <div id=\"df-1309cf14-0aaa-4c4b-85cb-2c95f2c55a33\">\n",
              "    <div class=\"colab-df-container\">\n",
              "      <div>\n",
              "<style scoped>\n",
              "    .dataframe tbody tr th:only-of-type {\n",
              "        vertical-align: middle;\n",
              "    }\n",
              "\n",
              "    .dataframe tbody tr th {\n",
              "        vertical-align: top;\n",
              "    }\n",
              "\n",
              "    .dataframe thead th {\n",
              "        text-align: right;\n",
              "    }\n",
              "</style>\n",
              "<table border=\"1\" class=\"dataframe\">\n",
              "  <thead>\n",
              "    <tr style=\"text-align: right;\">\n",
              "      <th></th>\n",
              "      <th>EPSP</th>\n",
              "      <th>OPM</th>\n",
              "      <th>BtMr</th>\n",
              "      <th>isSmall</th>\n",
              "      <th>isMedium</th>\n",
              "    </tr>\n",
              "  </thead>\n",
              "  <tbody>\n",
              "    <tr>\n",
              "      <th>EPSP</th>\n",
              "      <td>0.008576</td>\n",
              "      <td>0.095351</td>\n",
              "      <td>-0.006378</td>\n",
              "      <td>-0.011938</td>\n",
              "      <td>0.004549</td>\n",
              "    </tr>\n",
              "    <tr>\n",
              "      <th>OPM</th>\n",
              "      <td>0.095351</td>\n",
              "      <td>266.685817</td>\n",
              "      <td>0.037558</td>\n",
              "      <td>0.087182</td>\n",
              "      <td>-0.580925</td>\n",
              "    </tr>\n",
              "    <tr>\n",
              "      <th>BtMr</th>\n",
              "      <td>-0.006378</td>\n",
              "      <td>0.037558</td>\n",
              "      <td>0.260931</td>\n",
              "      <td>0.086589</td>\n",
              "      <td>-0.023577</td>\n",
              "    </tr>\n",
              "    <tr>\n",
              "      <th>isSmall</th>\n",
              "      <td>-0.011938</td>\n",
              "      <td>0.087182</td>\n",
              "      <td>0.086589</td>\n",
              "      <td>0.223518</td>\n",
              "      <td>-0.106857</td>\n",
              "    </tr>\n",
              "    <tr>\n",
              "      <th>isMedium</th>\n",
              "      <td>0.004549</td>\n",
              "      <td>-0.580925</td>\n",
              "      <td>-0.023577</td>\n",
              "      <td>-0.106857</td>\n",
              "      <td>0.217431</td>\n",
              "    </tr>\n",
              "  </tbody>\n",
              "</table>\n",
              "</div>\n",
              "      <button class=\"colab-df-convert\" onclick=\"convertToInteractive('df-1309cf14-0aaa-4c4b-85cb-2c95f2c55a33')\"\n",
              "              title=\"Convert this dataframe to an interactive table.\"\n",
              "              style=\"display:none;\">\n",
              "        \n",
              "  <svg xmlns=\"http://www.w3.org/2000/svg\" height=\"24px\"viewBox=\"0 0 24 24\"\n",
              "       width=\"24px\">\n",
              "    <path d=\"M0 0h24v24H0V0z\" fill=\"none\"/>\n",
              "    <path d=\"M18.56 5.44l.94 2.06.94-2.06 2.06-.94-2.06-.94-.94-2.06-.94 2.06-2.06.94zm-11 1L8.5 8.5l.94-2.06 2.06-.94-2.06-.94L8.5 2.5l-.94 2.06-2.06.94zm10 10l.94 2.06.94-2.06 2.06-.94-2.06-.94-.94-2.06-.94 2.06-2.06.94z\"/><path d=\"M17.41 7.96l-1.37-1.37c-.4-.4-.92-.59-1.43-.59-.52 0-1.04.2-1.43.59L10.3 9.45l-7.72 7.72c-.78.78-.78 2.05 0 2.83L4 21.41c.39.39.9.59 1.41.59.51 0 1.02-.2 1.41-.59l7.78-7.78 2.81-2.81c.8-.78.8-2.07 0-2.86zM5.41 20L4 18.59l7.72-7.72 1.47 1.35L5.41 20z\"/>\n",
              "  </svg>\n",
              "      </button>\n",
              "      \n",
              "  <style>\n",
              "    .colab-df-container {\n",
              "      display:flex;\n",
              "      flex-wrap:wrap;\n",
              "      gap: 12px;\n",
              "    }\n",
              "\n",
              "    .colab-df-convert {\n",
              "      background-color: #E8F0FE;\n",
              "      border: none;\n",
              "      border-radius: 50%;\n",
              "      cursor: pointer;\n",
              "      display: none;\n",
              "      fill: #1967D2;\n",
              "      height: 32px;\n",
              "      padding: 0 0 0 0;\n",
              "      width: 32px;\n",
              "    }\n",
              "\n",
              "    .colab-df-convert:hover {\n",
              "      background-color: #E2EBFA;\n",
              "      box-shadow: 0px 1px 2px rgba(60, 64, 67, 0.3), 0px 1px 3px 1px rgba(60, 64, 67, 0.15);\n",
              "      fill: #174EA6;\n",
              "    }\n",
              "\n",
              "    [theme=dark] .colab-df-convert {\n",
              "      background-color: #3B4455;\n",
              "      fill: #D2E3FC;\n",
              "    }\n",
              "\n",
              "    [theme=dark] .colab-df-convert:hover {\n",
              "      background-color: #434B5C;\n",
              "      box-shadow: 0px 1px 3px 1px rgba(0, 0, 0, 0.15);\n",
              "      filter: drop-shadow(0px 1px 2px rgba(0, 0, 0, 0.3));\n",
              "      fill: #FFFFFF;\n",
              "    }\n",
              "  </style>\n",
              "\n",
              "      <script>\n",
              "        const buttonEl =\n",
              "          document.querySelector('#df-1309cf14-0aaa-4c4b-85cb-2c95f2c55a33 button.colab-df-convert');\n",
              "        buttonEl.style.display =\n",
              "          google.colab.kernel.accessAllowed ? 'block' : 'none';\n",
              "\n",
              "        async function convertToInteractive(key) {\n",
              "          const element = document.querySelector('#df-1309cf14-0aaa-4c4b-85cb-2c95f2c55a33');\n",
              "          const dataTable =\n",
              "            await google.colab.kernel.invokeFunction('convertToInteractive',\n",
              "                                                     [key], {});\n",
              "          if (!dataTable) return;\n",
              "\n",
              "          const docLinkHtml = 'Like what you see? Visit the ' +\n",
              "            '<a target=\"_blank\" href=https://colab.research.google.com/notebooks/data_table.ipynb>data table notebook</a>'\n",
              "            + ' to learn more about interactive tables.';\n",
              "          element.innerHTML = '';\n",
              "          dataTable['output_type'] = 'display_data';\n",
              "          await google.colab.output.renderOutput(dataTable, element);\n",
              "          const docLink = document.createElement('div');\n",
              "          docLink.innerHTML = docLinkHtml;\n",
              "          element.appendChild(docLink);\n",
              "        }\n",
              "      </script>\n",
              "    </div>\n",
              "  </div>\n",
              "  "
            ]
          },
          "metadata": {},
          "execution_count": 37
        }
      ]
    },
    {
      "cell_type": "markdown",
      "source": [
        "COMPROBACIÓN DE LA MATRIZ DE VARIANZA-COVARIANZA"
      ],
      "metadata": {
        "id": "51WMqm9HHUNb"
      }
    },
    {
      "cell_type": "code",
      "source": [
        "x.cov()"
      ],
      "metadata": {
        "colab": {
          "base_uri": "https://localhost:8080/",
          "height": 270
        },
        "id": "AjhVITq3TT4M",
        "outputId": "b3184a1c-f8e9-4a77-b3e4-158ce22c27ef"
      },
      "execution_count": 38,
      "outputs": [
        {
          "output_type": "execute_result",
          "data": {
            "text/plain": [
              "              EPSP         OPM      BtMr   isSmall  isMedium\n",
              "EPSP      0.008576    0.095351 -0.006378 -0.011938  0.004549\n",
              "OPM       0.095351  266.685817  0.037558  0.087182 -0.580925\n",
              "BtMr     -0.006378    0.037558  0.260931  0.086589 -0.023577\n",
              "isSmall  -0.011938    0.087182  0.086589  0.223518 -0.106857\n",
              "isMedium  0.004549   -0.580925 -0.023577 -0.106857  0.217431"
            ],
            "text/html": [
              "\n",
              "  <div id=\"df-ade1e23d-876d-4e72-b893-321c5b6edc3a\">\n",
              "    <div class=\"colab-df-container\">\n",
              "      <div>\n",
              "<style scoped>\n",
              "    .dataframe tbody tr th:only-of-type {\n",
              "        vertical-align: middle;\n",
              "    }\n",
              "\n",
              "    .dataframe tbody tr th {\n",
              "        vertical-align: top;\n",
              "    }\n",
              "\n",
              "    .dataframe thead th {\n",
              "        text-align: right;\n",
              "    }\n",
              "</style>\n",
              "<table border=\"1\" class=\"dataframe\">\n",
              "  <thead>\n",
              "    <tr style=\"text-align: right;\">\n",
              "      <th></th>\n",
              "      <th>EPSP</th>\n",
              "      <th>OPM</th>\n",
              "      <th>BtMr</th>\n",
              "      <th>isSmall</th>\n",
              "      <th>isMedium</th>\n",
              "    </tr>\n",
              "  </thead>\n",
              "  <tbody>\n",
              "    <tr>\n",
              "      <th>EPSP</th>\n",
              "      <td>0.008576</td>\n",
              "      <td>0.095351</td>\n",
              "      <td>-0.006378</td>\n",
              "      <td>-0.011938</td>\n",
              "      <td>0.004549</td>\n",
              "    </tr>\n",
              "    <tr>\n",
              "      <th>OPM</th>\n",
              "      <td>0.095351</td>\n",
              "      <td>266.685817</td>\n",
              "      <td>0.037558</td>\n",
              "      <td>0.087182</td>\n",
              "      <td>-0.580925</td>\n",
              "    </tr>\n",
              "    <tr>\n",
              "      <th>BtMr</th>\n",
              "      <td>-0.006378</td>\n",
              "      <td>0.037558</td>\n",
              "      <td>0.260931</td>\n",
              "      <td>0.086589</td>\n",
              "      <td>-0.023577</td>\n",
              "    </tr>\n",
              "    <tr>\n",
              "      <th>isSmall</th>\n",
              "      <td>-0.011938</td>\n",
              "      <td>0.087182</td>\n",
              "      <td>0.086589</td>\n",
              "      <td>0.223518</td>\n",
              "      <td>-0.106857</td>\n",
              "    </tr>\n",
              "    <tr>\n",
              "      <th>isMedium</th>\n",
              "      <td>0.004549</td>\n",
              "      <td>-0.580925</td>\n",
              "      <td>-0.023577</td>\n",
              "      <td>-0.106857</td>\n",
              "      <td>0.217431</td>\n",
              "    </tr>\n",
              "  </tbody>\n",
              "</table>\n",
              "</div>\n",
              "      <button class=\"colab-df-convert\" onclick=\"convertToInteractive('df-ade1e23d-876d-4e72-b893-321c5b6edc3a')\"\n",
              "              title=\"Convert this dataframe to an interactive table.\"\n",
              "              style=\"display:none;\">\n",
              "        \n",
              "  <svg xmlns=\"http://www.w3.org/2000/svg\" height=\"24px\"viewBox=\"0 0 24 24\"\n",
              "       width=\"24px\">\n",
              "    <path d=\"M0 0h24v24H0V0z\" fill=\"none\"/>\n",
              "    <path d=\"M18.56 5.44l.94 2.06.94-2.06 2.06-.94-2.06-.94-.94-2.06-.94 2.06-2.06.94zm-11 1L8.5 8.5l.94-2.06 2.06-.94-2.06-.94L8.5 2.5l-.94 2.06-2.06.94zm10 10l.94 2.06.94-2.06 2.06-.94-2.06-.94-.94-2.06-.94 2.06-2.06.94z\"/><path d=\"M17.41 7.96l-1.37-1.37c-.4-.4-.92-.59-1.43-.59-.52 0-1.04.2-1.43.59L10.3 9.45l-7.72 7.72c-.78.78-.78 2.05 0 2.83L4 21.41c.39.39.9.59 1.41.59.51 0 1.02-.2 1.41-.59l7.78-7.78 2.81-2.81c.8-.78.8-2.07 0-2.86zM5.41 20L4 18.59l7.72-7.72 1.47 1.35L5.41 20z\"/>\n",
              "  </svg>\n",
              "      </button>\n",
              "      \n",
              "  <style>\n",
              "    .colab-df-container {\n",
              "      display:flex;\n",
              "      flex-wrap:wrap;\n",
              "      gap: 12px;\n",
              "    }\n",
              "\n",
              "    .colab-df-convert {\n",
              "      background-color: #E8F0FE;\n",
              "      border: none;\n",
              "      border-radius: 50%;\n",
              "      cursor: pointer;\n",
              "      display: none;\n",
              "      fill: #1967D2;\n",
              "      height: 32px;\n",
              "      padding: 0 0 0 0;\n",
              "      width: 32px;\n",
              "    }\n",
              "\n",
              "    .colab-df-convert:hover {\n",
              "      background-color: #E2EBFA;\n",
              "      box-shadow: 0px 1px 2px rgba(60, 64, 67, 0.3), 0px 1px 3px 1px rgba(60, 64, 67, 0.15);\n",
              "      fill: #174EA6;\n",
              "    }\n",
              "\n",
              "    [theme=dark] .colab-df-convert {\n",
              "      background-color: #3B4455;\n",
              "      fill: #D2E3FC;\n",
              "    }\n",
              "\n",
              "    [theme=dark] .colab-df-convert:hover {\n",
              "      background-color: #434B5C;\n",
              "      box-shadow: 0px 1px 3px 1px rgba(0, 0, 0, 0.15);\n",
              "      filter: drop-shadow(0px 1px 2px rgba(0, 0, 0, 0.3));\n",
              "      fill: #FFFFFF;\n",
              "    }\n",
              "  </style>\n",
              "\n",
              "      <script>\n",
              "        const buttonEl =\n",
              "          document.querySelector('#df-ade1e23d-876d-4e72-b893-321c5b6edc3a button.colab-df-convert');\n",
              "        buttonEl.style.display =\n",
              "          google.colab.kernel.accessAllowed ? 'block' : 'none';\n",
              "\n",
              "        async function convertToInteractive(key) {\n",
              "          const element = document.querySelector('#df-ade1e23d-876d-4e72-b893-321c5b6edc3a');\n",
              "          const dataTable =\n",
              "            await google.colab.kernel.invokeFunction('convertToInteractive',\n",
              "                                                     [key], {});\n",
              "          if (!dataTable) return;\n",
              "\n",
              "          const docLinkHtml = 'Like what you see? Visit the ' +\n",
              "            '<a target=\"_blank\" href=https://colab.research.google.com/notebooks/data_table.ipynb>data table notebook</a>'\n",
              "            + ' to learn more about interactive tables.';\n",
              "          element.innerHTML = '';\n",
              "          dataTable['output_type'] = 'display_data';\n",
              "          await google.colab.output.renderOutput(dataTable, element);\n",
              "          const docLink = document.createElement('div');\n",
              "          docLink.innerHTML = docLinkHtml;\n",
              "          element.appendChild(docLink);\n",
              "        }\n",
              "      </script>\n",
              "    </div>\n",
              "  </div>\n",
              "  "
            ]
          },
          "metadata": {},
          "execution_count": 38
        }
      ]
    },
    {
      "cell_type": "markdown",
      "source": [
        "## Correlaciones"
      ],
      "metadata": {
        "id": "1EwvAWTw8IYC"
      }
    },
    {
      "cell_type": "markdown",
      "source": [
        "A PARTIR DE LAS DESVIACIONES ESTÁNDAR Y LA MATRIZ DE VARIANZA-COVARIANZA OBTENEMOS LAS CORRELACIONES."
      ],
      "metadata": {
        "id": "rXcYJLQKKvRc"
      }
    },
    {
      "cell_type": "code",
      "source": [
        "varcov"
      ],
      "metadata": {
        "colab": {
          "base_uri": "https://localhost:8080/",
          "height": 270
        },
        "id": "9z6AtaBJ8Nrx",
        "outputId": "bff5aa9e-a333-4ee7-d8e1-37c56d855678"
      },
      "execution_count": 39,
      "outputs": [
        {
          "output_type": "execute_result",
          "data": {
            "text/plain": [
              "              EPSP         OPM      BtMr   isSmall  isMedium\n",
              "EPSP      0.008576    0.095351 -0.006378 -0.011938  0.004549\n",
              "OPM       0.095351  266.685817  0.037558  0.087182 -0.580925\n",
              "BtMr     -0.006378    0.037558  0.260931  0.086589 -0.023577\n",
              "isSmall  -0.011938    0.087182  0.086589  0.223518 -0.106857\n",
              "isMedium  0.004549   -0.580925 -0.023577 -0.106857  0.217431"
            ],
            "text/html": [
              "\n",
              "  <div id=\"df-ae3ff840-89c4-4971-8328-5d7e624a2372\">\n",
              "    <div class=\"colab-df-container\">\n",
              "      <div>\n",
              "<style scoped>\n",
              "    .dataframe tbody tr th:only-of-type {\n",
              "        vertical-align: middle;\n",
              "    }\n",
              "\n",
              "    .dataframe tbody tr th {\n",
              "        vertical-align: top;\n",
              "    }\n",
              "\n",
              "    .dataframe thead th {\n",
              "        text-align: right;\n",
              "    }\n",
              "</style>\n",
              "<table border=\"1\" class=\"dataframe\">\n",
              "  <thead>\n",
              "    <tr style=\"text-align: right;\">\n",
              "      <th></th>\n",
              "      <th>EPSP</th>\n",
              "      <th>OPM</th>\n",
              "      <th>BtMr</th>\n",
              "      <th>isSmall</th>\n",
              "      <th>isMedium</th>\n",
              "    </tr>\n",
              "  </thead>\n",
              "  <tbody>\n",
              "    <tr>\n",
              "      <th>EPSP</th>\n",
              "      <td>0.008576</td>\n",
              "      <td>0.095351</td>\n",
              "      <td>-0.006378</td>\n",
              "      <td>-0.011938</td>\n",
              "      <td>0.004549</td>\n",
              "    </tr>\n",
              "    <tr>\n",
              "      <th>OPM</th>\n",
              "      <td>0.095351</td>\n",
              "      <td>266.685817</td>\n",
              "      <td>0.037558</td>\n",
              "      <td>0.087182</td>\n",
              "      <td>-0.580925</td>\n",
              "    </tr>\n",
              "    <tr>\n",
              "      <th>BtMr</th>\n",
              "      <td>-0.006378</td>\n",
              "      <td>0.037558</td>\n",
              "      <td>0.260931</td>\n",
              "      <td>0.086589</td>\n",
              "      <td>-0.023577</td>\n",
              "    </tr>\n",
              "    <tr>\n",
              "      <th>isSmall</th>\n",
              "      <td>-0.011938</td>\n",
              "      <td>0.087182</td>\n",
              "      <td>0.086589</td>\n",
              "      <td>0.223518</td>\n",
              "      <td>-0.106857</td>\n",
              "    </tr>\n",
              "    <tr>\n",
              "      <th>isMedium</th>\n",
              "      <td>0.004549</td>\n",
              "      <td>-0.580925</td>\n",
              "      <td>-0.023577</td>\n",
              "      <td>-0.106857</td>\n",
              "      <td>0.217431</td>\n",
              "    </tr>\n",
              "  </tbody>\n",
              "</table>\n",
              "</div>\n",
              "      <button class=\"colab-df-convert\" onclick=\"convertToInteractive('df-ae3ff840-89c4-4971-8328-5d7e624a2372')\"\n",
              "              title=\"Convert this dataframe to an interactive table.\"\n",
              "              style=\"display:none;\">\n",
              "        \n",
              "  <svg xmlns=\"http://www.w3.org/2000/svg\" height=\"24px\"viewBox=\"0 0 24 24\"\n",
              "       width=\"24px\">\n",
              "    <path d=\"M0 0h24v24H0V0z\" fill=\"none\"/>\n",
              "    <path d=\"M18.56 5.44l.94 2.06.94-2.06 2.06-.94-2.06-.94-.94-2.06-.94 2.06-2.06.94zm-11 1L8.5 8.5l.94-2.06 2.06-.94-2.06-.94L8.5 2.5l-.94 2.06-2.06.94zm10 10l.94 2.06.94-2.06 2.06-.94-2.06-.94-.94-2.06-.94 2.06-2.06.94z\"/><path d=\"M17.41 7.96l-1.37-1.37c-.4-.4-.92-.59-1.43-.59-.52 0-1.04.2-1.43.59L10.3 9.45l-7.72 7.72c-.78.78-.78 2.05 0 2.83L4 21.41c.39.39.9.59 1.41.59.51 0 1.02-.2 1.41-.59l7.78-7.78 2.81-2.81c.8-.78.8-2.07 0-2.86zM5.41 20L4 18.59l7.72-7.72 1.47 1.35L5.41 20z\"/>\n",
              "  </svg>\n",
              "      </button>\n",
              "      \n",
              "  <style>\n",
              "    .colab-df-container {\n",
              "      display:flex;\n",
              "      flex-wrap:wrap;\n",
              "      gap: 12px;\n",
              "    }\n",
              "\n",
              "    .colab-df-convert {\n",
              "      background-color: #E8F0FE;\n",
              "      border: none;\n",
              "      border-radius: 50%;\n",
              "      cursor: pointer;\n",
              "      display: none;\n",
              "      fill: #1967D2;\n",
              "      height: 32px;\n",
              "      padding: 0 0 0 0;\n",
              "      width: 32px;\n",
              "    }\n",
              "\n",
              "    .colab-df-convert:hover {\n",
              "      background-color: #E2EBFA;\n",
              "      box-shadow: 0px 1px 2px rgba(60, 64, 67, 0.3), 0px 1px 3px 1px rgba(60, 64, 67, 0.15);\n",
              "      fill: #174EA6;\n",
              "    }\n",
              "\n",
              "    [theme=dark] .colab-df-convert {\n",
              "      background-color: #3B4455;\n",
              "      fill: #D2E3FC;\n",
              "    }\n",
              "\n",
              "    [theme=dark] .colab-df-convert:hover {\n",
              "      background-color: #434B5C;\n",
              "      box-shadow: 0px 1px 3px 1px rgba(0, 0, 0, 0.15);\n",
              "      filter: drop-shadow(0px 1px 2px rgba(0, 0, 0, 0.3));\n",
              "      fill: #FFFFFF;\n",
              "    }\n",
              "  </style>\n",
              "\n",
              "      <script>\n",
              "        const buttonEl =\n",
              "          document.querySelector('#df-ae3ff840-89c4-4971-8328-5d7e624a2372 button.colab-df-convert');\n",
              "        buttonEl.style.display =\n",
              "          google.colab.kernel.accessAllowed ? 'block' : 'none';\n",
              "\n",
              "        async function convertToInteractive(key) {\n",
              "          const element = document.querySelector('#df-ae3ff840-89c4-4971-8328-5d7e624a2372');\n",
              "          const dataTable =\n",
              "            await google.colab.kernel.invokeFunction('convertToInteractive',\n",
              "                                                     [key], {});\n",
              "          if (!dataTable) return;\n",
              "\n",
              "          const docLinkHtml = 'Like what you see? Visit the ' +\n",
              "            '<a target=\"_blank\" href=https://colab.research.google.com/notebooks/data_table.ipynb>data table notebook</a>'\n",
              "            + ' to learn more about interactive tables.';\n",
              "          element.innerHTML = '';\n",
              "          dataTable['output_type'] = 'display_data';\n",
              "          await google.colab.output.renderOutput(dataTable, element);\n",
              "          const docLink = document.createElement('div');\n",
              "          docLink.innerHTML = docLinkHtml;\n",
              "          element.appendChild(docLink);\n",
              "        }\n",
              "      </script>\n",
              "    </div>\n",
              "  </div>\n",
              "  "
            ]
          },
          "metadata": {},
          "execution_count": 39
        }
      ]
    },
    {
      "cell_type": "code",
      "source": [
        "var = np.array([])\n",
        "for i in range(len(varcov)) :\n",
        "  var = np.append(var, varcov.iloc[i,i])"
      ],
      "metadata": {
        "id": "lWgCwMBv8OaC"
      },
      "execution_count": 40,
      "outputs": []
    },
    {
      "cell_type": "code",
      "source": [
        "vars = pd.DataFrame(var)\n",
        "vars = vars.transpose()"
      ],
      "metadata": {
        "id": "4iu0NyFF-3uZ"
      },
      "execution_count": 41,
      "outputs": []
    },
    {
      "cell_type": "code",
      "source": [
        "vars.columns = ['EPSP','OPM','BtMr', 'isSmall', 'isMedium']"
      ],
      "metadata": {
        "id": "BBbqydgc-6Ch"
      },
      "execution_count": 42,
      "outputs": []
    },
    {
      "cell_type": "code",
      "source": [
        "vars"
      ],
      "metadata": {
        "colab": {
          "base_uri": "https://localhost:8080/",
          "height": 145
        },
        "id": "O7W_wC6y_X0r",
        "outputId": "7d606e9a-019f-4c45-80d0-c677b6ce2e18"
      },
      "execution_count": 43,
      "outputs": [
        {
          "output_type": "execute_result",
          "data": {
            "text/plain": [
              "       EPSP         OPM      BtMr   isSmall  isMedium\n",
              "0  0.008576  266.685817  0.260931  0.223518  0.217431"
            ],
            "text/html": [
              "\n",
              "  <div id=\"df-d05c5670-53f8-46f9-91cf-72cf673f030c\">\n",
              "    <div class=\"colab-df-container\">\n",
              "      <div>\n",
              "<style scoped>\n",
              "    .dataframe tbody tr th:only-of-type {\n",
              "        vertical-align: middle;\n",
              "    }\n",
              "\n",
              "    .dataframe tbody tr th {\n",
              "        vertical-align: top;\n",
              "    }\n",
              "\n",
              "    .dataframe thead th {\n",
              "        text-align: right;\n",
              "    }\n",
              "</style>\n",
              "<table border=\"1\" class=\"dataframe\">\n",
              "  <thead>\n",
              "    <tr style=\"text-align: right;\">\n",
              "      <th></th>\n",
              "      <th>EPSP</th>\n",
              "      <th>OPM</th>\n",
              "      <th>BtMr</th>\n",
              "      <th>isSmall</th>\n",
              "      <th>isMedium</th>\n",
              "    </tr>\n",
              "  </thead>\n",
              "  <tbody>\n",
              "    <tr>\n",
              "      <th>0</th>\n",
              "      <td>0.008576</td>\n",
              "      <td>266.685817</td>\n",
              "      <td>0.260931</td>\n",
              "      <td>0.223518</td>\n",
              "      <td>0.217431</td>\n",
              "    </tr>\n",
              "  </tbody>\n",
              "</table>\n",
              "</div>\n",
              "      <button class=\"colab-df-convert\" onclick=\"convertToInteractive('df-d05c5670-53f8-46f9-91cf-72cf673f030c')\"\n",
              "              title=\"Convert this dataframe to an interactive table.\"\n",
              "              style=\"display:none;\">\n",
              "        \n",
              "  <svg xmlns=\"http://www.w3.org/2000/svg\" height=\"24px\"viewBox=\"0 0 24 24\"\n",
              "       width=\"24px\">\n",
              "    <path d=\"M0 0h24v24H0V0z\" fill=\"none\"/>\n",
              "    <path d=\"M18.56 5.44l.94 2.06.94-2.06 2.06-.94-2.06-.94-.94-2.06-.94 2.06-2.06.94zm-11 1L8.5 8.5l.94-2.06 2.06-.94-2.06-.94L8.5 2.5l-.94 2.06-2.06.94zm10 10l.94 2.06.94-2.06 2.06-.94-2.06-.94-.94-2.06-.94 2.06-2.06.94z\"/><path d=\"M17.41 7.96l-1.37-1.37c-.4-.4-.92-.59-1.43-.59-.52 0-1.04.2-1.43.59L10.3 9.45l-7.72 7.72c-.78.78-.78 2.05 0 2.83L4 21.41c.39.39.9.59 1.41.59.51 0 1.02-.2 1.41-.59l7.78-7.78 2.81-2.81c.8-.78.8-2.07 0-2.86zM5.41 20L4 18.59l7.72-7.72 1.47 1.35L5.41 20z\"/>\n",
              "  </svg>\n",
              "      </button>\n",
              "      \n",
              "  <style>\n",
              "    .colab-df-container {\n",
              "      display:flex;\n",
              "      flex-wrap:wrap;\n",
              "      gap: 12px;\n",
              "    }\n",
              "\n",
              "    .colab-df-convert {\n",
              "      background-color: #E8F0FE;\n",
              "      border: none;\n",
              "      border-radius: 50%;\n",
              "      cursor: pointer;\n",
              "      display: none;\n",
              "      fill: #1967D2;\n",
              "      height: 32px;\n",
              "      padding: 0 0 0 0;\n",
              "      width: 32px;\n",
              "    }\n",
              "\n",
              "    .colab-df-convert:hover {\n",
              "      background-color: #E2EBFA;\n",
              "      box-shadow: 0px 1px 2px rgba(60, 64, 67, 0.3), 0px 1px 3px 1px rgba(60, 64, 67, 0.15);\n",
              "      fill: #174EA6;\n",
              "    }\n",
              "\n",
              "    [theme=dark] .colab-df-convert {\n",
              "      background-color: #3B4455;\n",
              "      fill: #D2E3FC;\n",
              "    }\n",
              "\n",
              "    [theme=dark] .colab-df-convert:hover {\n",
              "      background-color: #434B5C;\n",
              "      box-shadow: 0px 1px 3px 1px rgba(0, 0, 0, 0.15);\n",
              "      filter: drop-shadow(0px 1px 2px rgba(0, 0, 0, 0.3));\n",
              "      fill: #FFFFFF;\n",
              "    }\n",
              "  </style>\n",
              "\n",
              "      <script>\n",
              "        const buttonEl =\n",
              "          document.querySelector('#df-d05c5670-53f8-46f9-91cf-72cf673f030c button.colab-df-convert');\n",
              "        buttonEl.style.display =\n",
              "          google.colab.kernel.accessAllowed ? 'block' : 'none';\n",
              "\n",
              "        async function convertToInteractive(key) {\n",
              "          const element = document.querySelector('#df-d05c5670-53f8-46f9-91cf-72cf673f030c');\n",
              "          const dataTable =\n",
              "            await google.colab.kernel.invokeFunction('convertToInteractive',\n",
              "                                                     [key], {});\n",
              "          if (!dataTable) return;\n",
              "\n",
              "          const docLinkHtml = 'Like what you see? Visit the ' +\n",
              "            '<a target=\"_blank\" href=https://colab.research.google.com/notebooks/data_table.ipynb>data table notebook</a>'\n",
              "            + ' to learn more about interactive tables.';\n",
              "          element.innerHTML = '';\n",
              "          dataTable['output_type'] = 'display_data';\n",
              "          await google.colab.output.renderOutput(dataTable, element);\n",
              "          const docLink = document.createElement('div');\n",
              "          docLink.innerHTML = docLinkHtml;\n",
              "          element.appendChild(docLink);\n",
              "        }\n",
              "      </script>\n",
              "    </div>\n",
              "  </div>\n",
              "  "
            ]
          },
          "metadata": {},
          "execution_count": 43
        }
      ]
    },
    {
      "cell_type": "code",
      "source": [
        "stds = np.sqrt(var)"
      ],
      "metadata": {
        "id": "3XTXFsYw_7Nu"
      },
      "execution_count": 44,
      "outputs": []
    },
    {
      "cell_type": "code",
      "source": [
        "stds"
      ],
      "metadata": {
        "colab": {
          "base_uri": "https://localhost:8080/"
        },
        "id": "Bl-uVYdPAP6s",
        "outputId": "93a0b57b-bb4a-4b02-d64e-b6163969a1a8"
      },
      "execution_count": 45,
      "outputs": [
        {
          "output_type": "execute_result",
          "data": {
            "text/plain": [
              "array([ 0.09260701, 16.33051797,  0.51081429,  0.47277688,  0.46629533])"
            ]
          },
          "metadata": {},
          "execution_count": 45
        }
      ]
    },
    {
      "cell_type": "code",
      "source": [
        "std_dev = [[ 0 for y in range( len(stds) ) ] for x in range( len(stds) )]\n",
        "for i in range(len(stds)):\n",
        "  for j in range(len(stds)):\n",
        "    std_dev[i][j] = stds[i] * stds[j]"
      ],
      "metadata": {
        "id": "faGKCfyaApdy"
      },
      "execution_count": 46,
      "outputs": []
    },
    {
      "cell_type": "code",
      "source": [
        "varcov2 = varcov.to_numpy()"
      ],
      "metadata": {
        "id": "uzas7pXeBKSt"
      },
      "execution_count": 47,
      "outputs": []
    },
    {
      "cell_type": "code",
      "source": [
        "corr = varcov2 / std_dev"
      ],
      "metadata": {
        "id": "DJBQtUydBsMI"
      },
      "execution_count": 48,
      "outputs": []
    },
    {
      "cell_type": "code",
      "source": [
        "corr"
      ],
      "metadata": {
        "colab": {
          "base_uri": "https://localhost:8080/"
        },
        "id": "kFsPpYYsE07R",
        "outputId": "8af5f1ba-6bdd-4e21-dc18-c595bf6c92b1"
      },
      "execution_count": 49,
      "outputs": [
        {
          "output_type": "execute_result",
          "data": {
            "text/plain": [
              "array([[ 1.        ,  0.0630495 , -0.1348371 , -0.27267741,  0.10534454],\n",
              "       [ 0.0630495 ,  1.        ,  0.0045024 ,  0.01129204, -0.07628849],\n",
              "       [-0.1348371 ,  0.0045024 ,  1.        ,  0.358543  , -0.09898189],\n",
              "       [-0.27267741,  0.01129204,  0.358543  ,  1.        , -0.4847154 ],\n",
              "       [ 0.10534454, -0.07628849, -0.09898189, -0.4847154 ,  1.        ]])"
            ]
          },
          "metadata": {},
          "execution_count": 49
        }
      ]
    },
    {
      "cell_type": "code",
      "source": [
        "corr = pd.DataFrame(corr)"
      ],
      "metadata": {
        "id": "v7QHmUaLExGM"
      },
      "execution_count": 50,
      "outputs": []
    },
    {
      "cell_type": "code",
      "source": [
        "corr.columns = ['EPSP','OPM','BtMr', 'isSmall', 'isMedium']"
      ],
      "metadata": {
        "id": "SOMGMbPLDYAk"
      },
      "execution_count": 51,
      "outputs": []
    },
    {
      "cell_type": "code",
      "source": [
        "corr = corr.transpose()\n",
        "corr.columns = ['EPSP','OPM','BtMr', 'isSmall', 'isMedium']"
      ],
      "metadata": {
        "id": "duOiXyhLDhQz"
      },
      "execution_count": 52,
      "outputs": []
    },
    {
      "cell_type": "code",
      "source": [
        "corr"
      ],
      "metadata": {
        "colab": {
          "base_uri": "https://localhost:8080/",
          "height": 270
        },
        "id": "v5rLYEjJDk01",
        "outputId": "e855d454-e4e3-484e-9d51-93ff1353fe38"
      },
      "execution_count": 53,
      "outputs": [
        {
          "output_type": "execute_result",
          "data": {
            "text/plain": [
              "              EPSP       OPM      BtMr   isSmall  isMedium\n",
              "EPSP      1.000000  0.063049 -0.134837 -0.272677  0.105345\n",
              "OPM       0.063049  1.000000  0.004502  0.011292 -0.076288\n",
              "BtMr     -0.134837  0.004502  1.000000  0.358543 -0.098982\n",
              "isSmall  -0.272677  0.011292  0.358543  1.000000 -0.484715\n",
              "isMedium  0.105345 -0.076288 -0.098982 -0.484715  1.000000"
            ],
            "text/html": [
              "\n",
              "  <div id=\"df-001db03a-d73a-4afe-a1cf-e8fd3bf7b9c7\">\n",
              "    <div class=\"colab-df-container\">\n",
              "      <div>\n",
              "<style scoped>\n",
              "    .dataframe tbody tr th:only-of-type {\n",
              "        vertical-align: middle;\n",
              "    }\n",
              "\n",
              "    .dataframe tbody tr th {\n",
              "        vertical-align: top;\n",
              "    }\n",
              "\n",
              "    .dataframe thead th {\n",
              "        text-align: right;\n",
              "    }\n",
              "</style>\n",
              "<table border=\"1\" class=\"dataframe\">\n",
              "  <thead>\n",
              "    <tr style=\"text-align: right;\">\n",
              "      <th></th>\n",
              "      <th>EPSP</th>\n",
              "      <th>OPM</th>\n",
              "      <th>BtMr</th>\n",
              "      <th>isSmall</th>\n",
              "      <th>isMedium</th>\n",
              "    </tr>\n",
              "  </thead>\n",
              "  <tbody>\n",
              "    <tr>\n",
              "      <th>EPSP</th>\n",
              "      <td>1.000000</td>\n",
              "      <td>0.063049</td>\n",
              "      <td>-0.134837</td>\n",
              "      <td>-0.272677</td>\n",
              "      <td>0.105345</td>\n",
              "    </tr>\n",
              "    <tr>\n",
              "      <th>OPM</th>\n",
              "      <td>0.063049</td>\n",
              "      <td>1.000000</td>\n",
              "      <td>0.004502</td>\n",
              "      <td>0.011292</td>\n",
              "      <td>-0.076288</td>\n",
              "    </tr>\n",
              "    <tr>\n",
              "      <th>BtMr</th>\n",
              "      <td>-0.134837</td>\n",
              "      <td>0.004502</td>\n",
              "      <td>1.000000</td>\n",
              "      <td>0.358543</td>\n",
              "      <td>-0.098982</td>\n",
              "    </tr>\n",
              "    <tr>\n",
              "      <th>isSmall</th>\n",
              "      <td>-0.272677</td>\n",
              "      <td>0.011292</td>\n",
              "      <td>0.358543</td>\n",
              "      <td>1.000000</td>\n",
              "      <td>-0.484715</td>\n",
              "    </tr>\n",
              "    <tr>\n",
              "      <th>isMedium</th>\n",
              "      <td>0.105345</td>\n",
              "      <td>-0.076288</td>\n",
              "      <td>-0.098982</td>\n",
              "      <td>-0.484715</td>\n",
              "      <td>1.000000</td>\n",
              "    </tr>\n",
              "  </tbody>\n",
              "</table>\n",
              "</div>\n",
              "      <button class=\"colab-df-convert\" onclick=\"convertToInteractive('df-001db03a-d73a-4afe-a1cf-e8fd3bf7b9c7')\"\n",
              "              title=\"Convert this dataframe to an interactive table.\"\n",
              "              style=\"display:none;\">\n",
              "        \n",
              "  <svg xmlns=\"http://www.w3.org/2000/svg\" height=\"24px\"viewBox=\"0 0 24 24\"\n",
              "       width=\"24px\">\n",
              "    <path d=\"M0 0h24v24H0V0z\" fill=\"none\"/>\n",
              "    <path d=\"M18.56 5.44l.94 2.06.94-2.06 2.06-.94-2.06-.94-.94-2.06-.94 2.06-2.06.94zm-11 1L8.5 8.5l.94-2.06 2.06-.94-2.06-.94L8.5 2.5l-.94 2.06-2.06.94zm10 10l.94 2.06.94-2.06 2.06-.94-2.06-.94-.94-2.06-.94 2.06-2.06.94z\"/><path d=\"M17.41 7.96l-1.37-1.37c-.4-.4-.92-.59-1.43-.59-.52 0-1.04.2-1.43.59L10.3 9.45l-7.72 7.72c-.78.78-.78 2.05 0 2.83L4 21.41c.39.39.9.59 1.41.59.51 0 1.02-.2 1.41-.59l7.78-7.78 2.81-2.81c.8-.78.8-2.07 0-2.86zM5.41 20L4 18.59l7.72-7.72 1.47 1.35L5.41 20z\"/>\n",
              "  </svg>\n",
              "      </button>\n",
              "      \n",
              "  <style>\n",
              "    .colab-df-container {\n",
              "      display:flex;\n",
              "      flex-wrap:wrap;\n",
              "      gap: 12px;\n",
              "    }\n",
              "\n",
              "    .colab-df-convert {\n",
              "      background-color: #E8F0FE;\n",
              "      border: none;\n",
              "      border-radius: 50%;\n",
              "      cursor: pointer;\n",
              "      display: none;\n",
              "      fill: #1967D2;\n",
              "      height: 32px;\n",
              "      padding: 0 0 0 0;\n",
              "      width: 32px;\n",
              "    }\n",
              "\n",
              "    .colab-df-convert:hover {\n",
              "      background-color: #E2EBFA;\n",
              "      box-shadow: 0px 1px 2px rgba(60, 64, 67, 0.3), 0px 1px 3px 1px rgba(60, 64, 67, 0.15);\n",
              "      fill: #174EA6;\n",
              "    }\n",
              "\n",
              "    [theme=dark] .colab-df-convert {\n",
              "      background-color: #3B4455;\n",
              "      fill: #D2E3FC;\n",
              "    }\n",
              "\n",
              "    [theme=dark] .colab-df-convert:hover {\n",
              "      background-color: #434B5C;\n",
              "      box-shadow: 0px 1px 3px 1px rgba(0, 0, 0, 0.15);\n",
              "      filter: drop-shadow(0px 1px 2px rgba(0, 0, 0, 0.3));\n",
              "      fill: #FFFFFF;\n",
              "    }\n",
              "  </style>\n",
              "\n",
              "      <script>\n",
              "        const buttonEl =\n",
              "          document.querySelector('#df-001db03a-d73a-4afe-a1cf-e8fd3bf7b9c7 button.colab-df-convert');\n",
              "        buttonEl.style.display =\n",
              "          google.colab.kernel.accessAllowed ? 'block' : 'none';\n",
              "\n",
              "        async function convertToInteractive(key) {\n",
              "          const element = document.querySelector('#df-001db03a-d73a-4afe-a1cf-e8fd3bf7b9c7');\n",
              "          const dataTable =\n",
              "            await google.colab.kernel.invokeFunction('convertToInteractive',\n",
              "                                                     [key], {});\n",
              "          if (!dataTable) return;\n",
              "\n",
              "          const docLinkHtml = 'Like what you see? Visit the ' +\n",
              "            '<a target=\"_blank\" href=https://colab.research.google.com/notebooks/data_table.ipynb>data table notebook</a>'\n",
              "            + ' to learn more about interactive tables.';\n",
              "          element.innerHTML = '';\n",
              "          dataTable['output_type'] = 'display_data';\n",
              "          await google.colab.output.renderOutput(dataTable, element);\n",
              "          const docLink = document.createElement('div');\n",
              "          docLink.innerHTML = docLinkHtml;\n",
              "          element.appendChild(docLink);\n",
              "        }\n",
              "      </script>\n",
              "    </div>\n",
              "  </div>\n",
              "  "
            ]
          },
          "metadata": {},
          "execution_count": 53
        }
      ]
    },
    {
      "cell_type": "markdown",
      "source": [
        "COMPROBACIÓN DE CORRELACIÓN"
      ],
      "metadata": {
        "id": "0inDk9u0HvUI"
      }
    },
    {
      "cell_type": "code",
      "source": [
        "x.corr()"
      ],
      "metadata": {
        "colab": {
          "base_uri": "https://localhost:8080/",
          "height": 270
        },
        "id": "-J6iWe_O8gey",
        "outputId": "203fe8b2-4896-45b3-d8f0-b59073f1aa21"
      },
      "execution_count": 54,
      "outputs": [
        {
          "output_type": "execute_result",
          "data": {
            "text/plain": [
              "              EPSP       OPM      BtMr   isSmall  isMedium\n",
              "EPSP      1.000000  0.063049 -0.134837 -0.272677  0.105345\n",
              "OPM       0.063049  1.000000  0.004502  0.011292 -0.076288\n",
              "BtMr     -0.134837  0.004502  1.000000  0.358543 -0.098982\n",
              "isSmall  -0.272677  0.011292  0.358543  1.000000 -0.484715\n",
              "isMedium  0.105345 -0.076288 -0.098982 -0.484715  1.000000"
            ],
            "text/html": [
              "\n",
              "  <div id=\"df-0a3d3853-34fd-41eb-99f9-71c891d1e893\">\n",
              "    <div class=\"colab-df-container\">\n",
              "      <div>\n",
              "<style scoped>\n",
              "    .dataframe tbody tr th:only-of-type {\n",
              "        vertical-align: middle;\n",
              "    }\n",
              "\n",
              "    .dataframe tbody tr th {\n",
              "        vertical-align: top;\n",
              "    }\n",
              "\n",
              "    .dataframe thead th {\n",
              "        text-align: right;\n",
              "    }\n",
              "</style>\n",
              "<table border=\"1\" class=\"dataframe\">\n",
              "  <thead>\n",
              "    <tr style=\"text-align: right;\">\n",
              "      <th></th>\n",
              "      <th>EPSP</th>\n",
              "      <th>OPM</th>\n",
              "      <th>BtMr</th>\n",
              "      <th>isSmall</th>\n",
              "      <th>isMedium</th>\n",
              "    </tr>\n",
              "  </thead>\n",
              "  <tbody>\n",
              "    <tr>\n",
              "      <th>EPSP</th>\n",
              "      <td>1.000000</td>\n",
              "      <td>0.063049</td>\n",
              "      <td>-0.134837</td>\n",
              "      <td>-0.272677</td>\n",
              "      <td>0.105345</td>\n",
              "    </tr>\n",
              "    <tr>\n",
              "      <th>OPM</th>\n",
              "      <td>0.063049</td>\n",
              "      <td>1.000000</td>\n",
              "      <td>0.004502</td>\n",
              "      <td>0.011292</td>\n",
              "      <td>-0.076288</td>\n",
              "    </tr>\n",
              "    <tr>\n",
              "      <th>BtMr</th>\n",
              "      <td>-0.134837</td>\n",
              "      <td>0.004502</td>\n",
              "      <td>1.000000</td>\n",
              "      <td>0.358543</td>\n",
              "      <td>-0.098982</td>\n",
              "    </tr>\n",
              "    <tr>\n",
              "      <th>isSmall</th>\n",
              "      <td>-0.272677</td>\n",
              "      <td>0.011292</td>\n",
              "      <td>0.358543</td>\n",
              "      <td>1.000000</td>\n",
              "      <td>-0.484715</td>\n",
              "    </tr>\n",
              "    <tr>\n",
              "      <th>isMedium</th>\n",
              "      <td>0.105345</td>\n",
              "      <td>-0.076288</td>\n",
              "      <td>-0.098982</td>\n",
              "      <td>-0.484715</td>\n",
              "      <td>1.000000</td>\n",
              "    </tr>\n",
              "  </tbody>\n",
              "</table>\n",
              "</div>\n",
              "      <button class=\"colab-df-convert\" onclick=\"convertToInteractive('df-0a3d3853-34fd-41eb-99f9-71c891d1e893')\"\n",
              "              title=\"Convert this dataframe to an interactive table.\"\n",
              "              style=\"display:none;\">\n",
              "        \n",
              "  <svg xmlns=\"http://www.w3.org/2000/svg\" height=\"24px\"viewBox=\"0 0 24 24\"\n",
              "       width=\"24px\">\n",
              "    <path d=\"M0 0h24v24H0V0z\" fill=\"none\"/>\n",
              "    <path d=\"M18.56 5.44l.94 2.06.94-2.06 2.06-.94-2.06-.94-.94-2.06-.94 2.06-2.06.94zm-11 1L8.5 8.5l.94-2.06 2.06-.94-2.06-.94L8.5 2.5l-.94 2.06-2.06.94zm10 10l.94 2.06.94-2.06 2.06-.94-2.06-.94-.94-2.06-.94 2.06-2.06.94z\"/><path d=\"M17.41 7.96l-1.37-1.37c-.4-.4-.92-.59-1.43-.59-.52 0-1.04.2-1.43.59L10.3 9.45l-7.72 7.72c-.78.78-.78 2.05 0 2.83L4 21.41c.39.39.9.59 1.41.59.51 0 1.02-.2 1.41-.59l7.78-7.78 2.81-2.81c.8-.78.8-2.07 0-2.86zM5.41 20L4 18.59l7.72-7.72 1.47 1.35L5.41 20z\"/>\n",
              "  </svg>\n",
              "      </button>\n",
              "      \n",
              "  <style>\n",
              "    .colab-df-container {\n",
              "      display:flex;\n",
              "      flex-wrap:wrap;\n",
              "      gap: 12px;\n",
              "    }\n",
              "\n",
              "    .colab-df-convert {\n",
              "      background-color: #E8F0FE;\n",
              "      border: none;\n",
              "      border-radius: 50%;\n",
              "      cursor: pointer;\n",
              "      display: none;\n",
              "      fill: #1967D2;\n",
              "      height: 32px;\n",
              "      padding: 0 0 0 0;\n",
              "      width: 32px;\n",
              "    }\n",
              "\n",
              "    .colab-df-convert:hover {\n",
              "      background-color: #E2EBFA;\n",
              "      box-shadow: 0px 1px 2px rgba(60, 64, 67, 0.3), 0px 1px 3px 1px rgba(60, 64, 67, 0.15);\n",
              "      fill: #174EA6;\n",
              "    }\n",
              "\n",
              "    [theme=dark] .colab-df-convert {\n",
              "      background-color: #3B4455;\n",
              "      fill: #D2E3FC;\n",
              "    }\n",
              "\n",
              "    [theme=dark] .colab-df-convert:hover {\n",
              "      background-color: #434B5C;\n",
              "      box-shadow: 0px 1px 3px 1px rgba(0, 0, 0, 0.15);\n",
              "      filter: drop-shadow(0px 1px 2px rgba(0, 0, 0, 0.3));\n",
              "      fill: #FFFFFF;\n",
              "    }\n",
              "  </style>\n",
              "\n",
              "      <script>\n",
              "        const buttonEl =\n",
              "          document.querySelector('#df-0a3d3853-34fd-41eb-99f9-71c891d1e893 button.colab-df-convert');\n",
              "        buttonEl.style.display =\n",
              "          google.colab.kernel.accessAllowed ? 'block' : 'none';\n",
              "\n",
              "        async function convertToInteractive(key) {\n",
              "          const element = document.querySelector('#df-0a3d3853-34fd-41eb-99f9-71c891d1e893');\n",
              "          const dataTable =\n",
              "            await google.colab.kernel.invokeFunction('convertToInteractive',\n",
              "                                                     [key], {});\n",
              "          if (!dataTable) return;\n",
              "\n",
              "          const docLinkHtml = 'Like what you see? Visit the ' +\n",
              "            '<a target=\"_blank\" href=https://colab.research.google.com/notebooks/data_table.ipynb>data table notebook</a>'\n",
              "            + ' to learn more about interactive tables.';\n",
              "          element.innerHTML = '';\n",
              "          dataTable['output_type'] = 'display_data';\n",
              "          await google.colab.output.renderOutput(dataTable, element);\n",
              "          const docLink = document.createElement('div');\n",
              "          docLink.innerHTML = docLinkHtml;\n",
              "          element.appendChild(docLink);\n",
              "        }\n",
              "      </script>\n",
              "    </div>\n",
              "  </div>\n",
              "  "
            ]
          },
          "metadata": {},
          "execution_count": 54
        }
      ]
    },
    {
      "cell_type": "markdown",
      "source": [
        "## Interpretación Correlaciones"
      ],
      "metadata": {
        "id": "_KfUOX5AxsWd"
      }
    },
    {
      "cell_type": "markdown",
      "source": [
        "PODEMOS OBSERVAR QUE LA MATRIZ DE CORRELACIÓN ES CORRECTA, SIENDO EL BOOK-TO-MARKET RATIO CON isSmall DE MANERA PROPORCIONAL e isSmall CON isMedium DE MANERA INVERSAMENTE PROPORCIONAL LAS QUE ESTÁN MÁS RELACIONADAS DE MANERA LINEAL.\n",
        "\n"
      ],
      "metadata": {
        "id": "uiBB6b2Gxv5M"
      }
    },
    {
      "cell_type": "markdown",
      "source": [
        "# Modelo de regresión multiple 1"
      ],
      "metadata": {
        "id": "kZDCWtFhWB68"
      }
    },
    {
      "cell_type": "markdown",
      "source": [
        "## Betas sin quitar leverage points grandes"
      ],
      "metadata": {
        "id": "dhLYmDfmyX8N"
      }
    },
    {
      "cell_type": "markdown",
      "source": [
        "OBTENCIÓN DE LAS BETAS"
      ],
      "metadata": {
        "id": "9iaI8ZdDK7SE"
      }
    },
    {
      "cell_type": "code",
      "source": [
        "x['1'] = 1"
      ],
      "metadata": {
        "id": "UvRaqWDSWIq0"
      },
      "execution_count": 55,
      "outputs": []
    },
    {
      "cell_type": "code",
      "source": [
        "x = x[['1', 'EPSP', 'OPM', 'BtMr', 'isSmall', 'isMedium']]"
      ],
      "metadata": {
        "id": "-mjJ97rYWhr6"
      },
      "execution_count": 56,
      "outputs": []
    },
    {
      "cell_type": "code",
      "source": [
        "xt = x.transpose()"
      ],
      "metadata": {
        "id": "MVyx2cK4WsRm"
      },
      "execution_count": 57,
      "outputs": []
    },
    {
      "cell_type": "code",
      "source": [
        "x2 = xt.dot(x)"
      ],
      "metadata": {
        "id": "39iNZLFkXBJq"
      },
      "execution_count": 58,
      "outputs": []
    },
    {
      "cell_type": "code",
      "source": [
        "xinv = np.linalg.inv(x2)"
      ],
      "metadata": {
        "id": "PPCjCvLRYQva"
      },
      "execution_count": 59,
      "outputs": []
    },
    {
      "cell_type": "code",
      "source": [
        "aux = np.dot(xinv, xt)"
      ],
      "metadata": {
        "id": "DTFfBYdkr7hr"
      },
      "execution_count": 60,
      "outputs": []
    },
    {
      "cell_type": "markdown",
      "source": [
        "### LEVERAGE POINTS"
      ],
      "metadata": {
        "id": "AGuR990WTEke"
      }
    },
    {
      "cell_type": "markdown",
      "source": [
        "OBTENEMOS LA HAT MATRIX DE LA FÓRMULA:"
      ],
      "metadata": {
        "id": "F7i7HJluaTiL"
      }
    },
    {
      "cell_type": "markdown",
      "source": [
        "![imagen.png](data:image/png;base64,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)"
      ],
      "metadata": {
        "id": "zy_fxBfDa1WK"
      }
    },
    {
      "cell_type": "markdown",
      "source": [
        "RECORDEMOS QUE LA DIAGONAL DE LA HAT MATRIX NOS DA LOS LEVERAGE POINTS."
      ],
      "metadata": {
        "id": "mtn3Qxrba3T0"
      }
    },
    {
      "cell_type": "code",
      "source": [
        "H = x.dot(aux)"
      ],
      "metadata": {
        "id": "2STILRMZSD1I"
      },
      "execution_count": 61,
      "outputs": []
    },
    {
      "cell_type": "code",
      "source": [
        "leverage = np.diag(H)"
      ],
      "metadata": {
        "id": "IVNKcf1YS0ks"
      },
      "execution_count": 62,
      "outputs": []
    },
    {
      "cell_type": "code",
      "source": [
        "plt.scatter(leverage, y)"
      ],
      "metadata": {
        "colab": {
          "base_uri": "https://localhost:8080/",
          "height": 282
        },
        "id": "jddEDsr1-ivq",
        "outputId": "659f6c27-429c-476c-948b-f4d8fad9dbf9"
      },
      "execution_count": 63,
      "outputs": [
        {
          "output_type": "execute_result",
          "data": {
            "text/plain": [
              "<matplotlib.collections.PathCollection at 0x7fe531df4150>"
            ]
          },
          "metadata": {},
          "execution_count": 63
        },
        {
          "output_type": "display_data",
          "data": {
            "text/plain": [
              "<Figure size 432x288 with 1 Axes>"
            ],
            "image/png": "[encoded data removed]"
          },
          "metadata": {
            "needs_background": "light"
          }
        }
      ]
    },
    {
      "cell_type": "code",
      "source": [
        "leverage_points = pd.DataFrame(leverage)\n",
        "leverage_points.columns = ['leverage_points']"
      ],
      "metadata": {
        "id": "CvDJxCDE_iWi"
      },
      "execution_count": 64,
      "outputs": []
    },
    {
      "cell_type": "code",
      "source": [
        "leverage_points.describe()"
      ],
      "metadata": {
        "id": "yQI7gvNDBttX",
        "outputId": "7e742496-3f6e-4986-b5f6-bff67b243124",
        "colab": {
          "base_uri": "https://localhost:8080/",
          "height": 300
        }
      },
      "execution_count": 65,
      "outputs": [
        {
          "output_type": "execute_result",
          "data": {
            "text/plain": [
              "       leverage_points\n",
              "count       343.000000\n",
              "mean          0.017493\n",
              "std           0.060164\n",
              "min           0.008405\n",
              "25%           0.008917\n",
              "50%           0.009767\n",
              "75%           0.011590\n",
              "max           0.897394"
            ],
            "text/html": [
              "\n",
              "  <div id=\"df-7e7a7bd7-4652-45a9-b57d-84b2a18715f5\">\n",
              "    <div class=\"colab-df-container\">\n",
              "      <div>\n",
              "<style scoped>\n",
              "    .dataframe tbody tr th:only-of-type {\n",
              "        vertical-align: middle;\n",
              "    }\n",
              "\n",
              "    .dataframe tbody tr th {\n",
              "        vertical-align: top;\n",
              "    }\n",
              "\n",
              "    .dataframe thead th {\n",
              "        text-align: right;\n",
              "    }\n",
              "</style>\n",
              "<table border=\"1\" class=\"dataframe\">\n",
              "  <thead>\n",
              "    <tr style=\"text-align: right;\">\n",
              "      <th></th>\n",
              "      <th>leverage_points</th>\n",
              "    </tr>\n",
              "  </thead>\n",
              "  <tbody>\n",
              "    <tr>\n",
              "      <th>count</th>\n",
              "      <td>343.000000</td>\n",
              "    </tr>\n",
              "    <tr>\n",
              "      <th>mean</th>\n",
              "      <td>0.017493</td>\n",
              "    </tr>\n",
              "    <tr>\n",
              "      <th>std</th>\n",
              "      <td>0.060164</td>\n",
              "    </tr>\n",
              "    <tr>\n",
              "      <th>min</th>\n",
              "      <td>0.008405</td>\n",
              "    </tr>\n",
              "    <tr>\n",
              "      <th>25%</th>\n",
              "      <td>0.008917</td>\n",
              "    </tr>\n",
              "    <tr>\n",
              "      <th>50%</th>\n",
              "      <td>0.009767</td>\n",
              "    </tr>\n",
              "    <tr>\n",
              "      <th>75%</th>\n",
              "      <td>0.011590</td>\n",
              "    </tr>\n",
              "    <tr>\n",
              "      <th>max</th>\n",
              "      <td>0.897394</td>\n",
              "    </tr>\n",
              "  </tbody>\n",
              "</table>\n",
              "</div>\n",
              "      <button class=\"colab-df-convert\" onclick=\"convertToInteractive('df-7e7a7bd7-4652-45a9-b57d-84b2a18715f5')\"\n",
              "              title=\"Convert this dataframe to an interactive table.\"\n",
              "              style=\"display:none;\">\n",
              "        \n",
              "  <svg xmlns=\"http://www.w3.org/2000/svg\" height=\"24px\"viewBox=\"0 0 24 24\"\n",
              "       width=\"24px\">\n",
              "    <path d=\"M0 0h24v24H0V0z\" fill=\"none\"/>\n",
              "    <path d=\"M18.56 5.44l.94 2.06.94-2.06 2.06-.94-2.06-.94-.94-2.06-.94 2.06-2.06.94zm-11 1L8.5 8.5l.94-2.06 2.06-.94-2.06-.94L8.5 2.5l-.94 2.06-2.06.94zm10 10l.94 2.06.94-2.06 2.06-.94-2.06-.94-.94-2.06-.94 2.06-2.06.94z\"/><path d=\"M17.41 7.96l-1.37-1.37c-.4-.4-.92-.59-1.43-.59-.52 0-1.04.2-1.43.59L10.3 9.45l-7.72 7.72c-.78.78-.78 2.05 0 2.83L4 21.41c.39.39.9.59 1.41.59.51 0 1.02-.2 1.41-.59l7.78-7.78 2.81-2.81c.8-.78.8-2.07 0-2.86zM5.41 20L4 18.59l7.72-7.72 1.47 1.35L5.41 20z\"/>\n",
              "  </svg>\n",
              "      </button>\n",
              "      \n",
              "  <style>\n",
              "    .colab-df-container {\n",
              "      display:flex;\n",
              "      flex-wrap:wrap;\n",
              "      gap: 12px;\n",
              "    }\n",
              "\n",
              "    .colab-df-convert {\n",
              "      background-color: #E8F0FE;\n",
              "      border: none;\n",
              "      border-radius: 50%;\n",
              "      cursor: pointer;\n",
              "      display: none;\n",
              "      fill: #1967D2;\n",
              "      height: 32px;\n",
              "      padding: 0 0 0 0;\n",
              "      width: 32px;\n",
              "    }\n",
              "\n",
              "    .colab-df-convert:hover {\n",
              "      background-color: #E2EBFA;\n",
              "      box-shadow: 0px 1px 2px rgba(60, 64, 67, 0.3), 0px 1px 3px 1px rgba(60, 64, 67, 0.15);\n",
              "      fill: #174EA6;\n",
              "    }\n",
              "\n",
              "    [theme=dark] .colab-df-convert {\n",
              "      background-color: #3B4455;\n",
              "      fill: #D2E3FC;\n",
              "    }\n",
              "\n",
              "    [theme=dark] .colab-df-convert:hover {\n",
              "      background-color: #434B5C;\n",
              "      box-shadow: 0px 1px 3px 1px rgba(0, 0, 0, 0.15);\n",
              "      filter: drop-shadow(0px 1px 2px rgba(0, 0, 0, 0.3));\n",
              "      fill: #FFFFFF;\n",
              "    }\n",
              "  </style>\n",
              "\n",
              "      <script>\n",
              "        const buttonEl =\n",
              "          document.querySelector('#df-7e7a7bd7-4652-45a9-b57d-84b2a18715f5 button.colab-df-convert');\n",
              "        buttonEl.style.display =\n",
              "          google.colab.kernel.accessAllowed ? 'block' : 'none';\n",
              "\n",
              "        async function convertToInteractive(key) {\n",
              "          const element = document.querySelector('#df-7e7a7bd7-4652-45a9-b57d-84b2a18715f5');\n",
              "          const dataTable =\n",
              "            await google.colab.kernel.invokeFunction('convertToInteractive',\n",
              "                                                     [key], {});\n",
              "          if (!dataTable) return;\n",
              "\n",
              "          const docLinkHtml = 'Like what you see? Visit the ' +\n",
              "            '<a target=\"_blank\" href=https://colab.research.google.com/notebooks/data_table.ipynb>data table notebook</a>'\n",
              "            + ' to learn more about interactive tables.';\n",
              "          element.innerHTML = '';\n",
              "          dataTable['output_type'] = 'display_data';\n",
              "          await google.colab.output.renderOutput(dataTable, element);\n",
              "          const docLink = document.createElement('div');\n",
              "          docLink.innerHTML = docLinkHtml;\n",
              "          element.appendChild(docLink);\n",
              "        }\n",
              "      </script>\n",
              "    </div>\n",
              "  </div>\n",
              "  "
            ]
          },
          "metadata": {},
          "execution_count": 65
        }
      ]
    },
    {
      "cell_type": "markdown",
      "source": [
        "COMO SE PUEDE VER EN LA GRÁFICA TENEMOS LEVERAGE POINTS DESTACABLES POR ENCIMA DE 0.6, SIENDO LA MEDIA DE A PENAS 0.017.\n",
        "\n",
        "RECORDEMOS QUE SEGÚN LA LITERATURA, UNA DE LAS RELGAS PARA CONSIDERAR UN LEVERAGE POINT ALTO, ES QUE ESTE SEA 2 VECES MAYOR A LA MEDIA DE LEVERAGE.\n",
        "\n",
        "ES DECIR, *(2k+2)/n*, DONDE: \n",
        "* k = number of predictors (5)\n",
        "* n = number of observations (343)\n",
        "\n",
        "POR LO TANTO SERÍA:\n",
        "\n",
        "((2*5)+2)/343 = 0.03498542274052478 => cualquier número por encima de este es un high leverage.\n",
        "\n",
        "LOS DATOS DESCRITOS ANTERIORMENTE SOBREPASAN LA REGLA, POR LO TANTO ESTOS SON LOS REGISTROS QUE PODEMOS DESCARTAR, ADEMÁS DE OTROS TANTOS QUE SALDRÁN AL APLICARSE LA MASCARA."
      ],
      "metadata": {
        "id": "TX6SC2NdbELr"
      }
    },
    {
      "cell_type": "code",
      "source": [
        "lp_mask = leverage_points.copy()\n",
        "lp_mask2 = lp_mask['leverage_points'] <= 0.03498542274052478\n",
        "lp_new = lp_mask[lp_mask2]"
      ],
      "metadata": {
        "id": "VUFcNXH4p_6N"
      },
      "execution_count": 66,
      "outputs": []
    },
    {
      "cell_type": "code",
      "source": [
        "lp_new.describe()"
      ],
      "metadata": {
        "colab": {
          "base_uri": "https://localhost:8080/",
          "height": 300
        },
        "id": "Wm5QspBBqVwQ",
        "outputId": "b53b78cc-1d84-480b-eb37-a940f2d5ac92"
      },
      "execution_count": 67,
      "outputs": [
        {
          "output_type": "execute_result",
          "data": {
            "text/plain": [
              "       leverage_points\n",
              "count       331.000000\n",
              "mean          0.011099\n",
              "std           0.004192\n",
              "min           0.008405\n",
              "25%           0.008882\n",
              "50%           0.009745\n",
              "75%           0.011374\n",
              "max           0.034188"
            ],
            "text/html": [
              "\n",
              "  <div id=\"df-944491ca-4116-44e7-8126-c5f9a6cd34a8\">\n",
              "    <div class=\"colab-df-container\">\n",
              "      <div>\n",
              "<style scoped>\n",
              "    .dataframe tbody tr th:only-of-type {\n",
              "        vertical-align: middle;\n",
              "    }\n",
              "\n",
              "    .dataframe tbody tr th {\n",
              "        vertical-align: top;\n",
              "    }\n",
              "\n",
              "    .dataframe thead th {\n",
              "        text-align: right;\n",
              "    }\n",
              "</style>\n",
              "<table border=\"1\" class=\"dataframe\">\n",
              "  <thead>\n",
              "    <tr style=\"text-align: right;\">\n",
              "      <th></th>\n",
              "      <th>leverage_points</th>\n",
              "    </tr>\n",
              "  </thead>\n",
              "  <tbody>\n",
              "    <tr>\n",
              "      <th>count</th>\n",
              "      <td>331.000000</td>\n",
              "    </tr>\n",
              "    <tr>\n",
              "      <th>mean</th>\n",
              "      <td>0.011099</td>\n",
              "    </tr>\n",
              "    <tr>\n",
              "      <th>std</th>\n",
              "      <td>0.004192</td>\n",
              "    </tr>\n",
              "    <tr>\n",
              "      <th>min</th>\n",
              "      <td>0.008405</td>\n",
              "    </tr>\n",
              "    <tr>\n",
              "      <th>25%</th>\n",
              "      <td>0.008882</td>\n",
              "    </tr>\n",
              "    <tr>\n",
              "      <th>50%</th>\n",
              "      <td>0.009745</td>\n",
              "    </tr>\n",
              "    <tr>\n",
              "      <th>75%</th>\n",
              "      <td>0.011374</td>\n",
              "    </tr>\n",
              "    <tr>\n",
              "      <th>max</th>\n",
              "      <td>0.034188</td>\n",
              "    </tr>\n",
              "  </tbody>\n",
              "</table>\n",
              "</div>\n",
              "      <button class=\"colab-df-convert\" onclick=\"convertToInteractive('df-944491ca-4116-44e7-8126-c5f9a6cd34a8')\"\n",
              "              title=\"Convert this dataframe to an interactive table.\"\n",
              "              style=\"display:none;\">\n",
              "        \n",
              "  <svg xmlns=\"http://www.w3.org/2000/svg\" height=\"24px\"viewBox=\"0 0 24 24\"\n",
              "       width=\"24px\">\n",
              "    <path d=\"M0 0h24v24H0V0z\" fill=\"none\"/>\n",
              "    <path d=\"M18.56 5.44l.94 2.06.94-2.06 2.06-.94-2.06-.94-.94-2.06-.94 2.06-2.06.94zm-11 1L8.5 8.5l.94-2.06 2.06-.94-2.06-.94L8.5 2.5l-.94 2.06-2.06.94zm10 10l.94 2.06.94-2.06 2.06-.94-2.06-.94-.94-2.06-.94 2.06-2.06.94z\"/><path d=\"M17.41 7.96l-1.37-1.37c-.4-.4-.92-.59-1.43-.59-.52 0-1.04.2-1.43.59L10.3 9.45l-7.72 7.72c-.78.78-.78 2.05 0 2.83L4 21.41c.39.39.9.59 1.41.59.51 0 1.02-.2 1.41-.59l7.78-7.78 2.81-2.81c.8-.78.8-2.07 0-2.86zM5.41 20L4 18.59l7.72-7.72 1.47 1.35L5.41 20z\"/>\n",
              "  </svg>\n",
              "      </button>\n",
              "      \n",
              "  <style>\n",
              "    .colab-df-container {\n",
              "      display:flex;\n",
              "      flex-wrap:wrap;\n",
              "      gap: 12px;\n",
              "    }\n",
              "\n",
              "    .colab-df-convert {\n",
              "      background-color: #E8F0FE;\n",
              "      border: none;\n",
              "      border-radius: 50%;\n",
              "      cursor: pointer;\n",
              "      display: none;\n",
              "      fill: #1967D2;\n",
              "      height: 32px;\n",
              "      padding: 0 0 0 0;\n",
              "      width: 32px;\n",
              "    }\n",
              "\n",
              "    .colab-df-convert:hover {\n",
              "      background-color: #E2EBFA;\n",
              "      box-shadow: 0px 1px 2px rgba(60, 64, 67, 0.3), 0px 1px 3px 1px rgba(60, 64, 67, 0.15);\n",
              "      fill: #174EA6;\n",
              "    }\n",
              "\n",
              "    [theme=dark] .colab-df-convert {\n",
              "      background-color: #3B4455;\n",
              "      fill: #D2E3FC;\n",
              "    }\n",
              "\n",
              "    [theme=dark] .colab-df-convert:hover {\n",
              "      background-color: #434B5C;\n",
              "      box-shadow: 0px 1px 3px 1px rgba(0, 0, 0, 0.15);\n",
              "      filter: drop-shadow(0px 1px 2px rgba(0, 0, 0, 0.3));\n",
              "      fill: #FFFFFF;\n",
              "    }\n",
              "  </style>\n",
              "\n",
              "      <script>\n",
              "        const buttonEl =\n",
              "          document.querySelector('#df-944491ca-4116-44e7-8126-c5f9a6cd34a8 button.colab-df-convert');\n",
              "        buttonEl.style.display =\n",
              "          google.colab.kernel.accessAllowed ? 'block' : 'none';\n",
              "\n",
              "        async function convertToInteractive(key) {\n",
              "          const element = document.querySelector('#df-944491ca-4116-44e7-8126-c5f9a6cd34a8');\n",
              "          const dataTable =\n",
              "            await google.colab.kernel.invokeFunction('convertToInteractive',\n",
              "                                                     [key], {});\n",
              "          if (!dataTable) return;\n",
              "\n",
              "          const docLinkHtml = 'Like what you see? Visit the ' +\n",
              "            '<a target=\"_blank\" href=https://colab.research.google.com/notebooks/data_table.ipynb>data table notebook</a>'\n",
              "            + ' to learn more about interactive tables.';\n",
              "          element.innerHTML = '';\n",
              "          dataTable['output_type'] = 'display_data';\n",
              "          await google.colab.output.renderOutput(dataTable, element);\n",
              "          const docLink = document.createElement('div');\n",
              "          docLink.innerHTML = docLinkHtml;\n",
              "          element.appendChild(docLink);\n",
              "        }\n",
              "      </script>\n",
              "    </div>\n",
              "  </div>\n",
              "  "
            ]
          },
          "metadata": {},
          "execution_count": 67
        }
      ]
    },
    {
      "cell_type": "markdown",
      "source": [
        "SE PUEDE VER QUE FUERON DESCARTADOS 12 REGISTROS Y EL VALOR MÁXIMO ESTÁ DENTRO DE ESE RANGO, FILTRAREMOS ESTOS DATOS PARA OBTENER LAS NUEVAS BETAS."
      ],
      "metadata": {
        "id": "abvYM0KXri-9"
      }
    },
    {
      "cell_type": "markdown",
      "source": [
        "### BETAS"
      ],
      "metadata": {
        "id": "Y6F4Wo_J6qrk"
      }
    },
    {
      "cell_type": "code",
      "source": [
        "Betas = aux.dot(y)"
      ],
      "metadata": {
        "id": "htrse0c5wCbp"
      },
      "execution_count": 68,
      "outputs": []
    },
    {
      "cell_type": "code",
      "source": [
        "Betas"
      ],
      "metadata": {
        "colab": {
          "base_uri": "https://localhost:8080/"
        },
        "id": "OjDDRZe8wJIW",
        "outputId": "04f7727f-deaa-4cb4-9ff2-cf17a2035cc9"
      },
      "execution_count": 69,
      "outputs": [
        {
          "output_type": "execute_result",
          "data": {
            "text/plain": [
              "array([-0.3211842 ,  3.05225513,  0.00723722, -0.019992  , -0.2170283 ,\n",
              "       -0.13466137])"
            ]
          },
          "metadata": {},
          "execution_count": 69
        }
      ]
    },
    {
      "cell_type": "code",
      "source": [
        "B = pd.DataFrame(Betas)\n",
        "B = B.transpose()\n",
        "B.columns = ['b','EPSP','OPM', 'BtMr', 'isSmall', 'isMedium']\n",
        "B = B.transpose()"
      ],
      "metadata": {
        "id": "tg42FKFd4VEX"
      },
      "execution_count": 70,
      "outputs": []
    },
    {
      "cell_type": "code",
      "source": [
        "B"
      ],
      "metadata": {
        "colab": {
          "base_uri": "https://localhost:8080/",
          "height": 237
        },
        "id": "e_PTRNNw4vbz",
        "outputId": "799bf4ca-bb73-4a51-8537-143dcd055056"
      },
      "execution_count": 71,
      "outputs": [
        {
          "output_type": "execute_result",
          "data": {
            "text/plain": [
              "                 0\n",
              "b        -0.321184\n",
              "EPSP      3.052255\n",
              "OPM       0.007237\n",
              "BtMr     -0.019992\n",
              "isSmall  -0.217028\n",
              "isMedium -0.134661"
            ],
            "text/html": [
              "\n",
              "  <div id=\"df-126241c0-ce40-4c55-95de-bdf652d37578\">\n",
              "    <div class=\"colab-df-container\">\n",
              "      <div>\n",
              "<style scoped>\n",
              "    .dataframe tbody tr th:only-of-type {\n",
              "        vertical-align: middle;\n",
              "    }\n",
              "\n",
              "    .dataframe tbody tr th {\n",
              "        vertical-align: top;\n",
              "    }\n",
              "\n",
              "    .dataframe thead th {\n",
              "        text-align: right;\n",
              "    }\n",
              "</style>\n",
              "<table border=\"1\" class=\"dataframe\">\n",
              "  <thead>\n",
              "    <tr style=\"text-align: right;\">\n",
              "      <th></th>\n",
              "      <th>0</th>\n",
              "    </tr>\n",
              "  </thead>\n",
              "  <tbody>\n",
              "    <tr>\n",
              "      <th>b</th>\n",
              "      <td>-0.321184</td>\n",
              "    </tr>\n",
              "    <tr>\n",
              "      <th>EPSP</th>\n",
              "      <td>3.052255</td>\n",
              "    </tr>\n",
              "    <tr>\n",
              "      <th>OPM</th>\n",
              "      <td>0.007237</td>\n",
              "    </tr>\n",
              "    <tr>\n",
              "      <th>BtMr</th>\n",
              "      <td>-0.019992</td>\n",
              "    </tr>\n",
              "    <tr>\n",
              "      <th>isSmall</th>\n",
              "      <td>-0.217028</td>\n",
              "    </tr>\n",
              "    <tr>\n",
              "      <th>isMedium</th>\n",
              "      <td>-0.134661</td>\n",
              "    </tr>\n",
              "  </tbody>\n",
              "</table>\n",
              "</div>\n",
              "      <button class=\"colab-df-convert\" onclick=\"convertToInteractive('df-126241c0-ce40-4c55-95de-bdf652d37578')\"\n",
              "              title=\"Convert this dataframe to an interactive table.\"\n",
              "              style=\"display:none;\">\n",
              "        \n",
              "  <svg xmlns=\"http://www.w3.org/2000/svg\" height=\"24px\"viewBox=\"0 0 24 24\"\n",
              "       width=\"24px\">\n",
              "    <path d=\"M0 0h24v24H0V0z\" fill=\"none\"/>\n",
              "    <path d=\"M18.56 5.44l.94 2.06.94-2.06 2.06-.94-2.06-.94-.94-2.06-.94 2.06-2.06.94zm-11 1L8.5 8.5l.94-2.06 2.06-.94-2.06-.94L8.5 2.5l-.94 2.06-2.06.94zm10 10l.94 2.06.94-2.06 2.06-.94-2.06-.94-.94-2.06-.94 2.06-2.06.94z\"/><path d=\"M17.41 7.96l-1.37-1.37c-.4-.4-.92-.59-1.43-.59-.52 0-1.04.2-1.43.59L10.3 9.45l-7.72 7.72c-.78.78-.78 2.05 0 2.83L4 21.41c.39.39.9.59 1.41.59.51 0 1.02-.2 1.41-.59l7.78-7.78 2.81-2.81c.8-.78.8-2.07 0-2.86zM5.41 20L4 18.59l7.72-7.72 1.47 1.35L5.41 20z\"/>\n",
              "  </svg>\n",
              "      </button>\n",
              "      \n",
              "  <style>\n",
              "    .colab-df-container {\n",
              "      display:flex;\n",
              "      flex-wrap:wrap;\n",
              "      gap: 12px;\n",
              "    }\n",
              "\n",
              "    .colab-df-convert {\n",
              "      background-color: #E8F0FE;\n",
              "      border: none;\n",
              "      border-radius: 50%;\n",
              "      cursor: pointer;\n",
              "      display: none;\n",
              "      fill: #1967D2;\n",
              "      height: 32px;\n",
              "      padding: 0 0 0 0;\n",
              "      width: 32px;\n",
              "    }\n",
              "\n",
              "    .colab-df-convert:hover {\n",
              "      background-color: #E2EBFA;\n",
              "      box-shadow: 0px 1px 2px rgba(60, 64, 67, 0.3), 0px 1px 3px 1px rgba(60, 64, 67, 0.15);\n",
              "      fill: #174EA6;\n",
              "    }\n",
              "\n",
              "    [theme=dark] .colab-df-convert {\n",
              "      background-color: #3B4455;\n",
              "      fill: #D2E3FC;\n",
              "    }\n",
              "\n",
              "    [theme=dark] .colab-df-convert:hover {\n",
              "      background-color: #434B5C;\n",
              "      box-shadow: 0px 1px 3px 1px rgba(0, 0, 0, 0.15);\n",
              "      filter: drop-shadow(0px 1px 2px rgba(0, 0, 0, 0.3));\n",
              "      fill: #FFFFFF;\n",
              "    }\n",
              "  </style>\n",
              "\n",
              "      <script>\n",
              "        const buttonEl =\n",
              "          document.querySelector('#df-126241c0-ce40-4c55-95de-bdf652d37578 button.colab-df-convert');\n",
              "        buttonEl.style.display =\n",
              "          google.colab.kernel.accessAllowed ? 'block' : 'none';\n",
              "\n",
              "        async function convertToInteractive(key) {\n",
              "          const element = document.querySelector('#df-126241c0-ce40-4c55-95de-bdf652d37578');\n",
              "          const dataTable =\n",
              "            await google.colab.kernel.invokeFunction('convertToInteractive',\n",
              "                                                     [key], {});\n",
              "          if (!dataTable) return;\n",
              "\n",
              "          const docLinkHtml = 'Like what you see? Visit the ' +\n",
              "            '<a target=\"_blank\" href=https://colab.research.google.com/notebooks/data_table.ipynb>data table notebook</a>'\n",
              "            + ' to learn more about interactive tables.';\n",
              "          element.innerHTML = '';\n",
              "          dataTable['output_type'] = 'display_data';\n",
              "          await google.colab.output.renderOutput(dataTable, element);\n",
              "          const docLink = document.createElement('div');\n",
              "          docLink.innerHTML = docLinkHtml;\n",
              "          element.appendChild(docLink);\n",
              "        }\n",
              "      </script>\n",
              "    </div>\n",
              "  </div>\n",
              "  "
            ]
          },
          "metadata": {},
          "execution_count": 71
        }
      ]
    },
    {
      "cell_type": "markdown",
      "source": [
        "## Predicción"
      ],
      "metadata": {
        "id": "CGX6l8RmdM2R"
      }
    },
    {
      "cell_type": "code",
      "source": [
        "import matplotlib.pyplot as plt"
      ],
      "metadata": {
        "id": "VqOwT0omdM2T"
      },
      "execution_count": 72,
      "outputs": []
    },
    {
      "cell_type": "code",
      "source": [
        "XB = x.dot(Betas)"
      ],
      "metadata": {
        "id": "Vp6dOFBCdM2W"
      },
      "execution_count": 73,
      "outputs": []
    },
    {
      "cell_type": "code",
      "source": [
        "ym = pd.DataFrame(y)"
      ],
      "metadata": {
        "id": "Q6QYs-FZdM2Y"
      },
      "execution_count": 74,
      "outputs": []
    },
    {
      "cell_type": "markdown",
      "source": [
        "## MSE"
      ],
      "metadata": {
        "id": "qaQ9O6mfdWgz"
      }
    },
    {
      "cell_type": "code",
      "source": [
        "y_pred = x * Betas"
      ],
      "metadata": {
        "id": "DxsnN5YjdWg0"
      },
      "execution_count": 75,
      "outputs": []
    },
    {
      "cell_type": "code",
      "source": [
        "y_pred"
      ],
      "metadata": {
        "colab": {
          "base_uri": "https://localhost:8080/",
          "height": 424
        },
        "outputId": "95330a47-544f-490b-b06e-cbd9742fa1a4",
        "id": "CBNPuTsodWg1"
      },
      "execution_count": 76,
      "outputs": [
        {
          "output_type": "execute_result",
          "data": {
            "text/plain": [
              "            1      EPSP       OPM      BtMr   isSmall  isMedium\n",
              "0   -0.321184  0.075348  0.000396 -0.010749 -0.000000 -0.134661\n",
              "1   -0.321184 -0.000527 -0.000025 -0.000870 -0.000000 -0.000000\n",
              "3   -0.321184 -0.089705 -0.002301 -0.014551 -0.000000 -0.134661\n",
              "4   -0.321184  0.011684  0.000224 -0.004879 -0.000000 -0.000000\n",
              "5   -0.321184 -0.038900 -0.002043 -0.004610 -0.000000 -0.134661\n",
              "..        ...       ...       ...       ...       ...       ...\n",
              "370 -0.321184  0.009406  0.000453 -0.001490 -0.000000 -0.134661\n",
              "371 -0.321184  0.042707  0.001701 -0.003295 -0.000000 -0.000000\n",
              "372 -0.321184 -0.009004 -0.002377 -0.000317 -0.000000 -0.000000\n",
              "373 -0.321184 -0.812779 -0.000849 -0.008065 -0.217028 -0.000000\n",
              "374 -0.321184 -0.738598 -0.096097 -0.023081 -0.217028 -0.000000\n",
              "\n",
              "[343 rows x 6 columns]"
            ],
            "text/html": [
              "\n",
              "  <div id=\"df-b5e63e3e-5b1c-4a2f-9067-f7c62184b57f\">\n",
              "    <div class=\"colab-df-container\">\n",
              "      <div>\n",
              "<style scoped>\n",
              "    .dataframe tbody tr th:only-of-type {\n",
              "        vertical-align: middle;\n",
              "    }\n",
              "\n",
              "    .dataframe tbody tr th {\n",
              "        vertical-align: top;\n",
              "    }\n",
              "\n",
              "    .dataframe thead th {\n",
              "        text-align: right;\n",
              "    }\n",
              "</style>\n",
              "<table border=\"1\" class=\"dataframe\">\n",
              "  <thead>\n",
              "    <tr style=\"text-align: right;\">\n",
              "      <th></th>\n",
              "      <th>1</th>\n",
              "      <th>EPSP</th>\n",
              "      <th>OPM</th>\n",
              "      <th>BtMr</th>\n",
              "      <th>isSmall</th>\n",
              "      <th>isMedium</th>\n",
              "    </tr>\n",
              "  </thead>\n",
              "  <tbody>\n",
              "    <tr>\n",
              "      <th>0</th>\n",
              "      <td>-0.321184</td>\n",
              "      <td>0.075348</td>\n",
              "      <td>0.000396</td>\n",
              "      <td>-0.010749</td>\n",
              "      <td>-0.000000</td>\n",
              "      <td>-0.134661</td>\n",
              "    </tr>\n",
              "    <tr>\n",
              "      <th>1</th>\n",
              "      <td>-0.321184</td>\n",
              "      <td>-0.000527</td>\n",
              "      <td>-0.000025</td>\n",
              "      <td>-0.000870</td>\n",
              "      <td>-0.000000</td>\n",
              "      <td>-0.000000</td>\n",
              "    </tr>\n",
              "    <tr>\n",
              "      <th>3</th>\n",
              "      <td>-0.321184</td>\n",
              "      <td>-0.089705</td>\n",
              "      <td>-0.002301</td>\n",
              "      <td>-0.014551</td>\n",
              "      <td>-0.000000</td>\n",
              "      <td>-0.134661</td>\n",
              "    </tr>\n",
              "    <tr>\n",
              "      <th>4</th>\n",
              "      <td>-0.321184</td>\n",
              "      <td>0.011684</td>\n",
              "      <td>0.000224</td>\n",
              "      <td>-0.004879</td>\n",
              "      <td>-0.000000</td>\n",
              "      <td>-0.000000</td>\n",
              "    </tr>\n",
              "    <tr>\n",
              "      <th>5</th>\n",
              "      <td>-0.321184</td>\n",
              "      <td>-0.038900</td>\n",
              "      <td>-0.002043</td>\n",
              "      <td>-0.004610</td>\n",
              "      <td>-0.000000</td>\n",
              "      <td>-0.134661</td>\n",
              "    </tr>\n",
              "    <tr>\n",
              "      <th>...</th>\n",
              "      <td>...</td>\n",
              "      <td>...</td>\n",
              "      <td>...</td>\n",
              "      <td>...</td>\n",
              "      <td>...</td>\n",
              "      <td>...</td>\n",
              "    </tr>\n",
              "    <tr>\n",
              "      <th>370</th>\n",
              "      <td>-0.321184</td>\n",
              "      <td>0.009406</td>\n",
              "      <td>0.000453</td>\n",
              "      <td>-0.001490</td>\n",
              "      <td>-0.000000</td>\n",
              "      <td>-0.134661</td>\n",
              "    </tr>\n",
              "    <tr>\n",
              "      <th>371</th>\n",
              "      <td>-0.321184</td>\n",
              "      <td>0.042707</td>\n",
              "      <td>0.001701</td>\n",
              "      <td>-0.003295</td>\n",
              "      <td>-0.000000</td>\n",
              "      <td>-0.000000</td>\n",
              "    </tr>\n",
              "    <tr>\n",
              "      <th>372</th>\n",
              "      <td>-0.321184</td>\n",
              "      <td>-0.009004</td>\n",
              "      <td>-0.002377</td>\n",
              "      <td>-0.000317</td>\n",
              "      <td>-0.000000</td>\n",
              "      <td>-0.000000</td>\n",
              "    </tr>\n",
              "    <tr>\n",
              "      <th>373</th>\n",
              "      <td>-0.321184</td>\n",
              "      <td>-0.812779</td>\n",
              "      <td>-0.000849</td>\n",
              "      <td>-0.008065</td>\n",
              "      <td>-0.217028</td>\n",
              "      <td>-0.000000</td>\n",
              "    </tr>\n",
              "    <tr>\n",
              "      <th>374</th>\n",
              "      <td>-0.321184</td>\n",
              "      <td>-0.738598</td>\n",
              "      <td>-0.096097</td>\n",
              "      <td>-0.023081</td>\n",
              "      <td>-0.217028</td>\n",
              "      <td>-0.000000</td>\n",
              "    </tr>\n",
              "  </tbody>\n",
              "</table>\n",
              "<p>343 rows × 6 columns</p>\n",
              "</div>\n",
              "      <button class=\"colab-df-convert\" onclick=\"convertToInteractive('df-b5e63e3e-5b1c-4a2f-9067-f7c62184b57f')\"\n",
              "              title=\"Convert this dataframe to an interactive table.\"\n",
              "              style=\"display:none;\">\n",
              "        \n",
              "  <svg xmlns=\"http://www.w3.org/2000/svg\" height=\"24px\"viewBox=\"0 0 24 24\"\n",
              "       width=\"24px\">\n",
              "    <path d=\"M0 0h24v24H0V0z\" fill=\"none\"/>\n",
              "    <path d=\"M18.56 5.44l.94 2.06.94-2.06 2.06-.94-2.06-.94-.94-2.06-.94 2.06-2.06.94zm-11 1L8.5 8.5l.94-2.06 2.06-.94-2.06-.94L8.5 2.5l-.94 2.06-2.06.94zm10 10l.94 2.06.94-2.06 2.06-.94-2.06-.94-.94-2.06-.94 2.06-2.06.94z\"/><path d=\"M17.41 7.96l-1.37-1.37c-.4-.4-.92-.59-1.43-.59-.52 0-1.04.2-1.43.59L10.3 9.45l-7.72 7.72c-.78.78-.78 2.05 0 2.83L4 21.41c.39.39.9.59 1.41.59.51 0 1.02-.2 1.41-.59l7.78-7.78 2.81-2.81c.8-.78.8-2.07 0-2.86zM5.41 20L4 18.59l7.72-7.72 1.47 1.35L5.41 20z\"/>\n",
              "  </svg>\n",
              "      </button>\n",
              "      \n",
              "  <style>\n",
              "    .colab-df-container {\n",
              "      display:flex;\n",
              "      flex-wrap:wrap;\n",
              "      gap: 12px;\n",
              "    }\n",
              "\n",
              "    .colab-df-convert {\n",
              "      background-color: #E8F0FE;\n",
              "      border: none;\n",
              "      border-radius: 50%;\n",
              "      cursor: pointer;\n",
              "      display: none;\n",
              "      fill: #1967D2;\n",
              "      height: 32px;\n",
              "      padding: 0 0 0 0;\n",
              "      width: 32px;\n",
              "    }\n",
              "\n",
              "    .colab-df-convert:hover {\n",
              "      background-color: #E2EBFA;\n",
              "      box-shadow: 0px 1px 2px rgba(60, 64, 67, 0.3), 0px 1px 3px 1px rgba(60, 64, 67, 0.15);\n",
              "      fill: #174EA6;\n",
              "    }\n",
              "\n",
              "    [theme=dark] .colab-df-convert {\n",
              "      background-color: #3B4455;\n",
              "      fill: #D2E3FC;\n",
              "    }\n",
              "\n",
              "    [theme=dark] .colab-df-convert:hover {\n",
              "      background-color: #434B5C;\n",
              "      box-shadow: 0px 1px 3px 1px rgba(0, 0, 0, 0.15);\n",
              "      filter: drop-shadow(0px 1px 2px rgba(0, 0, 0, 0.3));\n",
              "      fill: #FFFFFF;\n",
              "    }\n",
              "  </style>\n",
              "\n",
              "      <script>\n",
              "        const buttonEl =\n",
              "          document.querySelector('#df-b5e63e3e-5b1c-4a2f-9067-f7c62184b57f button.colab-df-convert');\n",
              "        buttonEl.style.display =\n",
              "          google.colab.kernel.accessAllowed ? 'block' : 'none';\n",
              "\n",
              "        async function convertToInteractive(key) {\n",
              "          const element = document.querySelector('#df-b5e63e3e-5b1c-4a2f-9067-f7c62184b57f');\n",
              "          const dataTable =\n",
              "            await google.colab.kernel.invokeFunction('convertToInteractive',\n",
              "                                                     [key], {});\n",
              "          if (!dataTable) return;\n",
              "\n",
              "          const docLinkHtml = 'Like what you see? Visit the ' +\n",
              "            '<a target=\"_blank\" href=https://colab.research.google.com/notebooks/data_table.ipynb>data table notebook</a>'\n",
              "            + ' to learn more about interactive tables.';\n",
              "          element.innerHTML = '';\n",
              "          dataTable['output_type'] = 'display_data';\n",
              "          await google.colab.output.renderOutput(dataTable, element);\n",
              "          const docLink = document.createElement('div');\n",
              "          docLink.innerHTML = docLinkHtml;\n",
              "          element.appendChild(docLink);\n",
              "        }\n",
              "      </script>\n",
              "    </div>\n",
              "  </div>\n",
              "  "
            ]
          },
          "metadata": {},
          "execution_count": 76
        }
      ]
    },
    {
      "cell_type": "code",
      "source": [
        "y_pred['sum'] = y_pred['1'] + y_pred['isSmall'] + y_pred['isMedium'] + y_pred['EPSP'] + y_pred['OPM'] + y_pred['BtMr']"
      ],
      "metadata": {
        "id": "CTscXGxkdWg3"
      },
      "execution_count": 77,
      "outputs": []
    },
    {
      "cell_type": "code",
      "source": [
        "y_pred"
      ],
      "metadata": {
        "colab": {
          "base_uri": "https://localhost:8080/",
          "height": 424
        },
        "outputId": "e7e4b4ef-161d-4177-920f-060a644807e7",
        "id": "FSD2YiQBdWg4"
      },
      "execution_count": 78,
      "outputs": [
        {
          "output_type": "execute_result",
          "data": {
            "text/plain": [
              "            1      EPSP       OPM      BtMr   isSmall  isMedium       sum\n",
              "0   -0.321184  0.075348  0.000396 -0.010749 -0.000000 -0.134661 -0.390850\n",
              "1   -0.321184 -0.000527 -0.000025 -0.000870 -0.000000 -0.000000 -0.322606\n",
              "3   -0.321184 -0.089705 -0.002301 -0.014551 -0.000000 -0.134661 -0.562403\n",
              "4   -0.321184  0.011684  0.000224 -0.004879 -0.000000 -0.000000 -0.314156\n",
              "5   -0.321184 -0.038900 -0.002043 -0.004610 -0.000000 -0.134661 -0.501398\n",
              "..        ...       ...       ...       ...       ...       ...       ...\n",
              "370 -0.321184  0.009406  0.000453 -0.001490 -0.000000 -0.134661 -0.447477\n",
              "371 -0.321184  0.042707  0.001701 -0.003295 -0.000000 -0.000000 -0.280072\n",
              "372 -0.321184 -0.009004 -0.002377 -0.000317 -0.000000 -0.000000 -0.332882\n",
              "373 -0.321184 -0.812779 -0.000849 -0.008065 -0.217028 -0.000000 -1.359906\n",
              "374 -0.321184 -0.738598 -0.096097 -0.023081 -0.217028 -0.000000 -1.395989\n",
              "\n",
              "[343 rows x 7 columns]"
            ],
            "text/html": [
              "\n",
              "  <div id=\"df-5d6f8748-4eaa-4751-bdce-c07006809f38\">\n",
              "    <div class=\"colab-df-container\">\n",
              "      <div>\n",
              "<style scoped>\n",
              "    .dataframe tbody tr th:only-of-type {\n",
              "        vertical-align: middle;\n",
              "    }\n",
              "\n",
              "    .dataframe tbody tr th {\n",
              "        vertical-align: top;\n",
              "    }\n",
              "\n",
              "    .dataframe thead th {\n",
              "        text-align: right;\n",
              "    }\n",
              "</style>\n",
              "<table border=\"1\" class=\"dataframe\">\n",
              "  <thead>\n",
              "    <tr style=\"text-align: right;\">\n",
              "      <th></th>\n",
              "      <th>1</th>\n",
              "      <th>EPSP</th>\n",
              "      <th>OPM</th>\n",
              "      <th>BtMr</th>\n",
              "      <th>isSmall</th>\n",
              "      <th>isMedium</th>\n",
              "      <th>sum</th>\n",
              "    </tr>\n",
              "  </thead>\n",
              "  <tbody>\n",
              "    <tr>\n",
              "      <th>0</th>\n",
              "      <td>-0.321184</td>\n",
              "      <td>0.075348</td>\n",
              "      <td>0.000396</td>\n",
              "      <td>-0.010749</td>\n",
              "      <td>-0.000000</td>\n",
              "      <td>-0.134661</td>\n",
              "      <td>-0.390850</td>\n",
              "    </tr>\n",
              "    <tr>\n",
              "      <th>1</th>\n",
              "      <td>-0.321184</td>\n",
              "      <td>-0.000527</td>\n",
              "      <td>-0.000025</td>\n",
              "      <td>-0.000870</td>\n",
              "      <td>-0.000000</td>\n",
              "      <td>-0.000000</td>\n",
              "      <td>-0.322606</td>\n",
              "    </tr>\n",
              "    <tr>\n",
              "      <th>3</th>\n",
              "      <td>-0.321184</td>\n",
              "      <td>-0.089705</td>\n",
              "      <td>-0.002301</td>\n",
              "      <td>-0.014551</td>\n",
              "      <td>-0.000000</td>\n",
              "      <td>-0.134661</td>\n",
              "      <td>-0.562403</td>\n",
              "    </tr>\n",
              "    <tr>\n",
              "      <th>4</th>\n",
              "      <td>-0.321184</td>\n",
              "      <td>0.011684</td>\n",
              "      <td>0.000224</td>\n",
              "      <td>-0.004879</td>\n",
              "      <td>-0.000000</td>\n",
              "      <td>-0.000000</td>\n",
              "      <td>-0.314156</td>\n",
              "    </tr>\n",
              "    <tr>\n",
              "      <th>5</th>\n",
              "      <td>-0.321184</td>\n",
              "      <td>-0.038900</td>\n",
              "      <td>-0.002043</td>\n",
              "      <td>-0.004610</td>\n",
              "      <td>-0.000000</td>\n",
              "      <td>-0.134661</td>\n",
              "      <td>-0.501398</td>\n",
              "    </tr>\n",
              "    <tr>\n",
              "      <th>...</th>\n",
              "      <td>...</td>\n",
              "      <td>...</td>\n",
              "      <td>...</td>\n",
              "      <td>...</td>\n",
              "      <td>...</td>\n",
              "      <td>...</td>\n",
              "      <td>...</td>\n",
              "    </tr>\n",
              "    <tr>\n",
              "      <th>370</th>\n",
              "      <td>-0.321184</td>\n",
              "      <td>0.009406</td>\n",
              "      <td>0.000453</td>\n",
              "      <td>-0.001490</td>\n",
              "      <td>-0.000000</td>\n",
              "      <td>-0.134661</td>\n",
              "      <td>-0.447477</td>\n",
              "    </tr>\n",
              "    <tr>\n",
              "      <th>371</th>\n",
              "      <td>-0.321184</td>\n",
              "      <td>0.042707</td>\n",
              "      <td>0.001701</td>\n",
              "      <td>-0.003295</td>\n",
              "      <td>-0.000000</td>\n",
              "      <td>-0.000000</td>\n",
              "      <td>-0.280072</td>\n",
              "    </tr>\n",
              "    <tr>\n",
              "      <th>372</th>\n",
              "      <td>-0.321184</td>\n",
              "      <td>-0.009004</td>\n",
              "      <td>-0.002377</td>\n",
              "      <td>-0.000317</td>\n",
              "      <td>-0.000000</td>\n",
              "      <td>-0.000000</td>\n",
              "      <td>-0.332882</td>\n",
              "    </tr>\n",
              "    <tr>\n",
              "      <th>373</th>\n",
              "      <td>-0.321184</td>\n",
              "      <td>-0.812779</td>\n",
              "      <td>-0.000849</td>\n",
              "      <td>-0.008065</td>\n",
              "      <td>-0.217028</td>\n",
              "      <td>-0.000000</td>\n",
              "      <td>-1.359906</td>\n",
              "    </tr>\n",
              "    <tr>\n",
              "      <th>374</th>\n",
              "      <td>-0.321184</td>\n",
              "      <td>-0.738598</td>\n",
              "      <td>-0.096097</td>\n",
              "      <td>-0.023081</td>\n",
              "      <td>-0.217028</td>\n",
              "      <td>-0.000000</td>\n",
              "      <td>-1.395989</td>\n",
              "    </tr>\n",
              "  </tbody>\n",
              "</table>\n",
              "<p>343 rows × 7 columns</p>\n",
              "</div>\n",
              "      <button class=\"colab-df-convert\" onclick=\"convertToInteractive('df-5d6f8748-4eaa-4751-bdce-c07006809f38')\"\n",
              "              title=\"Convert this dataframe to an interactive table.\"\n",
              "              style=\"display:none;\">\n",
              "        \n",
              "  <svg xmlns=\"http://www.w3.org/2000/svg\" height=\"24px\"viewBox=\"0 0 24 24\"\n",
              "       width=\"24px\">\n",
              "    <path d=\"M0 0h24v24H0V0z\" fill=\"none\"/>\n",
              "    <path d=\"M18.56 5.44l.94 2.06.94-2.06 2.06-.94-2.06-.94-.94-2.06-.94 2.06-2.06.94zm-11 1L8.5 8.5l.94-2.06 2.06-.94-2.06-.94L8.5 2.5l-.94 2.06-2.06.94zm10 10l.94 2.06.94-2.06 2.06-.94-2.06-.94-.94-2.06-.94 2.06-2.06.94z\"/><path d=\"M17.41 7.96l-1.37-1.37c-.4-.4-.92-.59-1.43-.59-.52 0-1.04.2-1.43.59L10.3 9.45l-7.72 7.72c-.78.78-.78 2.05 0 2.83L4 21.41c.39.39.9.59 1.41.59.51 0 1.02-.2 1.41-.59l7.78-7.78 2.81-2.81c.8-.78.8-2.07 0-2.86zM5.41 20L4 18.59l7.72-7.72 1.47 1.35L5.41 20z\"/>\n",
              "  </svg>\n",
              "      </button>\n",
              "      \n",
              "  <style>\n",
              "    .colab-df-container {\n",
              "      display:flex;\n",
              "      flex-wrap:wrap;\n",
              "      gap: 12px;\n",
              "    }\n",
              "\n",
              "    .colab-df-convert {\n",
              "      background-color: #E8F0FE;\n",
              "      border: none;\n",
              "      border-radius: 50%;\n",
              "      cursor: pointer;\n",
              "      display: none;\n",
              "      fill: #1967D2;\n",
              "      height: 32px;\n",
              "      padding: 0 0 0 0;\n",
              "      width: 32px;\n",
              "    }\n",
              "\n",
              "    .colab-df-convert:hover {\n",
              "      background-color: #E2EBFA;\n",
              "      box-shadow: 0px 1px 2px rgba(60, 64, 67, 0.3), 0px 1px 3px 1px rgba(60, 64, 67, 0.15);\n",
              "      fill: #174EA6;\n",
              "    }\n",
              "\n",
              "    [theme=dark] .colab-df-convert {\n",
              "      background-color: #3B4455;\n",
              "      fill: #D2E3FC;\n",
              "    }\n",
              "\n",
              "    [theme=dark] .colab-df-convert:hover {\n",
              "      background-color: #434B5C;\n",
              "      box-shadow: 0px 1px 3px 1px rgba(0, 0, 0, 0.15);\n",
              "      filter: drop-shadow(0px 1px 2px rgba(0, 0, 0, 0.3));\n",
              "      fill: #FFFFFF;\n",
              "    }\n",
              "  </style>\n",
              "\n",
              "      <script>\n",
              "        const buttonEl =\n",
              "          document.querySelector('#df-5d6f8748-4eaa-4751-bdce-c07006809f38 button.colab-df-convert');\n",
              "        buttonEl.style.display =\n",
              "          google.colab.kernel.accessAllowed ? 'block' : 'none';\n",
              "\n",
              "        async function convertToInteractive(key) {\n",
              "          const element = document.querySelector('#df-5d6f8748-4eaa-4751-bdce-c07006809f38');\n",
              "          const dataTable =\n",
              "            await google.colab.kernel.invokeFunction('convertToInteractive',\n",
              "                                                     [key], {});\n",
              "          if (!dataTable) return;\n",
              "\n",
              "          const docLinkHtml = 'Like what you see? Visit the ' +\n",
              "            '<a target=\"_blank\" href=https://colab.research.google.com/notebooks/data_table.ipynb>data table notebook</a>'\n",
              "            + ' to learn more about interactive tables.';\n",
              "          element.innerHTML = '';\n",
              "          dataTable['output_type'] = 'display_data';\n",
              "          await google.colab.output.renderOutput(dataTable, element);\n",
              "          const docLink = document.createElement('div');\n",
              "          docLink.innerHTML = docLinkHtml;\n",
              "          element.appendChild(docLink);\n",
              "        }\n",
              "      </script>\n",
              "    </div>\n",
              "  </div>\n",
              "  "
            ]
          },
          "metadata": {},
          "execution_count": 78
        }
      ]
    },
    {
      "cell_type": "code",
      "source": [
        "E = y - y_pred['sum']"
      ],
      "metadata": {
        "id": "jrhcozBedWg5"
      },
      "execution_count": 79,
      "outputs": []
    },
    {
      "cell_type": "code",
      "source": [
        "aux = E * E"
      ],
      "metadata": {
        "id": "gi_TO-8AdWg6"
      },
      "execution_count": 80,
      "outputs": []
    },
    {
      "cell_type": "code",
      "source": [
        "aux"
      ],
      "metadata": {
        "colab": {
          "base_uri": "https://localhost:8080/"
        },
        "outputId": "7a36aac2-d72e-4df4-8575-76bdc7c8865a",
        "id": "4bGNyPvwdWg6"
      },
      "execution_count": 81,
      "outputs": [
        {
          "output_type": "execute_result",
          "data": {
            "text/plain": [
              "0      0.146381\n",
              "1      0.048054\n",
              "3      2.047263\n",
              "4      0.120854\n",
              "5      0.747237\n",
              "         ...   \n",
              "370    0.005568\n",
              "371    0.993166\n",
              "372    0.001247\n",
              "373    0.142802\n",
              "374    4.351922\n",
              "Length: 343, dtype: float64"
            ]
          },
          "metadata": {},
          "execution_count": 81
        }
      ]
    },
    {
      "cell_type": "code",
      "source": [
        "MSE = aux.sum()/343"
      ],
      "metadata": {
        "id": "prqGsZVNdWg7"
      },
      "execution_count": 82,
      "outputs": []
    },
    {
      "cell_type": "code",
      "source": [
        "MSE"
      ],
      "metadata": {
        "colab": {
          "base_uri": "https://localhost:8080/"
        },
        "outputId": "62b09328-3032-4273-b0ed-9b597f26183e",
        "id": "sk7nXGardWg9"
      },
      "execution_count": 83,
      "outputs": [
        {
          "output_type": "execute_result",
          "data": {
            "text/plain": [
              "0.28578203477433484"
            ]
          },
          "metadata": {},
          "execution_count": 83
        }
      ]
    },
    {
      "cell_type": "markdown",
      "source": [
        "## Multicolinealidad"
      ],
      "metadata": {
        "id": "lDABCINydfY4"
      }
    },
    {
      "cell_type": "code",
      "source": [
        "from statsmodels.stats.outliers_influence import variance_inflation_factor\n",
        "vif_data = pd.DataFrame()\n",
        "vif_data[\"feature\"] = x.columns\n",
        "  \n",
        "# calculating VIF for each feature\n",
        "vif_data[\"VIF\"] = [variance_inflation_factor(x.values, i)\n",
        "                          for i in range(len(x.columns))]\n",
        "\n",
        "print(vif_data)"
      ],
      "metadata": {
        "colab": {
          "base_uri": "https://localhost:8080/"
        },
        "outputId": "f561ec89-93e4-494f-8aa4-e4dacb45d48b",
        "id": "4F_CRqlfdfY6"
      },
      "execution_count": 84,
      "outputs": [
        {
          "output_type": "stream",
          "name": "stdout",
          "text": [
            "    feature       VIF\n",
            "0         1  3.054836\n",
            "1      EPSP  1.087882\n",
            "2       OPM  1.011299\n",
            "3      BtMr  1.159081\n",
            "4   isSmall  1.579139\n",
            "5  isMedium  1.327638\n"
          ]
        }
      ]
    },
    {
      "cell_type": "markdown",
      "source": [
        "TODAS LAS VARIABLES CUENTAN CON UN VIF MENOR O LIGERAMENTE CERCANO AL 1.5, POR LO QUE PODEMOS AFIRMAR QUE NO HAY MULTICOLINEALIDAD ENTRE LOS COEFICIENTES. ES DECIR, NO TIENEN CORRELACIÓN ENTRE SÍ, POR LO QUE SON APTAS PARA EL MODELO."
      ],
      "metadata": {
        "id": "01OhTo-ihdhG"
      }
    },
    {
      "cell_type": "markdown",
      "source": [
        "## Modelo"
      ],
      "metadata": {
        "id": "cMuxmUNBdbs9"
      }
    },
    {
      "cell_type": "code",
      "source": [
        "import statsmodels.api as sm\n",
        "import statsmodels.formula.api as smf"
      ],
      "metadata": {
        "id": "PmotAVWCdbs_"
      },
      "execution_count": 85,
      "outputs": []
    },
    {
      "cell_type": "code",
      "source": [
        "import seaborn as sns\n",
        "\n",
        "model = sm.OLS(y, sm.add_constant(x)).fit()\n",
        "print(model.summary())"
      ],
      "metadata": {
        "colab": {
          "base_uri": "https://localhost:8080/"
        },
        "id": "jQrrUZZz136D",
        "outputId": "3fdebc80-3a39-42e0-df90-1b6fbbbd1f42"
      },
      "execution_count": 86,
      "outputs": [
        {
          "output_type": "stream",
          "name": "stdout",
          "text": [
            "                            OLS Regression Results                            \n",
            "==============================================================================\n",
            "Dep. Variable:                      R   R-squared:                       0.296\n",
            "Model:                            OLS   Adj. R-squared:                  0.286\n",
            "Method:                 Least Squares   F-statistic:                     28.39\n",
            "Date:                Fri, 25 Nov 2022   Prob (F-statistic):           5.17e-24\n",
            "Time:                        20:42:15   Log-Likelihood:                -271.89\n",
            "No. Observations:                 343   AIC:                             555.8\n",
            "Df Residuals:                     337   BIC:                             578.8\n",
            "Df Model:                           5                                         \n",
            "Covariance Type:            nonrobust                                         \n",
            "==============================================================================\n",
            "                 coef    std err          t      P>|t|      [0.025      0.975]\n",
            "------------------------------------------------------------------------------\n",
            "1             -0.3212      0.051     -6.310      0.000      -0.421      -0.221\n",
            "EPSP           3.0523      0.328      9.293      0.000       2.406       3.698\n",
            "OPM            0.0072      0.002      4.030      0.000       0.004       0.011\n",
            "BtMr          -0.0200      0.061     -0.325      0.745      -0.141       0.101\n",
            "isSmall       -0.2170      0.078     -2.800      0.005      -0.370      -0.065\n",
            "isMedium      -0.1347      0.072     -1.869      0.063      -0.276       0.007\n",
            "==============================================================================\n",
            "Omnibus:                       33.122   Durbin-Watson:                   1.922\n",
            "Prob(Omnibus):                  0.000   Jarque-Bera (JB):               71.360\n",
            "Skew:                          -0.510   Prob(JB):                     3.19e-16\n",
            "Kurtosis:                       4.988   Cond. No.                         185.\n",
            "==============================================================================\n",
            "\n",
            "Notes:\n",
            "[1] Standard Errors assume that the covariance matrix of the errors is correctly specified.\n"
          ]
        },
        {
          "output_type": "stream",
          "name": "stderr",
          "text": [
            "/usr/local/lib/python3.7/dist-packages/statsmodels/tsa/tsatools.py:142: FutureWarning: In a future version of pandas all arguments of concat except for the argument 'objs' will be keyword-only\n",
            "  x = pd.concat(x[::order], 1)\n"
          ]
        }
      ]
    },
    {
      "cell_type": "markdown",
      "source": [
        "### Leverage Points y Outliers"
      ],
      "metadata": {
        "id": "OYn6DGC47Y1h"
      }
    },
    {
      "cell_type": "code",
      "source": [
        "influence = model.get_influence()\n",
        "inf_sum = influence.summary_frame()\n",
        "\n",
        "print(inf_sum.head())\n",
        "\n",
        "student_resid = influence.resid_studentized_external\n",
        "(cooks, p) = influence.cooks_distance\n",
        "(dffits, p) = influence.dffits\n",
        "leverage = influence.hat_matrix_diag"
      ],
      "metadata": {
        "colab": {
          "base_uri": "https://localhost:8080/"
        },
        "id": "KwwYoNdA7eGb",
        "outputId": "798d0f02-8422-45e8-fc30-36d384171eb1"
      },
      "execution_count": 87,
      "outputs": [
        {
          "output_type": "stream",
          "name": "stdout",
          "text": [
            "      dfb_1  dfb_EPSP   dfb_OPM  dfb_BtMr  dfb_isSmall  dfb_isMedium  \\\n",
            "0 -0.005127  0.010990  0.006591  0.019837    -0.004080      0.048246   \n",
            "1 -0.038176  0.002060  0.000011  0.006984     0.022010      0.025183   \n",
            "3  0.028254  0.045141 -0.026913 -0.130327     0.055456     -0.174891   \n",
            "4  0.057001 -0.001109 -0.000205  0.003829    -0.039579     -0.041250   \n",
            "5 -0.003635  0.014188 -0.016173  0.013271    -0.001639     -0.113427   \n",
            "\n",
            "    cooks_d  standard_resid  hat_diag  dffits_internal  student_resid  \\\n",
            "0  0.000878        0.713067  0.010255         0.072582       0.712546   \n",
            "1  0.000244       -0.408239  0.008714        -0.038275      -0.407734   \n",
            "3  0.014319       -2.668950  0.011917        -0.293106      -2.693607   \n",
            "4  0.000595        0.647324  0.008442         0.059729       0.646765   \n",
            "5  0.004101       -1.610387  0.009400        -0.156870      -1.614219   \n",
            "\n",
            "     dffits  \n",
            "0  0.072529  \n",
            "1 -0.038227  \n",
            "3 -0.295814  \n",
            "4  0.059677  \n",
            "5 -0.157243  \n"
          ]
        }
      ]
    },
    {
      "cell_type": "code",
      "source": [
        "# Concatenación con la variable dependiente y (R)\n",
        "from statsmodels.formula.api import ols\n",
        "\n",
        "y_dep = pd.concat([ym.R, inf_sum], axis = 1)\n",
        "y_dep =y_dep.rename(columns={'hat_diag': 'leverage'})\n",
        "y_dep.head()"
      ],
      "metadata": {
        "colab": {
          "base_uri": "https://localhost:8080/",
          "height": 206
        },
        "id": "Y8wXRXwwJJDA",
        "outputId": "773c36c3-d52e-4b2a-f94e-ffc9d6e59751"
      },
      "execution_count": 88,
      "outputs": [
        {
          "output_type": "execute_result",
          "data": {
            "text/plain": [
              "          R     dfb_1  dfb_EPSP   dfb_OPM  dfb_BtMr  dfb_isSmall  \\\n",
              "0 -0.008253 -0.005127  0.010990  0.006591  0.019837    -0.004080   \n",
              "1 -0.541818 -0.038176  0.002060  0.000011  0.006984     0.022010   \n",
              "3 -1.993228  0.028254  0.045141 -0.026913 -0.130327     0.055456   \n",
              "4  0.033485  0.057001 -0.001109 -0.000205  0.003829    -0.039579   \n",
              "5 -1.365826 -0.003635  0.014188 -0.016173  0.013271    -0.001639   \n",
              "\n",
              "   dfb_isMedium   cooks_d  standard_resid  leverage  dffits_internal  \\\n",
              "0      0.048246  0.000878        0.713067  0.010255         0.072582   \n",
              "1      0.025183  0.000244       -0.408239  0.008714        -0.038275   \n",
              "3     -0.174891  0.014319       -2.668950  0.011917        -0.293106   \n",
              "4     -0.041250  0.000595        0.647324  0.008442         0.059729   \n",
              "5     -0.113427  0.004101       -1.610387  0.009400        -0.156870   \n",
              "\n",
              "   student_resid    dffits  \n",
              "0       0.712546  0.072529  \n",
              "1      -0.407734 -0.038227  \n",
              "3      -2.693607 -0.295814  \n",
              "4       0.646765  0.059677  \n",
              "5      -1.614219 -0.157243  "
            ],
            "text/html": [
              "\n",
              "  <div id=\"df-c04c9a37-5416-4d73-9403-32d1313139f3\">\n",
              "    <div class=\"colab-df-container\">\n",
              "      <div>\n",
              "<style scoped>\n",
              "    .dataframe tbody tr th:only-of-type {\n",
              "        vertical-align: middle;\n",
              "    }\n",
              "\n",
              "    .dataframe tbody tr th {\n",
              "        vertical-align: top;\n",
              "    }\n",
              "\n",
              "    .dataframe thead th {\n",
              "        text-align: right;\n",
              "    }\n",
              "</style>\n",
              "<table border=\"1\" class=\"dataframe\">\n",
              "  <thead>\n",
              "    <tr style=\"text-align: right;\">\n",
              "      <th></th>\n",
              "      <th>R</th>\n",
              "      <th>dfb_1</th>\n",
              "      <th>dfb_EPSP</th>\n",
              "      <th>dfb_OPM</th>\n",
              "      <th>dfb_BtMr</th>\n",
              "      <th>dfb_isSmall</th>\n",
              "      <th>dfb_isMedium</th>\n",
              "      <th>cooks_d</th>\n",
              "      <th>standard_resid</th>\n",
              "      <th>leverage</th>\n",
              "      <th>dffits_internal</th>\n",
              "      <th>student_resid</th>\n",
              "      <th>dffits</th>\n",
              "    </tr>\n",
              "  </thead>\n",
              "  <tbody>\n",
              "    <tr>\n",
              "      <th>0</th>\n",
              "      <td>-0.008253</td>\n",
              "      <td>-0.005127</td>\n",
              "      <td>0.010990</td>\n",
              "      <td>0.006591</td>\n",
              "      <td>0.019837</td>\n",
              "      <td>-0.004080</td>\n",
              "      <td>0.048246</td>\n",
              "      <td>0.000878</td>\n",
              "      <td>0.713067</td>\n",
              "      <td>0.010255</td>\n",
              "      <td>0.072582</td>\n",
              "      <td>0.712546</td>\n",
              "      <td>0.072529</td>\n",
              "    </tr>\n",
              "    <tr>\n",
              "      <th>1</th>\n",
              "      <td>-0.541818</td>\n",
              "      <td>-0.038176</td>\n",
              "      <td>0.002060</td>\n",
              "      <td>0.000011</td>\n",
              "      <td>0.006984</td>\n",
              "      <td>0.022010</td>\n",
              "      <td>0.025183</td>\n",
              "      <td>0.000244</td>\n",
              "      <td>-0.408239</td>\n",
              "      <td>0.008714</td>\n",
              "      <td>-0.038275</td>\n",
              "      <td>-0.407734</td>\n",
              "      <td>-0.038227</td>\n",
              "    </tr>\n",
              "    <tr>\n",
              "      <th>3</th>\n",
              "      <td>-1.993228</td>\n",
              "      <td>0.028254</td>\n",
              "      <td>0.045141</td>\n",
              "      <td>-0.026913</td>\n",
              "      <td>-0.130327</td>\n",
              "      <td>0.055456</td>\n",
              "      <td>-0.174891</td>\n",
              "      <td>0.014319</td>\n",
              "      <td>-2.668950</td>\n",
              "      <td>0.011917</td>\n",
              "      <td>-0.293106</td>\n",
              "      <td>-2.693607</td>\n",
              "      <td>-0.295814</td>\n",
              "    </tr>\n",
              "    <tr>\n",
              "      <th>4</th>\n",
              "      <td>0.033485</td>\n",
              "      <td>0.057001</td>\n",
              "      <td>-0.001109</td>\n",
              "      <td>-0.000205</td>\n",
              "      <td>0.003829</td>\n",
              "      <td>-0.039579</td>\n",
              "      <td>-0.041250</td>\n",
              "      <td>0.000595</td>\n",
              "      <td>0.647324</td>\n",
              "      <td>0.008442</td>\n",
              "      <td>0.059729</td>\n",
              "      <td>0.646765</td>\n",
              "      <td>0.059677</td>\n",
              "    </tr>\n",
              "    <tr>\n",
              "      <th>5</th>\n",
              "      <td>-1.365826</td>\n",
              "      <td>-0.003635</td>\n",
              "      <td>0.014188</td>\n",
              "      <td>-0.016173</td>\n",
              "      <td>0.013271</td>\n",
              "      <td>-0.001639</td>\n",
              "      <td>-0.113427</td>\n",
              "      <td>0.004101</td>\n",
              "      <td>-1.610387</td>\n",
              "      <td>0.009400</td>\n",
              "      <td>-0.156870</td>\n",
              "      <td>-1.614219</td>\n",
              "      <td>-0.157243</td>\n",
              "    </tr>\n",
              "  </tbody>\n",
              "</table>\n",
              "</div>\n",
              "      <button class=\"colab-df-convert\" onclick=\"convertToInteractive('df-c04c9a37-5416-4d73-9403-32d1313139f3')\"\n",
              "              title=\"Convert this dataframe to an interactive table.\"\n",
              "              style=\"display:none;\">\n",
              "        \n",
              "  <svg xmlns=\"http://www.w3.org/2000/svg\" height=\"24px\"viewBox=\"0 0 24 24\"\n",
              "       width=\"24px\">\n",
              "    <path d=\"M0 0h24v24H0V0z\" fill=\"none\"/>\n",
              "    <path d=\"M18.56 5.44l.94 2.06.94-2.06 2.06-.94-2.06-.94-.94-2.06-.94 2.06-2.06.94zm-11 1L8.5 8.5l.94-2.06 2.06-.94-2.06-.94L8.5 2.5l-.94 2.06-2.06.94zm10 10l.94 2.06.94-2.06 2.06-.94-2.06-.94-.94-2.06-.94 2.06-2.06.94z\"/><path d=\"M17.41 7.96l-1.37-1.37c-.4-.4-.92-.59-1.43-.59-.52 0-1.04.2-1.43.59L10.3 9.45l-7.72 7.72c-.78.78-.78 2.05 0 2.83L4 21.41c.39.39.9.59 1.41.59.51 0 1.02-.2 1.41-.59l7.78-7.78 2.81-2.81c.8-.78.8-2.07 0-2.86zM5.41 20L4 18.59l7.72-7.72 1.47 1.35L5.41 20z\"/>\n",
              "  </svg>\n",
              "      </button>\n",
              "      \n",
              "  <style>\n",
              "    .colab-df-container {\n",
              "      display:flex;\n",
              "      flex-wrap:wrap;\n",
              "      gap: 12px;\n",
              "    }\n",
              "\n",
              "    .colab-df-convert {\n",
              "      background-color: #E8F0FE;\n",
              "      border: none;\n",
              "      border-radius: 50%;\n",
              "      cursor: pointer;\n",
              "      display: none;\n",
              "      fill: #1967D2;\n",
              "      height: 32px;\n",
              "      padding: 0 0 0 0;\n",
              "      width: 32px;\n",
              "    }\n",
              "\n",
              "    .colab-df-convert:hover {\n",
              "      background-color: #E2EBFA;\n",
              "      box-shadow: 0px 1px 2px rgba(60, 64, 67, 0.3), 0px 1px 3px 1px rgba(60, 64, 67, 0.15);\n",
              "      fill: #174EA6;\n",
              "    }\n",
              "\n",
              "    [theme=dark] .colab-df-convert {\n",
              "      background-color: #3B4455;\n",
              "      fill: #D2E3FC;\n",
              "    }\n",
              "\n",
              "    [theme=dark] .colab-df-convert:hover {\n",
              "      background-color: #434B5C;\n",
              "      box-shadow: 0px 1px 3px 1px rgba(0, 0, 0, 0.15);\n",
              "      filter: drop-shadow(0px 1px 2px rgba(0, 0, 0, 0.3));\n",
              "      fill: #FFFFFF;\n",
              "    }\n",
              "  </style>\n",
              "\n",
              "      <script>\n",
              "        const buttonEl =\n",
              "          document.querySelector('#df-c04c9a37-5416-4d73-9403-32d1313139f3 button.colab-df-convert');\n",
              "        buttonEl.style.display =\n",
              "          google.colab.kernel.accessAllowed ? 'block' : 'none';\n",
              "\n",
              "        async function convertToInteractive(key) {\n",
              "          const element = document.querySelector('#df-c04c9a37-5416-4d73-9403-32d1313139f3');\n",
              "          const dataTable =\n",
              "            await google.colab.kernel.invokeFunction('convertToInteractive',\n",
              "                                                     [key], {});\n",
              "          if (!dataTable) return;\n",
              "\n",
              "          const docLinkHtml = 'Like what you see? Visit the ' +\n",
              "            '<a target=\"_blank\" href=https://colab.research.google.com/notebooks/data_table.ipynb>data table notebook</a>'\n",
              "            + ' to learn more about interactive tables.';\n",
              "          element.innerHTML = '';\n",
              "          dataTable['output_type'] = 'display_data';\n",
              "          await google.colab.output.renderOutput(dataTable, element);\n",
              "          const docLink = document.createElement('div');\n",
              "          docLink.innerHTML = docLinkHtml;\n",
              "          element.appendChild(docLink);\n",
              "        }\n",
              "      </script>\n",
              "    </div>\n",
              "  </div>\n",
              "  "
            ]
          },
          "metadata": {},
          "execution_count": 88
        }
      ]
    },
    {
      "cell_type": "markdown",
      "source": [
        "AQUÍ PODEMOS OBSERVAR LOS STUDENTIZED RESIDUALS, LOS COOK'S DISTANCES, LOS DFFITS Y LOS LEVERAGE POINTS "
      ],
      "metadata": {
        "id": "sY4IAdyP8k1h"
      }
    },
    {
      "cell_type": "code",
      "source": [
        "print ('Leverage vs. Studentized Residuals')\n",
        "sns.regplot(leverage, model.resid_pearson,  fit_reg=False)\n",
        "plt.title('Leverage vs. Studentized Residuals')\n",
        "plt.xlabel('Leverage Points')\n",
        "plt.ylabel('Studentized Residuals')"
      ],
      "metadata": {
        "colab": {
          "base_uri": "https://localhost:8080/",
          "height": 384
        },
        "id": "CD7K12Yi8Z1U",
        "outputId": "47e32ba7-53b8-41fb-86b6-d8e0e0e14062"
      },
      "execution_count": 89,
      "outputs": [
        {
          "output_type": "stream",
          "name": "stdout",
          "text": [
            "Leverage vs. Studentized Residuals\n"
          ]
        },
        {
          "output_type": "stream",
          "name": "stderr",
          "text": [
            "/usr/local/lib/python3.7/dist-packages/seaborn/_decorators.py:43: FutureWarning: Pass the following variables as keyword args: x, y. From version 0.12, the only valid positional argument will be `data`, and passing other arguments without an explicit keyword will result in an error or misinterpretation.\n",
            "  FutureWarning\n"
          ]
        },
        {
          "output_type": "execute_result",
          "data": {
            "text/plain": [
              "Text(0, 0.5, 'Studentized Residuals')"
            ]
          },
          "metadata": {},
          "execution_count": 89
        },
        {
          "output_type": "display_data",
          "data": {
            "text/plain": [
              "<Figure size 432x288 with 1 Axes>"
            ],
            "image/png": "[encoded data removed]"
          },
          "metadata": {
            "needs_background": "light"
          }
        }
      ]
    },
    {
      "cell_type": "markdown",
      "source": [
        "SE PUEDE OBSERVAR A TRAVÉS DE LAS FUNCIONES DEL MODELO QUE CONTAMOS CON LOS MISMOS LEVERAGE POINTS QUE CALCULAMOS ANTERIORMENTE."
      ],
      "metadata": {
        "id": "WPfk0DpD5guA"
      }
    },
    {
      "cell_type": "markdown",
      "source": [
        "### Studentized residuals y High Leverage"
      ],
      "metadata": {
        "id": "M7mYkqMoQH8U"
      }
    },
    {
      "cell_type": "markdown",
      "source": [
        "SE TOMARÁN COMO SIGNIFICATIVOS LOS STUDENTIZED RESIDUALS POR ENCIMA DE UN VALOR ABSOLUTO DE DOS DADA LA REGLA DE DEDO."
      ],
      "metadata": {
        "id": "WEuKSR7kABlC"
      }
    },
    {
      "cell_type": "code",
      "source": [
        "r = y_dep.student_resid\n",
        "print ('-'*30 + ' studentized residual ' + '-'*30)\n",
        "print (r.describe())\n",
        "print ('\\n')\n",
        "\n",
        "r_sort = y_dep.sort_values(by = 'student_resid')\n",
        "print ('-'*30 + ' top 5 most negative residuals ' + '-'*30)\n",
        "print (r_sort.head())\n",
        "print ('\\n')\n",
        "\n",
        "print ('-'*30 + ' top 5 most positive residuals ' + '-'*30)\n",
        "print (r_sort.tail())"
      ],
      "metadata": {
        "colab": {
          "base_uri": "https://localhost:8080/"
        },
        "id": "7a9GMekg_zFD",
        "outputId": "6ea52945-ed5e-4760-90bc-a572ac766b1e"
      },
      "execution_count": 90,
      "outputs": [
        {
          "output_type": "stream",
          "name": "stdout",
          "text": [
            "------------------------------ studentized residual ------------------------------\n",
            "count    343.000000\n",
            "mean       0.015197\n",
            "std        1.075901\n",
            "min       -4.006977\n",
            "25%       -0.510541\n",
            "50%        0.167358\n",
            "75%        0.619577\n",
            "max        7.523692\n",
            "Name: student_resid, dtype: float64\n",
            "\n",
            "\n",
            "------------------------------ top 5 most negative residuals ------------------------------\n",
            "            R     dfb_1  dfb_EPSP   dfb_OPM  dfb_BtMr  dfb_isSmall  \\\n",
            "374 -3.482115  0.030837  0.455051  0.136661 -0.225752    -0.054112   \n",
            "320 -2.968117 -0.052714  0.309463 -0.030655  0.167515    -0.198714   \n",
            "340 -2.096733 -0.010792  0.028411 -0.030785  0.041713    -0.008503   \n",
            "3   -1.993228  0.028254  0.045141 -0.026913 -0.130327     0.055456   \n",
            "324 -2.287815  0.007642  0.036636  0.396547 -0.049047     0.036521   \n",
            "\n",
            "     dfb_isMedium   cooks_d  standard_resid  leverage  dffits_internal  \\\n",
            "374      0.046110  0.069765       -3.920361  0.026513        -0.646985   \n",
            "320     -0.007959  0.036907       -3.447979  0.018286        -0.470579   \n",
            "340     -0.212767  0.014156       -2.970585  0.009534        -0.291442   \n",
            "3       -0.174891  0.014319       -2.668950  0.011917        -0.293106   \n",
            "324     -0.140018  0.036891       -2.523813  0.033583        -0.470475   \n",
            "\n",
            "     student_resid    dffits  \n",
            "374      -4.006977 -0.661280  \n",
            "320      -3.505243 -0.478395  \n",
            "340      -3.005788 -0.294896  \n",
            "3        -2.693607 -0.295814  \n",
            "324      -2.544224 -0.474280  \n",
            "\n",
            "\n",
            "------------------------------ top 5 most positive residuals ------------------------------\n",
            "            R     dfb_1  dfb_EPSP    dfb_OPM  dfb_BtMr  dfb_isSmall  \\\n",
            "306 -0.400478  0.075186 -0.310406   0.028705 -0.264358     0.139805   \n",
            "251  0.465930 -0.010576  0.026827   0.004172  0.040315     0.118929   \n",
            "301 -2.033554  0.011352  0.459036 -10.620345  0.097174    -0.208778   \n",
            "271  1.591808  0.019598  0.249152  -0.001624 -0.133625     0.331607   \n",
            "357 -2.455893  0.369616 -9.934251   0.611111  0.343815    -1.733092   \n",
            "\n",
            "     dfb_isMedium    cooks_d  standard_resid  leverage  dffits_internal  \\\n",
            "306      0.016620   0.032276        1.954570  0.048245         0.440061   \n",
            "251     -0.002495   0.006643        2.069194  0.009223         0.199646   \n",
            "301     -0.078342  18.348024        3.547847  0.897394        10.492290   \n",
            "271      0.019986   0.032676        3.628540  0.014672         0.442779   \n",
            "357     -0.297369  14.391415        6.970558  0.639916         9.292389   \n",
            "\n",
            "     student_resid     dffits  \n",
            "306       1.962825   0.441919  \n",
            "251       2.079373   0.200628  \n",
            "301       3.610651  10.678025  \n",
            "271       3.696073   0.451020  \n",
            "357       7.523692  10.029767  \n"
          ]
        }
      ]
    },
    {
      "cell_type": "markdown",
      "source": [
        "DENTRO DE LA COLUMNA STUDENT_RESID VEMOS QUE EFECTIVAMENTE CONTAMOS CON OUTLIERS SUPERIORES A 2."
      ],
      "metadata": {
        "id": "hD5gQh9JBNfj"
      }
    },
    {
      "cell_type": "code",
      "source": [
        "print(y_dep.student_resid[abs(r) > 2])"
      ],
      "metadata": {
        "colab": {
          "base_uri": "https://localhost:8080/"
        },
        "id": "sPf-u_OzBeQN",
        "outputId": "a7ed0758-7692-40e7-a6af-ed77f99c21bd"
      },
      "execution_count": 91,
      "outputs": [
        {
          "output_type": "stream",
          "name": "stdout",
          "text": [
            "3     -2.693607\n",
            "16    -2.505488\n",
            "24    -2.167345\n",
            "53    -2.503242\n",
            "55    -2.184484\n",
            "90    -2.229402\n",
            "131   -2.036217\n",
            "180   -2.103830\n",
            "189   -2.508806\n",
            "199   -2.146711\n",
            "231   -2.135734\n",
            "240   -2.127422\n",
            "251    2.079373\n",
            "254   -2.140599\n",
            "264   -2.089978\n",
            "271    3.696073\n",
            "299   -2.445627\n",
            "301    3.610651\n",
            "320   -3.505243\n",
            "324   -2.544224\n",
            "340   -3.005788\n",
            "357    7.523692\n",
            "359   -2.366271\n",
            "374   -4.006977\n",
            "Name: student_resid, dtype: float64\n"
          ]
        }
      ]
    },
    {
      "cell_type": "markdown",
      "source": [
        "HASTA AHORA LLEVAMOS UN RECUENTO DE 24 OUTLIERS POR STUDENTIZED RESIDUALS. POSTERIORMENTE EVALUAREMOS LOS HIGH LEVERAGES."
      ],
      "metadata": {
        "id": "5rCMbIJxB-Dj"
      }
    },
    {
      "cell_type": "code",
      "source": [
        "# High leverage\n",
        "# point with leverage = (2k+2)/n \n",
        "# k = number of predictors (5)\n",
        "# n = number of observations (343)\n",
        "#((2*5)+2)/343 = 0.03498542274052478 => cualquier número por encima de este es un high leverage\n",
        "l = y_dep.leverage\n",
        "\n",
        "print ('-'*30 + ' Leverage ' + '-'*30)\n",
        "print (l.describe())\n",
        "print ('\\n')\n",
        "\n",
        "l_sort = y_dep.sort_values(by = 'leverage', ascending = False)\n",
        "print ('-'*30 + ' top 5 highest leverage data points ' + '-'*30)\n",
        "print (l_sort.head())"
      ],
      "metadata": {
        "colab": {
          "base_uri": "https://localhost:8080/"
        },
        "id": "KFcA-n4wC5AE",
        "outputId": "1a109379-efea-4bec-a2ed-207e33683008"
      },
      "execution_count": 92,
      "outputs": [
        {
          "output_type": "stream",
          "name": "stdout",
          "text": [
            "------------------------------ Leverage ------------------------------\n",
            "count    343.000000\n",
            "mean       0.017493\n",
            "std        0.060164\n",
            "min        0.008405\n",
            "25%        0.008917\n",
            "50%        0.009767\n",
            "75%        0.011590\n",
            "max        0.897394\n",
            "Name: leverage, dtype: float64\n",
            "\n",
            "\n",
            "------------------------------ top 5 highest leverage data points ------------------------------\n",
            "            R     dfb_1  dfb_EPSP    dfb_OPM  dfb_BtMr  dfb_isSmall  \\\n",
            "301 -2.033554  0.011352  0.459036 -10.620345  0.097174    -0.208778   \n",
            "357 -2.455893  0.369616 -9.934251   0.611111  0.343815    -1.733092   \n",
            "10  -0.486448 -0.018091  0.010522  -0.000668  0.076089    -0.012729   \n",
            "51  -0.903120 -0.047022  0.033817  -0.009897  0.196684    -0.060539   \n",
            "229 -1.634162 -0.115756  0.088558  -0.011745  0.482865    -0.242234   \n",
            "\n",
            "     dfb_isMedium    cooks_d  standard_resid  leverage  dffits_internal  \\\n",
            "301     -0.078342  18.348024        3.547847  0.897394        10.492290   \n",
            "357     -0.297369  14.391415        6.970558  0.639916         9.292389   \n",
            "10      -0.006672   0.001027        0.168334  0.178662         0.078510   \n",
            "51      -0.058504   0.007122       -0.557881  0.120727        -0.206720   \n",
            "229     -0.042255   0.043108       -1.487439  0.104669        -0.508577   \n",
            "\n",
            "     student_resid     dffits  \n",
            "301       3.610651  10.678025  \n",
            "357       7.523692  10.029767  \n",
            "10        0.168091   0.078397  \n",
            "51       -0.557310  -0.206508  \n",
            "229      -1.490130  -0.509497  \n"
          ]
        }
      ]
    },
    {
      "cell_type": "markdown",
      "source": [
        "CON ESTO YA PODEMOS IDENTIFICAR Y FILTRAR CLARAMENTE LOS HIGH LEVERAGES."
      ],
      "metadata": {
        "id": "l6DpciBNFnHt"
      }
    },
    {
      "cell_type": "code",
      "source": [
        "# Leverage Point = (2k+2)/n = 0.03498542274052478\n",
        "print(y_dep.leverage[abs(l) > ((2*5)+2)/343])"
      ],
      "metadata": {
        "colab": {
          "base_uri": "https://localhost:8080/"
        },
        "id": "LK2HbucdF56F",
        "outputId": "ece4efe9-04bf-45b7-8ca0-9b8bf6474103"
      },
      "execution_count": 93,
      "outputs": [
        {
          "output_type": "stream",
          "name": "stdout",
          "text": [
            "10     0.178662\n",
            "12     0.092520\n",
            "23     0.037219\n",
            "25     0.079087\n",
            "51     0.120727\n",
            "114    0.035724\n",
            "167    0.049843\n",
            "229    0.104669\n",
            "301    0.897394\n",
            "306    0.048245\n",
            "315    0.042280\n",
            "357    0.639916\n",
            "Name: leverage, dtype: float64\n"
          ]
        }
      ]
    },
    {
      "cell_type": "markdown",
      "source": [
        "GRACIAS A LA REGLA DE DEDO QUE ESTABLECIMOS, SE PUEDE VER QUE TENEMOS 12 REGISTROS QUE CUENTAN CON UN HIGH LEVERAGES."
      ],
      "metadata": {
        "id": "mp6d0D20GaHu"
      }
    },
    {
      "cell_type": "markdown",
      "source": [
        "AHORA DADOS ESTOS DATOS, PODEMOS APRECIAR QUE HAY DATOS CON INFLUENCIA SIGNIFICATIVA, PUES PUEDEN SER TANTO OUTLIERS COMO HIGH LEVERAGES, AFECTANDO LA REGRESIÓN AL INFLUIR EN LOS COEFICIENTES."
      ],
      "metadata": {
        "id": "5KJq__YVHNHN"
      }
    },
    {
      "cell_type": "code",
      "source": [
        "# Valores que son outliers y high leverage\n",
        "outlier = pd.DataFrame((y_dep.R[abs(r) > 2]))\n",
        "leverage= pd.DataFrame((y_dep.R[abs(l) > ((2*5)+2)/343]))\n",
        "\n",
        "Influential=pd.merge(outlier,leverage, left_index=True, right_index=True)\n",
        "print(Influential)"
      ],
      "metadata": {
        "colab": {
          "base_uri": "https://localhost:8080/"
        },
        "id": "kPKopT49H6hN",
        "outputId": "9eb6d6f4-2473-4558-f4c5-79a174e23d74"
      },
      "execution_count": 138,
      "outputs": [
        {
          "output_type": "stream",
          "name": "stdout",
          "text": [
            "          R_x       R_y\n",
            "301 -2.033554 -2.033554\n",
            "357 -2.455893 -2.455893\n"
          ]
        }
      ]
    },
    {
      "cell_type": "markdown",
      "source": [
        "ESTOS SON LOS REGISTROS MÁS INFLUYENTES AL SER TANTO OUTLIERS COMO HIGH LEVERAGES."
      ],
      "metadata": {
        "id": "61ogdZN6K4p0"
      }
    },
    {
      "cell_type": "code",
      "source": [
        "# Se usa el cuadrado de los residuos para facilitar la visualización\n",
        "\n",
        "from statsmodels.graphics.regressionplots import *\n",
        "#plot_leverage_resid2(lm)\n",
        "#plt.show()\n",
        "\n",
        "plt.scatter(y_dep.student_resid ** 2, y_dep.leverage)\n",
        "#for i, state in enumerate(ym.R):\n",
        "#  plt.annotate(state, [(y_dep.student_resid ** 2)[i],  y_dep.leverage[i]])\n",
        "plt.xlabel(\"Normalized Residuals**2\")\n",
        "plt.ylabel(\"Leverage\")\n",
        "plt.show()\n",
        "\n",
        "influence_plot(model)\n",
        "plt.show()"
      ],
      "metadata": {
        "colab": {
          "base_uri": "https://localhost:8080/",
          "height": 578
        },
        "id": "mEhkndxwLCod",
        "outputId": "cfc49555-4863-4676-d500-9d1c564e0911"
      },
      "execution_count": 95,
      "outputs": [
        {
          "output_type": "display_data",
          "data": {
            "text/plain": [
              "<Figure size 432x288 with 1 Axes>"
            ],
            "image/png": "[encoded data removed]"
          },
          "metadata": {
            "needs_background": "light"
          }
        },
        {
          "output_type": "display_data",
          "data": {
            "text/plain": [
              "<Figure size 432x288 with 1 Axes>"
            ],
            "image/png": "[encoded data removed]"
          },
          "metadata": {
            "needs_background": "light"
          }
        }
      ]
    },
    {
      "cell_type": "markdown",
      "source": [
        "NUEVAMENTE COMPROBAMOS QUE LOS DOS REGISTROS ANTERIORES CON:\n",
        "* 0.897394 Y 0.639916 DE LEVERAGE RESPECTIVAMENTE\n",
        "* 3.610651 Y 7.523692 DE STUDENTIZED RESIDUAL\n",
        "\n",
        "SON AQUELLOS CON MAYOR INFLUENCIA EN NUESTRO MODELO, AFECTANDO EN GRAN MEDIDA NUESTROS COEFICIENTES."
      ],
      "metadata": {
        "id": "4hYWseU4OU4W"
      }
    },
    {
      "cell_type": "markdown",
      "source": [
        "### DFFITS"
      ],
      "metadata": {
        "id": "Sm--o9ADQVkY"
      }
    },
    {
      "cell_type": "markdown",
      "source": [
        "AHORA EVALUAREMOS DFITS PARA IDENTIFICAR OBSERVACIONES INFLUENCIABLES EN EL MODELO, UTILIZANDO COMO VALOR LÍMITE:"
      ],
      "metadata": {
        "id": "-FVPpBT1QcBI"
      }
    },
    {
      "cell_type": "markdown",
      "source": [
        "![imagen.png](data:image/png;base64,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)"
      ],
      "metadata": {
        "id": "6NiyBX6NoLwx"
      }
    },
    {
      "cell_type": "code",
      "source": [
        "# 2*sqrt(k/n) = 0.2414726442081476\n",
        "import math\n",
        "y_dep[abs(y_dep.dffits) > 2 * math.sqrt((5+2)/(343-5-2))]"
      ],
      "metadata": {
        "colab": {
          "base_uri": "https://localhost:8080/",
          "height": 488
        },
        "id": "Uud3_j-GPySP",
        "outputId": "97c16a76-bae3-4343-f857-260c157f4301"
      },
      "execution_count": 137,
      "outputs": [
        {
          "output_type": "execute_result",
          "data": {
            "text/plain": [
              "            R     dfb_1  dfb_EPSP    dfb_OPM  dfb_BtMr  dfb_isSmall  \\\n",
              "3   -1.993228  0.028254  0.045141  -0.026913 -0.130327     0.055456   \n",
              "12  -2.532203 -0.028303  0.119359   0.426900  0.089272    -0.087089   \n",
              "189 -2.099761  0.045055  0.017024  -0.005106 -0.197856    -0.080163   \n",
              "229 -1.634162 -0.115756  0.088558  -0.011745  0.482865    -0.242234   \n",
              "240 -2.394958  0.010751  0.224408  -0.000374 -0.090572    -0.044690   \n",
              "271  1.591808  0.019598  0.249152  -0.001624 -0.133625     0.331607   \n",
              "301 -2.033554  0.011352  0.459036 -10.620345  0.097174    -0.208778   \n",
              "306 -0.400478  0.075186 -0.310406   0.028705 -0.264358     0.139805   \n",
              "320 -2.968117 -0.052714  0.309463  -0.030655  0.167515    -0.198714   \n",
              "324 -2.287815  0.007642  0.036636   0.396547 -0.049047     0.036521   \n",
              "340 -2.096733 -0.010792  0.028411  -0.030785  0.041713    -0.008503   \n",
              "357 -2.455893  0.369616 -9.934251   0.611111  0.343815    -1.733092   \n",
              "359 -1.732666 -0.059749  0.028414  -0.028675  0.253142    -0.081977   \n",
              "374 -3.482115  0.030837  0.455051   0.136661 -0.225752    -0.054112   \n",
              "\n",
              "     dfb_isMedium    cooks_d  standard_resid  leverage  dffits_internal  \\\n",
              "3       -0.174891   0.014319       -2.668950  0.011917        -0.293106   \n",
              "12       0.030120   0.038844       -1.511961  0.092520        -0.482770   \n",
              "189      0.018205   0.015646       -2.489329  0.014923        -0.306396   \n",
              "229     -0.042255   0.043108       -1.487439  0.104669        -0.508577   \n",
              "240      0.015368   0.016604       -2.116379  0.021759        -0.315637   \n",
              "271      0.019986   0.032676        3.628540  0.014672         0.442779   \n",
              "301     -0.078342  18.348024        3.547847  0.897394        10.492290   \n",
              "306      0.016620   0.032276        1.954570  0.048245         0.440061   \n",
              "320     -0.007959   0.036907       -3.447979  0.018286        -0.470579   \n",
              "324     -0.140018   0.036891       -2.523813  0.033583        -0.470475   \n",
              "340     -0.212767   0.014156       -2.970585  0.009534        -0.291442   \n",
              "357     -0.297369  14.391415        6.970558  0.639916         9.292389   \n",
              "359     -0.188708   0.019318       -2.350288  0.020551        -0.340449   \n",
              "374      0.046110   0.069765       -3.920361  0.026513        -0.646985   \n",
              "\n",
              "     student_resid     dffits  \n",
              "3        -2.693607  -0.295814  \n",
              "12       -1.514863  -0.483696  \n",
              "189      -2.508806  -0.308793  \n",
              "229      -1.490130  -0.509497  \n",
              "240      -2.127422  -0.317284  \n",
              "271       3.696073   0.451020  \n",
              "301       3.610651  10.678025  \n",
              "306       1.962825   0.441919  \n",
              "320      -3.505243  -0.478395  \n",
              "324      -2.544224  -0.474280  \n",
              "340      -3.005788  -0.294896  \n",
              "357       7.523692  10.029767  \n",
              "359      -2.366271  -0.342764  \n",
              "374      -4.006977  -0.661280  "
            ],
            "text/html": [
              "\n",
              "  <div id=\"df-7122bc6b-f20f-406d-815b-87b71116fa58\">\n",
              "    <div class=\"colab-df-container\">\n",
              "      <div>\n",
              "<style scoped>\n",
              "    .dataframe tbody tr th:only-of-type {\n",
              "        vertical-align: middle;\n",
              "    }\n",
              "\n",
              "    .dataframe tbody tr th {\n",
              "        vertical-align: top;\n",
              "    }\n",
              "\n",
              "    .dataframe thead th {\n",
              "        text-align: right;\n",
              "    }\n",
              "</style>\n",
              "<table border=\"1\" class=\"dataframe\">\n",
              "  <thead>\n",
              "    <tr style=\"text-align: right;\">\n",
              "      <th></th>\n",
              "      <th>R</th>\n",
              "      <th>dfb_1</th>\n",
              "      <th>dfb_EPSP</th>\n",
              "      <th>dfb_OPM</th>\n",
              "      <th>dfb_BtMr</th>\n",
              "      <th>dfb_isSmall</th>\n",
              "      <th>dfb_isMedium</th>\n",
              "      <th>cooks_d</th>\n",
              "      <th>standard_resid</th>\n",
              "      <th>leverage</th>\n",
              "      <th>dffits_internal</th>\n",
              "      <th>student_resid</th>\n",
              "      <th>dffits</th>\n",
              "    </tr>\n",
              "  </thead>\n",
              "  <tbody>\n",
              "    <tr>\n",
              "      <th>3</th>\n",
              "      <td>-1.993228</td>\n",
              "      <td>0.028254</td>\n",
              "      <td>0.045141</td>\n",
              "      <td>-0.026913</td>\n",
              "      <td>-0.130327</td>\n",
              "      <td>0.055456</td>\n",
              "      <td>-0.174891</td>\n",
              "      <td>0.014319</td>\n",
              "      <td>-2.668950</td>\n",
              "      <td>0.011917</td>\n",
              "      <td>-0.293106</td>\n",
              "      <td>-2.693607</td>\n",
              "      <td>-0.295814</td>\n",
              "    </tr>\n",
              "    <tr>\n",
              "      <th>12</th>\n",
              "      <td>-2.532203</td>\n",
              "      <td>-0.028303</td>\n",
              "      <td>0.119359</td>\n",
              "      <td>0.426900</td>\n",
              "      <td>0.089272</td>\n",
              "      <td>-0.087089</td>\n",
              "      <td>0.030120</td>\n",
              "      <td>0.038844</td>\n",
              "      <td>-1.511961</td>\n",
              "      <td>0.092520</td>\n",
              "      <td>-0.482770</td>\n",
              "      <td>-1.514863</td>\n",
              "      <td>-0.483696</td>\n",
              "    </tr>\n",
              "    <tr>\n",
              "      <th>189</th>\n",
              "      <td>-2.099761</td>\n",
              "      <td>0.045055</td>\n",
              "      <td>0.017024</td>\n",
              "      <td>-0.005106</td>\n",
              "      <td>-0.197856</td>\n",
              "      <td>-0.080163</td>\n",
              "      <td>0.018205</td>\n",
              "      <td>0.015646</td>\n",
              "      <td>-2.489329</td>\n",
              "      <td>0.014923</td>\n",
              "      <td>-0.306396</td>\n",
              "      <td>-2.508806</td>\n",
              "      <td>-0.308793</td>\n",
              "    </tr>\n",
              "    <tr>\n",
              "      <th>229</th>\n",
              "      <td>-1.634162</td>\n",
              "      <td>-0.115756</td>\n",
              "      <td>0.088558</td>\n",
              "      <td>-0.011745</td>\n",
              "      <td>0.482865</td>\n",
              "      <td>-0.242234</td>\n",
              "      <td>-0.042255</td>\n",
              "      <td>0.043108</td>\n",
              "      <td>-1.487439</td>\n",
              "      <td>0.104669</td>\n",
              "      <td>-0.508577</td>\n",
              "      <td>-1.490130</td>\n",
              "      <td>-0.509497</td>\n",
              "    </tr>\n",
              "    <tr>\n",
              "      <th>240</th>\n",
              "      <td>-2.394958</td>\n",
              "      <td>0.010751</td>\n",
              "      <td>0.224408</td>\n",
              "      <td>-0.000374</td>\n",
              "      <td>-0.090572</td>\n",
              "      <td>-0.044690</td>\n",
              "      <td>0.015368</td>\n",
              "      <td>0.016604</td>\n",
              "      <td>-2.116379</td>\n",
              "      <td>0.021759</td>\n",
              "      <td>-0.315637</td>\n",
              "      <td>-2.127422</td>\n",
              "      <td>-0.317284</td>\n",
              "    </tr>\n",
              "    <tr>\n",
              "      <th>271</th>\n",
              "      <td>1.591808</td>\n",
              "      <td>0.019598</td>\n",
              "      <td>0.249152</td>\n",
              "      <td>-0.001624</td>\n",
              "      <td>-0.133625</td>\n",
              "      <td>0.331607</td>\n",
              "      <td>0.019986</td>\n",
              "      <td>0.032676</td>\n",
              "      <td>3.628540</td>\n",
              "      <td>0.014672</td>\n",
              "      <td>0.442779</td>\n",
              "      <td>3.696073</td>\n",
              "      <td>0.451020</td>\n",
              "    </tr>\n",
              "    <tr>\n",
              "      <th>301</th>\n",
              "      <td>-2.033554</td>\n",
              "      <td>0.011352</td>\n",
              "      <td>0.459036</td>\n",
              "      <td>-10.620345</td>\n",
              "      <td>0.097174</td>\n",
              "      <td>-0.208778</td>\n",
              "      <td>-0.078342</td>\n",
              "      <td>18.348024</td>\n",
              "      <td>3.547847</td>\n",
              "      <td>0.897394</td>\n",
              "      <td>10.492290</td>\n",
              "      <td>3.610651</td>\n",
              "      <td>10.678025</td>\n",
              "    </tr>\n",
              "    <tr>\n",
              "      <th>306</th>\n",
              "      <td>-0.400478</td>\n",
              "      <td>0.075186</td>\n",
              "      <td>-0.310406</td>\n",
              "      <td>0.028705</td>\n",
              "      <td>-0.264358</td>\n",
              "      <td>0.139805</td>\n",
              "      <td>0.016620</td>\n",
              "      <td>0.032276</td>\n",
              "      <td>1.954570</td>\n",
              "      <td>0.048245</td>\n",
              "      <td>0.440061</td>\n",
              "      <td>1.962825</td>\n",
              "      <td>0.441919</td>\n",
              "    </tr>\n",
              "    <tr>\n",
              "      <th>320</th>\n",
              "      <td>-2.968117</td>\n",
              "      <td>-0.052714</td>\n",
              "      <td>0.309463</td>\n",
              "      <td>-0.030655</td>\n",
              "      <td>0.167515</td>\n",
              "      <td>-0.198714</td>\n",
              "      <td>-0.007959</td>\n",
              "      <td>0.036907</td>\n",
              "      <td>-3.447979</td>\n",
              "      <td>0.018286</td>\n",
              "      <td>-0.470579</td>\n",
              "      <td>-3.505243</td>\n",
              "      <td>-0.478395</td>\n",
              "    </tr>\n",
              "    <tr>\n",
              "      <th>324</th>\n",
              "      <td>-2.287815</td>\n",
              "      <td>0.007642</td>\n",
              "      <td>0.036636</td>\n",
              "      <td>0.396547</td>\n",
              "      <td>-0.049047</td>\n",
              "      <td>0.036521</td>\n",
              "      <td>-0.140018</td>\n",
              "      <td>0.036891</td>\n",
              "      <td>-2.523813</td>\n",
              "      <td>0.033583</td>\n",
              "      <td>-0.470475</td>\n",
              "      <td>-2.544224</td>\n",
              "      <td>-0.474280</td>\n",
              "    </tr>\n",
              "    <tr>\n",
              "      <th>340</th>\n",
              "      <td>-2.096733</td>\n",
              "      <td>-0.010792</td>\n",
              "      <td>0.028411</td>\n",
              "      <td>-0.030785</td>\n",
              "      <td>0.041713</td>\n",
              "      <td>-0.008503</td>\n",
              "      <td>-0.212767</td>\n",
              "      <td>0.014156</td>\n",
              "      <td>-2.970585</td>\n",
              "      <td>0.009534</td>\n",
              "      <td>-0.291442</td>\n",
              "      <td>-3.005788</td>\n",
              "      <td>-0.294896</td>\n",
              "    </tr>\n",
              "    <tr>\n",
              "      <th>357</th>\n",
              "      <td>-2.455893</td>\n",
              "      <td>0.369616</td>\n",
              "      <td>-9.934251</td>\n",
              "      <td>0.611111</td>\n",
              "      <td>0.343815</td>\n",
              "      <td>-1.733092</td>\n",
              "      <td>-0.297369</td>\n",
              "      <td>14.391415</td>\n",
              "      <td>6.970558</td>\n",
              "      <td>0.639916</td>\n",
              "      <td>9.292389</td>\n",
              "      <td>7.523692</td>\n",
              "      <td>10.029767</td>\n",
              "    </tr>\n",
              "    <tr>\n",
              "      <th>359</th>\n",
              "      <td>-1.732666</td>\n",
              "      <td>-0.059749</td>\n",
              "      <td>0.028414</td>\n",
              "      <td>-0.028675</td>\n",
              "      <td>0.253142</td>\n",
              "      <td>-0.081977</td>\n",
              "      <td>-0.188708</td>\n",
              "      <td>0.019318</td>\n",
              "      <td>-2.350288</td>\n",
              "      <td>0.020551</td>\n",
              "      <td>-0.340449</td>\n",
              "      <td>-2.366271</td>\n",
              "      <td>-0.342764</td>\n",
              "    </tr>\n",
              "    <tr>\n",
              "      <th>374</th>\n",
              "      <td>-3.482115</td>\n",
              "      <td>0.030837</td>\n",
              "      <td>0.455051</td>\n",
              "      <td>0.136661</td>\n",
              "      <td>-0.225752</td>\n",
              "      <td>-0.054112</td>\n",
              "      <td>0.046110</td>\n",
              "      <td>0.069765</td>\n",
              "      <td>-3.920361</td>\n",
              "      <td>0.026513</td>\n",
              "      <td>-0.646985</td>\n",
              "      <td>-4.006977</td>\n",
              "      <td>-0.661280</td>\n",
              "    </tr>\n",
              "  </tbody>\n",
              "</table>\n",
              "</div>\n",
              "      <button class=\"colab-df-convert\" onclick=\"convertToInteractive('df-7122bc6b-f20f-406d-815b-87b71116fa58')\"\n",
              "              title=\"Convert this dataframe to an interactive table.\"\n",
              "              style=\"display:none;\">\n",
              "        \n",
              "  <svg xmlns=\"http://www.w3.org/2000/svg\" height=\"24px\"viewBox=\"0 0 24 24\"\n",
              "       width=\"24px\">\n",
              "    <path d=\"M0 0h24v24H0V0z\" fill=\"none\"/>\n",
              "    <path d=\"M18.56 5.44l.94 2.06.94-2.06 2.06-.94-2.06-.94-.94-2.06-.94 2.06-2.06.94zm-11 1L8.5 8.5l.94-2.06 2.06-.94-2.06-.94L8.5 2.5l-.94 2.06-2.06.94zm10 10l.94 2.06.94-2.06 2.06-.94-2.06-.94-.94-2.06-.94 2.06-2.06.94z\"/><path d=\"M17.41 7.96l-1.37-1.37c-.4-.4-.92-.59-1.43-.59-.52 0-1.04.2-1.43.59L10.3 9.45l-7.72 7.72c-.78.78-.78 2.05 0 2.83L4 21.41c.39.39.9.59 1.41.59.51 0 1.02-.2 1.41-.59l7.78-7.78 2.81-2.81c.8-.78.8-2.07 0-2.86zM5.41 20L4 18.59l7.72-7.72 1.47 1.35L5.41 20z\"/>\n",
              "  </svg>\n",
              "      </button>\n",
              "      \n",
              "  <style>\n",
              "    .colab-df-container {\n",
              "      display:flex;\n",
              "      flex-wrap:wrap;\n",
              "      gap: 12px;\n",
              "    }\n",
              "\n",
              "    .colab-df-convert {\n",
              "      background-color: #E8F0FE;\n",
              "      border: none;\n",
              "      border-radius: 50%;\n",
              "      cursor: pointer;\n",
              "      display: none;\n",
              "      fill: #1967D2;\n",
              "      height: 32px;\n",
              "      padding: 0 0 0 0;\n",
              "      width: 32px;\n",
              "    }\n",
              "\n",
              "    .colab-df-convert:hover {\n",
              "      background-color: #E2EBFA;\n",
              "      box-shadow: 0px 1px 2px rgba(60, 64, 67, 0.3), 0px 1px 3px 1px rgba(60, 64, 67, 0.15);\n",
              "      fill: #174EA6;\n",
              "    }\n",
              "\n",
              "    [theme=dark] .colab-df-convert {\n",
              "      background-color: #3B4455;\n",
              "      fill: #D2E3FC;\n",
              "    }\n",
              "\n",
              "    [theme=dark] .colab-df-convert:hover {\n",
              "      background-color: #434B5C;\n",
              "      box-shadow: 0px 1px 3px 1px rgba(0, 0, 0, 0.15);\n",
              "      filter: drop-shadow(0px 1px 2px rgba(0, 0, 0, 0.3));\n",
              "      fill: #FFFFFF;\n",
              "    }\n",
              "  </style>\n",
              "\n",
              "      <script>\n",
              "        const buttonEl =\n",
              "          document.querySelector('#df-7122bc6b-f20f-406d-815b-87b71116fa58 button.colab-df-convert');\n",
              "        buttonEl.style.display =\n",
              "          google.colab.kernel.accessAllowed ? 'block' : 'none';\n",
              "\n",
              "        async function convertToInteractive(key) {\n",
              "          const element = document.querySelector('#df-7122bc6b-f20f-406d-815b-87b71116fa58');\n",
              "          const dataTable =\n",
              "            await google.colab.kernel.invokeFunction('convertToInteractive',\n",
              "                                                     [key], {});\n",
              "          if (!dataTable) return;\n",
              "\n",
              "          const docLinkHtml = 'Like what you see? Visit the ' +\n",
              "            '<a target=\"_blank\" href=https://colab.research.google.com/notebooks/data_table.ipynb>data table notebook</a>'\n",
              "            + ' to learn more about interactive tables.';\n",
              "          element.innerHTML = '';\n",
              "          dataTable['output_type'] = 'display_data';\n",
              "          await google.colab.output.renderOutput(dataTable, element);\n",
              "          const docLink = document.createElement('div');\n",
              "          docLink.innerHTML = docLinkHtml;\n",
              "          element.appendChild(docLink);\n",
              "        }\n",
              "      </script>\n",
              "    </div>\n",
              "  </div>\n",
              "  "
            ]
          },
          "metadata": {},
          "execution_count": 137
        }
      ]
    },
    {
      "cell_type": "markdown",
      "source": [
        "USUALMENTE MIENTRAS MÁS CERCANO SEA A 0 SU VALOR DE DFFITS, MENOS INFLUENCIABLE SERÁ LA OBSERVACIÓN EN EL MODELO. LA MAYORÍA ESTAN RONDANDO EL CERO, EXCEPTO LOS ÍNDICES 301 Y 357. LAS MISMAS OBSERVACIONES QUE DETECTAMOS CON ANTERIORIDAD."
      ],
      "metadata": {
        "id": "CYp9XIflSw9H"
      }
    },
    {
      "cell_type": "markdown",
      "source": [
        "### Cook's Distance"
      ],
      "metadata": {
        "id": "v3edtJ0zRoZA"
      }
    },
    {
      "cell_type": "markdown",
      "source": [
        "PARA EVALUAR COOK'S DISTANCE SE ESTABLECE COMO VALOR LÍMITE EL TRIPLE DE LA MEDIA DE COOK'S DISTANCE PARA ESTABLECER VALORES INFLUENCIABLES."
      ],
      "metadata": {
        "id": "nnMuOrW0RyqB"
      }
    },
    {
      "cell_type": "code",
      "source": [
        "limit = (y_dep.loc[:,\"cooks_d\"].mean())*3\n",
        "outlier2 = pd.DataFrame((y_dep.R[abs(y_dep.cooks_d) > limit]))\n",
        "print(outlier2)"
      ],
      "metadata": {
        "colab": {
          "base_uri": "https://localhost:8080/"
        },
        "id": "vqEa-40ESIuY",
        "outputId": "ba827dfc-aafb-4e52-d649-e7a21a19264e"
      },
      "execution_count": 97,
      "outputs": [
        {
          "output_type": "stream",
          "name": "stdout",
          "text": [
            "            R\n",
            "301 -2.033554\n",
            "357 -2.455893\n"
          ]
        }
      ]
    },
    {
      "cell_type": "markdown",
      "source": [
        "SEGUIMOS CONSERVANDO LOS MISMOS DOS REGISTROS COMO VALORES INFLUENCIABLES."
      ],
      "metadata": {
        "id": "icbKMAFvSg0h"
      }
    },
    {
      "cell_type": "markdown",
      "source": [
        "# Modelo de regresión multiple 2"
      ],
      "metadata": {
        "id": "48xHXA1GZU2p"
      }
    },
    {
      "cell_type": "markdown",
      "source": [
        "AHORA QUE YA TENEMOS TODOS LOS VALORES INFLUENCIABLES, ASÍ COMO LOS OUTLIERS. PODEMOS REALIZAR NUESTRO SEGUNDO MODELO MEJORADO SIN ESTOS VALORES QUE AFECTAN LOS COEFICIENTES."
      ],
      "metadata": {
        "id": "rZQ-iQDLZXP1"
      }
    },
    {
      "cell_type": "code",
      "source": [
        "# Removemos valores influenciables y outliers\n",
        "X_NM = x.copy()\n",
        "Y_NM = ym.copy()\n",
        "\n",
        "X_NM = X_NM.drop([3, 16, 24, 53, 55, 90, 131, 180, 189, 199, 231, 240, 251, 254, 264, 271, 299, 301, 320, 324, 340, 357, 359, 374])\n",
        "Y_NM = Y_NM.drop([3, 16, 24, 53, 55, 90, 131, 180, 189, 199, 231, 240, 251, 254, 264, 271, 299, 301, 320, 324, 340, 357, 359, 374])"
      ],
      "metadata": {
        "id": "mqTJy7gFb8B-"
      },
      "execution_count": 98,
      "outputs": []
    },
    {
      "cell_type": "markdown",
      "source": [
        "## Betas"
      ],
      "metadata": {
        "id": "YYxMOfJaf3IG"
      }
    },
    {
      "cell_type": "markdown",
      "source": [
        "OBTENCIÓN DE LAS BETAS"
      ],
      "metadata": {
        "id": "MyU1lwvof3IH"
      }
    },
    {
      "cell_type": "code",
      "source": [
        "x = X_NM[['1', 'EPSP', 'OPM', 'BtMr', 'isSmall', 'isMedium']]"
      ],
      "metadata": {
        "id": "8JbuYmsxf3II"
      },
      "execution_count": 99,
      "outputs": []
    },
    {
      "cell_type": "code",
      "source": [
        "xt = x.transpose()"
      ],
      "metadata": {
        "id": "o3xyK-HDf3IJ"
      },
      "execution_count": 100,
      "outputs": []
    },
    {
      "cell_type": "code",
      "source": [
        "x2 = xt.dot(x)"
      ],
      "metadata": {
        "id": "rRgpPwDpf3IJ"
      },
      "execution_count": 101,
      "outputs": []
    },
    {
      "cell_type": "code",
      "source": [
        "xinv = np.linalg.inv(x2)"
      ],
      "metadata": {
        "id": "cKAcSVj6f3IK"
      },
      "execution_count": 102,
      "outputs": []
    },
    {
      "cell_type": "code",
      "source": [
        "aux = np.dot(xinv, xt)"
      ],
      "metadata": {
        "id": "URSOTeVVf3IK"
      },
      "execution_count": 103,
      "outputs": []
    },
    {
      "cell_type": "code",
      "source": [
        "Betas = aux.dot(Y_NM)"
      ],
      "metadata": {
        "id": "2Svu_Si0f3IS"
      },
      "execution_count": 104,
      "outputs": []
    },
    {
      "cell_type": "code",
      "source": [
        "Betas"
      ],
      "metadata": {
        "colab": {
          "base_uri": "https://localhost:8080/"
        },
        "outputId": "686cb11b-80cd-49c0-f790-6487e2326b57",
        "id": "9qHBHH3jf3IS"
      },
      "execution_count": 105,
      "outputs": [
        {
          "output_type": "execute_result",
          "data": {
            "text/plain": [
              "array([[-0.28231886],\n",
              "       [ 4.41658237],\n",
              "       [ 0.01584424],\n",
              "       [-0.01429631],\n",
              "       [-0.14091656],\n",
              "       [-0.10394451]])"
            ]
          },
          "metadata": {},
          "execution_count": 105
        }
      ]
    },
    {
      "cell_type": "code",
      "source": [
        "B = pd.DataFrame(Betas)\n",
        "B = B.transpose()\n",
        "B.columns = ['b','EPSP','OPM', 'BtMr', 'isSmall', 'isMedium']\n",
        "B = B.transpose()"
      ],
      "metadata": {
        "id": "RakyTUUPf3IS"
      },
      "execution_count": 106,
      "outputs": []
    },
    {
      "cell_type": "code",
      "source": [
        "B"
      ],
      "metadata": {
        "colab": {
          "base_uri": "https://localhost:8080/",
          "height": 237
        },
        "outputId": "fa6885cb-4c6c-48db-9719-d80c708e6ca6",
        "id": "o5P_UZnpf3IT"
      },
      "execution_count": 107,
      "outputs": [
        {
          "output_type": "execute_result",
          "data": {
            "text/plain": [
              "                 0\n",
              "b        -0.282319\n",
              "EPSP      4.416582\n",
              "OPM       0.015844\n",
              "BtMr     -0.014296\n",
              "isSmall  -0.140917\n",
              "isMedium -0.103945"
            ],
            "text/html": [
              "\n",
              "  <div id=\"df-53022050-c9c6-48bc-9a63-8215c4f20251\">\n",
              "    <div class=\"colab-df-container\">\n",
              "      <div>\n",
              "<style scoped>\n",
              "    .dataframe tbody tr th:only-of-type {\n",
              "        vertical-align: middle;\n",
              "    }\n",
              "\n",
              "    .dataframe tbody tr th {\n",
              "        vertical-align: top;\n",
              "    }\n",
              "\n",
              "    .dataframe thead th {\n",
              "        text-align: right;\n",
              "    }\n",
              "</style>\n",
              "<table border=\"1\" class=\"dataframe\">\n",
              "  <thead>\n",
              "    <tr style=\"text-align: right;\">\n",
              "      <th></th>\n",
              "      <th>0</th>\n",
              "    </tr>\n",
              "  </thead>\n",
              "  <tbody>\n",
              "    <tr>\n",
              "      <th>b</th>\n",
              "      <td>-0.282319</td>\n",
              "    </tr>\n",
              "    <tr>\n",
              "      <th>EPSP</th>\n",
              "      <td>4.416582</td>\n",
              "    </tr>\n",
              "    <tr>\n",
              "      <th>OPM</th>\n",
              "      <td>0.015844</td>\n",
              "    </tr>\n",
              "    <tr>\n",
              "      <th>BtMr</th>\n",
              "      <td>-0.014296</td>\n",
              "    </tr>\n",
              "    <tr>\n",
              "      <th>isSmall</th>\n",
              "      <td>-0.140917</td>\n",
              "    </tr>\n",
              "    <tr>\n",
              "      <th>isMedium</th>\n",
              "      <td>-0.103945</td>\n",
              "    </tr>\n",
              "  </tbody>\n",
              "</table>\n",
              "</div>\n",
              "      <button class=\"colab-df-convert\" onclick=\"convertToInteractive('df-53022050-c9c6-48bc-9a63-8215c4f20251')\"\n",
              "              title=\"Convert this dataframe to an interactive table.\"\n",
              "              style=\"display:none;\">\n",
              "        \n",
              "  <svg xmlns=\"http://www.w3.org/2000/svg\" height=\"24px\"viewBox=\"0 0 24 24\"\n",
              "       width=\"24px\">\n",
              "    <path d=\"M0 0h24v24H0V0z\" fill=\"none\"/>\n",
              "    <path d=\"M18.56 5.44l.94 2.06.94-2.06 2.06-.94-2.06-.94-.94-2.06-.94 2.06-2.06.94zm-11 1L8.5 8.5l.94-2.06 2.06-.94-2.06-.94L8.5 2.5l-.94 2.06-2.06.94zm10 10l.94 2.06.94-2.06 2.06-.94-2.06-.94-.94-2.06-.94 2.06-2.06.94z\"/><path d=\"M17.41 7.96l-1.37-1.37c-.4-.4-.92-.59-1.43-.59-.52 0-1.04.2-1.43.59L10.3 9.45l-7.72 7.72c-.78.78-.78 2.05 0 2.83L4 21.41c.39.39.9.59 1.41.59.51 0 1.02-.2 1.41-.59l7.78-7.78 2.81-2.81c.8-.78.8-2.07 0-2.86zM5.41 20L4 18.59l7.72-7.72 1.47 1.35L5.41 20z\"/>\n",
              "  </svg>\n",
              "      </button>\n",
              "      \n",
              "  <style>\n",
              "    .colab-df-container {\n",
              "      display:flex;\n",
              "      flex-wrap:wrap;\n",
              "      gap: 12px;\n",
              "    }\n",
              "\n",
              "    .colab-df-convert {\n",
              "      background-color: #E8F0FE;\n",
              "      border: none;\n",
              "      border-radius: 50%;\n",
              "      cursor: pointer;\n",
              "      display: none;\n",
              "      fill: #1967D2;\n",
              "      height: 32px;\n",
              "      padding: 0 0 0 0;\n",
              "      width: 32px;\n",
              "    }\n",
              "\n",
              "    .colab-df-convert:hover {\n",
              "      background-color: #E2EBFA;\n",
              "      box-shadow: 0px 1px 2px rgba(60, 64, 67, 0.3), 0px 1px 3px 1px rgba(60, 64, 67, 0.15);\n",
              "      fill: #174EA6;\n",
              "    }\n",
              "\n",
              "    [theme=dark] .colab-df-convert {\n",
              "      background-color: #3B4455;\n",
              "      fill: #D2E3FC;\n",
              "    }\n",
              "\n",
              "    [theme=dark] .colab-df-convert:hover {\n",
              "      background-color: #434B5C;\n",
              "      box-shadow: 0px 1px 3px 1px rgba(0, 0, 0, 0.15);\n",
              "      filter: drop-shadow(0px 1px 2px rgba(0, 0, 0, 0.3));\n",
              "      fill: #FFFFFF;\n",
              "    }\n",
              "  </style>\n",
              "\n",
              "      <script>\n",
              "        const buttonEl =\n",
              "          document.querySelector('#df-53022050-c9c6-48bc-9a63-8215c4f20251 button.colab-df-convert');\n",
              "        buttonEl.style.display =\n",
              "          google.colab.kernel.accessAllowed ? 'block' : 'none';\n",
              "\n",
              "        async function convertToInteractive(key) {\n",
              "          const element = document.querySelector('#df-53022050-c9c6-48bc-9a63-8215c4f20251');\n",
              "          const dataTable =\n",
              "            await google.colab.kernel.invokeFunction('convertToInteractive',\n",
              "                                                     [key], {});\n",
              "          if (!dataTable) return;\n",
              "\n",
              "          const docLinkHtml = 'Like what you see? Visit the ' +\n",
              "            '<a target=\"_blank\" href=https://colab.research.google.com/notebooks/data_table.ipynb>data table notebook</a>'\n",
              "            + ' to learn more about interactive tables.';\n",
              "          element.innerHTML = '';\n",
              "          dataTable['output_type'] = 'display_data';\n",
              "          await google.colab.output.renderOutput(dataTable, element);\n",
              "          const docLink = document.createElement('div');\n",
              "          docLink.innerHTML = docLinkHtml;\n",
              "          element.appendChild(docLink);\n",
              "        }\n",
              "      </script>\n",
              "    </div>\n",
              "  </div>\n",
              "  "
            ]
          },
          "metadata": {},
          "execution_count": 107
        }
      ]
    },
    {
      "cell_type": "markdown",
      "source": [
        "## Modelo"
      ],
      "metadata": {
        "id": "cMM34WdJf8uu"
      }
    },
    {
      "cell_type": "code",
      "source": [
        "model2 = sm.OLS(Y_NM, sm.add_constant(X_NM)).fit()\n",
        "print(model2.summary())"
      ],
      "metadata": {
        "colab": {
          "base_uri": "https://localhost:8080/"
        },
        "id": "VrSDL3kHcILQ",
        "outputId": "c38b9860-046b-407c-9218-ea298592c98e"
      },
      "execution_count": 108,
      "outputs": [
        {
          "output_type": "stream",
          "name": "stdout",
          "text": [
            "                            OLS Regression Results                            \n",
            "==============================================================================\n",
            "Dep. Variable:                      R   R-squared:                       0.356\n",
            "Model:                            OLS   Adj. R-squared:                  0.346\n",
            "Method:                 Least Squares   F-statistic:                     34.59\n",
            "Date:                Fri, 25 Nov 2022   Prob (F-statistic):           4.07e-28\n",
            "Time:                        20:42:17   Log-Likelihood:                -150.68\n",
            "No. Observations:                 319   AIC:                             313.4\n",
            "Df Residuals:                     313   BIC:                             335.9\n",
            "Df Model:                           5                                         \n",
            "Covariance Type:            nonrobust                                         \n",
            "==============================================================================\n",
            "                 coef    std err          t      P>|t|      [0.025      0.975]\n",
            "------------------------------------------------------------------------------\n",
            "1             -0.2823      0.038     -7.458      0.000      -0.357      -0.208\n",
            "EPSP           4.4166      0.436     10.134      0.000       3.559       5.274\n",
            "OPM            0.0158      0.005      3.293      0.001       0.006       0.025\n",
            "BtMr          -0.0143      0.046     -0.313      0.754      -0.104       0.076\n",
            "isSmall       -0.1409      0.059     -2.379      0.018      -0.257      -0.024\n",
            "isMedium      -0.1039      0.054     -1.937      0.054      -0.210       0.002\n",
            "==============================================================================\n",
            "Omnibus:                        2.723   Durbin-Watson:                   2.008\n",
            "Prob(Omnibus):                  0.256   Jarque-Bera (JB):                2.605\n",
            "Skew:                          -0.221   Prob(JB):                        0.272\n",
            "Kurtosis:                       3.015   Cond. No.                         93.3\n",
            "==============================================================================\n",
            "\n",
            "Notes:\n",
            "[1] Standard Errors assume that the covariance matrix of the errors is correctly specified.\n"
          ]
        },
        {
          "output_type": "stream",
          "name": "stderr",
          "text": [
            "/usr/local/lib/python3.7/dist-packages/statsmodels/tsa/tsatools.py:142: FutureWarning: In a future version of pandas all arguments of concat except for the argument 'objs' will be keyword-only\n",
            "  x = pd.concat(x[::order], 1)\n"
          ]
        }
      ]
    },
    {
      "cell_type": "markdown",
      "source": [
        "PASAMOS DE UNA R2 DE 0.296 A 0.356, SIENDO UNA MEJORÍA DEL 20.27%"
      ],
      "metadata": {
        "id": "Apop57JGd1YM"
      }
    },
    {
      "cell_type": "markdown",
      "source": [
        "# Modelo de regresión multiple 3"
      ],
      "metadata": {
        "id": "gqFeUHC0ehgO"
      }
    },
    {
      "cell_type": "markdown",
      "source": [
        "EVALUAREMOS IGUALMENTE EL CASO DONDE SOLO ELIMINAMOS LOS DATOS INFLUENCABLES."
      ],
      "metadata": {
        "id": "zde5o_1XehgP"
      }
    },
    {
      "cell_type": "code",
      "source": [
        "x = temp[['EPSP', 'OPM', 'BtMr', 'isSmall', 'isMedium']]\n",
        "y = temp['R']\n",
        "# Removemos valores influenciables\n",
        "X_NM2 = x.copy()\n",
        "Y_NM2 = ym.copy()\n",
        "\n",
        "X_NM2 = X_NM2.drop([301, 357])\n",
        "Y_NM2 = Y_NM2.drop([301, 357])"
      ],
      "metadata": {
        "id": "NHEi13F9ehgQ"
      },
      "execution_count": 115,
      "outputs": []
    },
    {
      "cell_type": "markdown",
      "source": [
        "## Betas"
      ],
      "metadata": {
        "id": "Q8KXHyVBg4TH"
      }
    },
    {
      "cell_type": "markdown",
      "source": [
        "OBTENCIÓN DE LAS BETAS"
      ],
      "metadata": {
        "id": "3dro7SeMg4TI"
      }
    },
    {
      "cell_type": "code",
      "source": [
        "X_NM2['1'] = 1"
      ],
      "metadata": {
        "id": "SA-pL0ApkAvo"
      },
      "execution_count": 117,
      "outputs": []
    },
    {
      "cell_type": "code",
      "source": [
        "x = X_NM2[['1', 'EPSP', 'OPM', 'BtMr', 'isSmall', 'isMedium']]"
      ],
      "metadata": {
        "id": "c4OoRCnog4TI"
      },
      "execution_count": 118,
      "outputs": []
    },
    {
      "cell_type": "code",
      "source": [
        "xt = x.transpose()"
      ],
      "metadata": {
        "id": "059xE53Fg4TJ"
      },
      "execution_count": 119,
      "outputs": []
    },
    {
      "cell_type": "code",
      "source": [
        "x2 = xt.dot(x)"
      ],
      "metadata": {
        "id": "Z_rSI5Yvg4TJ"
      },
      "execution_count": 120,
      "outputs": []
    },
    {
      "cell_type": "code",
      "source": [
        "xinv = np.linalg.inv(x2)"
      ],
      "metadata": {
        "id": "AsO7xV-hg4TJ"
      },
      "execution_count": 121,
      "outputs": []
    },
    {
      "cell_type": "code",
      "source": [
        "aux = np.dot(xinv, xt)"
      ],
      "metadata": {
        "id": "co7eond0g4TK"
      },
      "execution_count": 122,
      "outputs": []
    },
    {
      "cell_type": "code",
      "source": [
        "Betas = aux.dot(Y_NM2)"
      ],
      "metadata": {
        "id": "CYmBhCLog4TK"
      },
      "execution_count": 123,
      "outputs": []
    },
    {
      "cell_type": "code",
      "source": [
        "Betas"
      ],
      "metadata": {
        "colab": {
          "base_uri": "https://localhost:8080/"
        },
        "outputId": "13f90581-86ba-438a-eab1-505b7a034ad6",
        "id": "PMH5jo8Bg4TL"
      },
      "execution_count": 124,
      "outputs": [
        {
          "output_type": "execute_result",
          "data": {
            "text/plain": [
              "array([[-0.33807545],\n",
              "       [ 5.80300809],\n",
              "       [ 0.01987908],\n",
              "       [-0.04276348],\n",
              "       [-0.08780651],\n",
              "       [-0.11186333]])"
            ]
          },
          "metadata": {},
          "execution_count": 124
        }
      ]
    },
    {
      "cell_type": "code",
      "source": [
        "B = pd.DataFrame(Betas)\n",
        "B = B.transpose()\n",
        "B.columns = ['b','EPSP','OPM', 'BtMr', 'isSmall', 'isMedium']\n",
        "B = B.transpose()"
      ],
      "metadata": {
        "id": "o5zQuGPvg4TL"
      },
      "execution_count": 125,
      "outputs": []
    },
    {
      "cell_type": "code",
      "source": [
        "B"
      ],
      "metadata": {
        "colab": {
          "base_uri": "https://localhost:8080/",
          "height": 237
        },
        "outputId": "a62eb568-874e-4685-afbc-750efda01dc6",
        "id": "vJV-xQbeg4TM"
      },
      "execution_count": 126,
      "outputs": [
        {
          "output_type": "execute_result",
          "data": {
            "text/plain": [
              "                 0\n",
              "b        -0.338075\n",
              "EPSP      5.803008\n",
              "OPM       0.019879\n",
              "BtMr     -0.042763\n",
              "isSmall  -0.087807\n",
              "isMedium -0.111863"
            ],
            "text/html": [
              "\n",
              "  <div id=\"df-9dcb7544-1b31-4352-bbcb-49a94351fa5e\">\n",
              "    <div class=\"colab-df-container\">\n",
              "      <div>\n",
              "<style scoped>\n",
              "    .dataframe tbody tr th:only-of-type {\n",
              "        vertical-align: middle;\n",
              "    }\n",
              "\n",
              "    .dataframe tbody tr th {\n",
              "        vertical-align: top;\n",
              "    }\n",
              "\n",
              "    .dataframe thead th {\n",
              "        text-align: right;\n",
              "    }\n",
              "</style>\n",
              "<table border=\"1\" class=\"dataframe\">\n",
              "  <thead>\n",
              "    <tr style=\"text-align: right;\">\n",
              "      <th></th>\n",
              "      <th>0</th>\n",
              "    </tr>\n",
              "  </thead>\n",
              "  <tbody>\n",
              "    <tr>\n",
              "      <th>b</th>\n",
              "      <td>-0.338075</td>\n",
              "    </tr>\n",
              "    <tr>\n",
              "      <th>EPSP</th>\n",
              "      <td>5.803008</td>\n",
              "    </tr>\n",
              "    <tr>\n",
              "      <th>OPM</th>\n",
              "      <td>0.019879</td>\n",
              "    </tr>\n",
              "    <tr>\n",
              "      <th>BtMr</th>\n",
              "      <td>-0.042763</td>\n",
              "    </tr>\n",
              "    <tr>\n",
              "      <th>isSmall</th>\n",
              "      <td>-0.087807</td>\n",
              "    </tr>\n",
              "    <tr>\n",
              "      <th>isMedium</th>\n",
              "      <td>-0.111863</td>\n",
              "    </tr>\n",
              "  </tbody>\n",
              "</table>\n",
              "</div>\n",
              "      <button class=\"colab-df-convert\" onclick=\"convertToInteractive('df-9dcb7544-1b31-4352-bbcb-49a94351fa5e')\"\n",
              "              title=\"Convert this dataframe to an interactive table.\"\n",
              "              style=\"display:none;\">\n",
              "        \n",
              "  <svg xmlns=\"http://www.w3.org/2000/svg\" height=\"24px\"viewBox=\"0 0 24 24\"\n",
              "       width=\"24px\">\n",
              "    <path d=\"M0 0h24v24H0V0z\" fill=\"none\"/>\n",
              "    <path d=\"M18.56 5.44l.94 2.06.94-2.06 2.06-.94-2.06-.94-.94-2.06-.94 2.06-2.06.94zm-11 1L8.5 8.5l.94-2.06 2.06-.94-2.06-.94L8.5 2.5l-.94 2.06-2.06.94zm10 10l.94 2.06.94-2.06 2.06-.94-2.06-.94-.94-2.06-.94 2.06-2.06.94z\"/><path d=\"M17.41 7.96l-1.37-1.37c-.4-.4-.92-.59-1.43-.59-.52 0-1.04.2-1.43.59L10.3 9.45l-7.72 7.72c-.78.78-.78 2.05 0 2.83L4 21.41c.39.39.9.59 1.41.59.51 0 1.02-.2 1.41-.59l7.78-7.78 2.81-2.81c.8-.78.8-2.07 0-2.86zM5.41 20L4 18.59l7.72-7.72 1.47 1.35L5.41 20z\"/>\n",
              "  </svg>\n",
              "      </button>\n",
              "      \n",
              "  <style>\n",
              "    .colab-df-container {\n",
              "      display:flex;\n",
              "      flex-wrap:wrap;\n",
              "      gap: 12px;\n",
              "    }\n",
              "\n",
              "    .colab-df-convert {\n",
              "      background-color: #E8F0FE;\n",
              "      border: none;\n",
              "      border-radius: 50%;\n",
              "      cursor: pointer;\n",
              "      display: none;\n",
              "      fill: #1967D2;\n",
              "      height: 32px;\n",
              "      padding: 0 0 0 0;\n",
              "      width: 32px;\n",
              "    }\n",
              "\n",
              "    .colab-df-convert:hover {\n",
              "      background-color: #E2EBFA;\n",
              "      box-shadow: 0px 1px 2px rgba(60, 64, 67, 0.3), 0px 1px 3px 1px rgba(60, 64, 67, 0.15);\n",
              "      fill: #174EA6;\n",
              "    }\n",
              "\n",
              "    [theme=dark] .colab-df-convert {\n",
              "      background-color: #3B4455;\n",
              "      fill: #D2E3FC;\n",
              "    }\n",
              "\n",
              "    [theme=dark] .colab-df-convert:hover {\n",
              "      background-color: #434B5C;\n",
              "      box-shadow: 0px 1px 3px 1px rgba(0, 0, 0, 0.15);\n",
              "      filter: drop-shadow(0px 1px 2px rgba(0, 0, 0, 0.3));\n",
              "      fill: #FFFFFF;\n",
              "    }\n",
              "  </style>\n",
              "\n",
              "      <script>\n",
              "        const buttonEl =\n",
              "          document.querySelector('#df-9dcb7544-1b31-4352-bbcb-49a94351fa5e button.colab-df-convert');\n",
              "        buttonEl.style.display =\n",
              "          google.colab.kernel.accessAllowed ? 'block' : 'none';\n",
              "\n",
              "        async function convertToInteractive(key) {\n",
              "          const element = document.querySelector('#df-9dcb7544-1b31-4352-bbcb-49a94351fa5e');\n",
              "          const dataTable =\n",
              "            await google.colab.kernel.invokeFunction('convertToInteractive',\n",
              "                                                     [key], {});\n",
              "          if (!dataTable) return;\n",
              "\n",
              "          const docLinkHtml = 'Like what you see? Visit the ' +\n",
              "            '<a target=\"_blank\" href=https://colab.research.google.com/notebooks/data_table.ipynb>data table notebook</a>'\n",
              "            + ' to learn more about interactive tables.';\n",
              "          element.innerHTML = '';\n",
              "          dataTable['output_type'] = 'display_data';\n",
              "          await google.colab.output.renderOutput(dataTable, element);\n",
              "          const docLink = document.createElement('div');\n",
              "          docLink.innerHTML = docLinkHtml;\n",
              "          element.appendChild(docLink);\n",
              "        }\n",
              "      </script>\n",
              "    </div>\n",
              "  </div>\n",
              "  "
            ]
          },
          "metadata": {},
          "execution_count": 126
        }
      ]
    },
    {
      "cell_type": "markdown",
      "source": [
        "## Modelo"
      ],
      "metadata": {
        "id": "_FwtH038g2RS"
      }
    },
    {
      "cell_type": "markdown",
      "source": [
        "SE PUEDE VER COMO LAS BETAS CALCULADAS POR ÁLGEBRA MATRICIAL SON LAS MISMAS QUE LAS CALCULADAS POR FUNCIONES DE PYTHON, POR LO QUE SE PUEDE COMPROBAR QUE LOS CÁLCULOS FUERON HECHOS DE MANERA ADECUADA."
      ],
      "metadata": {
        "id": "HqhsUfSKdF-9"
      }
    },
    {
      "cell_type": "code",
      "source": [
        "model3 = sm.OLS(Y_NM2, sm.add_constant(X_NM2)).fit()\n",
        "print(model3.summary())"
      ],
      "metadata": {
        "colab": {
          "base_uri": "https://localhost:8080/"
        },
        "outputId": "6acc708d-42df-4fd4-e258-83bec0ed978e",
        "id": "BjvU4yOyehgQ"
      },
      "execution_count": 127,
      "outputs": [
        {
          "output_type": "stream",
          "name": "stdout",
          "text": [
            "                            OLS Regression Results                            \n",
            "==============================================================================\n",
            "Dep. Variable:                      R   R-squared:                       0.384\n",
            "Model:                            OLS   Adj. R-squared:                  0.375\n",
            "Method:                 Least Squares   F-statistic:                     41.73\n",
            "Date:                Fri, 25 Nov 2022   Prob (F-statistic):           2.39e-33\n",
            "Time:                        20:53:43   Log-Likelihood:                -240.87\n",
            "No. Observations:                 341   AIC:                             493.7\n",
            "Df Residuals:                     335   BIC:                             516.7\n",
            "Df Model:                           5                                         \n",
            "Covariance Type:            nonrobust                                         \n",
            "==============================================================================\n",
            "                 coef    std err          t      P>|t|      [0.025      0.975]\n",
            "------------------------------------------------------------------------------\n",
            "EPSP           5.8030      0.509     11.409      0.000       4.802       6.804\n",
            "OPM            0.0199      0.005      3.830      0.000       0.010       0.030\n",
            "BtMr          -0.0428      0.056     -0.757      0.449      -0.154       0.068\n",
            "isSmall       -0.0878      0.073     -1.203      0.230      -0.231       0.056\n",
            "isMedium      -0.1119      0.066     -1.691      0.092      -0.242       0.018\n",
            "1             -0.3381      0.047     -7.232      0.000      -0.430      -0.246\n",
            "==============================================================================\n",
            "Omnibus:                       20.886   Durbin-Watson:                   1.960\n",
            "Prob(Omnibus):                  0.000   Jarque-Bera (JB):               27.878\n",
            "Skew:                          -0.479   Prob(JB):                     8.84e-07\n",
            "Kurtosis:                       4.021   Cond. No.                         101.\n",
            "==============================================================================\n",
            "\n",
            "Notes:\n",
            "[1] Standard Errors assume that the covariance matrix of the errors is correctly specified.\n"
          ]
        },
        {
          "output_type": "stream",
          "name": "stderr",
          "text": [
            "/usr/local/lib/python3.7/dist-packages/statsmodels/tsa/tsatools.py:142: FutureWarning: In a future version of pandas all arguments of concat except for the argument 'objs' will be keyword-only\n",
            "  x = pd.concat(x[::order], 1)\n"
          ]
        }
      ]
    },
    {
      "cell_type": "markdown",
      "source": [
        "PASAMOS DE UNA R2 DE 0.356 A 0.384, SIENDO UNA MEJORÍA DEL 7.86% RESPECTO AL MODELO ANTERIOR Y DE UN 29.73% RESPECTO AL MODELO ORIGINAL.\n",
        "\n",
        "DE TODOS LOS MODELOS REALIZADOS PODEMOS CONCLUIR QUE AQUEL DONDE ELIMINAMOS ÚNICAMENTE LOS VALORES INFLUENCIABLES ES EL QUE CUENTA CON UN MEJOR RENDIMIENTO.\n",
        "\n",
        "NUVEMANTE COMPROBANDO LO MUCHO QUE PUEDEN VERSE AFECTADOS LOS COEFICIENTES ANTE VALORES MUY GRANDES DE LEVERAGES Y OUTLIERS, ASÍ COMO DEMOSTRAMOS LA IMPORTANCIA DEL ANÁLISIS ADECUADO DE ESTAS MÉTRICAS PARA LLEGAR A RESULTADOS FAVORABLES."
      ],
      "metadata": {
        "id": "8oaA14TqehgR"
      }
    }
  ]
}
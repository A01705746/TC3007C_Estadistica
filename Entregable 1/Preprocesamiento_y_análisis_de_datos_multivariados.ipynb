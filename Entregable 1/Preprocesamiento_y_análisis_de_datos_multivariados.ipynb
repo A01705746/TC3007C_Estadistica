{
  "nbformat": 4,
  "nbformat_minor": 0,
  "metadata": {
    "colab": {
      "provenance": [],
      "collapsed_sections": [
        "MoFXsA5qum0V",
        "W_uxXjczhu1_",
        "SLyBxmoCiEYH"
      ]
    },
    "kernelspec": {
      "name": "python3",
      "display_name": "Python 3"
    },
    "language_info": {
      "name": "python"
    }
  },
  "cells": [
    {
      "cell_type": "markdown",
      "source": [
        "**Enrique Santos Fraire, 3/10/2022**"
      ],
      "metadata": {
        "id": "zdm73Qb-UTFM"
      }
    },
    {
      "cell_type": "markdown",
      "source": [
        "# Introducción"
      ],
      "metadata": {
        "id": "MoFXsA5qum0V"
      }
    },
    {
      "cell_type": "markdown",
      "source": [
        "Utilizando el dataset del bloque anterior se realizó lo siguiente:\n",
        "\n",
        "\n",
        "1.- Realiza un análisis exploratorio de las variables:\n",
        "\n",
        "Calcula matriz de varianza y covarianza, así como matriz de correlación de las variables independientes y la dependiente. Explicar qué es la varianza, covarianza y correlación. Interpreta la matriz de correlación. Tiene que utilizar álgebra matricial y corroborar resultados con funciones de Python.\n",
        "\n",
        "Corre pruebas estadísticas para detectar outliers y leverage points. Tiene que utilizar álgebra matricial para las pruebas y explicar claramente cómo funcionan las pruebas. Puede utilizar funciones de Python para corroborar resultados.\n",
        "\n",
        "2.- Hace un análisis de multicolinealidad explicando la prueba e implicaciones en el modelo.\n",
        "\n",
        "3.- Propone e implementa soluciones a los problemas de los puntos anteriores para que el modelo sea el más adecuado.\n",
        "\n",
        "4.-Estima e interpreta un modelo de regresión múltiple después de atender los problemas anteriores. Tiene que utilizar álgebra matricial para estimar coeficientes y errores estándar del modelo de regresión, y utilizar funciones de Python para corroborar resultados.\n"
      ],
      "metadata": {
        "id": "cf-KdyNAutEe"
      }
    },
    {
      "cell_type": "markdown",
      "source": [
        "# CARGA Y LIMPIEZA DE DATOS"
      ],
      "metadata": {
        "id": "W_uxXjczhu1_"
      }
    },
    {
      "cell_type": "code",
      "source": [
        "from google.colab import drive\n",
        "\n",
        "drive.mount(\"/content/gdrive\")  \n",
        "!pwd  # show current path "
      ],
      "metadata": {
        "colab": {
          "base_uri": "https://localhost:8080/"
        },
        "id": "zU72cnwjNJiO",
        "outputId": "0803dbab-cccd-4b2f-f430-f1885a2cb114"
      },
      "execution_count": null,
      "outputs": [
        {
          "output_type": "stream",
          "name": "stdout",
          "text": [
            "Mounted at /content/gdrive\n",
            "/content\n"
          ]
        }
      ]
    },
    {
      "cell_type": "code",
      "source": [
        "%cd \"/content/gdrive/MyDrive/Semestre IA 2/Estadística Avanzada para la Ciencia de Datos\"\n",
        "!ls  # show current directory"
      ],
      "metadata": {
        "colab": {
          "base_uri": "https://localhost:8080/"
        },
        "id": "ybps8ec_NOeX",
        "outputId": "06096289-c8b6-4f4c-8a1e-8713f1cbcd66"
      },
      "execution_count": null,
      "outputs": [
        {
          "output_type": "stream",
          "name": "stdout",
          "text": [
            "/content/gdrive/MyDrive/Semestre IA 2/Estadística Avanzada para la Ciencia de Datos\n",
            "'Preprocesamiento y análisis de datos multivariados.ipynb'   usfirms2022.csv\n",
            " us2022q2a.csv\n"
          ]
        }
      ]
    },
    {
      "cell_type": "markdown",
      "source": [
        "IMPORTACIÓN DE LIBRERÍAS"
      ],
      "metadata": {
        "id": "4_I27-PA2PB9"
      }
    },
    {
      "cell_type": "code",
      "source": [
        "import pandas as pd\n",
        "import plotly.express as px\n",
        "import numpy as np\n",
        "\n",
        "df1 = pd.read_csv('us2022q2a.csv')\n",
        "df2 = pd.read_csv('usfirms2022.csv')"
      ],
      "metadata": {
        "id": "yqLuGskjN5It"
      },
      "execution_count": null,
      "outputs": []
    },
    {
      "cell_type": "markdown",
      "source": [
        "DROPEAMOS LOS DATOS QUE NO APORTAN INFORMACIÓN AL MODELO, FISCALMONTH, YEAR Y CTO YA ESTAN EN Q. COUNTRY OF ORIGIN Y ASSET ES INFORMACIÓN QUE NO CAMBIA."
      ],
      "metadata": {
        "id": "nd42TaZVgRcP"
      }
    },
    {
      "cell_type": "code",
      "source": [
        "df1 = df1.drop(['fiscalmonth', 'year', 'cto'], axis=1)\n",
        "df2 = df2.drop(['N', 'Country\\nof Origin', 'Type of Asset'], axis=1)"
      ],
      "metadata": {
        "id": "Xb_j9P5ec2yj"
      },
      "execution_count": null,
      "outputs": []
    },
    {
      "cell_type": "markdown",
      "source": [
        "UNIMOS AMBOS DATA FRAMES."
      ],
      "metadata": {
        "id": "1JfkDAFagoXw"
      }
    },
    {
      "cell_type": "code",
      "source": [
        "df_merge = df1.merge(df2, left_on='firm', right_on='Ticker')\n",
        "df_merge"
      ],
      "metadata": {
        "colab": {
          "base_uri": "https://localhost:8080/",
          "height": 956
        },
        "id": "BNaU3QgATJHr",
        "outputId": "5a110d9e-8adf-4016-84f1-7706f2f805ab"
      },
      "execution_count": null,
      "outputs": [
        {
          "output_type": "execute_result",
          "data": {
            "text/plain": [
              "        firm       q    revenue       cogs          sgae  otheropexp  \\\n",
              "0          A  2000q1        NaN        NaN           NaN         NaN   \n",
              "1          A  2000q2  2485000.0  1261000.0  1.010000e+06         0.0   \n",
              "2          A  2000q3  2670000.0  1369000.0  1.091000e+06         0.0   \n",
              "3          A  2000q4  3372000.0  1732000.0  1.182000e+06         0.0   \n",
              "4          A  2001q1  2841000.0  1449000.0  1.113000e+06         0.0   \n",
              "...      ...     ...        ...        ...           ...         ...   \n",
              "323811  ZYNE  2021q2        0.0        0.0  9.838494e+03         0.0   \n",
              "323812  ZYNE  2021q3        0.0        0.0  1.021065e+04         0.0   \n",
              "323813  ZYNE  2021q4        0.0        0.0  8.836436e+03         0.0   \n",
              "323814  ZYNE  2022q1        0.0        0.0  8.903915e+03         0.0   \n",
              "323815  ZYNE  2022q2        0.0        0.0  9.168770e+03         0.0   \n",
              "\n",
              "         extraincome  finexp  incometax  totalassets  ...  originalprice  \\\n",
              "0                NaN     NaN        NaN          NaN  ...       104.0000   \n",
              "1       42000.000000   0.000    90000.0  7321000.000  ...        73.7500   \n",
              "2       28000.000000   0.000    83000.0  7827000.000  ...        48.9375   \n",
              "3       10000.000000   0.000   163000.0  8425000.000  ...        54.7500   \n",
              "4       -6000.000000   0.000   119000.0  9208000.000  ...        30.7300   \n",
              "...              ...     ...        ...          ...  ...            ...   \n",
              "323811   -117.528220  -5.943        0.0    98195.904  ...         5.2900   \n",
              "323812   -376.636750  -5.038        0.0    89996.170  ...         4.2400   \n",
              "323813     16.937906  -4.433        0.0    81171.507  ...         2.8800   \n",
              "323814    317.252110 -96.044        0.0    74381.029  ...         2.0500   \n",
              "323815   -775.927860 -91.691        0.0    67006.959  ...         1.1400   \n",
              "\n",
              "        sharesoutstanding  Ticker                          Name  Class  \\\n",
              "0              452000.000       A     Agilent Technologies, Inc    Com   \n",
              "1              452271.967       A     Agilent Technologies, Inc    Com   \n",
              "2              453014.579       A     Agilent Technologies, Inc    Com   \n",
              "3              456366.381       A     Agilent Technologies, Inc    Com   \n",
              "4              456769.737       A     Agilent Technologies, Inc    Com   \n",
              "...                   ...     ...                           ...    ...   \n",
              "323811          41251.537    ZYNE  Zynerba Pharmaceuticals, Inc    Com   \n",
              "323812          41251.537    ZYNE  Zynerba Pharmaceuticals, Inc    Com   \n",
              "323813          41217.537    ZYNE  Zynerba Pharmaceuticals, Inc    Com   \n",
              "323814          42447.037    ZYNE  Zynerba Pharmaceuticals, Inc    Com   \n",
              "323815          43595.959    ZYNE  Zynerba Pharmaceuticals, Inc    Com   \n",
              "\n",
              "        Sector NAICS\\nlevel 1  Exchange / Src Sector\\nEconomatica  \\\n",
              "0               Manufacturing            NYSE   Electric Electron   \n",
              "1               Manufacturing            NYSE   Electric Electron   \n",
              "2               Manufacturing            NYSE   Electric Electron   \n",
              "3               Manufacturing            NYSE   Electric Electron   \n",
              "4               Manufacturing            NYSE   Electric Electron   \n",
              "...                       ...             ...                 ...   \n",
              "323811          Manufacturing          NASDAQ            Chemical   \n",
              "323812          Manufacturing          NASDAQ            Chemical   \n",
              "323813          Manufacturing          NASDAQ            Chemical   \n",
              "323814          Manufacturing          NASDAQ            Chemical   \n",
              "323815          Manufacturing          NASDAQ            Chemical   \n",
              "\n",
              "                             Sector NAICS\\nlast available partind  \n",
              "0       Navigational, Measuring, Electromedical, and C...   0.124  \n",
              "1       Navigational, Measuring, Electromedical, and C...   0.124  \n",
              "2       Navigational, Measuring, Electromedical, and C...   0.124  \n",
              "3       Navigational, Measuring, Electromedical, and C...   0.124  \n",
              "4       Navigational, Measuring, Electromedical, and C...   0.124  \n",
              "...                                                   ...     ...  \n",
              "323811          Pharmaceutical and Medicine Manufacturing       -  \n",
              "323812          Pharmaceutical and Medicine Manufacturing       -  \n",
              "323813          Pharmaceutical and Medicine Manufacturing       -  \n",
              "323814          Pharmaceutical and Medicine Manufacturing       -  \n",
              "323815          Pharmaceutical and Medicine Manufacturing       -  \n",
              "\n",
              "[323816 rows x 25 columns]"
            ],
            "text/html": [
              "\n",
              "  <div id=\"df-0bf4a594-d412-417d-9dab-f7eb7aa02bd1\">\n",
              "    <div class=\"colab-df-container\">\n",
              "      <div>\n",
              "<style scoped>\n",
              "    .dataframe tbody tr th:only-of-type {\n",
              "        vertical-align: middle;\n",
              "    }\n",
              "\n",
              "    .dataframe tbody tr th {\n",
              "        vertical-align: top;\n",
              "    }\n",
              "\n",
              "    .dataframe thead th {\n",
              "        text-align: right;\n",
              "    }\n",
              "</style>\n",
              "<table border=\"1\" class=\"dataframe\">\n",
              "  <thead>\n",
              "    <tr style=\"text-align: right;\">\n",
              "      <th></th>\n",
              "      <th>firm</th>\n",
              "      <th>q</th>\n",
              "      <th>revenue</th>\n",
              "      <th>cogs</th>\n",
              "      <th>sgae</th>\n",
              "      <th>otheropexp</th>\n",
              "      <th>extraincome</th>\n",
              "      <th>finexp</th>\n",
              "      <th>incometax</th>\n",
              "      <th>totalassets</th>\n",
              "      <th>...</th>\n",
              "      <th>originalprice</th>\n",
              "      <th>sharesoutstanding</th>\n",
              "      <th>Ticker</th>\n",
              "      <th>Name</th>\n",
              "      <th>Class</th>\n",
              "      <th>Sector NAICS\\nlevel 1</th>\n",
              "      <th>Exchange / Src</th>\n",
              "      <th>Sector\\nEconomatica</th>\n",
              "      <th>Sector NAICS\\nlast available</th>\n",
              "      <th>partind</th>\n",
              "    </tr>\n",
              "  </thead>\n",
              "  <tbody>\n",
              "    <tr>\n",
              "      <th>0</th>\n",
              "      <td>A</td>\n",
              "      <td>2000q1</td>\n",
              "      <td>NaN</td>\n",
              "      <td>NaN</td>\n",
              "      <td>NaN</td>\n",
              "      <td>NaN</td>\n",
              "      <td>NaN</td>\n",
              "      <td>NaN</td>\n",
              "      <td>NaN</td>\n",
              "      <td>NaN</td>\n",
              "      <td>...</td>\n",
              "      <td>104.0000</td>\n",
              "      <td>452000.000</td>\n",
              "      <td>A</td>\n",
              "      <td>Agilent Technologies, Inc</td>\n",
              "      <td>Com</td>\n",
              "      <td>Manufacturing</td>\n",
              "      <td>NYSE</td>\n",
              "      <td>Electric Electron</td>\n",
              "      <td>Navigational, Measuring, Electromedical, and C...</td>\n",
              "      <td>0.124</td>\n",
              "    </tr>\n",
              "    <tr>\n",
              "      <th>1</th>\n",
              "      <td>A</td>\n",
              "      <td>2000q2</td>\n",
              "      <td>2485000.0</td>\n",
              "      <td>1261000.0</td>\n",
              "      <td>1.010000e+06</td>\n",
              "      <td>0.0</td>\n",
              "      <td>42000.000000</td>\n",
              "      <td>0.000</td>\n",
              "      <td>90000.0</td>\n",
              "      <td>7321000.000</td>\n",
              "      <td>...</td>\n",
              "      <td>73.7500</td>\n",
              "      <td>452271.967</td>\n",
              "      <td>A</td>\n",
              "      <td>Agilent Technologies, Inc</td>\n",
              "      <td>Com</td>\n",
              "      <td>Manufacturing</td>\n",
              "      <td>NYSE</td>\n",
              "      <td>Electric Electron</td>\n",
              "      <td>Navigational, Measuring, Electromedical, and C...</td>\n",
              "      <td>0.124</td>\n",
              "    </tr>\n",
              "    <tr>\n",
              "      <th>2</th>\n",
              "      <td>A</td>\n",
              "      <td>2000q3</td>\n",
              "      <td>2670000.0</td>\n",
              "      <td>1369000.0</td>\n",
              "      <td>1.091000e+06</td>\n",
              "      <td>0.0</td>\n",
              "      <td>28000.000000</td>\n",
              "      <td>0.000</td>\n",
              "      <td>83000.0</td>\n",
              "      <td>7827000.000</td>\n",
              "      <td>...</td>\n",
              "      <td>48.9375</td>\n",
              "      <td>453014.579</td>\n",
              "      <td>A</td>\n",
              "      <td>Agilent Technologies, Inc</td>\n",
              "      <td>Com</td>\n",
              "      <td>Manufacturing</td>\n",
              "      <td>NYSE</td>\n",
              "      <td>Electric Electron</td>\n",
              "      <td>Navigational, Measuring, Electromedical, and C...</td>\n",
              "      <td>0.124</td>\n",
              "    </tr>\n",
              "    <tr>\n",
              "      <th>3</th>\n",
              "      <td>A</td>\n",
              "      <td>2000q4</td>\n",
              "      <td>3372000.0</td>\n",
              "      <td>1732000.0</td>\n",
              "      <td>1.182000e+06</td>\n",
              "      <td>0.0</td>\n",
              "      <td>10000.000000</td>\n",
              "      <td>0.000</td>\n",
              "      <td>163000.0</td>\n",
              "      <td>8425000.000</td>\n",
              "      <td>...</td>\n",
              "      <td>54.7500</td>\n",
              "      <td>456366.381</td>\n",
              "      <td>A</td>\n",
              "      <td>Agilent Technologies, Inc</td>\n",
              "      <td>Com</td>\n",
              "      <td>Manufacturing</td>\n",
              "      <td>NYSE</td>\n",
              "      <td>Electric Electron</td>\n",
              "      <td>Navigational, Measuring, Electromedical, and C...</td>\n",
              "      <td>0.124</td>\n",
              "    </tr>\n",
              "    <tr>\n",
              "      <th>4</th>\n",
              "      <td>A</td>\n",
              "      <td>2001q1</td>\n",
              "      <td>2841000.0</td>\n",
              "      <td>1449000.0</td>\n",
              "      <td>1.113000e+06</td>\n",
              "      <td>0.0</td>\n",
              "      <td>-6000.000000</td>\n",
              "      <td>0.000</td>\n",
              "      <td>119000.0</td>\n",
              "      <td>9208000.000</td>\n",
              "      <td>...</td>\n",
              "      <td>30.7300</td>\n",
              "      <td>456769.737</td>\n",
              "      <td>A</td>\n",
              "      <td>Agilent Technologies, Inc</td>\n",
              "      <td>Com</td>\n",
              "      <td>Manufacturing</td>\n",
              "      <td>NYSE</td>\n",
              "      <td>Electric Electron</td>\n",
              "      <td>Navigational, Measuring, Electromedical, and C...</td>\n",
              "      <td>0.124</td>\n",
              "    </tr>\n",
              "    <tr>\n",
              "      <th>...</th>\n",
              "      <td>...</td>\n",
              "      <td>...</td>\n",
              "      <td>...</td>\n",
              "      <td>...</td>\n",
              "      <td>...</td>\n",
              "      <td>...</td>\n",
              "      <td>...</td>\n",
              "      <td>...</td>\n",
              "      <td>...</td>\n",
              "      <td>...</td>\n",
              "      <td>...</td>\n",
              "      <td>...</td>\n",
              "      <td>...</td>\n",
              "      <td>...</td>\n",
              "      <td>...</td>\n",
              "      <td>...</td>\n",
              "      <td>...</td>\n",
              "      <td>...</td>\n",
              "      <td>...</td>\n",
              "      <td>...</td>\n",
              "      <td>...</td>\n",
              "    </tr>\n",
              "    <tr>\n",
              "      <th>323811</th>\n",
              "      <td>ZYNE</td>\n",
              "      <td>2021q2</td>\n",
              "      <td>0.0</td>\n",
              "      <td>0.0</td>\n",
              "      <td>9.838494e+03</td>\n",
              "      <td>0.0</td>\n",
              "      <td>-117.528220</td>\n",
              "      <td>-5.943</td>\n",
              "      <td>0.0</td>\n",
              "      <td>98195.904</td>\n",
              "      <td>...</td>\n",
              "      <td>5.2900</td>\n",
              "      <td>41251.537</td>\n",
              "      <td>ZYNE</td>\n",
              "      <td>Zynerba Pharmaceuticals, Inc</td>\n",
              "      <td>Com</td>\n",
              "      <td>Manufacturing</td>\n",
              "      <td>NASDAQ</td>\n",
              "      <td>Chemical</td>\n",
              "      <td>Pharmaceutical and Medicine Manufacturing</td>\n",
              "      <td>-</td>\n",
              "    </tr>\n",
              "    <tr>\n",
              "      <th>323812</th>\n",
              "      <td>ZYNE</td>\n",
              "      <td>2021q3</td>\n",
              "      <td>0.0</td>\n",
              "      <td>0.0</td>\n",
              "      <td>1.021065e+04</td>\n",
              "      <td>0.0</td>\n",
              "      <td>-376.636750</td>\n",
              "      <td>-5.038</td>\n",
              "      <td>0.0</td>\n",
              "      <td>89996.170</td>\n",
              "      <td>...</td>\n",
              "      <td>4.2400</td>\n",
              "      <td>41251.537</td>\n",
              "      <td>ZYNE</td>\n",
              "      <td>Zynerba Pharmaceuticals, Inc</td>\n",
              "      <td>Com</td>\n",
              "      <td>Manufacturing</td>\n",
              "      <td>NASDAQ</td>\n",
              "      <td>Chemical</td>\n",
              "      <td>Pharmaceutical and Medicine Manufacturing</td>\n",
              "      <td>-</td>\n",
              "    </tr>\n",
              "    <tr>\n",
              "      <th>323813</th>\n",
              "      <td>ZYNE</td>\n",
              "      <td>2021q4</td>\n",
              "      <td>0.0</td>\n",
              "      <td>0.0</td>\n",
              "      <td>8.836436e+03</td>\n",
              "      <td>0.0</td>\n",
              "      <td>16.937906</td>\n",
              "      <td>-4.433</td>\n",
              "      <td>0.0</td>\n",
              "      <td>81171.507</td>\n",
              "      <td>...</td>\n",
              "      <td>2.8800</td>\n",
              "      <td>41217.537</td>\n",
              "      <td>ZYNE</td>\n",
              "      <td>Zynerba Pharmaceuticals, Inc</td>\n",
              "      <td>Com</td>\n",
              "      <td>Manufacturing</td>\n",
              "      <td>NASDAQ</td>\n",
              "      <td>Chemical</td>\n",
              "      <td>Pharmaceutical and Medicine Manufacturing</td>\n",
              "      <td>-</td>\n",
              "    </tr>\n",
              "    <tr>\n",
              "      <th>323814</th>\n",
              "      <td>ZYNE</td>\n",
              "      <td>2022q1</td>\n",
              "      <td>0.0</td>\n",
              "      <td>0.0</td>\n",
              "      <td>8.903915e+03</td>\n",
              "      <td>0.0</td>\n",
              "      <td>317.252110</td>\n",
              "      <td>-96.044</td>\n",
              "      <td>0.0</td>\n",
              "      <td>74381.029</td>\n",
              "      <td>...</td>\n",
              "      <td>2.0500</td>\n",
              "      <td>42447.037</td>\n",
              "      <td>ZYNE</td>\n",
              "      <td>Zynerba Pharmaceuticals, Inc</td>\n",
              "      <td>Com</td>\n",
              "      <td>Manufacturing</td>\n",
              "      <td>NASDAQ</td>\n",
              "      <td>Chemical</td>\n",
              "      <td>Pharmaceutical and Medicine Manufacturing</td>\n",
              "      <td>-</td>\n",
              "    </tr>\n",
              "    <tr>\n",
              "      <th>323815</th>\n",
              "      <td>ZYNE</td>\n",
              "      <td>2022q2</td>\n",
              "      <td>0.0</td>\n",
              "      <td>0.0</td>\n",
              "      <td>9.168770e+03</td>\n",
              "      <td>0.0</td>\n",
              "      <td>-775.927860</td>\n",
              "      <td>-91.691</td>\n",
              "      <td>0.0</td>\n",
              "      <td>67006.959</td>\n",
              "      <td>...</td>\n",
              "      <td>1.1400</td>\n",
              "      <td>43595.959</td>\n",
              "      <td>ZYNE</td>\n",
              "      <td>Zynerba Pharmaceuticals, Inc</td>\n",
              "      <td>Com</td>\n",
              "      <td>Manufacturing</td>\n",
              "      <td>NASDAQ</td>\n",
              "      <td>Chemical</td>\n",
              "      <td>Pharmaceutical and Medicine Manufacturing</td>\n",
              "      <td>-</td>\n",
              "    </tr>\n",
              "  </tbody>\n",
              "</table>\n",
              "<p>323816 rows × 25 columns</p>\n",
              "</div>\n",
              "      <button class=\"colab-df-convert\" onclick=\"convertToInteractive('df-0bf4a594-d412-417d-9dab-f7eb7aa02bd1')\"\n",
              "              title=\"Convert this dataframe to an interactive table.\"\n",
              "              style=\"display:none;\">\n",
              "        \n",
              "  <svg xmlns=\"http://www.w3.org/2000/svg\" height=\"24px\"viewBox=\"0 0 24 24\"\n",
              "       width=\"24px\">\n",
              "    <path d=\"M0 0h24v24H0V0z\" fill=\"none\"/>\n",
              "    <path d=\"M18.56 5.44l.94 2.06.94-2.06 2.06-.94-2.06-.94-.94-2.06-.94 2.06-2.06.94zm-11 1L8.5 8.5l.94-2.06 2.06-.94-2.06-.94L8.5 2.5l-.94 2.06-2.06.94zm10 10l.94 2.06.94-2.06 2.06-.94-2.06-.94-.94-2.06-.94 2.06-2.06.94z\"/><path d=\"M17.41 7.96l-1.37-1.37c-.4-.4-.92-.59-1.43-.59-.52 0-1.04.2-1.43.59L10.3 9.45l-7.72 7.72c-.78.78-.78 2.05 0 2.83L4 21.41c.39.39.9.59 1.41.59.51 0 1.02-.2 1.41-.59l7.78-7.78 2.81-2.81c.8-.78.8-2.07 0-2.86zM5.41 20L4 18.59l7.72-7.72 1.47 1.35L5.41 20z\"/>\n",
              "  </svg>\n",
              "      </button>\n",
              "      \n",
              "  <style>\n",
              "    .colab-df-container {\n",
              "      display:flex;\n",
              "      flex-wrap:wrap;\n",
              "      gap: 12px;\n",
              "    }\n",
              "\n",
              "    .colab-df-convert {\n",
              "      background-color: #E8F0FE;\n",
              "      border: none;\n",
              "      border-radius: 50%;\n",
              "      cursor: pointer;\n",
              "      display: none;\n",
              "      fill: #1967D2;\n",
              "      height: 32px;\n",
              "      padding: 0 0 0 0;\n",
              "      width: 32px;\n",
              "    }\n",
              "\n",
              "    .colab-df-convert:hover {\n",
              "      background-color: #E2EBFA;\n",
              "      box-shadow: 0px 1px 2px rgba(60, 64, 67, 0.3), 0px 1px 3px 1px rgba(60, 64, 67, 0.15);\n",
              "      fill: #174EA6;\n",
              "    }\n",
              "\n",
              "    [theme=dark] .colab-df-convert {\n",
              "      background-color: #3B4455;\n",
              "      fill: #D2E3FC;\n",
              "    }\n",
              "\n",
              "    [theme=dark] .colab-df-convert:hover {\n",
              "      background-color: #434B5C;\n",
              "      box-shadow: 0px 1px 3px 1px rgba(0, 0, 0, 0.15);\n",
              "      filter: drop-shadow(0px 1px 2px rgba(0, 0, 0, 0.3));\n",
              "      fill: #FFFFFF;\n",
              "    }\n",
              "  </style>\n",
              "\n",
              "      <script>\n",
              "        const buttonEl =\n",
              "          document.querySelector('#df-0bf4a594-d412-417d-9dab-f7eb7aa02bd1 button.colab-df-convert');\n",
              "        buttonEl.style.display =\n",
              "          google.colab.kernel.accessAllowed ? 'block' : 'none';\n",
              "\n",
              "        async function convertToInteractive(key) {\n",
              "          const element = document.querySelector('#df-0bf4a594-d412-417d-9dab-f7eb7aa02bd1');\n",
              "          const dataTable =\n",
              "            await google.colab.kernel.invokeFunction('convertToInteractive',\n",
              "                                                     [key], {});\n",
              "          if (!dataTable) return;\n",
              "\n",
              "          const docLinkHtml = 'Like what you see? Visit the ' +\n",
              "            '<a target=\"_blank\" href=https://colab.research.google.com/notebooks/data_table.ipynb>data table notebook</a>'\n",
              "            + ' to learn more about interactive tables.';\n",
              "          element.innerHTML = '';\n",
              "          dataTable['output_type'] = 'display_data';\n",
              "          await google.colab.output.renderOutput(dataTable, element);\n",
              "          const docLink = document.createElement('div');\n",
              "          docLink.innerHTML = docLinkHtml;\n",
              "          element.appendChild(docLink);\n",
              "        }\n",
              "      </script>\n",
              "    </div>\n",
              "  </div>\n",
              "  "
            ]
          },
          "metadata": {},
          "execution_count": 5
        }
      ]
    },
    {
      "cell_type": "markdown",
      "source": [
        "ASIGNAMOS EN MULTI-INDEX"
      ],
      "metadata": {
        "id": "ElReV0Xq2CDI"
      }
    },
    {
      "cell_type": "code",
      "source": [
        "df_merge['qdate'] = pd.PeriodIndex(df_merge['q'], freq=\"Q\")\n",
        "\n",
        "df_merge.set_index(['firm', 'qdate'], inplace = True)"
      ],
      "metadata": {
        "id": "ikCw11dcyJKJ"
      },
      "execution_count": null,
      "outputs": []
    },
    {
      "cell_type": "markdown",
      "source": [
        "OBTENEMOS EL ÚLTIMO PRECIO ANUAL Y LOS RETORNOS COMPUESTOS"
      ],
      "metadata": {
        "id": "0k3GZgoRZS0G"
      }
    },
    {
      "cell_type": "code",
      "source": [
        "df_merge['R'] = np.log(df_merge.groupby(['firm'])['adjprice'].shift(-1)) - np.log(df_merge.groupby(['firm'])['adjprice'].shift(3))"
      ],
      "metadata": {
        "id": "2Ad9Sme0N83N"
      },
      "execution_count": null,
      "outputs": []
    },
    {
      "cell_type": "markdown",
      "source": [
        "GUARDAMOS UN COPIA DEL DATAFRAME"
      ],
      "metadata": {
        "id": "6pSPuMsI5uHl"
      }
    },
    {
      "cell_type": "code",
      "source": [
        "df_copy = df_merge.copy()"
      ],
      "metadata": {
        "id": "0xhxJLFyWZzF"
      },
      "execution_count": null,
      "outputs": []
    },
    {
      "cell_type": "markdown",
      "source": [
        "# DATOS ESTADÍSTICOS Y LIMPIEZA"
      ],
      "metadata": {
        "id": "SLyBxmoCiEYH"
      }
    },
    {
      "cell_type": "markdown",
      "source": [
        "DROPEAMOS LOS SECTORES QUE NO NECESITAMOS"
      ],
      "metadata": {
        "id": "T8oZIWYGFKrx"
      }
    },
    {
      "cell_type": "code",
      "source": [
        "df_copy = df_copy.drop(df_copy[(df_copy['Sector NAICS\\nlevel 1'] == '-')].index)\n",
        "df_copy = df_copy.drop(df_copy[(df_copy['Sector NAICS\\nlevel 1'] == 'Agriculture, Forestry, Fishing and Hunting')].index)\n",
        "df_copy = df_copy.drop(df_copy[(df_copy['Sector NAICS\\nlevel 1'] == 'Arts, Entertainment, and Recreation')].index)\n",
        "df_copy = df_copy.drop(df_copy[(df_copy['Sector NAICS\\nlevel 1'] == 'Construction')].index)\n",
        "df_copy = df_copy.drop(df_copy[(df_copy['Sector NAICS\\nlevel 1'] == 'Finance and Insurance')].index)\n",
        "df_copy = df_copy.drop(df_copy[(df_copy['Sector NAICS\\nlevel 1'] == 'Health Care and Social Assistance')].index)\n",
        "df_copy = df_copy.drop(df_copy[(df_copy['Sector NAICS\\nlevel 1'] == 'Information')].index)\n",
        "df_copy = df_copy.drop(df_copy[(df_copy['Sector NAICS\\nlevel 1'] == 'Manufacturing')].index)\n",
        "df_copy = df_copy.drop(df_copy[(df_copy['Sector NAICS\\nlevel 1'] == 'Mining, Quarrying, and Oil and Gas Extraction')].index)\n",
        "df_copy = df_copy.drop(df_copy[(df_copy['Sector NAICS\\nlevel 1'] == 'Real Estate and Rental and Leasing')].index)\n",
        "df_copy = df_copy.drop(df_copy[(df_copy['Sector NAICS\\nlevel 1'] == 'Retail Trade')].index)\n",
        "df_copy = df_copy.drop(df_copy[(df_copy['Sector NAICS\\nlevel 1'] == 'Transportation and Warehousing')].index)\n",
        "df_copy = df_copy.drop(df_copy[(df_copy['Sector NAICS\\nlevel 1'] == 'Utilities')].index)\n",
        "df_copy = df_copy.drop(df_copy[(df_copy['Sector NAICS\\nlevel 1'] == 'Wholesale Trade')].index)"
      ],
      "metadata": {
        "id": "flnEAKn8JZqG"
      },
      "execution_count": null,
      "outputs": []
    },
    {
      "cell_type": "markdown",
      "source": [
        "CONSERVAMOS LOS DATOS DEL PRIMER CUARTO DEL 2022, EL MÁS RECIENTE."
      ],
      "metadata": {
        "id": "HxVfkIiBFSkw"
      }
    },
    {
      "cell_type": "code",
      "source": [
        "mask = df_copy['q'] == '2022q1'\n",
        "df_mask = df_copy[mask]\n",
        "df_services = df_mask.copy()"
      ],
      "metadata": {
        "id": "8iz3BWxpHx4u"
      },
      "execution_count": null,
      "outputs": []
    },
    {
      "cell_type": "code",
      "source": [
        "df_services['revenue'].replace(0, np.nan, inplace=True)"
      ],
      "metadata": {
        "id": "4QwKaufW9--u"
      },
      "execution_count": null,
      "outputs": []
    },
    {
      "cell_type": "markdown",
      "source": [
        "SE CREAN LAS COLUMNAS DE DATOS ESTADÍSTICOS QUE NOS AYUDARÁN A RESOLVER LOS PROBLEMAS."
      ],
      "metadata": {
        "id": "eT6GLufRg7g0"
      }
    },
    {
      "cell_type": "code",
      "source": [
        "# Firm Size Measures\n",
        "df_services['Book'] = df_services['totalassets'] - df_services['totalliabilities']\n",
        "df_services['Market'] = df_services['originalprice'] * df_services['sharesoutstanding']\n",
        "\n",
        "# Profit Margin Measures\n",
        "df_services['EBIT'] = df_services['revenue'] - df_services['cogs'] - df_services['sgae'] - df_services['otheropexp']\n",
        "df_services['Net Income'] = df_services['EBIT'] + df_services['extraincome']- df_services['incometax'] - df_services['finexp']\n",
        "df_services['Earnings Per Share (EPS)'] = df_services['Net Income'] / df_services['sharesoutstanding']\n",
        "\n",
        "# Se eligen los 3 márgenes para el análisis estadístico\n",
        "df_services['EPSP (deflated by price)'] = df_services['Earnings Per Share (EPS)'] / df_services['originalprice']\n",
        "df_services['Operating Profit Margin (OPM)'] = df_services['EBIT'] / df_services['revenue']\n",
        "df_services['Book-to-Market ratio'] = df_services['Book'] / df_services['Market']"
      ],
      "metadata": {
        "id": "hJ1u75aThNSf"
      },
      "execution_count": null,
      "outputs": []
    },
    {
      "cell_type": "code",
      "source": [
        "df_services.dropna(subset=[\"Market\"], how=\"all\", inplace=True)"
      ],
      "metadata": {
        "id": "nXvCZc8ZJj8l"
      },
      "execution_count": null,
      "outputs": []
    },
    {
      "cell_type": "markdown",
      "source": [
        "VARIABLES DUUMIES DEL TAMAÑO PARA OBTENER LAS EMPRESAS PEQUEÑAS, MEDIANAS Y GRANDES."
      ],
      "metadata": {
        "id": "UtQAFTCHFiAp"
      }
    },
    {
      "cell_type": "code",
      "source": [
        "def dense_inclusive_pct(x):\n",
        "    r = x.rank(method='dense') - 1\n",
        "    return r / r.max() * 100\n",
        "\n",
        "df_services[\"pct\"]=df_services.groupby('q')['Market'].apply(dense_inclusive_pct).astype(int)\n",
        "\n",
        "df_services[\"isSmall\"] = df_services.pct <= 33\n",
        "df_services[\"isSmall\"] = df_services[\"isSmall\"].astype(int)\n",
        "\n",
        "df_services[\"isMedium\"] = (df_services.pct <= 66) & (df_services.pct > 33) \n",
        "df_services[\"isMedium\"] = df_services[\"isMedium\"].astype(int)"
      ],
      "metadata": {
        "id": "yK6v4eNgJl0l"
      },
      "execution_count": null,
      "outputs": []
    },
    {
      "cell_type": "code",
      "source": [
        "len(df_services)"
      ],
      "metadata": {
        "colab": {
          "base_uri": "https://localhost:8080/"
        },
        "id": "qRnLMLrp-0pd",
        "outputId": "78026890-cc02-4ff7-ad32-3854f314eace"
      },
      "execution_count": null,
      "outputs": [
        {
          "output_type": "execute_result",
          "data": {
            "text/plain": [
              "375"
            ]
          },
          "metadata": {},
          "execution_count": 15
        }
      ]
    },
    {
      "cell_type": "code",
      "source": [
        "df_services.head(10)"
      ],
      "metadata": {
        "colab": {
          "base_uri": "https://localhost:8080/",
          "height": 540
        },
        "id": "1QaST2teJry1",
        "outputId": "4154d6a6-4857-414d-ab42-e9b28d527c3b"
      },
      "execution_count": null,
      "outputs": [
        {
          "output_type": "execute_result",
          "data": {
            "text/plain": [
              "                  q    revenue       cogs      sgae  otheropexp  extraincome  \\\n",
              "firm qdate                                                                     \n",
              "ABM  2022Q1  2022q1  1936200.0  1659600.0  170600.0         0.0        500.0   \n",
              "ABNB 2022Q1  2022q1  1508937.0   362623.0  918116.0    233329.0      -1935.0   \n",
              "ABSI 2022Q1  2022q1      819.0        0.0   29622.0         0.0        125.0   \n",
              "ACCD 2022Q1  2022q1    93756.0    43593.0   87109.0     -7134.0       -114.0   \n",
              "ACM  2022Q1  2022q1  3213658.0  3003706.0   37098.0     73292.0       2179.0   \n",
              "ACVA 2022Q1  2022q1   103065.0    60888.0   38437.0     32829.0         44.0   \n",
              "ADT  2022Q1  2022q1  1544747.0   509768.0  958471.0       528.0       1496.0   \n",
              "AGTI 2022Q1  2022q1   294444.0   170817.0   86138.0         0.0        -28.0   \n",
              "AGYS 2022Q1  2022q1    46558.0    18866.0   25152.0       995.0        198.0   \n",
              "AIKI 2022Q1  2022q1        NaN        0.0    3803.0         0.0         89.0   \n",
              "\n",
              "              finexp  incometax  totalassets  totalliabilities  ...  \\\n",
              "firm qdate                                                      ...   \n",
              "ABM  2022Q1   6200.0    24300.0    4504900.0         2849600.0  ...   \n",
              "ABNB 2022Q1   1020.0    10706.0   17068442.0        12331026.0  ...   \n",
              "ABSI 2022Q1    195.0      621.0     395460.0           54964.0  ...   \n",
              "ACCD 2022Q1    768.0     3862.0    1285529.0          429735.0  ...   \n",
              "ACM  2022Q1  24173.0    36011.0   11196063.0         8546410.0  ...   \n",
              "ACVA 2022Q1    210.0      240.0    1019344.0          485722.0  ...   \n",
              "ADT  2022Q1   6307.0    19524.0   17014781.0        13734514.0  ...   \n",
              "AGTI 2022Q1  10664.0     6905.0    2487261.0         1561243.0  ...   \n",
              "AGYS 2022Q1     -7.0     -232.0     214162.0          116818.0  ...   \n",
              "AIKI 2022Q1   -179.0        0.0     117946.0           22895.0  ...   \n",
              "\n",
              "                   Market      EBIT  Net Income  Earnings Per Share (EPS)  \\\n",
              "firm qdate                                                                  \n",
              "ABM  2022Q1  3.078651e+06  106000.0     76000.0                  1.136550   \n",
              "ABNB 2022Q1  1.088397e+08   -5131.0    -18792.0                 -0.029656   \n",
              "ABSI 2022Q1  7.820738e+05  -28803.0    -29494.0                 -0.317917   \n",
              "ACCD 2022Q1  1.175789e+06  -29812.0    -34556.0                 -0.516082   \n",
              "ACM  2022Q1  1.085654e+07   99562.0     41557.0                  0.294016   \n",
              "ACVA 2022Q1  2.314308e+06  -29089.0    -29495.0                 -0.188748   \n",
              "ADT  2022Q1  5.821701e+06   75980.0     51645.0                  0.067332   \n",
              "AGTI 2022Q1  2.766654e+06   37489.0     19892.0                  0.151707   \n",
              "AGYS 2022Q1  9.856076e+05    1545.0      1982.0                  0.080196   \n",
              "AIKI 2022Q1  4.018205e+04       NaN         NaN                       NaN   \n",
              "\n",
              "             EPSP (deflated by price)  Operating Profit Margin (OPM)  \\\n",
              "firm qdate                                                             \n",
              "ABM  2022Q1                  0.024686                       0.054746   \n",
              "ABNB 2022Q1                 -0.000173                      -0.003400   \n",
              "ABSI 2022Q1                 -0.037713                     -35.168498   \n",
              "ACCD 2022Q1                 -0.029390                      -0.317974   \n",
              "ACM  2022Q1                  0.003828                       0.030981   \n",
              "ACVA 2022Q1                 -0.012745                      -0.282239   \n",
              "ADT  2022Q1                  0.008871                       0.049186   \n",
              "AGTI 2022Q1                  0.007190                       0.127321   \n",
              "AGYS 2022Q1                  0.002011                       0.033184   \n",
              "AIKI 2022Q1                       NaN                            NaN   \n",
              "\n",
              "            Book-to-Market ratio pct isSmall isMedium  \n",
              "firm qdate                                             \n",
              "ABM  2022Q1             0.537670  61       0        1  \n",
              "ABNB 2022Q1             0.043527  98       0        0  \n",
              "ABSI 2022Q1             0.435376  36       0        1  \n",
              "ACCD 2022Q1             0.727846  42       0        1  \n",
              "ACM  2022Q1             0.244061  82       0        0  \n",
              "ACVA 2022Q1             0.230575  54       0        1  \n",
              "ADT  2022Q1             0.563455  74       0        0  \n",
              "AGTI 2022Q1             0.334707  59       0        1  \n",
              "AGYS 2022Q1             0.098765  40       0        1  \n",
              "AIKI 2022Q1             2.365509   6       1        0  \n",
              "\n",
              "[10 rows x 36 columns]"
            ],
            "text/html": [
              "\n",
              "  <div id=\"df-b2bcdcd7-37e8-4f0f-b276-d6f9294ea630\">\n",
              "    <div class=\"colab-df-container\">\n",
              "      <div>\n",
              "<style scoped>\n",
              "    .dataframe tbody tr th:only-of-type {\n",
              "        vertical-align: middle;\n",
              "    }\n",
              "\n",
              "    .dataframe tbody tr th {\n",
              "        vertical-align: top;\n",
              "    }\n",
              "\n",
              "    .dataframe thead th {\n",
              "        text-align: right;\n",
              "    }\n",
              "</style>\n",
              "<table border=\"1\" class=\"dataframe\">\n",
              "  <thead>\n",
              "    <tr style=\"text-align: right;\">\n",
              "      <th></th>\n",
              "      <th></th>\n",
              "      <th>q</th>\n",
              "      <th>revenue</th>\n",
              "      <th>cogs</th>\n",
              "      <th>sgae</th>\n",
              "      <th>otheropexp</th>\n",
              "      <th>extraincome</th>\n",
              "      <th>finexp</th>\n",
              "      <th>incometax</th>\n",
              "      <th>totalassets</th>\n",
              "      <th>totalliabilities</th>\n",
              "      <th>...</th>\n",
              "      <th>Market</th>\n",
              "      <th>EBIT</th>\n",
              "      <th>Net Income</th>\n",
              "      <th>Earnings Per Share (EPS)</th>\n",
              "      <th>EPSP (deflated by price)</th>\n",
              "      <th>Operating Profit Margin (OPM)</th>\n",
              "      <th>Book-to-Market ratio</th>\n",
              "      <th>pct</th>\n",
              "      <th>isSmall</th>\n",
              "      <th>isMedium</th>\n",
              "    </tr>\n",
              "    <tr>\n",
              "      <th>firm</th>\n",
              "      <th>qdate</th>\n",
              "      <th></th>\n",
              "      <th></th>\n",
              "      <th></th>\n",
              "      <th></th>\n",
              "      <th></th>\n",
              "      <th></th>\n",
              "      <th></th>\n",
              "      <th></th>\n",
              "      <th></th>\n",
              "      <th></th>\n",
              "      <th></th>\n",
              "      <th></th>\n",
              "      <th></th>\n",
              "      <th></th>\n",
              "      <th></th>\n",
              "      <th></th>\n",
              "      <th></th>\n",
              "      <th></th>\n",
              "      <th></th>\n",
              "      <th></th>\n",
              "      <th></th>\n",
              "    </tr>\n",
              "  </thead>\n",
              "  <tbody>\n",
              "    <tr>\n",
              "      <th>ABM</th>\n",
              "      <th>2022Q1</th>\n",
              "      <td>2022q1</td>\n",
              "      <td>1936200.0</td>\n",
              "      <td>1659600.0</td>\n",
              "      <td>170600.0</td>\n",
              "      <td>0.0</td>\n",
              "      <td>500.0</td>\n",
              "      <td>6200.0</td>\n",
              "      <td>24300.0</td>\n",
              "      <td>4504900.0</td>\n",
              "      <td>2849600.0</td>\n",
              "      <td>...</td>\n",
              "      <td>3.078651e+06</td>\n",
              "      <td>106000.0</td>\n",
              "      <td>76000.0</td>\n",
              "      <td>1.136550</td>\n",
              "      <td>0.024686</td>\n",
              "      <td>0.054746</td>\n",
              "      <td>0.537670</td>\n",
              "      <td>61</td>\n",
              "      <td>0</td>\n",
              "      <td>1</td>\n",
              "    </tr>\n",
              "    <tr>\n",
              "      <th>ABNB</th>\n",
              "      <th>2022Q1</th>\n",
              "      <td>2022q1</td>\n",
              "      <td>1508937.0</td>\n",
              "      <td>362623.0</td>\n",
              "      <td>918116.0</td>\n",
              "      <td>233329.0</td>\n",
              "      <td>-1935.0</td>\n",
              "      <td>1020.0</td>\n",
              "      <td>10706.0</td>\n",
              "      <td>17068442.0</td>\n",
              "      <td>12331026.0</td>\n",
              "      <td>...</td>\n",
              "      <td>1.088397e+08</td>\n",
              "      <td>-5131.0</td>\n",
              "      <td>-18792.0</td>\n",
              "      <td>-0.029656</td>\n",
              "      <td>-0.000173</td>\n",
              "      <td>-0.003400</td>\n",
              "      <td>0.043527</td>\n",
              "      <td>98</td>\n",
              "      <td>0</td>\n",
              "      <td>0</td>\n",
              "    </tr>\n",
              "    <tr>\n",
              "      <th>ABSI</th>\n",
              "      <th>2022Q1</th>\n",
              "      <td>2022q1</td>\n",
              "      <td>819.0</td>\n",
              "      <td>0.0</td>\n",
              "      <td>29622.0</td>\n",
              "      <td>0.0</td>\n",
              "      <td>125.0</td>\n",
              "      <td>195.0</td>\n",
              "      <td>621.0</td>\n",
              "      <td>395460.0</td>\n",
              "      <td>54964.0</td>\n",
              "      <td>...</td>\n",
              "      <td>7.820738e+05</td>\n",
              "      <td>-28803.0</td>\n",
              "      <td>-29494.0</td>\n",
              "      <td>-0.317917</td>\n",
              "      <td>-0.037713</td>\n",
              "      <td>-35.168498</td>\n",
              "      <td>0.435376</td>\n",
              "      <td>36</td>\n",
              "      <td>0</td>\n",
              "      <td>1</td>\n",
              "    </tr>\n",
              "    <tr>\n",
              "      <th>ACCD</th>\n",
              "      <th>2022Q1</th>\n",
              "      <td>2022q1</td>\n",
              "      <td>93756.0</td>\n",
              "      <td>43593.0</td>\n",
              "      <td>87109.0</td>\n",
              "      <td>-7134.0</td>\n",
              "      <td>-114.0</td>\n",
              "      <td>768.0</td>\n",
              "      <td>3862.0</td>\n",
              "      <td>1285529.0</td>\n",
              "      <td>429735.0</td>\n",
              "      <td>...</td>\n",
              "      <td>1.175789e+06</td>\n",
              "      <td>-29812.0</td>\n",
              "      <td>-34556.0</td>\n",
              "      <td>-0.516082</td>\n",
              "      <td>-0.029390</td>\n",
              "      <td>-0.317974</td>\n",
              "      <td>0.727846</td>\n",
              "      <td>42</td>\n",
              "      <td>0</td>\n",
              "      <td>1</td>\n",
              "    </tr>\n",
              "    <tr>\n",
              "      <th>ACM</th>\n",
              "      <th>2022Q1</th>\n",
              "      <td>2022q1</td>\n",
              "      <td>3213658.0</td>\n",
              "      <td>3003706.0</td>\n",
              "      <td>37098.0</td>\n",
              "      <td>73292.0</td>\n",
              "      <td>2179.0</td>\n",
              "      <td>24173.0</td>\n",
              "      <td>36011.0</td>\n",
              "      <td>11196063.0</td>\n",
              "      <td>8546410.0</td>\n",
              "      <td>...</td>\n",
              "      <td>1.085654e+07</td>\n",
              "      <td>99562.0</td>\n",
              "      <td>41557.0</td>\n",
              "      <td>0.294016</td>\n",
              "      <td>0.003828</td>\n",
              "      <td>0.030981</td>\n",
              "      <td>0.244061</td>\n",
              "      <td>82</td>\n",
              "      <td>0</td>\n",
              "      <td>0</td>\n",
              "    </tr>\n",
              "    <tr>\n",
              "      <th>ACVA</th>\n",
              "      <th>2022Q1</th>\n",
              "      <td>2022q1</td>\n",
              "      <td>103065.0</td>\n",
              "      <td>60888.0</td>\n",
              "      <td>38437.0</td>\n",
              "      <td>32829.0</td>\n",
              "      <td>44.0</td>\n",
              "      <td>210.0</td>\n",
              "      <td>240.0</td>\n",
              "      <td>1019344.0</td>\n",
              "      <td>485722.0</td>\n",
              "      <td>...</td>\n",
              "      <td>2.314308e+06</td>\n",
              "      <td>-29089.0</td>\n",
              "      <td>-29495.0</td>\n",
              "      <td>-0.188748</td>\n",
              "      <td>-0.012745</td>\n",
              "      <td>-0.282239</td>\n",
              "      <td>0.230575</td>\n",
              "      <td>54</td>\n",
              "      <td>0</td>\n",
              "      <td>1</td>\n",
              "    </tr>\n",
              "    <tr>\n",
              "      <th>ADT</th>\n",
              "      <th>2022Q1</th>\n",
              "      <td>2022q1</td>\n",
              "      <td>1544747.0</td>\n",
              "      <td>509768.0</td>\n",
              "      <td>958471.0</td>\n",
              "      <td>528.0</td>\n",
              "      <td>1496.0</td>\n",
              "      <td>6307.0</td>\n",
              "      <td>19524.0</td>\n",
              "      <td>17014781.0</td>\n",
              "      <td>13734514.0</td>\n",
              "      <td>...</td>\n",
              "      <td>5.821701e+06</td>\n",
              "      <td>75980.0</td>\n",
              "      <td>51645.0</td>\n",
              "      <td>0.067332</td>\n",
              "      <td>0.008871</td>\n",
              "      <td>0.049186</td>\n",
              "      <td>0.563455</td>\n",
              "      <td>74</td>\n",
              "      <td>0</td>\n",
              "      <td>0</td>\n",
              "    </tr>\n",
              "    <tr>\n",
              "      <th>AGTI</th>\n",
              "      <th>2022Q1</th>\n",
              "      <td>2022q1</td>\n",
              "      <td>294444.0</td>\n",
              "      <td>170817.0</td>\n",
              "      <td>86138.0</td>\n",
              "      <td>0.0</td>\n",
              "      <td>-28.0</td>\n",
              "      <td>10664.0</td>\n",
              "      <td>6905.0</td>\n",
              "      <td>2487261.0</td>\n",
              "      <td>1561243.0</td>\n",
              "      <td>...</td>\n",
              "      <td>2.766654e+06</td>\n",
              "      <td>37489.0</td>\n",
              "      <td>19892.0</td>\n",
              "      <td>0.151707</td>\n",
              "      <td>0.007190</td>\n",
              "      <td>0.127321</td>\n",
              "      <td>0.334707</td>\n",
              "      <td>59</td>\n",
              "      <td>0</td>\n",
              "      <td>1</td>\n",
              "    </tr>\n",
              "    <tr>\n",
              "      <th>AGYS</th>\n",
              "      <th>2022Q1</th>\n",
              "      <td>2022q1</td>\n",
              "      <td>46558.0</td>\n",
              "      <td>18866.0</td>\n",
              "      <td>25152.0</td>\n",
              "      <td>995.0</td>\n",
              "      <td>198.0</td>\n",
              "      <td>-7.0</td>\n",
              "      <td>-232.0</td>\n",
              "      <td>214162.0</td>\n",
              "      <td>116818.0</td>\n",
              "      <td>...</td>\n",
              "      <td>9.856076e+05</td>\n",
              "      <td>1545.0</td>\n",
              "      <td>1982.0</td>\n",
              "      <td>0.080196</td>\n",
              "      <td>0.002011</td>\n",
              "      <td>0.033184</td>\n",
              "      <td>0.098765</td>\n",
              "      <td>40</td>\n",
              "      <td>0</td>\n",
              "      <td>1</td>\n",
              "    </tr>\n",
              "    <tr>\n",
              "      <th>AIKI</th>\n",
              "      <th>2022Q1</th>\n",
              "      <td>2022q1</td>\n",
              "      <td>NaN</td>\n",
              "      <td>0.0</td>\n",
              "      <td>3803.0</td>\n",
              "      <td>0.0</td>\n",
              "      <td>89.0</td>\n",
              "      <td>-179.0</td>\n",
              "      <td>0.0</td>\n",
              "      <td>117946.0</td>\n",
              "      <td>22895.0</td>\n",
              "      <td>...</td>\n",
              "      <td>4.018205e+04</td>\n",
              "      <td>NaN</td>\n",
              "      <td>NaN</td>\n",
              "      <td>NaN</td>\n",
              "      <td>NaN</td>\n",
              "      <td>NaN</td>\n",
              "      <td>2.365509</td>\n",
              "      <td>6</td>\n",
              "      <td>1</td>\n",
              "      <td>0</td>\n",
              "    </tr>\n",
              "  </tbody>\n",
              "</table>\n",
              "<p>10 rows × 36 columns</p>\n",
              "</div>\n",
              "      <button class=\"colab-df-convert\" onclick=\"convertToInteractive('df-b2bcdcd7-37e8-4f0f-b276-d6f9294ea630')\"\n",
              "              title=\"Convert this dataframe to an interactive table.\"\n",
              "              style=\"display:none;\">\n",
              "        \n",
              "  <svg xmlns=\"http://www.w3.org/2000/svg\" height=\"24px\"viewBox=\"0 0 24 24\"\n",
              "       width=\"24px\">\n",
              "    <path d=\"M0 0h24v24H0V0z\" fill=\"none\"/>\n",
              "    <path d=\"M18.56 5.44l.94 2.06.94-2.06 2.06-.94-2.06-.94-.94-2.06-.94 2.06-2.06.94zm-11 1L8.5 8.5l.94-2.06 2.06-.94-2.06-.94L8.5 2.5l-.94 2.06-2.06.94zm10 10l.94 2.06.94-2.06 2.06-.94-2.06-.94-.94-2.06-.94 2.06-2.06.94z\"/><path d=\"M17.41 7.96l-1.37-1.37c-.4-.4-.92-.59-1.43-.59-.52 0-1.04.2-1.43.59L10.3 9.45l-7.72 7.72c-.78.78-.78 2.05 0 2.83L4 21.41c.39.39.9.59 1.41.59.51 0 1.02-.2 1.41-.59l7.78-7.78 2.81-2.81c.8-.78.8-2.07 0-2.86zM5.41 20L4 18.59l7.72-7.72 1.47 1.35L5.41 20z\"/>\n",
              "  </svg>\n",
              "      </button>\n",
              "      \n",
              "  <style>\n",
              "    .colab-df-container {\n",
              "      display:flex;\n",
              "      flex-wrap:wrap;\n",
              "      gap: 12px;\n",
              "    }\n",
              "\n",
              "    .colab-df-convert {\n",
              "      background-color: #E8F0FE;\n",
              "      border: none;\n",
              "      border-radius: 50%;\n",
              "      cursor: pointer;\n",
              "      display: none;\n",
              "      fill: #1967D2;\n",
              "      height: 32px;\n",
              "      padding: 0 0 0 0;\n",
              "      width: 32px;\n",
              "    }\n",
              "\n",
              "    .colab-df-convert:hover {\n",
              "      background-color: #E2EBFA;\n",
              "      box-shadow: 0px 1px 2px rgba(60, 64, 67, 0.3), 0px 1px 3px 1px rgba(60, 64, 67, 0.15);\n",
              "      fill: #174EA6;\n",
              "    }\n",
              "\n",
              "    [theme=dark] .colab-df-convert {\n",
              "      background-color: #3B4455;\n",
              "      fill: #D2E3FC;\n",
              "    }\n",
              "\n",
              "    [theme=dark] .colab-df-convert:hover {\n",
              "      background-color: #434B5C;\n",
              "      box-shadow: 0px 1px 3px 1px rgba(0, 0, 0, 0.15);\n",
              "      filter: drop-shadow(0px 1px 2px rgba(0, 0, 0, 0.3));\n",
              "      fill: #FFFFFF;\n",
              "    }\n",
              "  </style>\n",
              "\n",
              "      <script>\n",
              "        const buttonEl =\n",
              "          document.querySelector('#df-b2bcdcd7-37e8-4f0f-b276-d6f9294ea630 button.colab-df-convert');\n",
              "        buttonEl.style.display =\n",
              "          google.colab.kernel.accessAllowed ? 'block' : 'none';\n",
              "\n",
              "        async function convertToInteractive(key) {\n",
              "          const element = document.querySelector('#df-b2bcdcd7-37e8-4f0f-b276-d6f9294ea630');\n",
              "          const dataTable =\n",
              "            await google.colab.kernel.invokeFunction('convertToInteractive',\n",
              "                                                     [key], {});\n",
              "          if (!dataTable) return;\n",
              "\n",
              "          const docLinkHtml = 'Like what you see? Visit the ' +\n",
              "            '<a target=\"_blank\" href=https://colab.research.google.com/notebooks/data_table.ipynb>data table notebook</a>'\n",
              "            + ' to learn more about interactive tables.';\n",
              "          element.innerHTML = '';\n",
              "          dataTable['output_type'] = 'display_data';\n",
              "          await google.colab.output.renderOutput(dataTable, element);\n",
              "          const docLink = document.createElement('div');\n",
              "          docLink.innerHTML = docLinkHtml;\n",
              "          element.appendChild(docLink);\n",
              "        }\n",
              "      </script>\n",
              "    </div>\n",
              "  </div>\n",
              "  "
            ]
          },
          "metadata": {},
          "execution_count": 16
        }
      ]
    },
    {
      "cell_type": "markdown",
      "source": [
        "# Matrices"
      ],
      "metadata": {
        "id": "kzafJlFIChbj"
      }
    },
    {
      "cell_type": "markdown",
      "source": [
        "RENOMBRAMOS COLUMNAS PARA TRABAJAR MÁS FACILMENTE CON ELLAS"
      ],
      "metadata": {
        "id": "ZEC0syYTF5CJ"
      }
    },
    {
      "cell_type": "code",
      "source": [
        "df_services.rename(columns = {'EPSP (deflated by price)':'EPSP', 'Operating Profit Margin (OPM)':'OPM', 'Book-to-Market ratio':'BtMr'}, inplace = True)\n",
        "df_services = df_services.reset_index()"
      ],
      "metadata": {
        "id": "-XuqiOhHClNF"
      },
      "execution_count": null,
      "outputs": []
    },
    {
      "cell_type": "markdown",
      "source": [
        "ASIGNAMOS LAS X'S Y LAS Y'S"
      ],
      "metadata": {
        "id": "yxyupe-ZF9BH"
      }
    },
    {
      "cell_type": "code",
      "source": [
        "temp = df_services[['EPSP', 'OPM', 'BtMr', 'isSmall', 'isMedium', 'R']]\n",
        "temp = temp.dropna()\n",
        "x = temp[['EPSP', 'OPM', 'BtMr', 'isSmall', 'isMedium']]\n",
        "y = temp['R']"
      ],
      "metadata": {
        "id": "byA9etfti8e0"
      },
      "execution_count": null,
      "outputs": []
    },
    {
      "cell_type": "markdown",
      "source": [
        "SE OBTIENEN LAS MATRIZ DE VARIANZA Y COVARIANZA SIGUIENDO EL PROCEDIMIENTO DEL DOCUMENTO. SIMPLIFICANDOSE EN LA SIGUIENTE FÓRUMULA:"
      ],
      "metadata": {
        "id": "xV3KihcyGKUz"
      }
    },
    {
      "cell_type": "markdown",
      "source": [
        "![imagen.png](data:image/png;base64,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)"
      ],
      "metadata": {
        "id": "jwudhrd7HAe5"
      }
    },
    {
      "cell_type": "markdown",
      "source": [
        "## Solución 1 Varianza-Covarianza"
      ],
      "metadata": {
        "id": "fqvho1pRRhol"
      }
    },
    {
      "cell_type": "code",
      "source": [
        "x_transpose = x.transpose()"
      ],
      "metadata": {
        "id": "K-W0_mt1EjtH"
      },
      "execution_count": null,
      "outputs": []
    },
    {
      "cell_type": "code",
      "source": [
        "temp1 = x_transpose.dot(x)"
      ],
      "metadata": {
        "id": "T6uNPEqSSbiD"
      },
      "execution_count": null,
      "outputs": []
    },
    {
      "cell_type": "code",
      "source": [
        "ones = np.ones((x_transpose.shape[1], 1))"
      ],
      "metadata": {
        "id": "k10j7Kt2uwYE"
      },
      "execution_count": null,
      "outputs": []
    },
    {
      "cell_type": "code",
      "source": [
        "temp2 = x_transpose.dot(ones)"
      ],
      "metadata": {
        "id": "91Hk9PxfvFE8"
      },
      "execution_count": null,
      "outputs": []
    },
    {
      "cell_type": "code",
      "source": [
        "temp3 = temp2.transpose()"
      ],
      "metadata": {
        "id": "Dce-dgZ4vNSM"
      },
      "execution_count": null,
      "outputs": []
    },
    {
      "cell_type": "code",
      "source": [
        "temp4 = temp2.dot(temp3)"
      ],
      "metadata": {
        "id": "5BNozi52vUUn"
      },
      "execution_count": null,
      "outputs": []
    },
    {
      "cell_type": "code",
      "source": [
        "temp5 = temp4 / x.shape[0]"
      ],
      "metadata": {
        "id": "DaftBQQ8vfEP"
      },
      "execution_count": null,
      "outputs": []
    },
    {
      "cell_type": "code",
      "source": [
        "temp6 = temp1 - temp5"
      ],
      "metadata": {
        "id": "81c_oMWFvnZr"
      },
      "execution_count": null,
      "outputs": []
    },
    {
      "cell_type": "code",
      "source": [
        "varcov = temp6 / (x.shape[0] - 1)"
      ],
      "metadata": {
        "id": "TTqPL8YvvsgL"
      },
      "execution_count": null,
      "outputs": []
    },
    {
      "cell_type": "code",
      "source": [
        "varcov"
      ],
      "metadata": {
        "colab": {
          "base_uri": "https://localhost:8080/",
          "height": 270
        },
        "id": "8QCPxt3Mv5Xn",
        "outputId": "e93a3538-687b-4b7f-86cd-184fd265a7a8"
      },
      "execution_count": null,
      "outputs": [
        {
          "output_type": "execute_result",
          "data": {
            "text/plain": [
              "              EPSP         OPM      BtMr   isSmall  isMedium\n",
              "EPSP      0.008576    0.095351 -0.006378 -0.011938  0.004549\n",
              "OPM       0.095351  266.685817  0.037558  0.087182 -0.580925\n",
              "BtMr     -0.006378    0.037558  0.260931  0.086589 -0.023577\n",
              "isSmall  -0.011938    0.087182  0.086589  0.223518 -0.106857\n",
              "isMedium  0.004549   -0.580925 -0.023577 -0.106857  0.217431"
            ],
            "text/html": [
              "\n",
              "  <div id=\"df-f7d34ae3-be17-48d5-a63d-75f420828f01\">\n",
              "    <div class=\"colab-df-container\">\n",
              "      <div>\n",
              "<style scoped>\n",
              "    .dataframe tbody tr th:only-of-type {\n",
              "        vertical-align: middle;\n",
              "    }\n",
              "\n",
              "    .dataframe tbody tr th {\n",
              "        vertical-align: top;\n",
              "    }\n",
              "\n",
              "    .dataframe thead th {\n",
              "        text-align: right;\n",
              "    }\n",
              "</style>\n",
              "<table border=\"1\" class=\"dataframe\">\n",
              "  <thead>\n",
              "    <tr style=\"text-align: right;\">\n",
              "      <th></th>\n",
              "      <th>EPSP</th>\n",
              "      <th>OPM</th>\n",
              "      <th>BtMr</th>\n",
              "      <th>isSmall</th>\n",
              "      <th>isMedium</th>\n",
              "    </tr>\n",
              "  </thead>\n",
              "  <tbody>\n",
              "    <tr>\n",
              "      <th>EPSP</th>\n",
              "      <td>0.008576</td>\n",
              "      <td>0.095351</td>\n",
              "      <td>-0.006378</td>\n",
              "      <td>-0.011938</td>\n",
              "      <td>0.004549</td>\n",
              "    </tr>\n",
              "    <tr>\n",
              "      <th>OPM</th>\n",
              "      <td>0.095351</td>\n",
              "      <td>266.685817</td>\n",
              "      <td>0.037558</td>\n",
              "      <td>0.087182</td>\n",
              "      <td>-0.580925</td>\n",
              "    </tr>\n",
              "    <tr>\n",
              "      <th>BtMr</th>\n",
              "      <td>-0.006378</td>\n",
              "      <td>0.037558</td>\n",
              "      <td>0.260931</td>\n",
              "      <td>0.086589</td>\n",
              "      <td>-0.023577</td>\n",
              "    </tr>\n",
              "    <tr>\n",
              "      <th>isSmall</th>\n",
              "      <td>-0.011938</td>\n",
              "      <td>0.087182</td>\n",
              "      <td>0.086589</td>\n",
              "      <td>0.223518</td>\n",
              "      <td>-0.106857</td>\n",
              "    </tr>\n",
              "    <tr>\n",
              "      <th>isMedium</th>\n",
              "      <td>0.004549</td>\n",
              "      <td>-0.580925</td>\n",
              "      <td>-0.023577</td>\n",
              "      <td>-0.106857</td>\n",
              "      <td>0.217431</td>\n",
              "    </tr>\n",
              "  </tbody>\n",
              "</table>\n",
              "</div>\n",
              "      <button class=\"colab-df-convert\" onclick=\"convertToInteractive('df-f7d34ae3-be17-48d5-a63d-75f420828f01')\"\n",
              "              title=\"Convert this dataframe to an interactive table.\"\n",
              "              style=\"display:none;\">\n",
              "        \n",
              "  <svg xmlns=\"http://www.w3.org/2000/svg\" height=\"24px\"viewBox=\"0 0 24 24\"\n",
              "       width=\"24px\">\n",
              "    <path d=\"M0 0h24v24H0V0z\" fill=\"none\"/>\n",
              "    <path d=\"M18.56 5.44l.94 2.06.94-2.06 2.06-.94-2.06-.94-.94-2.06-.94 2.06-2.06.94zm-11 1L8.5 8.5l.94-2.06 2.06-.94-2.06-.94L8.5 2.5l-.94 2.06-2.06.94zm10 10l.94 2.06.94-2.06 2.06-.94-2.06-.94-.94-2.06-.94 2.06-2.06.94z\"/><path d=\"M17.41 7.96l-1.37-1.37c-.4-.4-.92-.59-1.43-.59-.52 0-1.04.2-1.43.59L10.3 9.45l-7.72 7.72c-.78.78-.78 2.05 0 2.83L4 21.41c.39.39.9.59 1.41.59.51 0 1.02-.2 1.41-.59l7.78-7.78 2.81-2.81c.8-.78.8-2.07 0-2.86zM5.41 20L4 18.59l7.72-7.72 1.47 1.35L5.41 20z\"/>\n",
              "  </svg>\n",
              "      </button>\n",
              "      \n",
              "  <style>\n",
              "    .colab-df-container {\n",
              "      display:flex;\n",
              "      flex-wrap:wrap;\n",
              "      gap: 12px;\n",
              "    }\n",
              "\n",
              "    .colab-df-convert {\n",
              "      background-color: #E8F0FE;\n",
              "      border: none;\n",
              "      border-radius: 50%;\n",
              "      cursor: pointer;\n",
              "      display: none;\n",
              "      fill: #1967D2;\n",
              "      height: 32px;\n",
              "      padding: 0 0 0 0;\n",
              "      width: 32px;\n",
              "    }\n",
              "\n",
              "    .colab-df-convert:hover {\n",
              "      background-color: #E2EBFA;\n",
              "      box-shadow: 0px 1px 2px rgba(60, 64, 67, 0.3), 0px 1px 3px 1px rgba(60, 64, 67, 0.15);\n",
              "      fill: #174EA6;\n",
              "    }\n",
              "\n",
              "    [theme=dark] .colab-df-convert {\n",
              "      background-color: #3B4455;\n",
              "      fill: #D2E3FC;\n",
              "    }\n",
              "\n",
              "    [theme=dark] .colab-df-convert:hover {\n",
              "      background-color: #434B5C;\n",
              "      box-shadow: 0px 1px 3px 1px rgba(0, 0, 0, 0.15);\n",
              "      filter: drop-shadow(0px 1px 2px rgba(0, 0, 0, 0.3));\n",
              "      fill: #FFFFFF;\n",
              "    }\n",
              "  </style>\n",
              "\n",
              "      <script>\n",
              "        const buttonEl =\n",
              "          document.querySelector('#df-f7d34ae3-be17-48d5-a63d-75f420828f01 button.colab-df-convert');\n",
              "        buttonEl.style.display =\n",
              "          google.colab.kernel.accessAllowed ? 'block' : 'none';\n",
              "\n",
              "        async function convertToInteractive(key) {\n",
              "          const element = document.querySelector('#df-f7d34ae3-be17-48d5-a63d-75f420828f01');\n",
              "          const dataTable =\n",
              "            await google.colab.kernel.invokeFunction('convertToInteractive',\n",
              "                                                     [key], {});\n",
              "          if (!dataTable) return;\n",
              "\n",
              "          const docLinkHtml = 'Like what you see? Visit the ' +\n",
              "            '<a target=\"_blank\" href=https://colab.research.google.com/notebooks/data_table.ipynb>data table notebook</a>'\n",
              "            + ' to learn more about interactive tables.';\n",
              "          element.innerHTML = '';\n",
              "          dataTable['output_type'] = 'display_data';\n",
              "          await google.colab.output.renderOutput(dataTable, element);\n",
              "          const docLink = document.createElement('div');\n",
              "          docLink.innerHTML = docLinkHtml;\n",
              "          element.appendChild(docLink);\n",
              "        }\n",
              "      </script>\n",
              "    </div>\n",
              "  </div>\n",
              "  "
            ]
          },
          "metadata": {},
          "execution_count": 28
        }
      ]
    },
    {
      "cell_type": "markdown",
      "source": [
        "COMPROBACIÓN DE LA MATRIZ DE VARIANZA-COVARIANZA"
      ],
      "metadata": {
        "id": "h5WM6ZFKHMpC"
      }
    },
    {
      "cell_type": "code",
      "source": [
        "x.cov()"
      ],
      "metadata": {
        "colab": {
          "base_uri": "https://localhost:8080/",
          "height": 270
        },
        "id": "HzVIJScEwEJV",
        "outputId": "da3a6f55-1ded-4044-c5a1-7aa192be24dc"
      },
      "execution_count": null,
      "outputs": [
        {
          "output_type": "execute_result",
          "data": {
            "text/plain": [
              "              EPSP         OPM      BtMr   isSmall  isMedium\n",
              "EPSP      0.008576    0.095351 -0.006378 -0.011938  0.004549\n",
              "OPM       0.095351  266.685817  0.037558  0.087182 -0.580925\n",
              "BtMr     -0.006378    0.037558  0.260931  0.086589 -0.023577\n",
              "isSmall  -0.011938    0.087182  0.086589  0.223518 -0.106857\n",
              "isMedium  0.004549   -0.580925 -0.023577 -0.106857  0.217431"
            ],
            "text/html": [
              "\n",
              "  <div id=\"df-e4ce1c0d-daaf-4690-bc1f-70497eb2876d\">\n",
              "    <div class=\"colab-df-container\">\n",
              "      <div>\n",
              "<style scoped>\n",
              "    .dataframe tbody tr th:only-of-type {\n",
              "        vertical-align: middle;\n",
              "    }\n",
              "\n",
              "    .dataframe tbody tr th {\n",
              "        vertical-align: top;\n",
              "    }\n",
              "\n",
              "    .dataframe thead th {\n",
              "        text-align: right;\n",
              "    }\n",
              "</style>\n",
              "<table border=\"1\" class=\"dataframe\">\n",
              "  <thead>\n",
              "    <tr style=\"text-align: right;\">\n",
              "      <th></th>\n",
              "      <th>EPSP</th>\n",
              "      <th>OPM</th>\n",
              "      <th>BtMr</th>\n",
              "      <th>isSmall</th>\n",
              "      <th>isMedium</th>\n",
              "    </tr>\n",
              "  </thead>\n",
              "  <tbody>\n",
              "    <tr>\n",
              "      <th>EPSP</th>\n",
              "      <td>0.008576</td>\n",
              "      <td>0.095351</td>\n",
              "      <td>-0.006378</td>\n",
              "      <td>-0.011938</td>\n",
              "      <td>0.004549</td>\n",
              "    </tr>\n",
              "    <tr>\n",
              "      <th>OPM</th>\n",
              "      <td>0.095351</td>\n",
              "      <td>266.685817</td>\n",
              "      <td>0.037558</td>\n",
              "      <td>0.087182</td>\n",
              "      <td>-0.580925</td>\n",
              "    </tr>\n",
              "    <tr>\n",
              "      <th>BtMr</th>\n",
              "      <td>-0.006378</td>\n",
              "      <td>0.037558</td>\n",
              "      <td>0.260931</td>\n",
              "      <td>0.086589</td>\n",
              "      <td>-0.023577</td>\n",
              "    </tr>\n",
              "    <tr>\n",
              "      <th>isSmall</th>\n",
              "      <td>-0.011938</td>\n",
              "      <td>0.087182</td>\n",
              "      <td>0.086589</td>\n",
              "      <td>0.223518</td>\n",
              "      <td>-0.106857</td>\n",
              "    </tr>\n",
              "    <tr>\n",
              "      <th>isMedium</th>\n",
              "      <td>0.004549</td>\n",
              "      <td>-0.580925</td>\n",
              "      <td>-0.023577</td>\n",
              "      <td>-0.106857</td>\n",
              "      <td>0.217431</td>\n",
              "    </tr>\n",
              "  </tbody>\n",
              "</table>\n",
              "</div>\n",
              "      <button class=\"colab-df-convert\" onclick=\"convertToInteractive('df-e4ce1c0d-daaf-4690-bc1f-70497eb2876d')\"\n",
              "              title=\"Convert this dataframe to an interactive table.\"\n",
              "              style=\"display:none;\">\n",
              "        \n",
              "  <svg xmlns=\"http://www.w3.org/2000/svg\" height=\"24px\"viewBox=\"0 0 24 24\"\n",
              "       width=\"24px\">\n",
              "    <path d=\"M0 0h24v24H0V0z\" fill=\"none\"/>\n",
              "    <path d=\"M18.56 5.44l.94 2.06.94-2.06 2.06-.94-2.06-.94-.94-2.06-.94 2.06-2.06.94zm-11 1L8.5 8.5l.94-2.06 2.06-.94-2.06-.94L8.5 2.5l-.94 2.06-2.06.94zm10 10l.94 2.06.94-2.06 2.06-.94-2.06-.94-.94-2.06-.94 2.06-2.06.94z\"/><path d=\"M17.41 7.96l-1.37-1.37c-.4-.4-.92-.59-1.43-.59-.52 0-1.04.2-1.43.59L10.3 9.45l-7.72 7.72c-.78.78-.78 2.05 0 2.83L4 21.41c.39.39.9.59 1.41.59.51 0 1.02-.2 1.41-.59l7.78-7.78 2.81-2.81c.8-.78.8-2.07 0-2.86zM5.41 20L4 18.59l7.72-7.72 1.47 1.35L5.41 20z\"/>\n",
              "  </svg>\n",
              "      </button>\n",
              "      \n",
              "  <style>\n",
              "    .colab-df-container {\n",
              "      display:flex;\n",
              "      flex-wrap:wrap;\n",
              "      gap: 12px;\n",
              "    }\n",
              "\n",
              "    .colab-df-convert {\n",
              "      background-color: #E8F0FE;\n",
              "      border: none;\n",
              "      border-radius: 50%;\n",
              "      cursor: pointer;\n",
              "      display: none;\n",
              "      fill: #1967D2;\n",
              "      height: 32px;\n",
              "      padding: 0 0 0 0;\n",
              "      width: 32px;\n",
              "    }\n",
              "\n",
              "    .colab-df-convert:hover {\n",
              "      background-color: #E2EBFA;\n",
              "      box-shadow: 0px 1px 2px rgba(60, 64, 67, 0.3), 0px 1px 3px 1px rgba(60, 64, 67, 0.15);\n",
              "      fill: #174EA6;\n",
              "    }\n",
              "\n",
              "    [theme=dark] .colab-df-convert {\n",
              "      background-color: #3B4455;\n",
              "      fill: #D2E3FC;\n",
              "    }\n",
              "\n",
              "    [theme=dark] .colab-df-convert:hover {\n",
              "      background-color: #434B5C;\n",
              "      box-shadow: 0px 1px 3px 1px rgba(0, 0, 0, 0.15);\n",
              "      filter: drop-shadow(0px 1px 2px rgba(0, 0, 0, 0.3));\n",
              "      fill: #FFFFFF;\n",
              "    }\n",
              "  </style>\n",
              "\n",
              "      <script>\n",
              "        const buttonEl =\n",
              "          document.querySelector('#df-e4ce1c0d-daaf-4690-bc1f-70497eb2876d button.colab-df-convert');\n",
              "        buttonEl.style.display =\n",
              "          google.colab.kernel.accessAllowed ? 'block' : 'none';\n",
              "\n",
              "        async function convertToInteractive(key) {\n",
              "          const element = document.querySelector('#df-e4ce1c0d-daaf-4690-bc1f-70497eb2876d');\n",
              "          const dataTable =\n",
              "            await google.colab.kernel.invokeFunction('convertToInteractive',\n",
              "                                                     [key], {});\n",
              "          if (!dataTable) return;\n",
              "\n",
              "          const docLinkHtml = 'Like what you see? Visit the ' +\n",
              "            '<a target=\"_blank\" href=https://colab.research.google.com/notebooks/data_table.ipynb>data table notebook</a>'\n",
              "            + ' to learn more about interactive tables.';\n",
              "          element.innerHTML = '';\n",
              "          dataTable['output_type'] = 'display_data';\n",
              "          await google.colab.output.renderOutput(dataTable, element);\n",
              "          const docLink = document.createElement('div');\n",
              "          docLink.innerHTML = docLinkHtml;\n",
              "          element.appendChild(docLink);\n",
              "        }\n",
              "      </script>\n",
              "    </div>\n",
              "  </div>\n",
              "  "
            ]
          },
          "metadata": {},
          "execution_count": 29
        }
      ]
    },
    {
      "cell_type": "markdown",
      "source": [
        "## Solución 2 Varianza-Covarianza"
      ],
      "metadata": {
        "id": "sCvhT__outYs"
      }
    },
    {
      "cell_type": "code",
      "source": [
        "x_transpose = x.transpose()"
      ],
      "metadata": {
        "id": "ZnR14on6SKM3"
      },
      "execution_count": null,
      "outputs": []
    },
    {
      "cell_type": "code",
      "source": [
        "n = len(x)"
      ],
      "metadata": {
        "id": "6Dsle7KjRb1W"
      },
      "execution_count": null,
      "outputs": []
    },
    {
      "cell_type": "code",
      "source": [
        "ones = np.ones((n,1))"
      ],
      "metadata": {
        "id": "_eZD1duLEk6w"
      },
      "execution_count": null,
      "outputs": []
    },
    {
      "cell_type": "code",
      "source": [
        "xt = x_transpose.dot(ones)"
      ],
      "metadata": {
        "id": "B-7878wySp_i"
      },
      "execution_count": null,
      "outputs": []
    },
    {
      "cell_type": "code",
      "source": [
        "xtx = x_transpose.dot(x)"
      ],
      "metadata": {
        "id": "TmK_D9mXS1eS"
      },
      "execution_count": null,
      "outputs": []
    },
    {
      "cell_type": "code",
      "source": [
        "xt1t = xt.transpose()"
      ],
      "metadata": {
        "id": "GWhiByXATJ9r"
      },
      "execution_count": null,
      "outputs": []
    },
    {
      "cell_type": "code",
      "source": [
        "VarCov = (1/(n-1))*(xtx - (1/n)*(xt.dot(xt1t)) )"
      ],
      "metadata": {
        "id": "ZEiFTyzlTPsz"
      },
      "execution_count": null,
      "outputs": []
    },
    {
      "cell_type": "code",
      "source": [
        "VarCov"
      ],
      "metadata": {
        "colab": {
          "base_uri": "https://localhost:8080/",
          "height": 270
        },
        "id": "xXBVDV6tT5wj",
        "outputId": "beb8e91c-3883-4fac-d9aa-1e9e6ccd2a49"
      },
      "execution_count": null,
      "outputs": [
        {
          "output_type": "execute_result",
          "data": {
            "text/plain": [
              "              EPSP         OPM      BtMr   isSmall  isMedium\n",
              "EPSP      0.008576    0.095351 -0.006378 -0.011938  0.004549\n",
              "OPM       0.095351  266.685817  0.037558  0.087182 -0.580925\n",
              "BtMr     -0.006378    0.037558  0.260931  0.086589 -0.023577\n",
              "isSmall  -0.011938    0.087182  0.086589  0.223518 -0.106857\n",
              "isMedium  0.004549   -0.580925 -0.023577 -0.106857  0.217431"
            ],
            "text/html": [
              "\n",
              "  <div id=\"df-74e058df-cc11-4ba3-aeb6-ba31f71d11da\">\n",
              "    <div class=\"colab-df-container\">\n",
              "      <div>\n",
              "<style scoped>\n",
              "    .dataframe tbody tr th:only-of-type {\n",
              "        vertical-align: middle;\n",
              "    }\n",
              "\n",
              "    .dataframe tbody tr th {\n",
              "        vertical-align: top;\n",
              "    }\n",
              "\n",
              "    .dataframe thead th {\n",
              "        text-align: right;\n",
              "    }\n",
              "</style>\n",
              "<table border=\"1\" class=\"dataframe\">\n",
              "  <thead>\n",
              "    <tr style=\"text-align: right;\">\n",
              "      <th></th>\n",
              "      <th>EPSP</th>\n",
              "      <th>OPM</th>\n",
              "      <th>BtMr</th>\n",
              "      <th>isSmall</th>\n",
              "      <th>isMedium</th>\n",
              "    </tr>\n",
              "  </thead>\n",
              "  <tbody>\n",
              "    <tr>\n",
              "      <th>EPSP</th>\n",
              "      <td>0.008576</td>\n",
              "      <td>0.095351</td>\n",
              "      <td>-0.006378</td>\n",
              "      <td>-0.011938</td>\n",
              "      <td>0.004549</td>\n",
              "    </tr>\n",
              "    <tr>\n",
              "      <th>OPM</th>\n",
              "      <td>0.095351</td>\n",
              "      <td>266.685817</td>\n",
              "      <td>0.037558</td>\n",
              "      <td>0.087182</td>\n",
              "      <td>-0.580925</td>\n",
              "    </tr>\n",
              "    <tr>\n",
              "      <th>BtMr</th>\n",
              "      <td>-0.006378</td>\n",
              "      <td>0.037558</td>\n",
              "      <td>0.260931</td>\n",
              "      <td>0.086589</td>\n",
              "      <td>-0.023577</td>\n",
              "    </tr>\n",
              "    <tr>\n",
              "      <th>isSmall</th>\n",
              "      <td>-0.011938</td>\n",
              "      <td>0.087182</td>\n",
              "      <td>0.086589</td>\n",
              "      <td>0.223518</td>\n",
              "      <td>-0.106857</td>\n",
              "    </tr>\n",
              "    <tr>\n",
              "      <th>isMedium</th>\n",
              "      <td>0.004549</td>\n",
              "      <td>-0.580925</td>\n",
              "      <td>-0.023577</td>\n",
              "      <td>-0.106857</td>\n",
              "      <td>0.217431</td>\n",
              "    </tr>\n",
              "  </tbody>\n",
              "</table>\n",
              "</div>\n",
              "      <button class=\"colab-df-convert\" onclick=\"convertToInteractive('df-74e058df-cc11-4ba3-aeb6-ba31f71d11da')\"\n",
              "              title=\"Convert this dataframe to an interactive table.\"\n",
              "              style=\"display:none;\">\n",
              "        \n",
              "  <svg xmlns=\"http://www.w3.org/2000/svg\" height=\"24px\"viewBox=\"0 0 24 24\"\n",
              "       width=\"24px\">\n",
              "    <path d=\"M0 0h24v24H0V0z\" fill=\"none\"/>\n",
              "    <path d=\"M18.56 5.44l.94 2.06.94-2.06 2.06-.94-2.06-.94-.94-2.06-.94 2.06-2.06.94zm-11 1L8.5 8.5l.94-2.06 2.06-.94-2.06-.94L8.5 2.5l-.94 2.06-2.06.94zm10 10l.94 2.06.94-2.06 2.06-.94-2.06-.94-.94-2.06-.94 2.06-2.06.94z\"/><path d=\"M17.41 7.96l-1.37-1.37c-.4-.4-.92-.59-1.43-.59-.52 0-1.04.2-1.43.59L10.3 9.45l-7.72 7.72c-.78.78-.78 2.05 0 2.83L4 21.41c.39.39.9.59 1.41.59.51 0 1.02-.2 1.41-.59l7.78-7.78 2.81-2.81c.8-.78.8-2.07 0-2.86zM5.41 20L4 18.59l7.72-7.72 1.47 1.35L5.41 20z\"/>\n",
              "  </svg>\n",
              "      </button>\n",
              "      \n",
              "  <style>\n",
              "    .colab-df-container {\n",
              "      display:flex;\n",
              "      flex-wrap:wrap;\n",
              "      gap: 12px;\n",
              "    }\n",
              "\n",
              "    .colab-df-convert {\n",
              "      background-color: #E8F0FE;\n",
              "      border: none;\n",
              "      border-radius: 50%;\n",
              "      cursor: pointer;\n",
              "      display: none;\n",
              "      fill: #1967D2;\n",
              "      height: 32px;\n",
              "      padding: 0 0 0 0;\n",
              "      width: 32px;\n",
              "    }\n",
              "\n",
              "    .colab-df-convert:hover {\n",
              "      background-color: #E2EBFA;\n",
              "      box-shadow: 0px 1px 2px rgba(60, 64, 67, 0.3), 0px 1px 3px 1px rgba(60, 64, 67, 0.15);\n",
              "      fill: #174EA6;\n",
              "    }\n",
              "\n",
              "    [theme=dark] .colab-df-convert {\n",
              "      background-color: #3B4455;\n",
              "      fill: #D2E3FC;\n",
              "    }\n",
              "\n",
              "    [theme=dark] .colab-df-convert:hover {\n",
              "      background-color: #434B5C;\n",
              "      box-shadow: 0px 1px 3px 1px rgba(0, 0, 0, 0.15);\n",
              "      filter: drop-shadow(0px 1px 2px rgba(0, 0, 0, 0.3));\n",
              "      fill: #FFFFFF;\n",
              "    }\n",
              "  </style>\n",
              "\n",
              "      <script>\n",
              "        const buttonEl =\n",
              "          document.querySelector('#df-74e058df-cc11-4ba3-aeb6-ba31f71d11da button.colab-df-convert');\n",
              "        buttonEl.style.display =\n",
              "          google.colab.kernel.accessAllowed ? 'block' : 'none';\n",
              "\n",
              "        async function convertToInteractive(key) {\n",
              "          const element = document.querySelector('#df-74e058df-cc11-4ba3-aeb6-ba31f71d11da');\n",
              "          const dataTable =\n",
              "            await google.colab.kernel.invokeFunction('convertToInteractive',\n",
              "                                                     [key], {});\n",
              "          if (!dataTable) return;\n",
              "\n",
              "          const docLinkHtml = 'Like what you see? Visit the ' +\n",
              "            '<a target=\"_blank\" href=https://colab.research.google.com/notebooks/data_table.ipynb>data table notebook</a>'\n",
              "            + ' to learn more about interactive tables.';\n",
              "          element.innerHTML = '';\n",
              "          dataTable['output_type'] = 'display_data';\n",
              "          await google.colab.output.renderOutput(dataTable, element);\n",
              "          const docLink = document.createElement('div');\n",
              "          docLink.innerHTML = docLinkHtml;\n",
              "          element.appendChild(docLink);\n",
              "        }\n",
              "      </script>\n",
              "    </div>\n",
              "  </div>\n",
              "  "
            ]
          },
          "metadata": {},
          "execution_count": 38
        }
      ]
    },
    {
      "cell_type": "markdown",
      "source": [
        "COMPROBACIÓN DE LA MATRIZ DE VARIANZA-COVARIANZA"
      ],
      "metadata": {
        "id": "51WMqm9HHUNb"
      }
    },
    {
      "cell_type": "code",
      "source": [
        "x.cov()"
      ],
      "metadata": {
        "colab": {
          "base_uri": "https://localhost:8080/",
          "height": 270
        },
        "id": "AjhVITq3TT4M",
        "outputId": "3577bbfb-35a3-4a8b-f68e-38aea26b4c97"
      },
      "execution_count": null,
      "outputs": [
        {
          "output_type": "execute_result",
          "data": {
            "text/plain": [
              "              EPSP         OPM      BtMr   isSmall  isMedium\n",
              "EPSP      0.008576    0.095351 -0.006378 -0.011938  0.004549\n",
              "OPM       0.095351  266.685817  0.037558  0.087182 -0.580925\n",
              "BtMr     -0.006378    0.037558  0.260931  0.086589 -0.023577\n",
              "isSmall  -0.011938    0.087182  0.086589  0.223518 -0.106857\n",
              "isMedium  0.004549   -0.580925 -0.023577 -0.106857  0.217431"
            ],
            "text/html": [
              "\n",
              "  <div id=\"df-70df0367-f7a1-4f09-b5f2-71b6c0dd1459\">\n",
              "    <div class=\"colab-df-container\">\n",
              "      <div>\n",
              "<style scoped>\n",
              "    .dataframe tbody tr th:only-of-type {\n",
              "        vertical-align: middle;\n",
              "    }\n",
              "\n",
              "    .dataframe tbody tr th {\n",
              "        vertical-align: top;\n",
              "    }\n",
              "\n",
              "    .dataframe thead th {\n",
              "        text-align: right;\n",
              "    }\n",
              "</style>\n",
              "<table border=\"1\" class=\"dataframe\">\n",
              "  <thead>\n",
              "    <tr style=\"text-align: right;\">\n",
              "      <th></th>\n",
              "      <th>EPSP</th>\n",
              "      <th>OPM</th>\n",
              "      <th>BtMr</th>\n",
              "      <th>isSmall</th>\n",
              "      <th>isMedium</th>\n",
              "    </tr>\n",
              "  </thead>\n",
              "  <tbody>\n",
              "    <tr>\n",
              "      <th>EPSP</th>\n",
              "      <td>0.008576</td>\n",
              "      <td>0.095351</td>\n",
              "      <td>-0.006378</td>\n",
              "      <td>-0.011938</td>\n",
              "      <td>0.004549</td>\n",
              "    </tr>\n",
              "    <tr>\n",
              "      <th>OPM</th>\n",
              "      <td>0.095351</td>\n",
              "      <td>266.685817</td>\n",
              "      <td>0.037558</td>\n",
              "      <td>0.087182</td>\n",
              "      <td>-0.580925</td>\n",
              "    </tr>\n",
              "    <tr>\n",
              "      <th>BtMr</th>\n",
              "      <td>-0.006378</td>\n",
              "      <td>0.037558</td>\n",
              "      <td>0.260931</td>\n",
              "      <td>0.086589</td>\n",
              "      <td>-0.023577</td>\n",
              "    </tr>\n",
              "    <tr>\n",
              "      <th>isSmall</th>\n",
              "      <td>-0.011938</td>\n",
              "      <td>0.087182</td>\n",
              "      <td>0.086589</td>\n",
              "      <td>0.223518</td>\n",
              "      <td>-0.106857</td>\n",
              "    </tr>\n",
              "    <tr>\n",
              "      <th>isMedium</th>\n",
              "      <td>0.004549</td>\n",
              "      <td>-0.580925</td>\n",
              "      <td>-0.023577</td>\n",
              "      <td>-0.106857</td>\n",
              "      <td>0.217431</td>\n",
              "    </tr>\n",
              "  </tbody>\n",
              "</table>\n",
              "</div>\n",
              "      <button class=\"colab-df-convert\" onclick=\"convertToInteractive('df-70df0367-f7a1-4f09-b5f2-71b6c0dd1459')\"\n",
              "              title=\"Convert this dataframe to an interactive table.\"\n",
              "              style=\"display:none;\">\n",
              "        \n",
              "  <svg xmlns=\"http://www.w3.org/2000/svg\" height=\"24px\"viewBox=\"0 0 24 24\"\n",
              "       width=\"24px\">\n",
              "    <path d=\"M0 0h24v24H0V0z\" fill=\"none\"/>\n",
              "    <path d=\"M18.56 5.44l.94 2.06.94-2.06 2.06-.94-2.06-.94-.94-2.06-.94 2.06-2.06.94zm-11 1L8.5 8.5l.94-2.06 2.06-.94-2.06-.94L8.5 2.5l-.94 2.06-2.06.94zm10 10l.94 2.06.94-2.06 2.06-.94-2.06-.94-.94-2.06-.94 2.06-2.06.94z\"/><path d=\"M17.41 7.96l-1.37-1.37c-.4-.4-.92-.59-1.43-.59-.52 0-1.04.2-1.43.59L10.3 9.45l-7.72 7.72c-.78.78-.78 2.05 0 2.83L4 21.41c.39.39.9.59 1.41.59.51 0 1.02-.2 1.41-.59l7.78-7.78 2.81-2.81c.8-.78.8-2.07 0-2.86zM5.41 20L4 18.59l7.72-7.72 1.47 1.35L5.41 20z\"/>\n",
              "  </svg>\n",
              "      </button>\n",
              "      \n",
              "  <style>\n",
              "    .colab-df-container {\n",
              "      display:flex;\n",
              "      flex-wrap:wrap;\n",
              "      gap: 12px;\n",
              "    }\n",
              "\n",
              "    .colab-df-convert {\n",
              "      background-color: #E8F0FE;\n",
              "      border: none;\n",
              "      border-radius: 50%;\n",
              "      cursor: pointer;\n",
              "      display: none;\n",
              "      fill: #1967D2;\n",
              "      height: 32px;\n",
              "      padding: 0 0 0 0;\n",
              "      width: 32px;\n",
              "    }\n",
              "\n",
              "    .colab-df-convert:hover {\n",
              "      background-color: #E2EBFA;\n",
              "      box-shadow: 0px 1px 2px rgba(60, 64, 67, 0.3), 0px 1px 3px 1px rgba(60, 64, 67, 0.15);\n",
              "      fill: #174EA6;\n",
              "    }\n",
              "\n",
              "    [theme=dark] .colab-df-convert {\n",
              "      background-color: #3B4455;\n",
              "      fill: #D2E3FC;\n",
              "    }\n",
              "\n",
              "    [theme=dark] .colab-df-convert:hover {\n",
              "      background-color: #434B5C;\n",
              "      box-shadow: 0px 1px 3px 1px rgba(0, 0, 0, 0.15);\n",
              "      filter: drop-shadow(0px 1px 2px rgba(0, 0, 0, 0.3));\n",
              "      fill: #FFFFFF;\n",
              "    }\n",
              "  </style>\n",
              "\n",
              "      <script>\n",
              "        const buttonEl =\n",
              "          document.querySelector('#df-70df0367-f7a1-4f09-b5f2-71b6c0dd1459 button.colab-df-convert');\n",
              "        buttonEl.style.display =\n",
              "          google.colab.kernel.accessAllowed ? 'block' : 'none';\n",
              "\n",
              "        async function convertToInteractive(key) {\n",
              "          const element = document.querySelector('#df-70df0367-f7a1-4f09-b5f2-71b6c0dd1459');\n",
              "          const dataTable =\n",
              "            await google.colab.kernel.invokeFunction('convertToInteractive',\n",
              "                                                     [key], {});\n",
              "          if (!dataTable) return;\n",
              "\n",
              "          const docLinkHtml = 'Like what you see? Visit the ' +\n",
              "            '<a target=\"_blank\" href=https://colab.research.google.com/notebooks/data_table.ipynb>data table notebook</a>'\n",
              "            + ' to learn more about interactive tables.';\n",
              "          element.innerHTML = '';\n",
              "          dataTable['output_type'] = 'display_data';\n",
              "          await google.colab.output.renderOutput(dataTable, element);\n",
              "          const docLink = document.createElement('div');\n",
              "          docLink.innerHTML = docLinkHtml;\n",
              "          element.appendChild(docLink);\n",
              "        }\n",
              "      </script>\n",
              "    </div>\n",
              "  </div>\n",
              "  "
            ]
          },
          "metadata": {},
          "execution_count": 37
        }
      ]
    },
    {
      "cell_type": "markdown",
      "source": [
        "## Correlaciones"
      ],
      "metadata": {
        "id": "1EwvAWTw8IYC"
      }
    },
    {
      "cell_type": "markdown",
      "source": [
        "A PARTIR DE LAS DESVIACIONES ESTÁNDAR Y LA MATRIZ DE VARIANZA-COVARAINZA OBTENEMOS LAS CORRELACIONES."
      ],
      "metadata": {
        "id": "rXcYJLQKKvRc"
      }
    },
    {
      "cell_type": "code",
      "source": [
        "varcov"
      ],
      "metadata": {
        "colab": {
          "base_uri": "https://localhost:8080/",
          "height": 270
        },
        "id": "9z6AtaBJ8Nrx",
        "outputId": "8754c87f-9583-4645-aa03-59b4bac42114"
      },
      "execution_count": null,
      "outputs": [
        {
          "output_type": "execute_result",
          "data": {
            "text/plain": [
              "              EPSP         OPM      BtMr   isSmall  isMedium\n",
              "EPSP      0.008576    0.095351 -0.006378 -0.011938  0.004549\n",
              "OPM       0.095351  266.685817  0.037558  0.087182 -0.580925\n",
              "BtMr     -0.006378    0.037558  0.260931  0.086589 -0.023577\n",
              "isSmall  -0.011938    0.087182  0.086589  0.223518 -0.106857\n",
              "isMedium  0.004549   -0.580925 -0.023577 -0.106857  0.217431"
            ],
            "text/html": [
              "\n",
              "  <div id=\"df-6b6d96ad-91ff-4649-bfe7-35caeee362ed\">\n",
              "    <div class=\"colab-df-container\">\n",
              "      <div>\n",
              "<style scoped>\n",
              "    .dataframe tbody tr th:only-of-type {\n",
              "        vertical-align: middle;\n",
              "    }\n",
              "\n",
              "    .dataframe tbody tr th {\n",
              "        vertical-align: top;\n",
              "    }\n",
              "\n",
              "    .dataframe thead th {\n",
              "        text-align: right;\n",
              "    }\n",
              "</style>\n",
              "<table border=\"1\" class=\"dataframe\">\n",
              "  <thead>\n",
              "    <tr style=\"text-align: right;\">\n",
              "      <th></th>\n",
              "      <th>EPSP</th>\n",
              "      <th>OPM</th>\n",
              "      <th>BtMr</th>\n",
              "      <th>isSmall</th>\n",
              "      <th>isMedium</th>\n",
              "    </tr>\n",
              "  </thead>\n",
              "  <tbody>\n",
              "    <tr>\n",
              "      <th>EPSP</th>\n",
              "      <td>0.008576</td>\n",
              "      <td>0.095351</td>\n",
              "      <td>-0.006378</td>\n",
              "      <td>-0.011938</td>\n",
              "      <td>0.004549</td>\n",
              "    </tr>\n",
              "    <tr>\n",
              "      <th>OPM</th>\n",
              "      <td>0.095351</td>\n",
              "      <td>266.685817</td>\n",
              "      <td>0.037558</td>\n",
              "      <td>0.087182</td>\n",
              "      <td>-0.580925</td>\n",
              "    </tr>\n",
              "    <tr>\n",
              "      <th>BtMr</th>\n",
              "      <td>-0.006378</td>\n",
              "      <td>0.037558</td>\n",
              "      <td>0.260931</td>\n",
              "      <td>0.086589</td>\n",
              "      <td>-0.023577</td>\n",
              "    </tr>\n",
              "    <tr>\n",
              "      <th>isSmall</th>\n",
              "      <td>-0.011938</td>\n",
              "      <td>0.087182</td>\n",
              "      <td>0.086589</td>\n",
              "      <td>0.223518</td>\n",
              "      <td>-0.106857</td>\n",
              "    </tr>\n",
              "    <tr>\n",
              "      <th>isMedium</th>\n",
              "      <td>0.004549</td>\n",
              "      <td>-0.580925</td>\n",
              "      <td>-0.023577</td>\n",
              "      <td>-0.106857</td>\n",
              "      <td>0.217431</td>\n",
              "    </tr>\n",
              "  </tbody>\n",
              "</table>\n",
              "</div>\n",
              "      <button class=\"colab-df-convert\" onclick=\"convertToInteractive('df-6b6d96ad-91ff-4649-bfe7-35caeee362ed')\"\n",
              "              title=\"Convert this dataframe to an interactive table.\"\n",
              "              style=\"display:none;\">\n",
              "        \n",
              "  <svg xmlns=\"http://www.w3.org/2000/svg\" height=\"24px\"viewBox=\"0 0 24 24\"\n",
              "       width=\"24px\">\n",
              "    <path d=\"M0 0h24v24H0V0z\" fill=\"none\"/>\n",
              "    <path d=\"M18.56 5.44l.94 2.06.94-2.06 2.06-.94-2.06-.94-.94-2.06-.94 2.06-2.06.94zm-11 1L8.5 8.5l.94-2.06 2.06-.94-2.06-.94L8.5 2.5l-.94 2.06-2.06.94zm10 10l.94 2.06.94-2.06 2.06-.94-2.06-.94-.94-2.06-.94 2.06-2.06.94z\"/><path d=\"M17.41 7.96l-1.37-1.37c-.4-.4-.92-.59-1.43-.59-.52 0-1.04.2-1.43.59L10.3 9.45l-7.72 7.72c-.78.78-.78 2.05 0 2.83L4 21.41c.39.39.9.59 1.41.59.51 0 1.02-.2 1.41-.59l7.78-7.78 2.81-2.81c.8-.78.8-2.07 0-2.86zM5.41 20L4 18.59l7.72-7.72 1.47 1.35L5.41 20z\"/>\n",
              "  </svg>\n",
              "      </button>\n",
              "      \n",
              "  <style>\n",
              "    .colab-df-container {\n",
              "      display:flex;\n",
              "      flex-wrap:wrap;\n",
              "      gap: 12px;\n",
              "    }\n",
              "\n",
              "    .colab-df-convert {\n",
              "      background-color: #E8F0FE;\n",
              "      border: none;\n",
              "      border-radius: 50%;\n",
              "      cursor: pointer;\n",
              "      display: none;\n",
              "      fill: #1967D2;\n",
              "      height: 32px;\n",
              "      padding: 0 0 0 0;\n",
              "      width: 32px;\n",
              "    }\n",
              "\n",
              "    .colab-df-convert:hover {\n",
              "      background-color: #E2EBFA;\n",
              "      box-shadow: 0px 1px 2px rgba(60, 64, 67, 0.3), 0px 1px 3px 1px rgba(60, 64, 67, 0.15);\n",
              "      fill: #174EA6;\n",
              "    }\n",
              "\n",
              "    [theme=dark] .colab-df-convert {\n",
              "      background-color: #3B4455;\n",
              "      fill: #D2E3FC;\n",
              "    }\n",
              "\n",
              "    [theme=dark] .colab-df-convert:hover {\n",
              "      background-color: #434B5C;\n",
              "      box-shadow: 0px 1px 3px 1px rgba(0, 0, 0, 0.15);\n",
              "      filter: drop-shadow(0px 1px 2px rgba(0, 0, 0, 0.3));\n",
              "      fill: #FFFFFF;\n",
              "    }\n",
              "  </style>\n",
              "\n",
              "      <script>\n",
              "        const buttonEl =\n",
              "          document.querySelector('#df-6b6d96ad-91ff-4649-bfe7-35caeee362ed button.colab-df-convert');\n",
              "        buttonEl.style.display =\n",
              "          google.colab.kernel.accessAllowed ? 'block' : 'none';\n",
              "\n",
              "        async function convertToInteractive(key) {\n",
              "          const element = document.querySelector('#df-6b6d96ad-91ff-4649-bfe7-35caeee362ed');\n",
              "          const dataTable =\n",
              "            await google.colab.kernel.invokeFunction('convertToInteractive',\n",
              "                                                     [key], {});\n",
              "          if (!dataTable) return;\n",
              "\n",
              "          const docLinkHtml = 'Like what you see? Visit the ' +\n",
              "            '<a target=\"_blank\" href=https://colab.research.google.com/notebooks/data_table.ipynb>data table notebook</a>'\n",
              "            + ' to learn more about interactive tables.';\n",
              "          element.innerHTML = '';\n",
              "          dataTable['output_type'] = 'display_data';\n",
              "          await google.colab.output.renderOutput(dataTable, element);\n",
              "          const docLink = document.createElement('div');\n",
              "          docLink.innerHTML = docLinkHtml;\n",
              "          element.appendChild(docLink);\n",
              "        }\n",
              "      </script>\n",
              "    </div>\n",
              "  </div>\n",
              "  "
            ]
          },
          "metadata": {},
          "execution_count": 39
        }
      ]
    },
    {
      "cell_type": "code",
      "source": [
        "var = np.array([])\n",
        "for i in range(len(varcov)) :\n",
        "  var = np.append(var, varcov.iloc[i,i])"
      ],
      "metadata": {
        "id": "lWgCwMBv8OaC"
      },
      "execution_count": null,
      "outputs": []
    },
    {
      "cell_type": "code",
      "source": [
        "vars = pd.DataFrame(var)\n",
        "vars = vars.transpose()"
      ],
      "metadata": {
        "id": "4iu0NyFF-3uZ"
      },
      "execution_count": null,
      "outputs": []
    },
    {
      "cell_type": "code",
      "source": [
        "vars.columns = ['EPSP','OPM','BtMr', 'isSmall', 'isMedium']"
      ],
      "metadata": {
        "id": "BBbqydgc-6Ch"
      },
      "execution_count": null,
      "outputs": []
    },
    {
      "cell_type": "code",
      "source": [
        "vars"
      ],
      "metadata": {
        "colab": {
          "base_uri": "https://localhost:8080/",
          "height": 145
        },
        "id": "O7W_wC6y_X0r",
        "outputId": "8f4a6bde-afa1-4b62-a3de-1afe3f299426"
      },
      "execution_count": null,
      "outputs": [
        {
          "output_type": "execute_result",
          "data": {
            "text/plain": [
              "       EPSP         OPM      BtMr   isSmall  isMedium\n",
              "0  0.008576  266.685817  0.260931  0.223518  0.217431"
            ],
            "text/html": [
              "\n",
              "  <div id=\"df-dcf3e0ed-0cb6-472d-82c6-4b83bcb54fbe\">\n",
              "    <div class=\"colab-df-container\">\n",
              "      <div>\n",
              "<style scoped>\n",
              "    .dataframe tbody tr th:only-of-type {\n",
              "        vertical-align: middle;\n",
              "    }\n",
              "\n",
              "    .dataframe tbody tr th {\n",
              "        vertical-align: top;\n",
              "    }\n",
              "\n",
              "    .dataframe thead th {\n",
              "        text-align: right;\n",
              "    }\n",
              "</style>\n",
              "<table border=\"1\" class=\"dataframe\">\n",
              "  <thead>\n",
              "    <tr style=\"text-align: right;\">\n",
              "      <th></th>\n",
              "      <th>EPSP</th>\n",
              "      <th>OPM</th>\n",
              "      <th>BtMr</th>\n",
              "      <th>isSmall</th>\n",
              "      <th>isMedium</th>\n",
              "    </tr>\n",
              "  </thead>\n",
              "  <tbody>\n",
              "    <tr>\n",
              "      <th>0</th>\n",
              "      <td>0.008576</td>\n",
              "      <td>266.685817</td>\n",
              "      <td>0.260931</td>\n",
              "      <td>0.223518</td>\n",
              "      <td>0.217431</td>\n",
              "    </tr>\n",
              "  </tbody>\n",
              "</table>\n",
              "</div>\n",
              "      <button class=\"colab-df-convert\" onclick=\"convertToInteractive('df-dcf3e0ed-0cb6-472d-82c6-4b83bcb54fbe')\"\n",
              "              title=\"Convert this dataframe to an interactive table.\"\n",
              "              style=\"display:none;\">\n",
              "        \n",
              "  <svg xmlns=\"http://www.w3.org/2000/svg\" height=\"24px\"viewBox=\"0 0 24 24\"\n",
              "       width=\"24px\">\n",
              "    <path d=\"M0 0h24v24H0V0z\" fill=\"none\"/>\n",
              "    <path d=\"M18.56 5.44l.94 2.06.94-2.06 2.06-.94-2.06-.94-.94-2.06-.94 2.06-2.06.94zm-11 1L8.5 8.5l.94-2.06 2.06-.94-2.06-.94L8.5 2.5l-.94 2.06-2.06.94zm10 10l.94 2.06.94-2.06 2.06-.94-2.06-.94-.94-2.06-.94 2.06-2.06.94z\"/><path d=\"M17.41 7.96l-1.37-1.37c-.4-.4-.92-.59-1.43-.59-.52 0-1.04.2-1.43.59L10.3 9.45l-7.72 7.72c-.78.78-.78 2.05 0 2.83L4 21.41c.39.39.9.59 1.41.59.51 0 1.02-.2 1.41-.59l7.78-7.78 2.81-2.81c.8-.78.8-2.07 0-2.86zM5.41 20L4 18.59l7.72-7.72 1.47 1.35L5.41 20z\"/>\n",
              "  </svg>\n",
              "      </button>\n",
              "      \n",
              "  <style>\n",
              "    .colab-df-container {\n",
              "      display:flex;\n",
              "      flex-wrap:wrap;\n",
              "      gap: 12px;\n",
              "    }\n",
              "\n",
              "    .colab-df-convert {\n",
              "      background-color: #E8F0FE;\n",
              "      border: none;\n",
              "      border-radius: 50%;\n",
              "      cursor: pointer;\n",
              "      display: none;\n",
              "      fill: #1967D2;\n",
              "      height: 32px;\n",
              "      padding: 0 0 0 0;\n",
              "      width: 32px;\n",
              "    }\n",
              "\n",
              "    .colab-df-convert:hover {\n",
              "      background-color: #E2EBFA;\n",
              "      box-shadow: 0px 1px 2px rgba(60, 64, 67, 0.3), 0px 1px 3px 1px rgba(60, 64, 67, 0.15);\n",
              "      fill: #174EA6;\n",
              "    }\n",
              "\n",
              "    [theme=dark] .colab-df-convert {\n",
              "      background-color: #3B4455;\n",
              "      fill: #D2E3FC;\n",
              "    }\n",
              "\n",
              "    [theme=dark] .colab-df-convert:hover {\n",
              "      background-color: #434B5C;\n",
              "      box-shadow: 0px 1px 3px 1px rgba(0, 0, 0, 0.15);\n",
              "      filter: drop-shadow(0px 1px 2px rgba(0, 0, 0, 0.3));\n",
              "      fill: #FFFFFF;\n",
              "    }\n",
              "  </style>\n",
              "\n",
              "      <script>\n",
              "        const buttonEl =\n",
              "          document.querySelector('#df-dcf3e0ed-0cb6-472d-82c6-4b83bcb54fbe button.colab-df-convert');\n",
              "        buttonEl.style.display =\n",
              "          google.colab.kernel.accessAllowed ? 'block' : 'none';\n",
              "\n",
              "        async function convertToInteractive(key) {\n",
              "          const element = document.querySelector('#df-dcf3e0ed-0cb6-472d-82c6-4b83bcb54fbe');\n",
              "          const dataTable =\n",
              "            await google.colab.kernel.invokeFunction('convertToInteractive',\n",
              "                                                     [key], {});\n",
              "          if (!dataTable) return;\n",
              "\n",
              "          const docLinkHtml = 'Like what you see? Visit the ' +\n",
              "            '<a target=\"_blank\" href=https://colab.research.google.com/notebooks/data_table.ipynb>data table notebook</a>'\n",
              "            + ' to learn more about interactive tables.';\n",
              "          element.innerHTML = '';\n",
              "          dataTable['output_type'] = 'display_data';\n",
              "          await google.colab.output.renderOutput(dataTable, element);\n",
              "          const docLink = document.createElement('div');\n",
              "          docLink.innerHTML = docLinkHtml;\n",
              "          element.appendChild(docLink);\n",
              "        }\n",
              "      </script>\n",
              "    </div>\n",
              "  </div>\n",
              "  "
            ]
          },
          "metadata": {},
          "execution_count": 43
        }
      ]
    },
    {
      "cell_type": "code",
      "source": [
        "stds = np.sqrt(var)"
      ],
      "metadata": {
        "id": "3XTXFsYw_7Nu"
      },
      "execution_count": null,
      "outputs": []
    },
    {
      "cell_type": "code",
      "source": [
        "stds"
      ],
      "metadata": {
        "colab": {
          "base_uri": "https://localhost:8080/"
        },
        "id": "Bl-uVYdPAP6s",
        "outputId": "7c0e8377-8c8c-4bab-ad41-eddfe1e73bf4"
      },
      "execution_count": null,
      "outputs": [
        {
          "output_type": "execute_result",
          "data": {
            "text/plain": [
              "array([ 0.09260701, 16.33051797,  0.51081429,  0.47277688,  0.46629533])"
            ]
          },
          "metadata": {},
          "execution_count": 45
        }
      ]
    },
    {
      "cell_type": "code",
      "source": [
        "std_dev = [[ 0 for y in range( len(stds) ) ] for x in range( len(stds) )]\n",
        "for i in range(len(stds)):\n",
        "  for j in range(len(stds)):\n",
        "    std_dev[i][j] = stds[i] * stds[j]"
      ],
      "metadata": {
        "id": "faGKCfyaApdy"
      },
      "execution_count": null,
      "outputs": []
    },
    {
      "cell_type": "code",
      "source": [
        "varcov2 = varcov.to_numpy()"
      ],
      "metadata": {
        "id": "uzas7pXeBKSt"
      },
      "execution_count": null,
      "outputs": []
    },
    {
      "cell_type": "code",
      "source": [
        "corr = varcov2 / std_dev"
      ],
      "metadata": {
        "id": "DJBQtUydBsMI"
      },
      "execution_count": null,
      "outputs": []
    },
    {
      "cell_type": "code",
      "source": [
        "corr"
      ],
      "metadata": {
        "colab": {
          "base_uri": "https://localhost:8080/"
        },
        "id": "kFsPpYYsE07R",
        "outputId": "d2a0ef92-d0d5-42fa-84ef-2e185ce1a4f8"
      },
      "execution_count": null,
      "outputs": [
        {
          "output_type": "execute_result",
          "data": {
            "text/plain": [
              "array([[ 1.        ,  0.0630495 , -0.1348371 , -0.27267741,  0.10534454],\n",
              "       [ 0.0630495 ,  1.        ,  0.0045024 ,  0.01129204, -0.07628849],\n",
              "       [-0.1348371 ,  0.0045024 ,  1.        ,  0.358543  , -0.09898189],\n",
              "       [-0.27267741,  0.01129204,  0.358543  ,  1.        , -0.4847154 ],\n",
              "       [ 0.10534454, -0.07628849, -0.09898189, -0.4847154 ,  1.        ]])"
            ]
          },
          "metadata": {},
          "execution_count": 49
        }
      ]
    },
    {
      "cell_type": "code",
      "source": [
        "corr = pd.DataFrame(corr)"
      ],
      "metadata": {
        "id": "v7QHmUaLExGM"
      },
      "execution_count": null,
      "outputs": []
    },
    {
      "cell_type": "code",
      "source": [
        "corr.columns = ['EPSP','OPM','BtMr', 'isSmall', 'isMedium']"
      ],
      "metadata": {
        "id": "SOMGMbPLDYAk"
      },
      "execution_count": null,
      "outputs": []
    },
    {
      "cell_type": "code",
      "source": [
        "corr = corr.transpose()\n",
        "corr.columns = ['EPSP','OPM','BtMr', 'isSmall', 'isMedium']"
      ],
      "metadata": {
        "id": "duOiXyhLDhQz"
      },
      "execution_count": null,
      "outputs": []
    },
    {
      "cell_type": "code",
      "source": [
        "corr"
      ],
      "metadata": {
        "colab": {
          "base_uri": "https://localhost:8080/",
          "height": 270
        },
        "id": "v5rLYEjJDk01",
        "outputId": "510db834-e6f6-4db8-9f71-223b5f2ac44b"
      },
      "execution_count": null,
      "outputs": [
        {
          "output_type": "execute_result",
          "data": {
            "text/plain": [
              "              EPSP       OPM      BtMr   isSmall  isMedium\n",
              "EPSP      1.000000  0.063049 -0.134837 -0.272677  0.105345\n",
              "OPM       0.063049  1.000000  0.004502  0.011292 -0.076288\n",
              "BtMr     -0.134837  0.004502  1.000000  0.358543 -0.098982\n",
              "isSmall  -0.272677  0.011292  0.358543  1.000000 -0.484715\n",
              "isMedium  0.105345 -0.076288 -0.098982 -0.484715  1.000000"
            ],
            "text/html": [
              "\n",
              "  <div id=\"df-3dcd31ef-c604-4859-878d-0ac1c21f6839\">\n",
              "    <div class=\"colab-df-container\">\n",
              "      <div>\n",
              "<style scoped>\n",
              "    .dataframe tbody tr th:only-of-type {\n",
              "        vertical-align: middle;\n",
              "    }\n",
              "\n",
              "    .dataframe tbody tr th {\n",
              "        vertical-align: top;\n",
              "    }\n",
              "\n",
              "    .dataframe thead th {\n",
              "        text-align: right;\n",
              "    }\n",
              "</style>\n",
              "<table border=\"1\" class=\"dataframe\">\n",
              "  <thead>\n",
              "    <tr style=\"text-align: right;\">\n",
              "      <th></th>\n",
              "      <th>EPSP</th>\n",
              "      <th>OPM</th>\n",
              "      <th>BtMr</th>\n",
              "      <th>isSmall</th>\n",
              "      <th>isMedium</th>\n",
              "    </tr>\n",
              "  </thead>\n",
              "  <tbody>\n",
              "    <tr>\n",
              "      <th>EPSP</th>\n",
              "      <td>1.000000</td>\n",
              "      <td>0.063049</td>\n",
              "      <td>-0.134837</td>\n",
              "      <td>-0.272677</td>\n",
              "      <td>0.105345</td>\n",
              "    </tr>\n",
              "    <tr>\n",
              "      <th>OPM</th>\n",
              "      <td>0.063049</td>\n",
              "      <td>1.000000</td>\n",
              "      <td>0.004502</td>\n",
              "      <td>0.011292</td>\n",
              "      <td>-0.076288</td>\n",
              "    </tr>\n",
              "    <tr>\n",
              "      <th>BtMr</th>\n",
              "      <td>-0.134837</td>\n",
              "      <td>0.004502</td>\n",
              "      <td>1.000000</td>\n",
              "      <td>0.358543</td>\n",
              "      <td>-0.098982</td>\n",
              "    </tr>\n",
              "    <tr>\n",
              "      <th>isSmall</th>\n",
              "      <td>-0.272677</td>\n",
              "      <td>0.011292</td>\n",
              "      <td>0.358543</td>\n",
              "      <td>1.000000</td>\n",
              "      <td>-0.484715</td>\n",
              "    </tr>\n",
              "    <tr>\n",
              "      <th>isMedium</th>\n",
              "      <td>0.105345</td>\n",
              "      <td>-0.076288</td>\n",
              "      <td>-0.098982</td>\n",
              "      <td>-0.484715</td>\n",
              "      <td>1.000000</td>\n",
              "    </tr>\n",
              "  </tbody>\n",
              "</table>\n",
              "</div>\n",
              "      <button class=\"colab-df-convert\" onclick=\"convertToInteractive('df-3dcd31ef-c604-4859-878d-0ac1c21f6839')\"\n",
              "              title=\"Convert this dataframe to an interactive table.\"\n",
              "              style=\"display:none;\">\n",
              "        \n",
              "  <svg xmlns=\"http://www.w3.org/2000/svg\" height=\"24px\"viewBox=\"0 0 24 24\"\n",
              "       width=\"24px\">\n",
              "    <path d=\"M0 0h24v24H0V0z\" fill=\"none\"/>\n",
              "    <path d=\"M18.56 5.44l.94 2.06.94-2.06 2.06-.94-2.06-.94-.94-2.06-.94 2.06-2.06.94zm-11 1L8.5 8.5l.94-2.06 2.06-.94-2.06-.94L8.5 2.5l-.94 2.06-2.06.94zm10 10l.94 2.06.94-2.06 2.06-.94-2.06-.94-.94-2.06-.94 2.06-2.06.94z\"/><path d=\"M17.41 7.96l-1.37-1.37c-.4-.4-.92-.59-1.43-.59-.52 0-1.04.2-1.43.59L10.3 9.45l-7.72 7.72c-.78.78-.78 2.05 0 2.83L4 21.41c.39.39.9.59 1.41.59.51 0 1.02-.2 1.41-.59l7.78-7.78 2.81-2.81c.8-.78.8-2.07 0-2.86zM5.41 20L4 18.59l7.72-7.72 1.47 1.35L5.41 20z\"/>\n",
              "  </svg>\n",
              "      </button>\n",
              "      \n",
              "  <style>\n",
              "    .colab-df-container {\n",
              "      display:flex;\n",
              "      flex-wrap:wrap;\n",
              "      gap: 12px;\n",
              "    }\n",
              "\n",
              "    .colab-df-convert {\n",
              "      background-color: #E8F0FE;\n",
              "      border: none;\n",
              "      border-radius: 50%;\n",
              "      cursor: pointer;\n",
              "      display: none;\n",
              "      fill: #1967D2;\n",
              "      height: 32px;\n",
              "      padding: 0 0 0 0;\n",
              "      width: 32px;\n",
              "    }\n",
              "\n",
              "    .colab-df-convert:hover {\n",
              "      background-color: #E2EBFA;\n",
              "      box-shadow: 0px 1px 2px rgba(60, 64, 67, 0.3), 0px 1px 3px 1px rgba(60, 64, 67, 0.15);\n",
              "      fill: #174EA6;\n",
              "    }\n",
              "\n",
              "    [theme=dark] .colab-df-convert {\n",
              "      background-color: #3B4455;\n",
              "      fill: #D2E3FC;\n",
              "    }\n",
              "\n",
              "    [theme=dark] .colab-df-convert:hover {\n",
              "      background-color: #434B5C;\n",
              "      box-shadow: 0px 1px 3px 1px rgba(0, 0, 0, 0.15);\n",
              "      filter: drop-shadow(0px 1px 2px rgba(0, 0, 0, 0.3));\n",
              "      fill: #FFFFFF;\n",
              "    }\n",
              "  </style>\n",
              "\n",
              "      <script>\n",
              "        const buttonEl =\n",
              "          document.querySelector('#df-3dcd31ef-c604-4859-878d-0ac1c21f6839 button.colab-df-convert');\n",
              "        buttonEl.style.display =\n",
              "          google.colab.kernel.accessAllowed ? 'block' : 'none';\n",
              "\n",
              "        async function convertToInteractive(key) {\n",
              "          const element = document.querySelector('#df-3dcd31ef-c604-4859-878d-0ac1c21f6839');\n",
              "          const dataTable =\n",
              "            await google.colab.kernel.invokeFunction('convertToInteractive',\n",
              "                                                     [key], {});\n",
              "          if (!dataTable) return;\n",
              "\n",
              "          const docLinkHtml = 'Like what you see? Visit the ' +\n",
              "            '<a target=\"_blank\" href=https://colab.research.google.com/notebooks/data_table.ipynb>data table notebook</a>'\n",
              "            + ' to learn more about interactive tables.';\n",
              "          element.innerHTML = '';\n",
              "          dataTable['output_type'] = 'display_data';\n",
              "          await google.colab.output.renderOutput(dataTable, element);\n",
              "          const docLink = document.createElement('div');\n",
              "          docLink.innerHTML = docLinkHtml;\n",
              "          element.appendChild(docLink);\n",
              "        }\n",
              "      </script>\n",
              "    </div>\n",
              "  </div>\n",
              "  "
            ]
          },
          "metadata": {},
          "execution_count": 53
        }
      ]
    },
    {
      "cell_type": "markdown",
      "source": [
        "COMPROBACIÓN DE CORRELACIÓN"
      ],
      "metadata": {
        "id": "0inDk9u0HvUI"
      }
    },
    {
      "cell_type": "code",
      "source": [
        "x.corr()"
      ],
      "metadata": {
        "colab": {
          "base_uri": "https://localhost:8080/",
          "height": 270
        },
        "id": "-J6iWe_O8gey",
        "outputId": "834092d8-6ad7-4210-fbaa-6a9c9eda5a34"
      },
      "execution_count": null,
      "outputs": [
        {
          "output_type": "execute_result",
          "data": {
            "text/plain": [
              "              EPSP       OPM      BtMr   isSmall  isMedium\n",
              "EPSP      1.000000  0.063049 -0.134837 -0.272677  0.105345\n",
              "OPM       0.063049  1.000000  0.004502  0.011292 -0.076288\n",
              "BtMr     -0.134837  0.004502  1.000000  0.358543 -0.098982\n",
              "isSmall  -0.272677  0.011292  0.358543  1.000000 -0.484715\n",
              "isMedium  0.105345 -0.076288 -0.098982 -0.484715  1.000000"
            ],
            "text/html": [
              "\n",
              "  <div id=\"df-b71cf409-82b7-40ab-93ce-b4037b9751f3\">\n",
              "    <div class=\"colab-df-container\">\n",
              "      <div>\n",
              "<style scoped>\n",
              "    .dataframe tbody tr th:only-of-type {\n",
              "        vertical-align: middle;\n",
              "    }\n",
              "\n",
              "    .dataframe tbody tr th {\n",
              "        vertical-align: top;\n",
              "    }\n",
              "\n",
              "    .dataframe thead th {\n",
              "        text-align: right;\n",
              "    }\n",
              "</style>\n",
              "<table border=\"1\" class=\"dataframe\">\n",
              "  <thead>\n",
              "    <tr style=\"text-align: right;\">\n",
              "      <th></th>\n",
              "      <th>EPSP</th>\n",
              "      <th>OPM</th>\n",
              "      <th>BtMr</th>\n",
              "      <th>isSmall</th>\n",
              "      <th>isMedium</th>\n",
              "    </tr>\n",
              "  </thead>\n",
              "  <tbody>\n",
              "    <tr>\n",
              "      <th>EPSP</th>\n",
              "      <td>1.000000</td>\n",
              "      <td>0.063049</td>\n",
              "      <td>-0.134837</td>\n",
              "      <td>-0.272677</td>\n",
              "      <td>0.105345</td>\n",
              "    </tr>\n",
              "    <tr>\n",
              "      <th>OPM</th>\n",
              "      <td>0.063049</td>\n",
              "      <td>1.000000</td>\n",
              "      <td>0.004502</td>\n",
              "      <td>0.011292</td>\n",
              "      <td>-0.076288</td>\n",
              "    </tr>\n",
              "    <tr>\n",
              "      <th>BtMr</th>\n",
              "      <td>-0.134837</td>\n",
              "      <td>0.004502</td>\n",
              "      <td>1.000000</td>\n",
              "      <td>0.358543</td>\n",
              "      <td>-0.098982</td>\n",
              "    </tr>\n",
              "    <tr>\n",
              "      <th>isSmall</th>\n",
              "      <td>-0.272677</td>\n",
              "      <td>0.011292</td>\n",
              "      <td>0.358543</td>\n",
              "      <td>1.000000</td>\n",
              "      <td>-0.484715</td>\n",
              "    </tr>\n",
              "    <tr>\n",
              "      <th>isMedium</th>\n",
              "      <td>0.105345</td>\n",
              "      <td>-0.076288</td>\n",
              "      <td>-0.098982</td>\n",
              "      <td>-0.484715</td>\n",
              "      <td>1.000000</td>\n",
              "    </tr>\n",
              "  </tbody>\n",
              "</table>\n",
              "</div>\n",
              "      <button class=\"colab-df-convert\" onclick=\"convertToInteractive('df-b71cf409-82b7-40ab-93ce-b4037b9751f3')\"\n",
              "              title=\"Convert this dataframe to an interactive table.\"\n",
              "              style=\"display:none;\">\n",
              "        \n",
              "  <svg xmlns=\"http://www.w3.org/2000/svg\" height=\"24px\"viewBox=\"0 0 24 24\"\n",
              "       width=\"24px\">\n",
              "    <path d=\"M0 0h24v24H0V0z\" fill=\"none\"/>\n",
              "    <path d=\"M18.56 5.44l.94 2.06.94-2.06 2.06-.94-2.06-.94-.94-2.06-.94 2.06-2.06.94zm-11 1L8.5 8.5l.94-2.06 2.06-.94-2.06-.94L8.5 2.5l-.94 2.06-2.06.94zm10 10l.94 2.06.94-2.06 2.06-.94-2.06-.94-.94-2.06-.94 2.06-2.06.94z\"/><path d=\"M17.41 7.96l-1.37-1.37c-.4-.4-.92-.59-1.43-.59-.52 0-1.04.2-1.43.59L10.3 9.45l-7.72 7.72c-.78.78-.78 2.05 0 2.83L4 21.41c.39.39.9.59 1.41.59.51 0 1.02-.2 1.41-.59l7.78-7.78 2.81-2.81c.8-.78.8-2.07 0-2.86zM5.41 20L4 18.59l7.72-7.72 1.47 1.35L5.41 20z\"/>\n",
              "  </svg>\n",
              "      </button>\n",
              "      \n",
              "  <style>\n",
              "    .colab-df-container {\n",
              "      display:flex;\n",
              "      flex-wrap:wrap;\n",
              "      gap: 12px;\n",
              "    }\n",
              "\n",
              "    .colab-df-convert {\n",
              "      background-color: #E8F0FE;\n",
              "      border: none;\n",
              "      border-radius: 50%;\n",
              "      cursor: pointer;\n",
              "      display: none;\n",
              "      fill: #1967D2;\n",
              "      height: 32px;\n",
              "      padding: 0 0 0 0;\n",
              "      width: 32px;\n",
              "    }\n",
              "\n",
              "    .colab-df-convert:hover {\n",
              "      background-color: #E2EBFA;\n",
              "      box-shadow: 0px 1px 2px rgba(60, 64, 67, 0.3), 0px 1px 3px 1px rgba(60, 64, 67, 0.15);\n",
              "      fill: #174EA6;\n",
              "    }\n",
              "\n",
              "    [theme=dark] .colab-df-convert {\n",
              "      background-color: #3B4455;\n",
              "      fill: #D2E3FC;\n",
              "    }\n",
              "\n",
              "    [theme=dark] .colab-df-convert:hover {\n",
              "      background-color: #434B5C;\n",
              "      box-shadow: 0px 1px 3px 1px rgba(0, 0, 0, 0.15);\n",
              "      filter: drop-shadow(0px 1px 2px rgba(0, 0, 0, 0.3));\n",
              "      fill: #FFFFFF;\n",
              "    }\n",
              "  </style>\n",
              "\n",
              "      <script>\n",
              "        const buttonEl =\n",
              "          document.querySelector('#df-b71cf409-82b7-40ab-93ce-b4037b9751f3 button.colab-df-convert');\n",
              "        buttonEl.style.display =\n",
              "          google.colab.kernel.accessAllowed ? 'block' : 'none';\n",
              "\n",
              "        async function convertToInteractive(key) {\n",
              "          const element = document.querySelector('#df-b71cf409-82b7-40ab-93ce-b4037b9751f3');\n",
              "          const dataTable =\n",
              "            await google.colab.kernel.invokeFunction('convertToInteractive',\n",
              "                                                     [key], {});\n",
              "          if (!dataTable) return;\n",
              "\n",
              "          const docLinkHtml = 'Like what you see? Visit the ' +\n",
              "            '<a target=\"_blank\" href=https://colab.research.google.com/notebooks/data_table.ipynb>data table notebook</a>'\n",
              "            + ' to learn more about interactive tables.';\n",
              "          element.innerHTML = '';\n",
              "          dataTable['output_type'] = 'display_data';\n",
              "          await google.colab.output.renderOutput(dataTable, element);\n",
              "          const docLink = document.createElement('div');\n",
              "          docLink.innerHTML = docLinkHtml;\n",
              "          element.appendChild(docLink);\n",
              "        }\n",
              "      </script>\n",
              "    </div>\n",
              "  </div>\n",
              "  "
            ]
          },
          "metadata": {},
          "execution_count": 54
        }
      ]
    },
    {
      "cell_type": "markdown",
      "source": [
        "## Modelo de regresión multiple"
      ],
      "metadata": {
        "id": "kZDCWtFhWB68"
      }
    },
    {
      "cell_type": "markdown",
      "source": [
        "### Betas"
      ],
      "metadata": {
        "id": "dhLYmDfmyX8N"
      }
    },
    {
      "cell_type": "markdown",
      "source": [
        "OBTENCIÓN DE LAS BETAS"
      ],
      "metadata": {
        "id": "9iaI8ZdDK7SE"
      }
    },
    {
      "cell_type": "code",
      "source": [
        "x['1'] = 1"
      ],
      "metadata": {
        "id": "UvRaqWDSWIq0"
      },
      "execution_count": null,
      "outputs": []
    },
    {
      "cell_type": "code",
      "source": [
        "x = x[['1', 'EPSP', 'OPM', 'BtMr', 'isSmall', 'isMedium']]"
      ],
      "metadata": {
        "id": "-mjJ97rYWhr6"
      },
      "execution_count": null,
      "outputs": []
    },
    {
      "cell_type": "code",
      "source": [
        "xt = x.transpose()"
      ],
      "metadata": {
        "id": "MVyx2cK4WsRm"
      },
      "execution_count": null,
      "outputs": []
    },
    {
      "cell_type": "code",
      "source": [
        "x2 = xt.dot(x)"
      ],
      "metadata": {
        "id": "39iNZLFkXBJq"
      },
      "execution_count": null,
      "outputs": []
    },
    {
      "cell_type": "code",
      "source": [
        "xinv = np.linalg.inv(x2)"
      ],
      "metadata": {
        "id": "PPCjCvLRYQva"
      },
      "execution_count": null,
      "outputs": []
    },
    {
      "cell_type": "code",
      "source": [
        "aux = np.dot(xinv, xt)"
      ],
      "metadata": {
        "id": "DTFfBYdkr7hr"
      },
      "execution_count": null,
      "outputs": []
    },
    {
      "cell_type": "code",
      "source": [
        "H = x.dot(aux)"
      ],
      "metadata": {
        "id": "2STILRMZSD1I"
      },
      "execution_count": null,
      "outputs": []
    },
    {
      "cell_type": "markdown",
      "source": [
        "LEVERAGE POINTS"
      ],
      "metadata": {
        "id": "AGuR990WTEke"
      }
    },
    {
      "cell_type": "code",
      "source": [
        "np.diag(H)"
      ],
      "metadata": {
        "colab": {
          "base_uri": "https://localhost:8080/"
        },
        "id": "IVNKcf1YS0ks",
        "outputId": "f797f1c9-c3d1-413b-ab81-cf0a561e448c"
      },
      "execution_count": null,
      "outputs": [
        {
          "output_type": "execute_result",
          "data": {
            "text/plain": [
              "array([0.01025462, 0.00871351, 0.01191687, 0.00844201, 0.00939976,\n",
              "       0.01020374, 0.00931916, 0.00980534, 0.17866207, 0.00841759,\n",
              "       0.09252003, 0.00861461, 0.01859177, 0.009441  , 0.01040644,\n",
              "       0.01266513, 0.00858478, 0.01085383, 0.00856022, 0.0085951 ,\n",
              "       0.01481655, 0.03721917, 0.01306716, 0.07908719, 0.00859619,\n",
              "       0.00853904, 0.01035149, 0.01077289, 0.01389394, 0.01877453,\n",
              "       0.02718413, 0.00984729, 0.00876822, 0.0100631 , 0.0110667 ,\n",
              "       0.0087734 , 0.00851351, 0.01163087, 0.01015548, 0.00850018,\n",
              "       0.00910371, 0.00953157, 0.01077594, 0.00941962, 0.0095676 ,\n",
              "       0.12072698, 0.01159286, 0.0095178 , 0.00928477, 0.00842606,\n",
              "       0.0087029 , 0.01344211, 0.01027689, 0.00846845, 0.00867828,\n",
              "       0.03171133, 0.01009338, 0.0106215 , 0.0106203 , 0.01142664,\n",
              "       0.00840464, 0.00841862, 0.01125243, 0.00971634, 0.01024145,\n",
              "       0.0084653 , 0.01302169, 0.00853792, 0.00927081, 0.00853251,\n",
              "       0.01107292, 0.01061936, 0.01259319, 0.0119897 , 0.00905186,\n",
              "       0.01169127, 0.00959514, 0.00864307, 0.00854923, 0.00846158,\n",
              "       0.00887125, 0.01579434, 0.00940333, 0.00941413, 0.01240543,\n",
              "       0.00979316, 0.00922129, 0.0114014 , 0.00947693, 0.02884292,\n",
              "       0.00844813, 0.01133232, 0.00915221, 0.00934469, 0.00842597,\n",
              "       0.0086933 , 0.01143021, 0.00939239, 0.00979229, 0.02063471,\n",
              "       0.00842905, 0.00852534, 0.00860286, 0.00935735, 0.03572391,\n",
              "       0.01279557, 0.00856488, 0.00858423, 0.00918837, 0.01271684,\n",
              "       0.00951781, 0.01060973, 0.01494845, 0.0084323 , 0.0095887 ,\n",
              "       0.00944337, 0.00859409, 0.00978534, 0.0120486 , 0.01051275,\n",
              "       0.01150511, 0.00945837, 0.00906604, 0.02828873, 0.00844159,\n",
              "       0.01122778, 0.02015111, 0.01000577, 0.00872391, 0.00873427,\n",
              "       0.00938944, 0.00991876, 0.0094631 , 0.00944923, 0.008657  ,\n",
              "       0.01213313, 0.00897022, 0.00869571, 0.01702413, 0.00841389,\n",
              "       0.01315359, 0.00979814, 0.01155368, 0.00990714, 0.01066388,\n",
              "       0.01412898, 0.00933838, 0.00963398, 0.01157828, 0.00931167,\n",
              "       0.00842175, 0.04984312, 0.00889234, 0.00846258, 0.00844595,\n",
              "       0.01242099, 0.0087231 , 0.01233016, 0.00885699, 0.00901838,\n",
              "       0.00853225, 0.02211607, 0.01326642, 0.02852828, 0.00971242,\n",
              "       0.00975304, 0.01005452, 0.01217804, 0.01003217, 0.00848076,\n",
              "       0.0149235 , 0.00967523, 0.01328328, 0.00998501, 0.00949918,\n",
              "       0.01252488, 0.01010947, 0.01232615, 0.01068089, 0.00873431,\n",
              "       0.00878697, 0.009763  , 0.00974474, 0.0087397 , 0.00906068,\n",
              "       0.00923949, 0.0086972 , 0.00933167, 0.00841891, 0.00992739,\n",
              "       0.00850412, 0.00941875, 0.00841591, 0.01079067, 0.01242239,\n",
              "       0.00995555, 0.00991618, 0.01087574, 0.00867799, 0.00996395,\n",
              "       0.00976517, 0.00966944, 0.00950895, 0.00899861, 0.00890267,\n",
              "       0.01971538, 0.1046692 , 0.01223073, 0.01182622, 0.00881136,\n",
              "       0.01050735, 0.00993017, 0.01046162, 0.01349663, 0.00928963,\n",
              "       0.00928182, 0.02175881, 0.00929119, 0.00840723, 0.01066093,\n",
              "       0.00956053, 0.0126337 , 0.00860735, 0.01475118, 0.01010459,\n",
              "       0.00915316, 0.01000301, 0.00922344, 0.00968209, 0.00986891,\n",
              "       0.00842354, 0.01550382, 0.00975347, 0.01195573, 0.01406328,\n",
              "       0.00986595, 0.01067122, 0.00974491, 0.00942165, 0.00842755,\n",
              "       0.01091223, 0.01000707, 0.00905709, 0.00983824, 0.01446646,\n",
              "       0.00867296, 0.01467207, 0.01129526, 0.03418788, 0.0084918 ,\n",
              "       0.01109356, 0.01156464, 0.01757643, 0.00935057, 0.02525125,\n",
              "       0.00861948, 0.01134507, 0.01029094, 0.00841082, 0.0095139 ,\n",
              "       0.01030796, 0.01156295, 0.00860355, 0.00938966, 0.00847464,\n",
              "       0.01261204, 0.02025195, 0.00958209, 0.01329816, 0.00953376,\n",
              "       0.00955495, 0.00869943, 0.89739408, 0.00899895, 0.00922425,\n",
              "       0.01752992, 0.02345359, 0.04824452, 0.01241865, 0.01673777,\n",
              "       0.00998111, 0.00857031, 0.00892041, 0.026264  , 0.00969827,\n",
              "       0.0422802 , 0.01071724, 0.00919304, 0.0085777 , 0.01004315,\n",
              "       0.01828611, 0.00943771, 0.00841447, 0.00924523, 0.03358325,\n",
              "       0.00983551, 0.00869384, 0.00962081, 0.00843918, 0.00980775,\n",
              "       0.00843825, 0.00841828, 0.01531193, 0.01160866, 0.01158717,\n",
              "       0.01008798, 0.01091315, 0.00855509, 0.00953365, 0.01134757,\n",
              "       0.00989703, 0.00928725, 0.00976711, 0.00918235, 0.01017852,\n",
              "       0.01049463, 0.01051606, 0.00852184, 0.00844167, 0.0084423 ,\n",
              "       0.01216466, 0.01159262, 0.00965455, 0.00849262, 0.00911348,\n",
              "       0.63991631, 0.00904315, 0.02055146, 0.00991068, 0.01418029,\n",
              "       0.0108997 , 0.00936422, 0.00938036, 0.00920037, 0.00927994,\n",
              "       0.01091092, 0.00917257, 0.00891352, 0.00994096, 0.00842951,\n",
              "       0.00885227, 0.02709633, 0.02651349])"
            ]
          },
          "metadata": {},
          "execution_count": 96
        }
      ]
    },
    {
      "cell_type": "code",
      "source": [
        "Betas = aux.dot(y)"
      ],
      "metadata": {
        "id": "htrse0c5wCbp"
      },
      "execution_count": null,
      "outputs": []
    },
    {
      "cell_type": "code",
      "source": [
        "Betas"
      ],
      "metadata": {
        "colab": {
          "base_uri": "https://localhost:8080/"
        },
        "id": "OjDDRZe8wJIW",
        "outputId": "9e59efe3-854b-49b0-de92-0e82bd6aeaf7"
      },
      "execution_count": null,
      "outputs": [
        {
          "output_type": "execute_result",
          "data": {
            "text/plain": [
              "array([-0.3211842 ,  3.05225513,  0.00723722, -0.019992  , -0.2170283 ,\n",
              "       -0.13466137])"
            ]
          },
          "metadata": {},
          "execution_count": 63
        }
      ]
    },
    {
      "cell_type": "code",
      "source": [
        "B = pd.DataFrame(Betas)\n",
        "B = B.transpose()\n",
        "B.columns = ['b','EPSP','OPM', 'BtMr', 'isSmall', 'isMedium']\n",
        "B = B.transpose()"
      ],
      "metadata": {
        "id": "tg42FKFd4VEX"
      },
      "execution_count": null,
      "outputs": []
    },
    {
      "cell_type": "code",
      "source": [
        "B"
      ],
      "metadata": {
        "colab": {
          "base_uri": "https://localhost:8080/",
          "height": 237
        },
        "id": "e_PTRNNw4vbz",
        "outputId": "edf50086-2376-4eb1-dfd3-06842d8beab5"
      },
      "execution_count": null,
      "outputs": [
        {
          "output_type": "execute_result",
          "data": {
            "text/plain": [
              "                 0\n",
              "b        -0.321184\n",
              "EPSP      3.052255\n",
              "OPM       0.007237\n",
              "BtMr     -0.019992\n",
              "isSmall  -0.217028\n",
              "isMedium -0.134661"
            ],
            "text/html": [
              "\n",
              "  <div id=\"df-cf5e1ba3-0030-4e6b-be1e-9258196f4aeb\">\n",
              "    <div class=\"colab-df-container\">\n",
              "      <div>\n",
              "<style scoped>\n",
              "    .dataframe tbody tr th:only-of-type {\n",
              "        vertical-align: middle;\n",
              "    }\n",
              "\n",
              "    .dataframe tbody tr th {\n",
              "        vertical-align: top;\n",
              "    }\n",
              "\n",
              "    .dataframe thead th {\n",
              "        text-align: right;\n",
              "    }\n",
              "</style>\n",
              "<table border=\"1\" class=\"dataframe\">\n",
              "  <thead>\n",
              "    <tr style=\"text-align: right;\">\n",
              "      <th></th>\n",
              "      <th>0</th>\n",
              "    </tr>\n",
              "  </thead>\n",
              "  <tbody>\n",
              "    <tr>\n",
              "      <th>b</th>\n",
              "      <td>-0.321184</td>\n",
              "    </tr>\n",
              "    <tr>\n",
              "      <th>EPSP</th>\n",
              "      <td>3.052255</td>\n",
              "    </tr>\n",
              "    <tr>\n",
              "      <th>OPM</th>\n",
              "      <td>0.007237</td>\n",
              "    </tr>\n",
              "    <tr>\n",
              "      <th>BtMr</th>\n",
              "      <td>-0.019992</td>\n",
              "    </tr>\n",
              "    <tr>\n",
              "      <th>isSmall</th>\n",
              "      <td>-0.217028</td>\n",
              "    </tr>\n",
              "    <tr>\n",
              "      <th>isMedium</th>\n",
              "      <td>-0.134661</td>\n",
              "    </tr>\n",
              "  </tbody>\n",
              "</table>\n",
              "</div>\n",
              "      <button class=\"colab-df-convert\" onclick=\"convertToInteractive('df-cf5e1ba3-0030-4e6b-be1e-9258196f4aeb')\"\n",
              "              title=\"Convert this dataframe to an interactive table.\"\n",
              "              style=\"display:none;\">\n",
              "        \n",
              "  <svg xmlns=\"http://www.w3.org/2000/svg\" height=\"24px\"viewBox=\"0 0 24 24\"\n",
              "       width=\"24px\">\n",
              "    <path d=\"M0 0h24v24H0V0z\" fill=\"none\"/>\n",
              "    <path d=\"M18.56 5.44l.94 2.06.94-2.06 2.06-.94-2.06-.94-.94-2.06-.94 2.06-2.06.94zm-11 1L8.5 8.5l.94-2.06 2.06-.94-2.06-.94L8.5 2.5l-.94 2.06-2.06.94zm10 10l.94 2.06.94-2.06 2.06-.94-2.06-.94-.94-2.06-.94 2.06-2.06.94z\"/><path d=\"M17.41 7.96l-1.37-1.37c-.4-.4-.92-.59-1.43-.59-.52 0-1.04.2-1.43.59L10.3 9.45l-7.72 7.72c-.78.78-.78 2.05 0 2.83L4 21.41c.39.39.9.59 1.41.59.51 0 1.02-.2 1.41-.59l7.78-7.78 2.81-2.81c.8-.78.8-2.07 0-2.86zM5.41 20L4 18.59l7.72-7.72 1.47 1.35L5.41 20z\"/>\n",
              "  </svg>\n",
              "      </button>\n",
              "      \n",
              "  <style>\n",
              "    .colab-df-container {\n",
              "      display:flex;\n",
              "      flex-wrap:wrap;\n",
              "      gap: 12px;\n",
              "    }\n",
              "\n",
              "    .colab-df-convert {\n",
              "      background-color: #E8F0FE;\n",
              "      border: none;\n",
              "      border-radius: 50%;\n",
              "      cursor: pointer;\n",
              "      display: none;\n",
              "      fill: #1967D2;\n",
              "      height: 32px;\n",
              "      padding: 0 0 0 0;\n",
              "      width: 32px;\n",
              "    }\n",
              "\n",
              "    .colab-df-convert:hover {\n",
              "      background-color: #E2EBFA;\n",
              "      box-shadow: 0px 1px 2px rgba(60, 64, 67, 0.3), 0px 1px 3px 1px rgba(60, 64, 67, 0.15);\n",
              "      fill: #174EA6;\n",
              "    }\n",
              "\n",
              "    [theme=dark] .colab-df-convert {\n",
              "      background-color: #3B4455;\n",
              "      fill: #D2E3FC;\n",
              "    }\n",
              "\n",
              "    [theme=dark] .colab-df-convert:hover {\n",
              "      background-color: #434B5C;\n",
              "      box-shadow: 0px 1px 3px 1px rgba(0, 0, 0, 0.15);\n",
              "      filter: drop-shadow(0px 1px 2px rgba(0, 0, 0, 0.3));\n",
              "      fill: #FFFFFF;\n",
              "    }\n",
              "  </style>\n",
              "\n",
              "      <script>\n",
              "        const buttonEl =\n",
              "          document.querySelector('#df-cf5e1ba3-0030-4e6b-be1e-9258196f4aeb button.colab-df-convert');\n",
              "        buttonEl.style.display =\n",
              "          google.colab.kernel.accessAllowed ? 'block' : 'none';\n",
              "\n",
              "        async function convertToInteractive(key) {\n",
              "          const element = document.querySelector('#df-cf5e1ba3-0030-4e6b-be1e-9258196f4aeb');\n",
              "          const dataTable =\n",
              "            await google.colab.kernel.invokeFunction('convertToInteractive',\n",
              "                                                     [key], {});\n",
              "          if (!dataTable) return;\n",
              "\n",
              "          const docLinkHtml = 'Like what you see? Visit the ' +\n",
              "            '<a target=\"_blank\" href=https://colab.research.google.com/notebooks/data_table.ipynb>data table notebook</a>'\n",
              "            + ' to learn more about interactive tables.';\n",
              "          element.innerHTML = '';\n",
              "          dataTable['output_type'] = 'display_data';\n",
              "          await google.colab.output.renderOutput(dataTable, element);\n",
              "          const docLink = document.createElement('div');\n",
              "          docLink.innerHTML = docLinkHtml;\n",
              "          element.appendChild(docLink);\n",
              "        }\n",
              "      </script>\n",
              "    </div>\n",
              "  </div>\n",
              "  "
            ]
          },
          "metadata": {},
          "execution_count": 65
        }
      ]
    },
    {
      "cell_type": "markdown",
      "source": [
        "### Predicción"
      ],
      "metadata": {
        "id": "ZmJ3JYlIyimV"
      }
    },
    {
      "cell_type": "code",
      "source": [
        "import matplotlib.pyplot as plt"
      ],
      "metadata": {
        "id": "9wRkvsBF2UmW"
      },
      "execution_count": null,
      "outputs": []
    },
    {
      "cell_type": "code",
      "source": [
        "XB = x.dot(Betas)"
      ],
      "metadata": {
        "id": "wYf1q9hTykbj"
      },
      "execution_count": null,
      "outputs": []
    },
    {
      "cell_type": "code",
      "source": [
        "ym = pd.DataFrame(y)"
      ],
      "metadata": {
        "id": "q1l58GQF5VKC"
      },
      "execution_count": null,
      "outputs": []
    },
    {
      "cell_type": "markdown",
      "source": [
        "### OUTLIERS"
      ],
      "metadata": {
        "id": "f8wfjn3o3nnW"
      }
    },
    {
      "cell_type": "code",
      "source": [
        "ym.describe()"
      ],
      "metadata": {
        "colab": {
          "base_uri": "https://localhost:8080/",
          "height": 364
        },
        "id": "9GLMSvEv0j6Z",
        "outputId": "5c323481-5553-463b-d3a4-fc989e32d721"
      },
      "execution_count": null,
      "outputs": [
        {
          "output_type": "execute_result",
          "data": {
            "text/plain": [
              "                R\n",
              "count  343.000000\n",
              "mean    -0.496691\n",
              "std      0.638242\n",
              "min     -3.482115\n",
              "25%     -0.774205\n",
              "50%     -0.320379\n",
              "75%     -0.079993\n",
              "max      1.591808"
            ],
            "text/html": [
              "\n",
              "  <div id=\"df-b31efc4e-571e-448f-92d7-2038116b929f\">\n",
              "    <div class=\"colab-df-container\">\n",
              "      <div>\n",
              "<style scoped>\n",
              "    .dataframe tbody tr th:only-of-type {\n",
              "        vertical-align: middle;\n",
              "    }\n",
              "\n",
              "    .dataframe tbody tr th {\n",
              "        vertical-align: top;\n",
              "    }\n",
              "\n",
              "    .dataframe thead th {\n",
              "        text-align: right;\n",
              "    }\n",
              "</style>\n",
              "<table border=\"1\" class=\"dataframe\">\n",
              "  <thead>\n",
              "    <tr style=\"text-align: right;\">\n",
              "      <th></th>\n",
              "      <th>R</th>\n",
              "    </tr>\n",
              "  </thead>\n",
              "  <tbody>\n",
              "    <tr>\n",
              "      <th>count</th>\n",
              "      <td>343.000000</td>\n",
              "    </tr>\n",
              "    <tr>\n",
              "      <th>mean</th>\n",
              "      <td>-0.496691</td>\n",
              "    </tr>\n",
              "    <tr>\n",
              "      <th>std</th>\n",
              "      <td>0.638242</td>\n",
              "    </tr>\n",
              "    <tr>\n",
              "      <th>min</th>\n",
              "      <td>-3.482115</td>\n",
              "    </tr>\n",
              "    <tr>\n",
              "      <th>25%</th>\n",
              "      <td>-0.774205</td>\n",
              "    </tr>\n",
              "    <tr>\n",
              "      <th>50%</th>\n",
              "      <td>-0.320379</td>\n",
              "    </tr>\n",
              "    <tr>\n",
              "      <th>75%</th>\n",
              "      <td>-0.079993</td>\n",
              "    </tr>\n",
              "    <tr>\n",
              "      <th>max</th>\n",
              "      <td>1.591808</td>\n",
              "    </tr>\n",
              "  </tbody>\n",
              "</table>\n",
              "</div>\n",
              "      <button class=\"colab-df-convert\" onclick=\"convertToInteractive('df-b31efc4e-571e-448f-92d7-2038116b929f')\"\n",
              "              title=\"Convert this dataframe to an interactive table.\"\n",
              "              style=\"display:none;\">\n",
              "        \n",
              "  <svg xmlns=\"http://www.w3.org/2000/svg\" height=\"24px\"viewBox=\"0 0 24 24\"\n",
              "       width=\"24px\">\n",
              "    <path d=\"M0 0h24v24H0V0z\" fill=\"none\"/>\n",
              "    <path d=\"M18.56 5.44l.94 2.06.94-2.06 2.06-.94-2.06-.94-.94-2.06-.94 2.06-2.06.94zm-11 1L8.5 8.5l.94-2.06 2.06-.94-2.06-.94L8.5 2.5l-.94 2.06-2.06.94zm10 10l.94 2.06.94-2.06 2.06-.94-2.06-.94-.94-2.06-.94 2.06-2.06.94z\"/><path d=\"M17.41 7.96l-1.37-1.37c-.4-.4-.92-.59-1.43-.59-.52 0-1.04.2-1.43.59L10.3 9.45l-7.72 7.72c-.78.78-.78 2.05 0 2.83L4 21.41c.39.39.9.59 1.41.59.51 0 1.02-.2 1.41-.59l7.78-7.78 2.81-2.81c.8-.78.8-2.07 0-2.86zM5.41 20L4 18.59l7.72-7.72 1.47 1.35L5.41 20z\"/>\n",
              "  </svg>\n",
              "      </button>\n",
              "      \n",
              "  <style>\n",
              "    .colab-df-container {\n",
              "      display:flex;\n",
              "      flex-wrap:wrap;\n",
              "      gap: 12px;\n",
              "    }\n",
              "\n",
              "    .colab-df-convert {\n",
              "      background-color: #E8F0FE;\n",
              "      border: none;\n",
              "      border-radius: 50%;\n",
              "      cursor: pointer;\n",
              "      display: none;\n",
              "      fill: #1967D2;\n",
              "      height: 32px;\n",
              "      padding: 0 0 0 0;\n",
              "      width: 32px;\n",
              "    }\n",
              "\n",
              "    .colab-df-convert:hover {\n",
              "      background-color: #E2EBFA;\n",
              "      box-shadow: 0px 1px 2px rgba(60, 64, 67, 0.3), 0px 1px 3px 1px rgba(60, 64, 67, 0.15);\n",
              "      fill: #174EA6;\n",
              "    }\n",
              "\n",
              "    [theme=dark] .colab-df-convert {\n",
              "      background-color: #3B4455;\n",
              "      fill: #D2E3FC;\n",
              "    }\n",
              "\n",
              "    [theme=dark] .colab-df-convert:hover {\n",
              "      background-color: #434B5C;\n",
              "      box-shadow: 0px 1px 3px 1px rgba(0, 0, 0, 0.15);\n",
              "      filter: drop-shadow(0px 1px 2px rgba(0, 0, 0, 0.3));\n",
              "      fill: #FFFFFF;\n",
              "    }\n",
              "  </style>\n",
              "\n",
              "      <script>\n",
              "        const buttonEl =\n",
              "          document.querySelector('#df-b31efc4e-571e-448f-92d7-2038116b929f button.colab-df-convert');\n",
              "        buttonEl.style.display =\n",
              "          google.colab.kernel.accessAllowed ? 'block' : 'none';\n",
              "\n",
              "        async function convertToInteractive(key) {\n",
              "          const element = document.querySelector('#df-b31efc4e-571e-448f-92d7-2038116b929f');\n",
              "          const dataTable =\n",
              "            await google.colab.kernel.invokeFunction('convertToInteractive',\n",
              "                                                     [key], {});\n",
              "          if (!dataTable) return;\n",
              "\n",
              "          const docLinkHtml = 'Like what you see? Visit the ' +\n",
              "            '<a target=\"_blank\" href=https://colab.research.google.com/notebooks/data_table.ipynb>data table notebook</a>'\n",
              "            + ' to learn more about interactive tables.';\n",
              "          element.innerHTML = '';\n",
              "          dataTable['output_type'] = 'display_data';\n",
              "          await google.colab.output.renderOutput(dataTable, element);\n",
              "          const docLink = document.createElement('div');\n",
              "          docLink.innerHTML = docLinkHtml;\n",
              "          element.appendChild(docLink);\n",
              "        }\n",
              "      </script>\n",
              "    </div>\n",
              "  </div>\n",
              "  "
            ]
          },
          "metadata": {},
          "execution_count": 69
        }
      ]
    },
    {
      "cell_type": "code",
      "source": [
        "ym.plot()"
      ],
      "metadata": {
        "colab": {
          "base_uri": "https://localhost:8080/",
          "height": 106
        },
        "id": "_rQuUGkc2wGG",
        "outputId": "434ddf5d-a17d-4bcb-a539-007be1ecf538"
      },
      "execution_count": null,
      "outputs": [
        {
          "output_type": "execute_result",
          "data": {
            "text/plain": [
              "<matplotlib.axes._subplots.AxesSubplot at 0x7f97371d7510>"
            ]
          },
          "metadata": {},
          "execution_count": 70
        },
        {
          "output_type": "display_data",
          "data": {
            "text/plain": [
              "<Figure size 432x288 with 1 Axes>"
            ],
            "image/png": "[encoded data removed]"
          },
          "metadata": {
            "needs_background": "light"
          }
        }
      ]
    },
    {
      "cell_type": "markdown",
      "source": [
        "![imagen.png](data:image/png;base64,iVBORw0KGgoAAAANSUhEUgAAAmUAAACcCAYAAAA+jdzfAAAgAElEQVR4Xu2dfVxVVbrHfxfzpiaNqY0vHy2spsyx66ijedVwiJEMUyZ8HymjFC3SKMF8CTVJcYSuqNEoaahhmS8YmqgQw4hgpql5I4deNMJKHUMNyqiT3rv229n7HM4rcPCc44+/9Jx99l7r+6y19m8/z7Oe/R//J/7APxIgARIgARIgARIggatK4D8oyq4qf16cBEiABEiABEiABGQCFGUcCCRAAiRAAiRAAiTgBQQoyrzACGwCCZAACZAACZAACVCUcQyQAAmQAAmQAAmQgBcQoCjzAiOwCSRAAiRAAiRAAiRAUcYxQAIkQAIkQAIkQAJeQICizAuMwCaQAAmQAAmQAAmQAEUZxwAJkAAJkAAJkAAJeAEBijIvMAKbQAIkQAIkQAIkQAIUZRwDJEACJEACJEACJOAFBCjKvMAIbAIJkAAJkAAJkAAJUJRxDJAACZAACZAACZCAFxCgKPMCI7AJJEACJEACJEACJEBRxjFAAiRAAiRAAiRAAl5AgKLMC4zAJpAACZAACZAACZAARRnHAAmQAAmQAAmQAAl4AQGKMi8wAptAAiRAAiRAAiRAAhRlHAMkQAIkQAIkQAIk4AUEKMq8wAhsAgmQAAmQAAmQAAl4VJSVpYQhMvNrhXKnaGTnJaCrBfMypIRFQj8kG3kJlkc4NFFZCsIiM6FcoROis/Pgzs8bxPw5U9BtVpGLpwpG8vGViHDxaB5GAiRAAiRAAiRw7RCgKKuvrSnK6kuQvycBEiABEiABEhAEfFuUeYMJ3RFlgcOR8cFiDPSGdrMNJEACJEACJEACXkXAa0WZ6UwRMuYuQdaH5fi+5goQ0Ay/7ToQo6bNRkxwezSVMNoMX+ZgSrdZ0AKKwQmv4Z73k7BmfwVqrjRFy9v+hOdXpGJEF/kM6p8JX25NRMKKPJT9uwZXpGv1HIcFwZ9iytL96jHuhh4rkTMlHLOKqpXfBwQhemMOErobr2togSv91Vpr89gwTHghAdF/aGPRrzNFGZi7JAsfln8v+g80bdkBv7t/MhbNH407m2mHWjGbvwH37HgWa47+GzUDk3F8pRRwNeHM4SykJa9DXpn4XD7Xbbh3wgwsiAlGe9vd8qrBzsaQAAmQAAmQgDcT8E5RVvYKho15FSdMttAFoF34UmxJHYw2LoiygIAAXLkiFITxLzAEqfnpCL9R+tCE0pQIjM0sh9VRVhd3R5RVomTeI5i8WTtnIIKTc7EywiiYDKd3tb9Sa0tTEDE2E+U2GxuI7nFrsCGmuxCt1m2w7E5AqxAs3JEOpUmWosyCWbAkysJRmhaJ8RknBK3afwFB0diYkwA7etObxz/bRgIkQAIkQAJeQ8ALRdntwsPUU3iY7EukgF4JeC8zGu1P2Er0txQY9kh3jStAdkwHoCIdw4ek4wunJnFVlFmLvAAERW9EToIklGz9mVzvLwoRPzAWuarzzebpArojPn8TRh6NxeD4Qjg8tNds7M2KQhsrUWZxXiHKjo3Zh4GxuQ7PFRiejuLUEDt9dAqXB5AACZAACZDANU/AC0UZLHZkdpu6B2892RmoLkfRyhmYvfFGzMhbjRGSh8cVT9ndU5C9YRq6XNyKqRGJMEcTQ1JRmh6OE2nhGJZRrgwEEWIc9erreEGERyFChC89/hQ2m11SromySpFjFi52Y2piKFCImlwR/rPjI5M64XJ/T2dEIjStrFZbm9acwmsTI7C+JgyPx0/ByN7X460xodAPHYVXX38Bwe0v47PMyXgk5ZDavrYYl1WExF5WQlbisGwVZoV2RjNUYeOE/lhwSBLJQmCOWoZVs0LRuVkNThUswBNT31F2vzYPR/rhVIRc81OKAEiABEiABEigbgS8UJTdjvy4fngm7ydVfDTDb9rdhu5/vBcDhoQhrMdd6NhaTYZyQZQFJx8XYUPlVAfnDcBjmy8o/5HDchHCS9VNeOVUeOpnZpS5seguvE2Kz865KLMOLboW1jO53F9jW5sLz9Rh4ZnS/kwmE5o21XxxRpF1E0atLcGLfbUjLUWg4jE8aJGHd0fsbmyPvUX9QS5iu8ej0HFsVxx7lUqS1G3c81ckQAIkQAIk4HUEvFCUiTpllSVImjgVb38qku6tkQW0wn/P3ICVUV3Q1E1RZlE3zZYo65+EY6tH6CE4d0RZpRBC4WKDge4iQ3KuqElm30Wm98zF/uYaBGSnaEc13YyirLZYMoo75TxiQ4Nxc4RByFrnm9kfwRRlXje72SASIAESIAGfIuBRUWYZGuyDufvXYaycXK/+VWZizH0p+Fj9b1DMDuTG3S7+V4GjR2/A3bdewEfvF2Nf0WEcO1aCjypUkabmTT3+vfOcMqOnzJYoqxW+VMN2TdwJX5pKkRIxFplaqNPJTsvaI8S1/rZ5UffqWXvKLM9ZP0+ZkZmlKKPw8qnZzcaSAAmQAAn4FAGPijIcSUJw1Fv4TkUS2CcBGUvHoYcIP9acKsCK6bORWaq5lrT8JuEoE8nngxZ9jqDh07FwxnD5eNOZLMQ8uAgf/CydrC3GilyouS3qL8rqnehvOoOtUyOQqLvIHO+0tDE8XO3vpA+tcsq0vC+RU5b19BisuhgscspiMa7fdVgfWfecMktRdhoZVudatmoWQjsrNlzwxHPYd+MgDB89AY883JulMXxq+rOxJEACJEAC3kTAs6JMeLwyIsNFwrnThCQEdI1DbnYMbqnMQtSgRTji8CddEVeQjZgG8JTVtySGhafNqWVt5KW5098bRH7XYJHf5XBLpWCTm42xpS7svtSYW+2+tBRlQJUI4zrdyWk+l1MIPIAESIAESIAESMAGAQ+LMnHFynzEj3wWuWcdlLhoF46lW1IxWMq/cnq8ocREA+SUKUzqXjzWIiTqdIjZEmXO+FiW1HBcp6wpbo/ZgOy4+tUpsxZlwihWddesOhoo+uVq/pxTRjyABEiABEiABK5NAp4XZbLmOYPDWWlIztqLk2eVyvJShX5pV+WgqFmIi7IKe5mqcXzPSqStzDZXopePD/ojomYscK+ivyFp3VZOmdy86rM4/uEunLghEpF99aS3KhFG7bfoiDIy7JR8qLcoUxrgWn/VMWr7bQeiov+sOET1Vt92oIrNOlX0t0j01yaGqOjv0tsBrs2JxF6TAAmQAAmQQH0JNI4oq28rPfj7fy0ZjBFrv1GuENgHCZmvIKpbIC5/lonJj6TgkBYqFIVWDwiRZtyn4MFm8dQkQAIkQAIkQALXGIFrXpShIgOR4WlwnPYWiJDUfKQr72XiHwmQAAmQAAmQAAk0OAGKMundlw7e66hUsV+FN14c4KAqf4PbhSckARIgARIgARK4xghQlMkGF/lSh7OQlrwOeWX/VnLemrZEh9/1Q+S02XoO2zU2ONhdEiABEiABEiCBxiNAUdZ4rHklEiABEiABEiABErBLgKKMg4MESIAESIAESIAEvIAARZkXGIFNIAESIAESIAESIAGKMo4BEiABEiABEiABEvACAhRlXmAENoEESIAESIAESIAEKMo4BkiABEiABEiABEjACwhQlHmBEdgEEiABEiABEiABEqAo4xggARIgARIgARIgAS8gQFHmBUZgE0iABEiABEiABEiAooxjgARIgARIgARIgAS8gABFmRcYgU0gARIgARIgARIgAYoyjgESIAESIAESIAES8AICFGVeYAQ2gQRIgARIgARIgAQoyjgGSIAESIAESIAESMALCFCUeYER2AQSIAESIAESIAESoCjjGCABEiABEiABEiABLyBAUeYFRmATSIAESIAESIAESICirKHHQM15fPHR+9iT9xGCJs3B0A4NdwHTmcPISktGVvEZ/Izr0SViAdISBqBNw12CZ2o0Aiac2ZqGrbdNRWzPZnW+as35L/DRe9uw7fNuiJszFA043Orcpqv1Q9OXu5G2shAthj6LmOD2aHq1GsLrWhGowdH0FTg5Ig4j2rtilRqc//Y8TIE3o12gK8d7H3BTdTkOF+1E3u7r8dCKiejVSE28WtetT/c8OW89ee769NnRbz0qymrOf4vzNc6b3sSHJ5+xd3um98L0XTW4In/YCdHZeUjo6rz/rhxhKk1D5PgM/DxqPu7fvwDry6Wr3I6ndu3A07e6cgb3j3HJfk0CcXO7QN4A3cRbmTMF4bNO4uFNOzGzu+WNx1R9HMVbd2L34Qpcws3oOiQMw0P7obOFdtuD6b2mY1eNMtrQKRrZeQlooOHmZm+84fATSAsfhoxyqS1dEVeQjRh/UKjiIe9bi0W0CQJvbge7WsXd4xvFdCaUpkRg7JZbsDB3JSKcPUUWxqN37G70ST6KlRHq3Kg5hQMF24XIKcM50eabuw5B2NBg9A7ytrVnD57vOwM7fjCpZIORfFz02eOc3biuqRpnz1Xjsp02Ne792JPz1pPn9pxBPSrK9jw/EEklv6D6/A+Qh2jTlmgd+J96by5fwsXva9AxOht5DaVePMfK+ZmlwX7gZfx18iacblBRVoaUsEhkft0Lsw9kIar5GRzethsfdxiE8fd18ZAg0q7ZFC1bB8JgNUC1mywHgmKwIzdOyEP+uUrAVJqCiLGZ+DVqE3bO7K7bz3QGuxKjMHP7t0DHXhjxcARuuZSPjW/tR8UvN6LHk+nIjO0JszYTN+B9i0dh8qbT15QoO/X+Zhz4uhP6jfpvdDZDr8KWJ+7D3PfFShMYgtT8dITf6KpFvPi44hcROjMf1dXnod3nu8YVINuO4jw4bwAe23xB7lBAs9+gVYuumLQ5ExOutkA1lWLx0NHIui4aG3MSYPUcYmEAuQ9b78Dc/eswVtiwMj8eI5/NxdkmHdEr+G7cJI6+8K8iHPn2MlqNWIn9SQPNv7c9NhrZvpIw3jgdf17ygbhwY4kycSlXr3tiFcZOeANfXbqI7+WHugA0+00rtGgiLe3SZ0Cz3/bEuAUpiPO4x7lh5q0/rQkeFWXKVMjBlG6zUCT9MzgZx1canhlOpCF8WAZ+9RdRJvWxLAVhkZn4uiFF2cF5GPDYZlxoVG+IKsouP4pNBTPR3byuiafexUMxev3X4pNAhKTmI90v7n6NtHCbDmJe6GPY/HM40otTEWJ2klUiZ0o4ZhVVI6BXAt7LjIY50lMp5lC4mEPVAQiK3oicBF3IlaWEITJT2KJRx0YjsbJ5Ge1hwcbNTvUACFeSz4a97JE121k64I5Y7N4ei1usDzblI67fM8j7Sfmik5etqybhARsYm4vrR61FwYt97TxMivkxQMyPLrNxICsKN1ZkIDI8DWUiADh7r3gg1bxspYsROno9TlvcUxyMjcYessIT3m2WdNdrRFEm325dv64+poxRnRqc2v4CHp0tRPAVsd6MWoU3XvRwiky9561/rQlXV5QhF7Hd4/H5BD/xlHlIlJ3OiERoWpmIysShIDumkfKG1IF+SxKOrR6hL6BlQkiPzIAUPQ3oNRt7xcLpLBrR2OuhN1+vQtgyXNjyNhGe2R6r31YrBcdBi46I0PcdiN29HYav5O7o37fFuKwiJKpJKtecKDstbtKh0k26kW92V3lQSXZ+4p0fceGC5AWzHANa00z5ceiXdAQ3fPcdvvNCUQZUIH34EKSftBJYRrbqQ+1vZx9AVtSNOJEWjmFSTNr6ocO0FRN7JGK/UZR509hwQxw16NBy47q2RZnSmsqtExGWuB8/oTn6J+Vh9QgvXuW9ye4NYMxGFWUBIakoTQ83NNuE6rPncKmF+mQrFPPxbUuxaH0eyi+Kw65vj16R0zA7Jlj3Gsi/Fr87Xoz169NxoNNLeGNyK+xKfhqpeWfQfOA8rFs8GG2kcxWvx/r0A+j00huY3KoIGXOX4K3j4sStumHcrGTEDmiDms82Yf7sVSg+87P8+RNJyxGtJl7LLtFPy/GhyO05f6EzJmTNgOQor/xoJ/7xeTn+VVSGU4bP5abZ85SJ0FRRxiIszz4C6VKic2g/cDIWzR+NO+3leVd9gj1vbMXGd3PwwVfi8TfwNgzo20WEr9pjyGxtE4HEYhuWLlqPPAUa2veKxLTZMQi2SKp1gZnFgKrCJ3v24OtOD+CB32txoEqxUA7CoiOSIhN5O7kib6fW47rxJDX4bNMSLNDsKfc5CvGx49DPmCBlzUbYfeDkRZg/+k49VCedVuSVFKxJwd81hq2CEPboXMywcdyB7Rvx+voz+Mu2l3F/aSamJa7B8Z+64NFlryNGjZ3UfPYuVqSuRI40JtS2vZAQjT/YWX9cyrETLW7dsbVlu81IrMLQ5vDaESQFR+Et5U5qOzesSngJ+i3CEXFI87BlOJA2WBbKRlG2af292KuNcTsMTWfEPFi0HNlHpM0i4k+M+YgpcZjyQDeLPCVX2NScOoDtG1/H+jN/wbaX70dp5jQkrjmOn7o8isRR57A1/4zlEtUjGiuGnsbCRbth/kb6bKJQmDWfYdMSkSuZVw7JGqJh6DZuBhaY5/4pvL92I955dwd2HJdAtUW30B7yA0qP6BWQTiHl4u1ZuRJrPwxC4tvPoYfh6jWnCrAm5e/mfrcKCsOjc2dgtNXks+jT4l7436w0JGcVy3O2Ve9nxXgZgS5XIfdcsvO0H+5Dh61v4ZCYfsYxoHSzChsn9MebfZ9Ex/R0OTJhy1NmuVlIMn8Enp4VhyHGTrm6Vkl5XuZ5thi9/jcLaclZ6lraG8+uSMUIK1hV4uGjn3j4uMPqoUQzlTKeW5pzAs3ju3l/JOWthq4NlM0ANc1ao2Prc07HBjzYJ8uxK61xTyGlTz6GJtrwlDkd5woJR3Nr2esxSvjX4lxOrms5E+X/6aIsCDE7chFnkYNiWJPajkNWUaJhs4JY199dgdSVOVCWTrFeR72AhOg/yA/oR1ZPReYxywu2HzIbczrsxFTDF/JnYiec3Xnr1GaNsyZI9x13x7kN3C5/1KiizLhIlC4OxXNN0vVcMpFzkBY5HhknmqF7bBrSHr4V5/bMQkzKIfzYKgQLd6QrCaKnN+PJ0S9hb6WaSBk8G6lNXsWMvRdxRU5y6o7J8W2wZdleaIfcExaOf7+XL87TAr9e/B5yGF1M8imPm7Ah/SP8X2vj52FYdiANg8WgL3vreczP2In/PSv9QH8ylz5/ecM/UXKy2uJzdaTXDl+KvqVEjEVm+W14YvNaRLc9ha3TH8fSI+I5RDzpFYqQrs30l9M75RvY0WMFkO9DzW/Fvf3vQEuzKBOhxLRIjM84gWbdY5GW9jBuPbcHs2JScOjHVghZuAPpEjQXmMXv3YTHb3Y8bvSnJ+HWjtmC3DhHaeVqcm9mJXonZCD5AXHycxvx5LjV+Nz4dCtCc7HD5qDw4g3oHr0IS6b0xc8Z4/HwmpNoN3YN8ubeq3jptOOqbkb4otfw3B+Bf62ahmc2l6PJ7THYkB0nL1RHlgzBxPUVio2lEHJyOArnrkaF6Yq8ASNweAY+WHwvSsU1nkgrBfokIGNpBDp/moGoSetRfoOws51k5Jwp3UR40dnccuDBUcP15dZ5eNrnkonD03E4NcTGRUROTuhorBfpY+IgpB8WoU/jwto8EIH/F4jfDbgbzU8dxvufifkgckUswp1qGLS4zSgsWz4Zd7e4hA+SJ2BOwQ2GTSnCbk7ZHMGSIROxvkLd1CKEZHJ4IeauroBJnoSBeGhBKrq8NwcriqSBG4h7J4m8oJD7MfT3Vdj3zrtYn/Z3fHrPVDw/ZTSGdi5WwrO/3o+X8hfgT+ePIvWpqXhHjspqXvQjWD01EyVf7FceUCxEWTTOz7Zsj3HTQ2VOLIbNKUTVzeFY9Npz+CP+hVXTnsHm8ia4PWYDsuOkcLBVnzr0R0iLQ9j7TQu0uu4SzqsJXW3HZaFIc1M6GwoN+L0syvA/SPhmAp6R4pPN9XVKvkzVRkzo/yb65j6Bj4co6SLWokzLzTp3i7D/q8+gJ97D7DHzUfRjEKI35iBBmkAurlWW86wD+oe0wKG936BFq+twScshrnUzF43SxrpNr/9pZESGIu1XPTwre/+eyRMeG/Ec2C4E01MTEdXbemeto7EhBPs9rq2/deqTef0S476pkvPW/PRHKDv1Cyqrre4PWhqCk3HubG4Nz/gAi+/W1k0XrmtnHOqizPaaVRjfG7G5EnmDaBPjI2P8E1CWzgwsjeiMTzOiMGl9OW4Q63qulJ4knBYrkp7Hpn9Ja8FtGJY4AQ/1+wvuu/ET7PzHFmTMewfXjZ6HuAm34v0np1isI+Z569I49PSaYH0/cWOc12PuN6oou2nAk4gLay8391jWPBwcqC24JhTGDxQDQAziexKw7+1oNSRmQn5cP3kRMofK5PjzSWx4chxWfy6tzW1xe7fpeO35X5E8dSlOdJ+H1XP+C1dOblAEgHQP6/oolr46XfYcmUpm40+T3oEUBAgUQmbl+lhIjjH98+YITz8M7b5od+DacxPb8JRd2vIE+s59H1duGoW1JS+irwTADTezWQxYeVG0HI1q3IOEfW8jWvXwmBeyADVMcKNzZrJ30dFAqhKh5sHxKJTWmU4iz2ynyDNz6DFQQtOFV4wTXhUWv9NyCyvEIhyOtLIraGvMM9Fy6My76PTjbvrLa/jnogFqOFUNh3whhoH6+8tix+/Xe5MxYU6BsPFNaNu+NYYtfw39dyVg7m5gjPCURV96CaEiR++7gD7mZGKp69KDwmiheuzdeOvtKVNtXstjbB4LjvKA1BuWiGJDyq+RNnwIJW8enzc9hJUFSxAse11NODgvVCR8S4JID4dqoSDjzdokwhQ9EivMoswk2Dtn0014Kb7GXlnQiZl0U1u0bz0My1/rj10Jc7EbYyA/zZ9Ox/Ah6RDmsWQqC4jX0X2Lsjv54+T7MeYN4TsT4XA5j0gcby8sa3s+Sl4TQ3uM80TLSbpyE/7y2j+xaIA6aCu0trXFqLUFeLHvZctzCNEXPH810mQvrL4OXa3cPanfsZf/BwVh2xAc9ZYITwagz9z9WCdlwos/OcWhKFLwC8QMNYfXQpRVivEySHhar1iGPhX770dAn7nYv24srnNxrZLmgj7PhH2D52N1muL114WUrR3oWo6xDSGghqF+sMiFq8Dro4chtVTbzSi0T5tueHBqbU+6vbXa1fXX/T4Z7luBlg9z2lpifJh3bZxbjWWbcysa52ap90sXrmtvWXcmyox5jMHJx8VOWH1d0caLMvq0B0Z9bOljwHKc4kgSgh/9BtOPih2pTe3PW1dtJl3dc2tCU7F3oq7jvO6qrFFFmbIbSGzxEH+/iN1EraJUUSYv0gtkt7z10522aFiXmDALFU141FIU+gYDy3PqnysDTYWn5SiI/xo/Nxu8g1XCuxuiTGwfwpL524Hh8zFjsNpQNzYE2BZlSrhigQLNMuRl6Iux786Z2RtIhsVHeD3C04uFaHUSwzGH2wLQLmQ6kmdahSylS5nFVwc8uqlAlIbQrl+G1x+JxQbt5v6xmMjyjcjSNkYhhQCxKMoTXZ6lqrdSF2t6a01CD/cUHi/BzSACLM7loR2l2liqFVZySZRJOl7z1Ok3O7s5ZQYG2m498868wO4YlzgfcVYhS0nMucNGXww1YWM9Jgxj1OA1qdo4Af3f7ItcNVndVLoeL6z6BL+f/BIe1ZS+nfnl6EZii8WRpGBEyXFhaxGgex4DxBP+UbEQWISDrY53dgOr+xLs2i/l65+IFRulOuuhbnPCv/RwEo6Df5VEWqF5Y5VxnOni3fBgKMl3VZQhQOxYLRU7Vt1ZqwxjzGIttfe53FUthF87ZKaENv9du5SQYVeyLs0kx9RwpL69GPqSqm56sba1p/rk4L5la7zUbZzbmFtuXrfBRFm4uHf2FF5YeelUcv6UP30uBcXsEBEUKQ6qhz+NAk6aj5MqE83pFxaiyngfc8Nmnl4TjPcT18e5a/Pa1lGNKsqMi0RubHekBW1RwpfaThobN139xm15Q7bnPdI76aYoM+wStSnKrISPlhtRa7F3KLbEzpYD27HxTVEK4cDn+E6ERK64sEvTdl8N4SzrXa1QdzBJ7kDDd86Z2R5IZu+J+DpQ5AXmi7xA59UGdO+WdlbrJ1zzBgaIfJFjIl/Ejs6zJ8yl8+p2MDyVO7wpGLi17YbQHmqtgAufo+QjNexpJ6+rvp4yu6IsNxbd4wvl8Kr9HXPGmjs6L/uJ/vr4v0l4EUvEbjfds6paJKAZbun/BGYv0PIP3WPjilDRn5ibI2zZAaQN/kk8TNyHXQ/uM3t5zKNOzQPdsmYXdh0vV7frW4op9xZgE7ZO7AHhCLKRq1clbir9RH6k5Xf2zu9KX6GWGpD2Jbv9NyARxX97wO7PdFEWgYr04RiSLvkfVS/oJfEQMrIUj8slJGytewYO5hQI8fOa0/jo4HE1zcNatLqwVtVLlFl70VR7fGkpGo1A5LzApBSs2a+lJ4iQpniA2iJK8kiJFM5t1MB9cnDfctiWeo5zR/dL5wx0os6O1b9Xo0c3qztexSnadguFvnSW4CM1lcG4ftUap7dIQi0OSNM3KtkVZeZmOreZp9eEa0aUnd65EK/jcTnRD4abkoUSVSxm9noYv3MuMDwryuwOBJuizIQvt8bjyYUipNbxIUxfOAPDr1+D4S6WzrDdVy08aCm8lLGsPY02hCgrE0U5R4qinFJ2sXWyrZNbT81RpE+ahozDlUqdOvUvUM09OKeVczCE42yd0bwDy5aANXtUXBVlBm73zsB7C8NqX9JOQdz65pTZCh/KFzfvHrJlS615BqFtCIO7Isr0PDXxFoFdiXhszruo0IrOSqcP0HKK8tWQs/jMBTbOFnWl5YYnZskjteQnTLxvFx7cp9SgUv4qUZISh5lZR3Fd7yfxwtxHEXwsAT1slBRwbwE2CFkbQtvWvPIFUabkjymRBSnUnoY4g/fB1rpn4NBhNFa9EWOjrqC2QcWNtapeoszKU2ZSvDAfj1AeIBz+iQT3zMmPIOWQlEtxkwg/l4jwsyNR5qE+Obhv2R5HDTPOHd0vXcmPiI0AABiISURBVJuTCl39WFsPxQYhr63PxfrD470z3oPtpdNQjsbaoxe6GYomM24asJeq4LrNPL0m+LUoq1WnTJt5hkTnWoURzQPfMter0UWZVfjSHVFmLmdgvDHUO3xpWGhrJc3qwsOYOO6cWe2lUCvhICWN95q9V3gXDHHisrfwfPpJBJt3gtpZSuXdK2uxLO1tHLso+YPUBblUq6mjL6w2z2BnDEjH6oLNUMXdoafMwM1evSd73XDpDRUOdl9q/ajl2dRz42DMOzS2wxiSNSSb2xVlht2aekhBO6G6E3fVQmTkfysLZiXP7S69Kr4LbFy9AZifmEUOX9w0YM3xKBSru0eN+W8Wm14aKHwpeeTjC6UHCn1zhELB9vyplyhzLCXq9a3RU2YRZm7eCZ2aVaLbfMkLKbmabT+M6hysNghYtcqttapOokxtnxYuVa9vEvbuOeuQ8ADq+bzSV8pOvh6Itn5VkWF8aw/r9mznsT4Z+m8ZzrMlEPV8rPqOc6NIcH5d+8NO52Uj969K2ClEhCpFnr85/Gi4T9vbPWt5NUMupkhfSBicj22tsyxKAVmIQ8P90R2buSfKJB+Qe2vCtSnKDJ4d691nZuBWu42cC4wG9pRZhNhqUDQjFFPeleODlq/RsOG5MbfVeDOutygzTHzrG4753FrISIkLOmdWa4VWk4MtwwTaUUr48Qfbr5OSQzk70Gv5u5ihvfjNnOumLgId9Sf+5v2TkCfqoemST+wC3Crl4Y1A95/0BcJStBtyoIwiwqEoEwu9Oc/IRr6G8O4VHOyAYE9UstY8Yja8Nnpo0dJmCmtD4r6Vt9KeTeW8rQWHREhUT76V37DxQxxy00eaw8/mhGR1bLrDxlVRZvTsCHVksZHG6NW1CN02kCirEucJER63n6xfvaR6ZqT8GOMNxjdEmTGZXgwPo5A33DiNPPXxYOPhSio9UHQafUN7Yo+Wt+jKWlUXUaaF/CweJNWb974Q865ibY1RxreN12aZRZmN/EqrNdmt9detPhUivncspA2K1jUba48jPXpR33EOuHPduoiyGpTMDsOkd0QupsVGAmOZDBFmLhCb1gwpJzVHC3CwQ7BlKSYpsV/NB7b3+jNbD5bu2MxdUebumuB/oqxmE6J7zYf0wgncOx9HMkfbrOFkKpyJQVO3ixpFhsKCNaJC9SBRobo6UDjZckVSvn7LNhvNOgHfPAYbRpSJbaHiPWy5YlGXEtafxFN/Ag5v2IhPfmmOE+VS9ohzUWZW5oF9kJCRjAdQjL89vxgFchxeSnLfifEtL6J9kO2XKNvtq6kQMwdNxXZRK0b3YtWIHauDxI7VajGflC3KGjXnzIwTuFLk44SJfBxpS3QnuY3W72hUtky3sS3KrIpAymeuzMSY+1LwcaBWzV4rm1Eul29odedDGD/pAXTDVyjOysCW70fjbTVfpOL10RiWWgpTW30xMJ1Mx5jh6ULSG7b0K49e5pB3/6RjovChVbKacSdpQCv0GBODqIHiBaJfFSMrYwu+H/22k3If9hc6x99oHjFbBWL18iYmsRAm5awwv7y5smQeHpm8GeWin6NWvYEXRX09y5uW+J/UjwlJSBp/t6gVsgbPPvcWTshvHNJzAGX7f2zM2TGJxfdPYvH9XtQlzhWv7hFF59xg4zj8YSRh2ChSq0yC7rEKCFJKddz61Qa8OD8Lh+WaNiK0cuQl9D7XCkGitp2eh9gJf92wHfFtS/BexR/wkGBi22uo797Td/iacDJ9DIani62sQZav/fFKUaa9TuuraHwgyg8o773Ub5DG3cKmoy9hyPg3xWvegA6PbkKBefeMIQ1BbGnoODgGk//SDW2/O453VmXgwF3Jcq5oseZFcGWtckvAKONB85paeloUkbG7j77hwnJ8W+2clUTkvEcxRdRMMa5x9sZGwJuDFG+pB/pkjCQEjVqG5ZPF/KvYhuTn/o735aiAdn9wb5w7m1uuX9feimTC0ZeGYPyb0kjRhK3YDfnFR8hZOgsvF54VRex6YFrGenNdR+lMVcLbP1jkv0qB4wDx/ZiYKChLZxYytnyP0W+LemcWlZL03GLLHZt6u2zNW3fumd9pxdVFPzyxJviVKLOXg2MvmbmyJAVPJ6zDsR9byO/IlN7DVS1AP7RwLZIe1ASL1YuYZds2xeClx7BMy5PdMx29pu9Sa1VJ34t3ez34Mo6E5bn8+e1P5WDH09IuEv31N/Kl5JtfCl658w3cpxWtChAvBs/Zgd+9anwhuXJd+Tx/3ovRE0R4SBrJ0qftwpHy1mM4MWk8XpXunKL9er0k4ySy3de7nsnGtslqpb/KEqQ8nYB1x35EC+kdldJ7KcV1Oj20EGuTHlSL7rrAzHruGp647U1r5XNbhQel2VuIxNHTsU3o1kBRH66JeP3tJVEj7nL7wZj7mrGopJZncdhcV062111jsGJ1InT9oeQYTFqQjzNNlF280g7en2/sjRhR8iJWLfh7YtXDiFz2qUUOW8DtTyFnx9MWeTSmM7uQ+NgcvKvV2tJsa/1+Scedd/tbzWPR2ma9K5HzVZSGhDlCkFxogt9I3OT3jP6C/7wlFHP+buRmadPmYbGYfHYDlh+T6pMpc6LNfQlY/0qUudhp2euPYNKyw6i6vjXkV9D+Uo3zl25QxnOC/ioV52xOYNXDkVj2qTFTUB3r8pyx8aeWoBCvK6gVvqgSD2QR4oFMLgco/uRSNcu7YG3kDORLNzYx58w194x1oeRudsTw1L+h0/IJYi6pJ5A/vwvPZG+DPE1MX2Jr/CQsEMVsm8jv+JPex/szbuwdI8p4KCVxpHBmrT6p5wha3gPP5hv6qs53e111e1A4+IF+c9YP0sJ1isCpMT8U2V5vDaEpmzmeQqANX4wsba0oe92ltSq1eSJGW8yzppDXpaDl6PFsvmH+GceFKiTPW5aiUTZzbcU9xheQy93V84rENDW/n1Ga9z9cFptUQufg78ZivjbHxttY3DnHg30S61fSY3jqrRPmPku7QheP+Q7Tl0o7TPSxOK7ClXG+Av+19nEX5pbr19VuFeYRZBDTtYae9H7qzncibMSziInqbVW0XbGJrbxUSaA9mZ5pXoeN51U2++zDffJGH+MD8gm8MizC9rw1uTYO5RqDHlsTxKpQ637iyjiv3wrQCLsv3W2gUuW/Wn6FvaPq6O6etz7H621q1rojWkuLuPq+rqba/52dXj3+skWfjFWp7ZX1d3Zi5XtT9VmcU6DB3EbXfurRo4ztEg0T1bft9NPMR+6A/eOgMpNabSch350O6Tsqm4hXJrazqGrvznlcP1b1WJwdiORCUcLD5jZWabx9hU8+PIpTLe7EgB532eWh8W2ivu/R3B+7DA38hFR21OdGZSO9TPm8uPMabWrvnXiGseLWWNeuIQ8d/3s/pqtj0Ola4aG1SgkbFaOdVeFp6xeQ2+qHXC/qs6M4egro3LMn7uykrsPWB9sbGx7qk3Z5nal6z9LGmvU8dGecu2BQl6/rwrncO6Rh12Gb13bHZn60JnihKHNvaPBoEvA5Aur7QytFYdViUaX4Kry1x+eQscE+TkCkWsQPFCHKNnoJC6VHaq7Vb/XCwT7eUzafBOpFgKKsXvj4YxKoGwHllTf7cNdCy1zJup2NvyIBbyag5Lk+e+w+LN2Sai72qmgyJf+zZVyByGlUawZ6c1fYNhLwMAGKMg8D5ulJwB6BypJNONTxYcuXQRMXCfgdASlXcg9O/P4hQ46o2kk5nGdqpNQBvwPLDvkhAYoyPzQqu0QCJEACJEACJOB7BCjKfM9mbDEJkAAJkAAJkIAfEqAo80OjskskQAIkQAIkQAK+R4CizPdsxhaTAAmQAAmQAAn4IQGKMj80KrtEAiRAAiRAAiTgewQoynzPZmwxCZAACZAACZCAHxKgKPNDo7JLJEACJEACJEACvkeAosz3bMYWkwAJkAAJkAAJ+CEBijI/NCq7RAIkQAIkQAIk4HsEKMp8z2ZsMQmQAAmQAAmQgB8SoCjzQ6OySyRAAiRAAiRAAr5HgKLM92zGFpMACZAACZAACfghAYoyPzQqu0QCJEACJEACJOB7BCjKfM9mbDEJkAAJkAAJkIAfEqAo80OjskskQAIkQAIkQAK+R4CizPdsxhaTAAmQAAmQAAn4IQGKMj80KrtEAiRAAiRAAiTgewQoynzPZmwxCZAACZAACZCAHxKgKPNDo7JLJEACJEACJEACvkeAosz3bMYWkwAJkAAJkAAJ+CEBijI/NCq7RAIkQAIkQAIk4HsEKMp8z2ZsMQmQAAmQAAmQgB8SoCjzQ6OySyRAAiRAAiRAAr5HgKLM92zGFpMACZAACZAACfghAYoyPzQqu0QCJEACJEACJOB7BCjKfM9mbDEJkAAJkAAJkIAfEqAo80OjskskQAIkQAIkQAK+R4CizPdsxhaTAAmQAAmQAAn4IQGKMj80KrtEAiRAAiRAAiTgewQoynzPZmwxCZAACZAACZCAHxKgKPNDo7JLJEACJEACJEACvkeAosz3bMYWkwAJkAAJkAAJ+CEBijI/NCq7RAIkQAIkQAIk4HsEKMp8z2ZsMQmQAAmQAAmQgB8SoCjzQ6OySyRAAiRAAiRAAr5HgKLM92zGFpMACZAACZAACfghAYoyPzQqu0QCJEACJEACJOB7BCjKfM9mbDEJkAAJkAAJkIAfEqAo80OjskskQAIkQAIkQAK+R4CizPdsxhaTAAmQAAmQAAn4IQGKMj80KrtEAiRAAiRAAiTgewQoynzPZmwxCZAACZAACZCAHxKgKPNDo7JLJEACJEACJEACvkeAosz3bMYWkwAJkAAJkAAJ+CEBvxdlpjNbkbb1NkyN7YlmfmDA+venBue/PQ9T4M1oF9jUD4iwCyRAAiRAAiTgHwT8W5RV5mBK+CycfHgTdsZ1xLnzNbWs1kQVJzXnv4XF181ao2NrL5Rxcp/moGLkRuQkdIfbsqowHr1jd6NP8lGsjHD71/4x6tkLEiABEiABEvBCAv4rykylSIkYi8xfo7Bp50x0/8fzGJhUhEsXv0fNFckSAWj2m1a487F12Dj5dux5fiCSCqtx/gegZetABA5ejIJ5A73QZEDl1okIS/xYCKtcIazauNXGg/MG4LGtd2Du/nUYe6NbP+XBJEACJEACJEACHiTgp6LMhIPzQvHY5p8Rnl6M1BDdI1SZFYVBi47gihBlXeNykR1zi4q3CjlTQrCoZSqKU0Pc90B50Ei1T12BjMhwpH32B8zem4Uol3XZQcwb8Bg2d5mNA4IDNVmjGo0XIwESIAESIAGHBPxTlFVkIDI8DWW3xWL39lhoskshUYa08JHIKBfusoBeZlFjEmG9gTN/wrz8dIT7gFox5ceh3zN5uGHUWhS82Nc1EVmWgrDITPx29gFkRflAJzl5SYAESIAESOAaIuBBUVaFwqVzkH3SHs0eiF4xEb2svjZVn8W56stOTNAEgTe3g7089bKUMERmfo1edsSH6eA8hD62Gd+JqwSGp6M4+Qa8FDoV383MR/pVUWSn8F7KK3j7gw9RPThDDqcqf/Y+l75TvV41YVh2IA2DXUgPU7i0RFxBNmI6OEFccwoHCrYjb3cZzqmHXvjyKMovqv8ZkIjivz1wDU0VdpUESIAESIAEPEvAg6KsDClhkcj88SEs3RyHe+R+VCAz+nFsOCWcVEEx2JIbh65W/dMEleNud0J0dh4SrH8s/+iE8IQNE56wIMTsyEWcpm8sTmhCYfxAxOZWi0/bok+fZihrGYf89PCrFNITyfvdZqFItKZTdDbyzB3TP7clMHNjuyO+8HoRoj0sQrTOBsppEfIMRdqvtryHxt9WoiTlaSSsO4aqG+/E/UO64tzud3HsYhM0a3YZNUpCHhCcjOMrI5xdlN+TAAmQAAmQAAm4SMDjomzdbck4Km7ekiOnLC0cIzPKcSUgCNEbc5DQvbZ7p/6eMlXIBIQgtVSEIu2BqNyKiWGJ2P+TdMA9SNj3NqJdzs1yka7Lh6lerwuS1jkukve1H+qizPJz5XtNwFoKOTsXPS1CuqFp+MFC9Fkfa0JpSgTGZpYDQdHYmJMA2USVIm9t0CJ83i0OazbEoDuqcfY80LpdoGthU5c58EASIAESIAESuHYJeFCUVeGTPdk4+p8PICpExMrK0hA+MgPlVwLE/b6O5RxcsZOaN/V1p2hk5yXU8sQZT3FSiMSHhEiUdmJaJv27cqGGPEb1Kn5tT5TdhFFrSyBSxyz/cqag26wiBISkolR4+Rz9VYnE/n6L/u3Awyh+bRIisKfw2AkbBVuVzCiM7y08iz9fZU4NyZznIgESIAESIAHvIuBBUWbsqJ5cH2D0wNhgUW9PmauiTJTMWDz0CWz7vhrVUhSzeX8k5a3GCCfeMrl0RkldjNgJj6zbCHO6mMUpnIkyO+FaVZQ5DyVWicT+flj05SisLXkR1trO3BSRazdA5NpdEFLWOu/MJMpw9EjcLzxoMdghws42o8J1wcLfkAAJkAAJkAAJyAQaRZS5ErbU7FHvnLITwiM3THjkHHrKRJhu8VA8cSoOuSP/gfDYXBGQU5P+nZTD8IwoU/O9yqzFlxbWtJMf56qnTPWAfTxiLUpqudsMM0ETeRAC9ZgQqMbosvZd08FYemwZmOLPFYQESIAESIAEGpaAx0WZqTQFEWMzrcKWyqt+0LojrIvm19tThlzEdo9H4ZVgJB9fCVup6KbSxRg64QtMlj1jSn2yWUVScllbESYsEGFCF7YyNqwdRBu6iTZYizLNg2a7L5qADYrZgVzbOxrkVpqEoOo56xCGONsQILiEjl6P07DhmdNEGT1lDWx5no4ESIAESIAEFAKeFWVaVX1RE8wibCmHyd7Dn23lSdXbMva8TuqJ5TaNx7G//kOE9NRYpZrIfkQqXdZVeM+yY6xqm9W7UU5PoIiyAFHGY6+5XXrpDhueK5iwdWIPJO5v7mT3pQn5cf3wzL4QpB9OheNNmoWI7x2LXKFPrXd7ym8C2HwBbcdloSjRupCJ0+7xABIgARIgARIgAScEPCjK9J181rstT2dEIjTtB8dJ5/UwXUX6cOEV+gJ3iHc8bo81lI41VePQy2MQvX8ocq2KypYuDsXo9afFVYUwSnhPlO5o36g7CxVRJnW6KTr2Csbd+BwlHwegfbtylH/dHL0mzMSfe9yN8UPU912a8hHX7xnkwVmdMkVo7e6j74J1hLZy4wTcv+CQeGG58M7lCk+j0K2mM5mI/nMKjtwgdrT6SHHdegwf/pQESIAESIAErgoBD4oyLYwo6Zxm+E2rFmiidvGX6vP4weSo1lg9WVRtxIT+C3Co9ThkFSXKBWpr56ppIUE9yd7yqh5sX63uqbXVznZFv9u/wYFSOcNN5O/nYvbZSQhPK5NfC9Vq8BLsXqbUUqsS4qm/EE+tnXmuZK/kVtzj8gvITfhyazwmLcjHt5clu12Pny+K9nR6CAvXJuHB9o0f2q3naODPSYAESIAESMAnCHhQlF3d/iubC85iYHKhqPvl7a8U0oShFKZ8BSHnzqOmWWt0lBPuTKg+e05sRAjEzea6YOrx3zv3XNX5BeTCq3j2XDXkdyuY23J1bcqrkwAJkAAJkIA/E/BbUWZ+x2XlEKQXi1wqr3bwaF5F17xzFSL8G572DQalOnstlCrefssXkPvzJGbfSIAESIAE/IOAH4syYaDKfMSPfBb77lqIXFEm/6oV7Hc6VrTK/QEISS0V79+0/wPTyXSMGb4e101bgw0xan6ZvcPVmm0t4wqQ7fRll04byQNIgARIgARIgAQ8SMC/RZkErrIEmw51xMNDujRq4r5bNju9DtFRO3DdoBA8Hh2L/+7s4Nc1R/HuP1vhAVf6U3Me3543OXx5u1vt5MEkQAIkQAIkQAIeI+D/osxj6HhiEiABEiABEiABEmg4AhRlDceSZyIBEiABEiABEiCBOhOgKKszOv6QBEiABEiABEiABBqOAEVZw7HkmUiABEiABEiABEigzgQoyuqMjj8kARIgARIgARIggYYjQFHWcCx5JhIgARIgARIgARKoMwGKsjqj4w9JgARIgARIgARIoOEIUJQ1HEueiQRIgARIgARIgATqTICirM7o+EMSIAESIAESIAESaDgCFGUNx5JnIgESIAESIAESIIE6E6AoqzM6/pAESIAESIAESIAEGo4ARVnDseSZSIAESIAESIAESKDOBCjK6oyOPyQBEiABEiABEiCBhiNAUdZwLHkmEiABEiABEiABEqgzAYqyOqPjD0mABEiABEiABEig4QhQlDUcS56JBEiABEiABEiABOpMgKKszuj4QxIgARIgARIgARJoOAIUZQ3HkmciARIgARIgARIggToToCirMzr+kARIgARIgARIgAQajsD/A++oXDpzDM0LAAAAAElFTkSuQmCC)"
      ],
      "metadata": {
        "id": "f9RQX_M43p6m"
      }
    },
    {
      "cell_type": "code",
      "source": [
        "outliers=[]\n",
        "def detect_outlier(data_1):\n",
        "  threshold=3\n",
        "  mean_1 = np.mean(data_1)\n",
        "  std_1 =np.std(data_1)\n",
        "  \n",
        "  for y in data_1:\n",
        "      z_score= (y - mean_1)/std_1 \n",
        "      if np.abs(z_score) > threshold:\n",
        "          outliers.append(y)\n",
        "  return outliers"
      ],
      "metadata": {
        "id": "Q8cO_-Rt263R"
      },
      "execution_count": null,
      "outputs": []
    },
    {
      "cell_type": "code",
      "source": [
        "outlier_datapoints = detect_outlier(y)\n",
        "print(outlier_datapoints)"
      ],
      "metadata": {
        "colab": {
          "base_uri": "https://localhost:8080/"
        },
        "id": "g0Kx-I0u3XfO",
        "outputId": "760dd0c5-affa-4136-f27c-cadbbd84ae38"
      },
      "execution_count": null,
      "outputs": [
        {
          "output_type": "stream",
          "name": "stdout",
          "text": [
            "[-2.5322033644910658, 1.5918076810578297, -2.9681171065210177, -2.455893431061544, -3.4821152534848174]\n"
          ]
        }
      ]
    },
    {
      "cell_type": "markdown",
      "source": [
        "![imagen.png](data:image/png;base64,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)"
      ],
      "metadata": {
        "id": "QcH6YZwz5TaP"
      }
    },
    {
      "cell_type": "code",
      "source": [
        "y_sorted = sorted(y)"
      ],
      "metadata": {
        "id": "l9CBSAPN5dCo"
      },
      "execution_count": null,
      "outputs": []
    },
    {
      "cell_type": "code",
      "source": [
        "q1, q3= np.percentile(y_sorted,[25,75])"
      ],
      "metadata": {
        "id": "uLU7j_JW5ej-"
      },
      "execution_count": null,
      "outputs": []
    },
    {
      "cell_type": "code",
      "source": [
        "print('q1: ',q1)\n",
        "print('q3: ',q3)"
      ],
      "metadata": {
        "colab": {
          "base_uri": "https://localhost:8080/"
        },
        "id": "HFl9OYX45zm9",
        "outputId": "d1ec0ca6-33e4-4956-e14f-636cadc3d52e"
      },
      "execution_count": null,
      "outputs": [
        {
          "output_type": "stream",
          "name": "stdout",
          "text": [
            "q1:  -0.7742052563984594\n",
            "q3:  -0.07999276836392633\n"
          ]
        }
      ]
    },
    {
      "cell_type": "code",
      "source": [
        "iqr = q3 - q1"
      ],
      "metadata": {
        "id": "bgY-FbB95gMe"
      },
      "execution_count": null,
      "outputs": []
    },
    {
      "cell_type": "code",
      "source": [
        "print('iqr: ',q1)"
      ],
      "metadata": {
        "colab": {
          "base_uri": "https://localhost:8080/"
        },
        "id": "BGf2aa2u6E7G",
        "outputId": "fbe28074-edb4-45ee-e6f6-beafff8709f7"
      },
      "execution_count": null,
      "outputs": [
        {
          "output_type": "stream",
          "name": "stdout",
          "text": [
            "iqr:  -0.7742052563984594\n"
          ]
        }
      ]
    },
    {
      "cell_type": "code",
      "source": [
        "lower_bound = q1 -(1.5 * iqr) \n",
        "upper_bound = q3 +(1.5 * iqr) "
      ],
      "metadata": {
        "id": "UzHDXBrM5hsO"
      },
      "execution_count": null,
      "outputs": []
    },
    {
      "cell_type": "code",
      "source": [
        "print('lower_bound: ',lower_bound)\n",
        "print('upper_bound: ',upper_bound)\n",
        "print('Anything outside of ', lower_bound, ' and ', upper_bound, ' is an outlier.')"
      ],
      "metadata": {
        "colab": {
          "base_uri": "https://localhost:8080/"
        },
        "id": "3ZEQRsQW5qi-",
        "outputId": "c7fe6cfb-93d4-4b5b-883f-7744e26fe1c0"
      },
      "execution_count": null,
      "outputs": [
        {
          "output_type": "stream",
          "name": "stdout",
          "text": [
            "lower_bound:  -1.815523988450259\n",
            "upper_bound:  0.9613259636878733\n",
            "Anything outside of  -1.815523988450259  and  0.9613259636878733  is an outlier.\n"
          ]
        }
      ]
    },
    {
      "cell_type": "markdown",
      "source": [
        "### LEVERAGE POINTS"
      ],
      "metadata": {
        "id": "0aT1AJ_WzOUu"
      }
    },
    {
      "cell_type": "code",
      "source": [
        "leverage_points = XB.dot(ym)"
      ],
      "metadata": {
        "id": "ZeaBibl25LRp"
      },
      "execution_count": null,
      "outputs": []
    },
    {
      "cell_type": "code",
      "source": [
        "leverage_points"
      ],
      "metadata": {
        "colab": {
          "base_uri": "https://localhost:8080/"
        },
        "id": "OAS7hjWA5SLZ",
        "outputId": "0215bfa5-541e-45a6-dd02-c2cca2f28ff5"
      },
      "execution_count": null,
      "outputs": [
        {
          "output_type": "execute_result",
          "data": {
            "text/plain": [
              "R    125.909954\n",
              "dtype: float64"
            ]
          },
          "metadata": {},
          "execution_count": 81
        }
      ]
    },
    {
      "cell_type": "markdown",
      "source": [
        "### MSE"
      ],
      "metadata": {
        "id": "rZW_lo-x729n"
      }
    },
    {
      "cell_type": "code",
      "source": [
        "y_pred = x * Betas"
      ],
      "metadata": {
        "id": "BpP7-kaXKQX3"
      },
      "execution_count": null,
      "outputs": []
    },
    {
      "cell_type": "code",
      "source": [
        "y_pred"
      ],
      "metadata": {
        "colab": {
          "base_uri": "https://localhost:8080/",
          "height": 424
        },
        "id": "GJhVvnJBKkeT",
        "outputId": "a79ae313-729d-4fd4-ceea-3925bf89dd4d"
      },
      "execution_count": null,
      "outputs": [
        {
          "output_type": "execute_result",
          "data": {
            "text/plain": [
              "            1      EPSP       OPM      BtMr   isSmall  isMedium\n",
              "0   -0.321184  0.075348  0.000396 -0.010749 -0.000000 -0.134661\n",
              "1   -0.321184 -0.000527 -0.000025 -0.000870 -0.000000 -0.000000\n",
              "3   -0.321184 -0.089705 -0.002301 -0.014551 -0.000000 -0.134661\n",
              "4   -0.321184  0.011684  0.000224 -0.004879 -0.000000 -0.000000\n",
              "5   -0.321184 -0.038900 -0.002043 -0.004610 -0.000000 -0.134661\n",
              "..        ...       ...       ...       ...       ...       ...\n",
              "370 -0.321184  0.009406  0.000453 -0.001490 -0.000000 -0.134661\n",
              "371 -0.321184  0.042707  0.001701 -0.003295 -0.000000 -0.000000\n",
              "372 -0.321184 -0.009004 -0.002377 -0.000317 -0.000000 -0.000000\n",
              "373 -0.321184 -0.812779 -0.000849 -0.008065 -0.217028 -0.000000\n",
              "374 -0.321184 -0.738598 -0.096097 -0.023081 -0.217028 -0.000000\n",
              "\n",
              "[343 rows x 6 columns]"
            ],
            "text/html": [
              "\n",
              "  <div id=\"df-71bf83b1-9912-45ce-9b55-c710ee9b91ff\">\n",
              "    <div class=\"colab-df-container\">\n",
              "      <div>\n",
              "<style scoped>\n",
              "    .dataframe tbody tr th:only-of-type {\n",
              "        vertical-align: middle;\n",
              "    }\n",
              "\n",
              "    .dataframe tbody tr th {\n",
              "        vertical-align: top;\n",
              "    }\n",
              "\n",
              "    .dataframe thead th {\n",
              "        text-align: right;\n",
              "    }\n",
              "</style>\n",
              "<table border=\"1\" class=\"dataframe\">\n",
              "  <thead>\n",
              "    <tr style=\"text-align: right;\">\n",
              "      <th></th>\n",
              "      <th>1</th>\n",
              "      <th>EPSP</th>\n",
              "      <th>OPM</th>\n",
              "      <th>BtMr</th>\n",
              "      <th>isSmall</th>\n",
              "      <th>isMedium</th>\n",
              "    </tr>\n",
              "  </thead>\n",
              "  <tbody>\n",
              "    <tr>\n",
              "      <th>0</th>\n",
              "      <td>-0.321184</td>\n",
              "      <td>0.075348</td>\n",
              "      <td>0.000396</td>\n",
              "      <td>-0.010749</td>\n",
              "      <td>-0.000000</td>\n",
              "      <td>-0.134661</td>\n",
              "    </tr>\n",
              "    <tr>\n",
              "      <th>1</th>\n",
              "      <td>-0.321184</td>\n",
              "      <td>-0.000527</td>\n",
              "      <td>-0.000025</td>\n",
              "      <td>-0.000870</td>\n",
              "      <td>-0.000000</td>\n",
              "      <td>-0.000000</td>\n",
              "    </tr>\n",
              "    <tr>\n",
              "      <th>3</th>\n",
              "      <td>-0.321184</td>\n",
              "      <td>-0.089705</td>\n",
              "      <td>-0.002301</td>\n",
              "      <td>-0.014551</td>\n",
              "      <td>-0.000000</td>\n",
              "      <td>-0.134661</td>\n",
              "    </tr>\n",
              "    <tr>\n",
              "      <th>4</th>\n",
              "      <td>-0.321184</td>\n",
              "      <td>0.011684</td>\n",
              "      <td>0.000224</td>\n",
              "      <td>-0.004879</td>\n",
              "      <td>-0.000000</td>\n",
              "      <td>-0.000000</td>\n",
              "    </tr>\n",
              "    <tr>\n",
              "      <th>5</th>\n",
              "      <td>-0.321184</td>\n",
              "      <td>-0.038900</td>\n",
              "      <td>-0.002043</td>\n",
              "      <td>-0.004610</td>\n",
              "      <td>-0.000000</td>\n",
              "      <td>-0.134661</td>\n",
              "    </tr>\n",
              "    <tr>\n",
              "      <th>...</th>\n",
              "      <td>...</td>\n",
              "      <td>...</td>\n",
              "      <td>...</td>\n",
              "      <td>...</td>\n",
              "      <td>...</td>\n",
              "      <td>...</td>\n",
              "    </tr>\n",
              "    <tr>\n",
              "      <th>370</th>\n",
              "      <td>-0.321184</td>\n",
              "      <td>0.009406</td>\n",
              "      <td>0.000453</td>\n",
              "      <td>-0.001490</td>\n",
              "      <td>-0.000000</td>\n",
              "      <td>-0.134661</td>\n",
              "    </tr>\n",
              "    <tr>\n",
              "      <th>371</th>\n",
              "      <td>-0.321184</td>\n",
              "      <td>0.042707</td>\n",
              "      <td>0.001701</td>\n",
              "      <td>-0.003295</td>\n",
              "      <td>-0.000000</td>\n",
              "      <td>-0.000000</td>\n",
              "    </tr>\n",
              "    <tr>\n",
              "      <th>372</th>\n",
              "      <td>-0.321184</td>\n",
              "      <td>-0.009004</td>\n",
              "      <td>-0.002377</td>\n",
              "      <td>-0.000317</td>\n",
              "      <td>-0.000000</td>\n",
              "      <td>-0.000000</td>\n",
              "    </tr>\n",
              "    <tr>\n",
              "      <th>373</th>\n",
              "      <td>-0.321184</td>\n",
              "      <td>-0.812779</td>\n",
              "      <td>-0.000849</td>\n",
              "      <td>-0.008065</td>\n",
              "      <td>-0.217028</td>\n",
              "      <td>-0.000000</td>\n",
              "    </tr>\n",
              "    <tr>\n",
              "      <th>374</th>\n",
              "      <td>-0.321184</td>\n",
              "      <td>-0.738598</td>\n",
              "      <td>-0.096097</td>\n",
              "      <td>-0.023081</td>\n",
              "      <td>-0.217028</td>\n",
              "      <td>-0.000000</td>\n",
              "    </tr>\n",
              "  </tbody>\n",
              "</table>\n",
              "<p>343 rows × 6 columns</p>\n",
              "</div>\n",
              "      <button class=\"colab-df-convert\" onclick=\"convertToInteractive('df-71bf83b1-9912-45ce-9b55-c710ee9b91ff')\"\n",
              "              title=\"Convert this dataframe to an interactive table.\"\n",
              "              style=\"display:none;\">\n",
              "        \n",
              "  <svg xmlns=\"http://www.w3.org/2000/svg\" height=\"24px\"viewBox=\"0 0 24 24\"\n",
              "       width=\"24px\">\n",
              "    <path d=\"M0 0h24v24H0V0z\" fill=\"none\"/>\n",
              "    <path d=\"M18.56 5.44l.94 2.06.94-2.06 2.06-.94-2.06-.94-.94-2.06-.94 2.06-2.06.94zm-11 1L8.5 8.5l.94-2.06 2.06-.94-2.06-.94L8.5 2.5l-.94 2.06-2.06.94zm10 10l.94 2.06.94-2.06 2.06-.94-2.06-.94-.94-2.06-.94 2.06-2.06.94z\"/><path d=\"M17.41 7.96l-1.37-1.37c-.4-.4-.92-.59-1.43-.59-.52 0-1.04.2-1.43.59L10.3 9.45l-7.72 7.72c-.78.78-.78 2.05 0 2.83L4 21.41c.39.39.9.59 1.41.59.51 0 1.02-.2 1.41-.59l7.78-7.78 2.81-2.81c.8-.78.8-2.07 0-2.86zM5.41 20L4 18.59l7.72-7.72 1.47 1.35L5.41 20z\"/>\n",
              "  </svg>\n",
              "      </button>\n",
              "      \n",
              "  <style>\n",
              "    .colab-df-container {\n",
              "      display:flex;\n",
              "      flex-wrap:wrap;\n",
              "      gap: 12px;\n",
              "    }\n",
              "\n",
              "    .colab-df-convert {\n",
              "      background-color: #E8F0FE;\n",
              "      border: none;\n",
              "      border-radius: 50%;\n",
              "      cursor: pointer;\n",
              "      display: none;\n",
              "      fill: #1967D2;\n",
              "      height: 32px;\n",
              "      padding: 0 0 0 0;\n",
              "      width: 32px;\n",
              "    }\n",
              "\n",
              "    .colab-df-convert:hover {\n",
              "      background-color: #E2EBFA;\n",
              "      box-shadow: 0px 1px 2px rgba(60, 64, 67, 0.3), 0px 1px 3px 1px rgba(60, 64, 67, 0.15);\n",
              "      fill: #174EA6;\n",
              "    }\n",
              "\n",
              "    [theme=dark] .colab-df-convert {\n",
              "      background-color: #3B4455;\n",
              "      fill: #D2E3FC;\n",
              "    }\n",
              "\n",
              "    [theme=dark] .colab-df-convert:hover {\n",
              "      background-color: #434B5C;\n",
              "      box-shadow: 0px 1px 3px 1px rgba(0, 0, 0, 0.15);\n",
              "      filter: drop-shadow(0px 1px 2px rgba(0, 0, 0, 0.3));\n",
              "      fill: #FFFFFF;\n",
              "    }\n",
              "  </style>\n",
              "\n",
              "      <script>\n",
              "        const buttonEl =\n",
              "          document.querySelector('#df-71bf83b1-9912-45ce-9b55-c710ee9b91ff button.colab-df-convert');\n",
              "        buttonEl.style.display =\n",
              "          google.colab.kernel.accessAllowed ? 'block' : 'none';\n",
              "\n",
              "        async function convertToInteractive(key) {\n",
              "          const element = document.querySelector('#df-71bf83b1-9912-45ce-9b55-c710ee9b91ff');\n",
              "          const dataTable =\n",
              "            await google.colab.kernel.invokeFunction('convertToInteractive',\n",
              "                                                     [key], {});\n",
              "          if (!dataTable) return;\n",
              "\n",
              "          const docLinkHtml = 'Like what you see? Visit the ' +\n",
              "            '<a target=\"_blank\" href=https://colab.research.google.com/notebooks/data_table.ipynb>data table notebook</a>'\n",
              "            + ' to learn more about interactive tables.';\n",
              "          element.innerHTML = '';\n",
              "          dataTable['output_type'] = 'display_data';\n",
              "          await google.colab.output.renderOutput(dataTable, element);\n",
              "          const docLink = document.createElement('div');\n",
              "          docLink.innerHTML = docLinkHtml;\n",
              "          element.appendChild(docLink);\n",
              "        }\n",
              "      </script>\n",
              "    </div>\n",
              "  </div>\n",
              "  "
            ]
          },
          "metadata": {},
          "execution_count": 83
        }
      ]
    },
    {
      "cell_type": "code",
      "source": [
        "y_pred['sum'] = y_pred['1'] + y_pred['isSmall'] + y_pred['isMedium'] + y_pred['EPSP'] + y_pred['OPM'] + y_pred['BtMr']"
      ],
      "metadata": {
        "id": "d2MRS91Szkj-"
      },
      "execution_count": null,
      "outputs": []
    },
    {
      "cell_type": "code",
      "source": [
        "y_pred"
      ],
      "metadata": {
        "colab": {
          "base_uri": "https://localhost:8080/",
          "height": 424
        },
        "id": "pGDqi4UV0LVw",
        "outputId": "5ab2b4a8-3785-4373-f505-51d587fb1fb1"
      },
      "execution_count": null,
      "outputs": [
        {
          "output_type": "execute_result",
          "data": {
            "text/plain": [
              "            1      EPSP       OPM      BtMr   isSmall  isMedium       sum\n",
              "0   -0.321184  0.075348  0.000396 -0.010749 -0.000000 -0.134661 -0.390850\n",
              "1   -0.321184 -0.000527 -0.000025 -0.000870 -0.000000 -0.000000 -0.322606\n",
              "3   -0.321184 -0.089705 -0.002301 -0.014551 -0.000000 -0.134661 -0.562403\n",
              "4   -0.321184  0.011684  0.000224 -0.004879 -0.000000 -0.000000 -0.314156\n",
              "5   -0.321184 -0.038900 -0.002043 -0.004610 -0.000000 -0.134661 -0.501398\n",
              "..        ...       ...       ...       ...       ...       ...       ...\n",
              "370 -0.321184  0.009406  0.000453 -0.001490 -0.000000 -0.134661 -0.447477\n",
              "371 -0.321184  0.042707  0.001701 -0.003295 -0.000000 -0.000000 -0.280072\n",
              "372 -0.321184 -0.009004 -0.002377 -0.000317 -0.000000 -0.000000 -0.332882\n",
              "373 -0.321184 -0.812779 -0.000849 -0.008065 -0.217028 -0.000000 -1.359906\n",
              "374 -0.321184 -0.738598 -0.096097 -0.023081 -0.217028 -0.000000 -1.395989\n",
              "\n",
              "[343 rows x 7 columns]"
            ],
            "text/html": [
              "\n",
              "  <div id=\"df-cf151402-2297-4ae6-bf79-228aa26f5481\">\n",
              "    <div class=\"colab-df-container\">\n",
              "      <div>\n",
              "<style scoped>\n",
              "    .dataframe tbody tr th:only-of-type {\n",
              "        vertical-align: middle;\n",
              "    }\n",
              "\n",
              "    .dataframe tbody tr th {\n",
              "        vertical-align: top;\n",
              "    }\n",
              "\n",
              "    .dataframe thead th {\n",
              "        text-align: right;\n",
              "    }\n",
              "</style>\n",
              "<table border=\"1\" class=\"dataframe\">\n",
              "  <thead>\n",
              "    <tr style=\"text-align: right;\">\n",
              "      <th></th>\n",
              "      <th>1</th>\n",
              "      <th>EPSP</th>\n",
              "      <th>OPM</th>\n",
              "      <th>BtMr</th>\n",
              "      <th>isSmall</th>\n",
              "      <th>isMedium</th>\n",
              "      <th>sum</th>\n",
              "    </tr>\n",
              "  </thead>\n",
              "  <tbody>\n",
              "    <tr>\n",
              "      <th>0</th>\n",
              "      <td>-0.321184</td>\n",
              "      <td>0.075348</td>\n",
              "      <td>0.000396</td>\n",
              "      <td>-0.010749</td>\n",
              "      <td>-0.000000</td>\n",
              "      <td>-0.134661</td>\n",
              "      <td>-0.390850</td>\n",
              "    </tr>\n",
              "    <tr>\n",
              "      <th>1</th>\n",
              "      <td>-0.321184</td>\n",
              "      <td>-0.000527</td>\n",
              "      <td>-0.000025</td>\n",
              "      <td>-0.000870</td>\n",
              "      <td>-0.000000</td>\n",
              "      <td>-0.000000</td>\n",
              "      <td>-0.322606</td>\n",
              "    </tr>\n",
              "    <tr>\n",
              "      <th>3</th>\n",
              "      <td>-0.321184</td>\n",
              "      <td>-0.089705</td>\n",
              "      <td>-0.002301</td>\n",
              "      <td>-0.014551</td>\n",
              "      <td>-0.000000</td>\n",
              "      <td>-0.134661</td>\n",
              "      <td>-0.562403</td>\n",
              "    </tr>\n",
              "    <tr>\n",
              "      <th>4</th>\n",
              "      <td>-0.321184</td>\n",
              "      <td>0.011684</td>\n",
              "      <td>0.000224</td>\n",
              "      <td>-0.004879</td>\n",
              "      <td>-0.000000</td>\n",
              "      <td>-0.000000</td>\n",
              "      <td>-0.314156</td>\n",
              "    </tr>\n",
              "    <tr>\n",
              "      <th>5</th>\n",
              "      <td>-0.321184</td>\n",
              "      <td>-0.038900</td>\n",
              "      <td>-0.002043</td>\n",
              "      <td>-0.004610</td>\n",
              "      <td>-0.000000</td>\n",
              "      <td>-0.134661</td>\n",
              "      <td>-0.501398</td>\n",
              "    </tr>\n",
              "    <tr>\n",
              "      <th>...</th>\n",
              "      <td>...</td>\n",
              "      <td>...</td>\n",
              "      <td>...</td>\n",
              "      <td>...</td>\n",
              "      <td>...</td>\n",
              "      <td>...</td>\n",
              "      <td>...</td>\n",
              "    </tr>\n",
              "    <tr>\n",
              "      <th>370</th>\n",
              "      <td>-0.321184</td>\n",
              "      <td>0.009406</td>\n",
              "      <td>0.000453</td>\n",
              "      <td>-0.001490</td>\n",
              "      <td>-0.000000</td>\n",
              "      <td>-0.134661</td>\n",
              "      <td>-0.447477</td>\n",
              "    </tr>\n",
              "    <tr>\n",
              "      <th>371</th>\n",
              "      <td>-0.321184</td>\n",
              "      <td>0.042707</td>\n",
              "      <td>0.001701</td>\n",
              "      <td>-0.003295</td>\n",
              "      <td>-0.000000</td>\n",
              "      <td>-0.000000</td>\n",
              "      <td>-0.280072</td>\n",
              "    </tr>\n",
              "    <tr>\n",
              "      <th>372</th>\n",
              "      <td>-0.321184</td>\n",
              "      <td>-0.009004</td>\n",
              "      <td>-0.002377</td>\n",
              "      <td>-0.000317</td>\n",
              "      <td>-0.000000</td>\n",
              "      <td>-0.000000</td>\n",
              "      <td>-0.332882</td>\n",
              "    </tr>\n",
              "    <tr>\n",
              "      <th>373</th>\n",
              "      <td>-0.321184</td>\n",
              "      <td>-0.812779</td>\n",
              "      <td>-0.000849</td>\n",
              "      <td>-0.008065</td>\n",
              "      <td>-0.217028</td>\n",
              "      <td>-0.000000</td>\n",
              "      <td>-1.359906</td>\n",
              "    </tr>\n",
              "    <tr>\n",
              "      <th>374</th>\n",
              "      <td>-0.321184</td>\n",
              "      <td>-0.738598</td>\n",
              "      <td>-0.096097</td>\n",
              "      <td>-0.023081</td>\n",
              "      <td>-0.217028</td>\n",
              "      <td>-0.000000</td>\n",
              "      <td>-1.395989</td>\n",
              "    </tr>\n",
              "  </tbody>\n",
              "</table>\n",
              "<p>343 rows × 7 columns</p>\n",
              "</div>\n",
              "      <button class=\"colab-df-convert\" onclick=\"convertToInteractive('df-cf151402-2297-4ae6-bf79-228aa26f5481')\"\n",
              "              title=\"Convert this dataframe to an interactive table.\"\n",
              "              style=\"display:none;\">\n",
              "        \n",
              "  <svg xmlns=\"http://www.w3.org/2000/svg\" height=\"24px\"viewBox=\"0 0 24 24\"\n",
              "       width=\"24px\">\n",
              "    <path d=\"M0 0h24v24H0V0z\" fill=\"none\"/>\n",
              "    <path d=\"M18.56 5.44l.94 2.06.94-2.06 2.06-.94-2.06-.94-.94-2.06-.94 2.06-2.06.94zm-11 1L8.5 8.5l.94-2.06 2.06-.94-2.06-.94L8.5 2.5l-.94 2.06-2.06.94zm10 10l.94 2.06.94-2.06 2.06-.94-2.06-.94-.94-2.06-.94 2.06-2.06.94z\"/><path d=\"M17.41 7.96l-1.37-1.37c-.4-.4-.92-.59-1.43-.59-.52 0-1.04.2-1.43.59L10.3 9.45l-7.72 7.72c-.78.78-.78 2.05 0 2.83L4 21.41c.39.39.9.59 1.41.59.51 0 1.02-.2 1.41-.59l7.78-7.78 2.81-2.81c.8-.78.8-2.07 0-2.86zM5.41 20L4 18.59l7.72-7.72 1.47 1.35L5.41 20z\"/>\n",
              "  </svg>\n",
              "      </button>\n",
              "      \n",
              "  <style>\n",
              "    .colab-df-container {\n",
              "      display:flex;\n",
              "      flex-wrap:wrap;\n",
              "      gap: 12px;\n",
              "    }\n",
              "\n",
              "    .colab-df-convert {\n",
              "      background-color: #E8F0FE;\n",
              "      border: none;\n",
              "      border-radius: 50%;\n",
              "      cursor: pointer;\n",
              "      display: none;\n",
              "      fill: #1967D2;\n",
              "      height: 32px;\n",
              "      padding: 0 0 0 0;\n",
              "      width: 32px;\n",
              "    }\n",
              "\n",
              "    .colab-df-convert:hover {\n",
              "      background-color: #E2EBFA;\n",
              "      box-shadow: 0px 1px 2px rgba(60, 64, 67, 0.3), 0px 1px 3px 1px rgba(60, 64, 67, 0.15);\n",
              "      fill: #174EA6;\n",
              "    }\n",
              "\n",
              "    [theme=dark] .colab-df-convert {\n",
              "      background-color: #3B4455;\n",
              "      fill: #D2E3FC;\n",
              "    }\n",
              "\n",
              "    [theme=dark] .colab-df-convert:hover {\n",
              "      background-color: #434B5C;\n",
              "      box-shadow: 0px 1px 3px 1px rgba(0, 0, 0, 0.15);\n",
              "      filter: drop-shadow(0px 1px 2px rgba(0, 0, 0, 0.3));\n",
              "      fill: #FFFFFF;\n",
              "    }\n",
              "  </style>\n",
              "\n",
              "      <script>\n",
              "        const buttonEl =\n",
              "          document.querySelector('#df-cf151402-2297-4ae6-bf79-228aa26f5481 button.colab-df-convert');\n",
              "        buttonEl.style.display =\n",
              "          google.colab.kernel.accessAllowed ? 'block' : 'none';\n",
              "\n",
              "        async function convertToInteractive(key) {\n",
              "          const element = document.querySelector('#df-cf151402-2297-4ae6-bf79-228aa26f5481');\n",
              "          const dataTable =\n",
              "            await google.colab.kernel.invokeFunction('convertToInteractive',\n",
              "                                                     [key], {});\n",
              "          if (!dataTable) return;\n",
              "\n",
              "          const docLinkHtml = 'Like what you see? Visit the ' +\n",
              "            '<a target=\"_blank\" href=https://colab.research.google.com/notebooks/data_table.ipynb>data table notebook</a>'\n",
              "            + ' to learn more about interactive tables.';\n",
              "          element.innerHTML = '';\n",
              "          dataTable['output_type'] = 'display_data';\n",
              "          await google.colab.output.renderOutput(dataTable, element);\n",
              "          const docLink = document.createElement('div');\n",
              "          docLink.innerHTML = docLinkHtml;\n",
              "          element.appendChild(docLink);\n",
              "        }\n",
              "      </script>\n",
              "    </div>\n",
              "  </div>\n",
              "  "
            ]
          },
          "metadata": {},
          "execution_count": 85
        }
      ]
    },
    {
      "cell_type": "code",
      "source": [
        "E = y - y_pred['sum']"
      ],
      "metadata": {
        "id": "NhqAjLmd2Pxz"
      },
      "execution_count": null,
      "outputs": []
    },
    {
      "cell_type": "code",
      "source": [
        "aux = E * E"
      ],
      "metadata": {
        "id": "8F5iPLNR2SKk"
      },
      "execution_count": null,
      "outputs": []
    },
    {
      "cell_type": "code",
      "source": [
        "aux"
      ],
      "metadata": {
        "colab": {
          "base_uri": "https://localhost:8080/"
        },
        "id": "qCj9w0-jKc6H",
        "outputId": "36fbcf11-6dc8-4f65-a3f1-c45b2e1ef098"
      },
      "execution_count": null,
      "outputs": [
        {
          "output_type": "execute_result",
          "data": {
            "text/plain": [
              "0      0.146381\n",
              "1      0.048054\n",
              "3      2.047263\n",
              "4      0.120854\n",
              "5      0.747237\n",
              "         ...   \n",
              "370    0.005568\n",
              "371    0.993166\n",
              "372    0.001247\n",
              "373    0.142802\n",
              "374    4.351922\n",
              "Length: 343, dtype: float64"
            ]
          },
          "metadata": {},
          "execution_count": 88
        }
      ]
    },
    {
      "cell_type": "code",
      "source": [
        "MSE = aux.sum()"
      ],
      "metadata": {
        "id": "tVpnIEZrKfPc"
      },
      "execution_count": null,
      "outputs": []
    },
    {
      "cell_type": "code",
      "source": [
        "MSE"
      ],
      "metadata": {
        "colab": {
          "base_uri": "https://localhost:8080/"
        },
        "id": "skdoPjlhKgVc",
        "outputId": "e255360a-5a3c-4a82-cbf0-0dc4dbdcefa3"
      },
      "execution_count": null,
      "outputs": [
        {
          "output_type": "execute_result",
          "data": {
            "text/plain": [
              "98.02323792759685"
            ]
          },
          "metadata": {},
          "execution_count": 90
        }
      ]
    },
    {
      "cell_type": "markdown",
      "source": [
        "### Modelo"
      ],
      "metadata": {
        "id": "Tq4TQSH7N3ZI"
      }
    },
    {
      "cell_type": "code",
      "source": [
        "import statsmodels.api as sm\n",
        "import statsmodels.formula.api as smf"
      ],
      "metadata": {
        "id": "wehPQppwN4y6"
      },
      "execution_count": null,
      "outputs": []
    },
    {
      "cell_type": "code",
      "source": [
        "mod = smf.ols('R ~ isSmall + isMedium + EPSP + OPM + BtMr', data = temp).fit()\n",
        "\n",
        "print(mod.summary())"
      ],
      "metadata": {
        "colab": {
          "base_uri": "https://localhost:8080/"
        },
        "id": "NZl881FGN7hg",
        "outputId": "fda8a7cb-51b1-4bd3-86fb-2d9ee14523f2"
      },
      "execution_count": null,
      "outputs": [
        {
          "output_type": "stream",
          "name": "stdout",
          "text": [
            "                            OLS Regression Results                            \n",
            "==============================================================================\n",
            "Dep. Variable:                      R   R-squared:                       0.296\n",
            "Model:                            OLS   Adj. R-squared:                  0.286\n",
            "Method:                 Least Squares   F-statistic:                     28.39\n",
            "Date:                Fri, 28 Oct 2022   Prob (F-statistic):           5.17e-24\n",
            "Time:                        20:30:53   Log-Likelihood:                -271.89\n",
            "No. Observations:                 343   AIC:                             555.8\n",
            "Df Residuals:                     337   BIC:                             578.8\n",
            "Df Model:                           5                                         \n",
            "Covariance Type:            nonrobust                                         \n",
            "==============================================================================\n",
            "                 coef    std err          t      P>|t|      [0.025      0.975]\n",
            "------------------------------------------------------------------------------\n",
            "Intercept     -0.3212      0.051     -6.310      0.000      -0.421      -0.221\n",
            "isSmall       -0.2170      0.078     -2.800      0.005      -0.370      -0.065\n",
            "isMedium      -0.1347      0.072     -1.869      0.063      -0.276       0.007\n",
            "EPSP           3.0523      0.328      9.293      0.000       2.406       3.698\n",
            "OPM            0.0072      0.002      4.030      0.000       0.004       0.011\n",
            "BtMr          -0.0200      0.061     -0.325      0.745      -0.141       0.101\n",
            "==============================================================================\n",
            "Omnibus:                       33.122   Durbin-Watson:                   1.922\n",
            "Prob(Omnibus):                  0.000   Jarque-Bera (JB):               71.360\n",
            "Skew:                          -0.510   Prob(JB):                     3.19e-16\n",
            "Kurtosis:                       4.988   Cond. No.                         185.\n",
            "==============================================================================\n",
            "\n",
            "Notes:\n",
            "[1] Standard Errors assume that the covariance matrix of the errors is correctly specified.\n"
          ]
        }
      ]
    },
    {
      "cell_type": "markdown",
      "source": [
        "## Multicolinealidad"
      ],
      "metadata": {
        "id": "VZjFrQ2BDuqr"
      }
    },
    {
      "cell_type": "code",
      "source": [
        "from statsmodels.stats.outliers_influence import variance_inflation_factor\n",
        "vif_data = pd.DataFrame()\n",
        "vif_data[\"feature\"] = x.columns\n",
        "  \n",
        "# calculating VIF for each feature\n",
        "vif_data[\"VIF\"] = [variance_inflation_factor(x.values, i)\n",
        "                          for i in range(len(x.columns))]\n",
        "\n",
        "print(vif_data)"
      ],
      "metadata": {
        "colab": {
          "base_uri": "https://localhost:8080/"
        },
        "id": "daREYqX__nUV",
        "outputId": "fe9f3e0f-ec3c-4d52-bf6a-d3eb3cd9d4be"
      },
      "execution_count": null,
      "outputs": [
        {
          "output_type": "stream",
          "name": "stdout",
          "text": [
            "    feature       VIF\n",
            "0         1  3.054836\n",
            "1      EPSP  1.087882\n",
            "2       OPM  1.011299\n",
            "3      BtMr  1.159081\n",
            "4   isSmall  1.579139\n",
            "5  isMedium  1.327638\n"
          ]
        }
      ]
    }
  ]
}
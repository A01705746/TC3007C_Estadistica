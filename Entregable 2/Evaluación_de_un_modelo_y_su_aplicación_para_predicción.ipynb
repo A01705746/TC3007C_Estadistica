{
  "nbformat": 4,
  "nbformat_minor": 0,
  "metadata": {
    "colab": {
      "provenance": [],
      "collapsed_sections": [
        "BHFSsDxdSTZ-",
        "j4-JGPfeSlo1",
        "Rta5dsR4V4sk",
        "KvLDLbWUY1hU",
        "xN7TQC9FY4oT",
        "JtMNcXN_aRoy",
        "OgXB5yBFeT_3",
        "-Ak-5S4kgaGc",
        "6xjDCusLh5US",
        "wvH9SDLHkzqS",
        "RRZb52Gck8kA",
        "AgyTwGvUmPiI",
        "ZaExQLDmmZ3_"
      ]
    },
    "kernelspec": {
      "name": "python3",
      "display_name": "Python 3"
    },
    "language_info": {
      "name": "python"
    }
  },
  "cells": [
    {
      "cell_type": "markdown",
      "source": [
        "**Enrique Santos Fraire**"
      ],
      "metadata": {
        "id": "w27_v_sLSP_n"
      }
    },
    {
      "cell_type": "markdown",
      "source": [
        "# Introducción"
      ],
      "metadata": {
        "id": "BHFSsDxdSTZ-"
      }
    },
    {
      "cell_type": "markdown",
      "source": [
        "Calibrar un modelo ARIMA-SARIMA para la serie del ÍNDICE GLOBAL DE ACTIVIDAD ECONÓMICA de México. Esta serie la puedes descargar del sitio del INEGI. Tienes que realizar el proceso de manejo de datos y calibración del modelo para obtener un pronóstico de la economía mexicana hasta el cierre del sexenio actual (SEP 2024).\n",
        "\n",
        "1.- Realizar pruebas estadísticas de estacionariedad y decide el tipo de transformación de la variable\n",
        "\n",
        "2.- Calibra un modelo ARIMA-SARIMA basado en pruebas y gráficos de autocorrelaciones . Explica claramente el proceso de calibración y la razón de cómo va modificando los parámetros.\n",
        "\n",
        "3.- Interpreta los coeficientes y su significancia estadística del modelo calibrado\n",
        "\n",
        "4.-Realiza una predicción de la variable utilizando el modelo calibrado.\n"
      ],
      "metadata": {
        "id": "cD7ut14DSW1m"
      }
    },
    {
      "cell_type": "markdown",
      "source": [
        "# Carga de datos"
      ],
      "metadata": {
        "id": "j4-JGPfeSlo1"
      }
    },
    {
      "cell_type": "code",
      "execution_count": 131,
      "metadata": {
        "colab": {
          "base_uri": "https://localhost:8080/"
        },
        "id": "Dwvxb3hbM5yn",
        "outputId": "5d5a1381-4581-4d95-f9cd-ec158fbcd238"
      },
      "outputs": [
        {
          "output_type": "stream",
          "name": "stdout",
          "text": [
            "Drive already mounted at /content/gdrive; to attempt to forcibly remount, call drive.mount(\"/content/gdrive\", force_remount=True).\n",
            "/content/gdrive/My Drive/Semestre IA 2/Estadística Avanzada para la Ciencia de Datos\n"
          ]
        }
      ],
      "source": [
        "from google.colab import drive\n",
        "\n",
        "drive.mount(\"/content/gdrive\")  \n",
        "!pwd  # show current path "
      ]
    },
    {
      "cell_type": "code",
      "source": [
        "%cd \"/content/gdrive/MyDrive/Semestre IA 2/Estadística Avanzada para la Ciencia de Datos\"\n",
        "!ls  # show current directory"
      ],
      "metadata": {
        "id": "qU68zMUwNHLE",
        "colab": {
          "base_uri": "https://localhost:8080/"
        },
        "outputId": "aa6de662-7534-44c9-e479-5a10e060c863"
      },
      "execution_count": 132,
      "outputs": [
        {
          "output_type": "stream",
          "name": "stdout",
          "text": [
            "/content/gdrive/MyDrive/Semestre IA 2/Estadística Avanzada para la Ciencia de Datos\n",
            "'Evaluación de un modelo y su aplicación para predicción.ipynb'\n",
            " IGAE.csv\n",
            "'Preprocesamiento y análisis de datos multivariados.ipynb'\n",
            " us2022q2a.csv\n",
            " usfirms2022.csv\n"
          ]
        }
      ]
    },
    {
      "cell_type": "code",
      "source": [
        "import math\n",
        "import pandas as pd\n",
        "import numpy as np\n",
        "import seaborn as sns\n",
        "from statsmodels.tsa.stattools import acf, pacf\n",
        "from statsmodels.tsa.arima_model import ARMA\n",
        "from statsmodels.graphics.tsaplots import plot_acf, plot_pacf\n",
        "import statsmodels.api as sm\n",
        "import matplotlib.pyplot as plt\n",
        "from matplotlib import rcParams\n",
        "from cycler import cycler"
      ],
      "metadata": {
        "id": "ZoKEReoPNKjx"
      },
      "execution_count": 133,
      "outputs": []
    },
    {
      "cell_type": "code",
      "source": [
        "df = pd.read_csv('IGAE.csv')"
      ],
      "metadata": {
        "id": "ux8UB7rTiPsU"
      },
      "execution_count": 134,
      "outputs": []
    },
    {
      "cell_type": "markdown",
      "source": [
        "SE ORDENAN LOS DATOS DEL PERIODO MAS ANTIGUO AL MAS RECIENTE."
      ],
      "metadata": {
        "id": "kVDeAsjDVyJr"
      }
    },
    {
      "cell_type": "code",
      "source": [
        "df = df.sort_values(by='Periodo')\n",
        "df = df.reset_index(drop=True)"
      ],
      "metadata": {
        "id": "XzdSS_bXVhFd"
      },
      "execution_count": 135,
      "outputs": []
    },
    {
      "cell_type": "code",
      "source": [
        "df"
      ],
      "metadata": {
        "id": "j8MkMbgmU74k",
        "colab": {
          "base_uri": "https://localhost:8080/",
          "height": 424
        },
        "outputId": "ba44649c-8c8c-44c1-e93c-970229a51f3b"
      },
      "execution_count": 136,
      "outputs": [
        {
          "output_type": "execute_result",
          "data": {
            "text/plain": [
              "     Periodo       Valor\n",
              "0    1993/01   60.407691\n",
              "1    1993/02   61.022521\n",
              "2    1993/03   63.943249\n",
              "3    1993/04   61.865984\n",
              "4    1993/05   63.612900\n",
              "..       ...         ...\n",
              "351  2022/04  109.529866\n",
              "352  2022/05  114.442424\n",
              "353  2022/06  112.797501\n",
              "354  2022/07  111.268587\n",
              "355  2022/08  113.320302\n",
              "\n",
              "[356 rows x 2 columns]"
            ],
            "text/html": [
              "\n",
              "  <div id=\"df-c817c739-2ec8-41ad-885a-f91a12e789db\">\n",
              "    <div class=\"colab-df-container\">\n",
              "      <div>\n",
              "<style scoped>\n",
              "    .dataframe tbody tr th:only-of-type {\n",
              "        vertical-align: middle;\n",
              "    }\n",
              "\n",
              "    .dataframe tbody tr th {\n",
              "        vertical-align: top;\n",
              "    }\n",
              "\n",
              "    .dataframe thead th {\n",
              "        text-align: right;\n",
              "    }\n",
              "</style>\n",
              "<table border=\"1\" class=\"dataframe\">\n",
              "  <thead>\n",
              "    <tr style=\"text-align: right;\">\n",
              "      <th></th>\n",
              "      <th>Periodo</th>\n",
              "      <th>Valor</th>\n",
              "    </tr>\n",
              "  </thead>\n",
              "  <tbody>\n",
              "    <tr>\n",
              "      <th>0</th>\n",
              "      <td>1993/01</td>\n",
              "      <td>60.407691</td>\n",
              "    </tr>\n",
              "    <tr>\n",
              "      <th>1</th>\n",
              "      <td>1993/02</td>\n",
              "      <td>61.022521</td>\n",
              "    </tr>\n",
              "    <tr>\n",
              "      <th>2</th>\n",
              "      <td>1993/03</td>\n",
              "      <td>63.943249</td>\n",
              "    </tr>\n",
              "    <tr>\n",
              "      <th>3</th>\n",
              "      <td>1993/04</td>\n",
              "      <td>61.865984</td>\n",
              "    </tr>\n",
              "    <tr>\n",
              "      <th>4</th>\n",
              "      <td>1993/05</td>\n",
              "      <td>63.612900</td>\n",
              "    </tr>\n",
              "    <tr>\n",
              "      <th>...</th>\n",
              "      <td>...</td>\n",
              "      <td>...</td>\n",
              "    </tr>\n",
              "    <tr>\n",
              "      <th>351</th>\n",
              "      <td>2022/04</td>\n",
              "      <td>109.529866</td>\n",
              "    </tr>\n",
              "    <tr>\n",
              "      <th>352</th>\n",
              "      <td>2022/05</td>\n",
              "      <td>114.442424</td>\n",
              "    </tr>\n",
              "    <tr>\n",
              "      <th>353</th>\n",
              "      <td>2022/06</td>\n",
              "      <td>112.797501</td>\n",
              "    </tr>\n",
              "    <tr>\n",
              "      <th>354</th>\n",
              "      <td>2022/07</td>\n",
              "      <td>111.268587</td>\n",
              "    </tr>\n",
              "    <tr>\n",
              "      <th>355</th>\n",
              "      <td>2022/08</td>\n",
              "      <td>113.320302</td>\n",
              "    </tr>\n",
              "  </tbody>\n",
              "</table>\n",
              "<p>356 rows × 2 columns</p>\n",
              "</div>\n",
              "      <button class=\"colab-df-convert\" onclick=\"convertToInteractive('df-c817c739-2ec8-41ad-885a-f91a12e789db')\"\n",
              "              title=\"Convert this dataframe to an interactive table.\"\n",
              "              style=\"display:none;\">\n",
              "        \n",
              "  <svg xmlns=\"http://www.w3.org/2000/svg\" height=\"24px\"viewBox=\"0 0 24 24\"\n",
              "       width=\"24px\">\n",
              "    <path d=\"M0 0h24v24H0V0z\" fill=\"none\"/>\n",
              "    <path d=\"M18.56 5.44l.94 2.06.94-2.06 2.06-.94-2.06-.94-.94-2.06-.94 2.06-2.06.94zm-11 1L8.5 8.5l.94-2.06 2.06-.94-2.06-.94L8.5 2.5l-.94 2.06-2.06.94zm10 10l.94 2.06.94-2.06 2.06-.94-2.06-.94-.94-2.06-.94 2.06-2.06.94z\"/><path d=\"M17.41 7.96l-1.37-1.37c-.4-.4-.92-.59-1.43-.59-.52 0-1.04.2-1.43.59L10.3 9.45l-7.72 7.72c-.78.78-.78 2.05 0 2.83L4 21.41c.39.39.9.59 1.41.59.51 0 1.02-.2 1.41-.59l7.78-7.78 2.81-2.81c.8-.78.8-2.07 0-2.86zM5.41 20L4 18.59l7.72-7.72 1.47 1.35L5.41 20z\"/>\n",
              "  </svg>\n",
              "      </button>\n",
              "      \n",
              "  <style>\n",
              "    .colab-df-container {\n",
              "      display:flex;\n",
              "      flex-wrap:wrap;\n",
              "      gap: 12px;\n",
              "    }\n",
              "\n",
              "    .colab-df-convert {\n",
              "      background-color: #E8F0FE;\n",
              "      border: none;\n",
              "      border-radius: 50%;\n",
              "      cursor: pointer;\n",
              "      display: none;\n",
              "      fill: #1967D2;\n",
              "      height: 32px;\n",
              "      padding: 0 0 0 0;\n",
              "      width: 32px;\n",
              "    }\n",
              "\n",
              "    .colab-df-convert:hover {\n",
              "      background-color: #E2EBFA;\n",
              "      box-shadow: 0px 1px 2px rgba(60, 64, 67, 0.3), 0px 1px 3px 1px rgba(60, 64, 67, 0.15);\n",
              "      fill: #174EA6;\n",
              "    }\n",
              "\n",
              "    [theme=dark] .colab-df-convert {\n",
              "      background-color: #3B4455;\n",
              "      fill: #D2E3FC;\n",
              "    }\n",
              "\n",
              "    [theme=dark] .colab-df-convert:hover {\n",
              "      background-color: #434B5C;\n",
              "      box-shadow: 0px 1px 3px 1px rgba(0, 0, 0, 0.15);\n",
              "      filter: drop-shadow(0px 1px 2px rgba(0, 0, 0, 0.3));\n",
              "      fill: #FFFFFF;\n",
              "    }\n",
              "  </style>\n",
              "\n",
              "      <script>\n",
              "        const buttonEl =\n",
              "          document.querySelector('#df-c817c739-2ec8-41ad-885a-f91a12e789db button.colab-df-convert');\n",
              "        buttonEl.style.display =\n",
              "          google.colab.kernel.accessAllowed ? 'block' : 'none';\n",
              "\n",
              "        async function convertToInteractive(key) {\n",
              "          const element = document.querySelector('#df-c817c739-2ec8-41ad-885a-f91a12e789db');\n",
              "          const dataTable =\n",
              "            await google.colab.kernel.invokeFunction('convertToInteractive',\n",
              "                                                     [key], {});\n",
              "          if (!dataTable) return;\n",
              "\n",
              "          const docLinkHtml = 'Like what you see? Visit the ' +\n",
              "            '<a target=\"_blank\" href=https://colab.research.google.com/notebooks/data_table.ipynb>data table notebook</a>'\n",
              "            + ' to learn more about interactive tables.';\n",
              "          element.innerHTML = '';\n",
              "          dataTable['output_type'] = 'display_data';\n",
              "          await google.colab.output.renderOutput(dataTable, element);\n",
              "          const docLink = document.createElement('div');\n",
              "          docLink.innerHTML = docLinkHtml;\n",
              "          element.appendChild(docLink);\n",
              "        }\n",
              "      </script>\n",
              "    </div>\n",
              "  </div>\n",
              "  "
            ]
          },
          "metadata": {},
          "execution_count": 136
        }
      ]
    },
    {
      "cell_type": "markdown",
      "source": [
        "# Estacionariedad"
      ],
      "metadata": {
        "id": "Rta5dsR4V4sk"
      }
    },
    {
      "cell_type": "markdown",
      "source": [
        "## D y d"
      ],
      "metadata": {
        "id": "KvLDLbWUY1hU"
      }
    },
    {
      "cell_type": "markdown",
      "source": [
        "EVALUAMOS LA ESTACIONARIEDAD DE LOS DATOS"
      ],
      "metadata": {
        "id": "cytXIhTkWS-7"
      }
    },
    {
      "cell_type": "code",
      "source": [
        "df['log'] = np.log(df['Valor'])"
      ],
      "metadata": {
        "id": "0JBJkv7TWB5-"
      },
      "execution_count": 137,
      "outputs": []
    },
    {
      "cell_type": "code",
      "source": [
        "from statsmodels.tsa.stattools import adfuller\n",
        "d_test = adfuller(df['log'])\n",
        "print('p-value: %f' % d_test[1])"
      ],
      "metadata": {
        "colab": {
          "base_uri": "https://localhost:8080/"
        },
        "id": "68dHXhcQWFkr",
        "outputId": "63c6eec0-c496-4bb8-9d8d-b5adbd99ce68"
      },
      "execution_count": 138,
      "outputs": [
        {
          "output_type": "stream",
          "name": "stdout",
          "text": [
            "p-value: 0.693707\n"
          ]
        }
      ]
    },
    {
      "cell_type": "markdown",
      "source": [
        "CONTAMOS CON UN P-VALUE SUPERIOR AL 0.05, POR LO QUE NUESTRA VARIABLE NO ES ESTACIONARIA."
      ],
      "metadata": {
        "id": "zIvlyOZEWZhb"
      }
    },
    {
      "cell_type": "code",
      "source": [
        "df['Anual']= df['log']  - np.log(df['Valor']).shift(12)"
      ],
      "metadata": {
        "id": "E0Szv80yWMbc"
      },
      "execution_count": 139,
      "outputs": []
    },
    {
      "cell_type": "markdown",
      "source": [
        "COMPARAMOS LOS VALORES ANUALIZADOS RESTANDO EL ACTUAL MENOS EL DEL AÑO PASADO (D=1)"
      ],
      "metadata": {
        "id": "FfGJCBvgXQyL"
      }
    },
    {
      "cell_type": "code",
      "source": [
        "df"
      ],
      "metadata": {
        "colab": {
          "base_uri": "https://localhost:8080/",
          "height": 488
        },
        "id": "MGNSighmXEeT",
        "outputId": "1200408a-e663-4fa2-cdb7-93bca134afec"
      },
      "execution_count": 140,
      "outputs": [
        {
          "output_type": "execute_result",
          "data": {
            "text/plain": [
              "     Periodo       Valor       log     Anual\n",
              "0    1993/01   60.407691  4.101116       NaN\n",
              "1    1993/02   61.022521  4.111243       NaN\n",
              "2    1993/03   63.943249  4.157996       NaN\n",
              "3    1993/04   61.865984  4.124970       NaN\n",
              "4    1993/05   63.612900  4.152816       NaN\n",
              "..       ...         ...       ...       ...\n",
              "351  2022/04  109.529866  4.696197  0.013414\n",
              "352  2022/05  114.442424  4.740072  0.021001\n",
              "353  2022/06  112.797501  4.725594  0.014522\n",
              "354  2022/07  111.268587  4.711947  0.012578\n",
              "355  2022/08  113.320302  4.730218  0.055340\n",
              "\n",
              "[356 rows x 4 columns]"
            ],
            "text/html": [
              "\n",
              "  <div id=\"df-62973849-c5f3-4603-96f6-bda84140e3ad\">\n",
              "    <div class=\"colab-df-container\">\n",
              "      <div>\n",
              "<style scoped>\n",
              "    .dataframe tbody tr th:only-of-type {\n",
              "        vertical-align: middle;\n",
              "    }\n",
              "\n",
              "    .dataframe tbody tr th {\n",
              "        vertical-align: top;\n",
              "    }\n",
              "\n",
              "    .dataframe thead th {\n",
              "        text-align: right;\n",
              "    }\n",
              "</style>\n",
              "<table border=\"1\" class=\"dataframe\">\n",
              "  <thead>\n",
              "    <tr style=\"text-align: right;\">\n",
              "      <th></th>\n",
              "      <th>Periodo</th>\n",
              "      <th>Valor</th>\n",
              "      <th>log</th>\n",
              "      <th>Anual</th>\n",
              "    </tr>\n",
              "  </thead>\n",
              "  <tbody>\n",
              "    <tr>\n",
              "      <th>0</th>\n",
              "      <td>1993/01</td>\n",
              "      <td>60.407691</td>\n",
              "      <td>4.101116</td>\n",
              "      <td>NaN</td>\n",
              "    </tr>\n",
              "    <tr>\n",
              "      <th>1</th>\n",
              "      <td>1993/02</td>\n",
              "      <td>61.022521</td>\n",
              "      <td>4.111243</td>\n",
              "      <td>NaN</td>\n",
              "    </tr>\n",
              "    <tr>\n",
              "      <th>2</th>\n",
              "      <td>1993/03</td>\n",
              "      <td>63.943249</td>\n",
              "      <td>4.157996</td>\n",
              "      <td>NaN</td>\n",
              "    </tr>\n",
              "    <tr>\n",
              "      <th>3</th>\n",
              "      <td>1993/04</td>\n",
              "      <td>61.865984</td>\n",
              "      <td>4.124970</td>\n",
              "      <td>NaN</td>\n",
              "    </tr>\n",
              "    <tr>\n",
              "      <th>4</th>\n",
              "      <td>1993/05</td>\n",
              "      <td>63.612900</td>\n",
              "      <td>4.152816</td>\n",
              "      <td>NaN</td>\n",
              "    </tr>\n",
              "    <tr>\n",
              "      <th>...</th>\n",
              "      <td>...</td>\n",
              "      <td>...</td>\n",
              "      <td>...</td>\n",
              "      <td>...</td>\n",
              "    </tr>\n",
              "    <tr>\n",
              "      <th>351</th>\n",
              "      <td>2022/04</td>\n",
              "      <td>109.529866</td>\n",
              "      <td>4.696197</td>\n",
              "      <td>0.013414</td>\n",
              "    </tr>\n",
              "    <tr>\n",
              "      <th>352</th>\n",
              "      <td>2022/05</td>\n",
              "      <td>114.442424</td>\n",
              "      <td>4.740072</td>\n",
              "      <td>0.021001</td>\n",
              "    </tr>\n",
              "    <tr>\n",
              "      <th>353</th>\n",
              "      <td>2022/06</td>\n",
              "      <td>112.797501</td>\n",
              "      <td>4.725594</td>\n",
              "      <td>0.014522</td>\n",
              "    </tr>\n",
              "    <tr>\n",
              "      <th>354</th>\n",
              "      <td>2022/07</td>\n",
              "      <td>111.268587</td>\n",
              "      <td>4.711947</td>\n",
              "      <td>0.012578</td>\n",
              "    </tr>\n",
              "    <tr>\n",
              "      <th>355</th>\n",
              "      <td>2022/08</td>\n",
              "      <td>113.320302</td>\n",
              "      <td>4.730218</td>\n",
              "      <td>0.055340</td>\n",
              "    </tr>\n",
              "  </tbody>\n",
              "</table>\n",
              "<p>356 rows × 4 columns</p>\n",
              "</div>\n",
              "      <button class=\"colab-df-convert\" onclick=\"convertToInteractive('df-62973849-c5f3-4603-96f6-bda84140e3ad')\"\n",
              "              title=\"Convert this dataframe to an interactive table.\"\n",
              "              style=\"display:none;\">\n",
              "        \n",
              "  <svg xmlns=\"http://www.w3.org/2000/svg\" height=\"24px\"viewBox=\"0 0 24 24\"\n",
              "       width=\"24px\">\n",
              "    <path d=\"M0 0h24v24H0V0z\" fill=\"none\"/>\n",
              "    <path d=\"M18.56 5.44l.94 2.06.94-2.06 2.06-.94-2.06-.94-.94-2.06-.94 2.06-2.06.94zm-11 1L8.5 8.5l.94-2.06 2.06-.94-2.06-.94L8.5 2.5l-.94 2.06-2.06.94zm10 10l.94 2.06.94-2.06 2.06-.94-2.06-.94-.94-2.06-.94 2.06-2.06.94z\"/><path d=\"M17.41 7.96l-1.37-1.37c-.4-.4-.92-.59-1.43-.59-.52 0-1.04.2-1.43.59L10.3 9.45l-7.72 7.72c-.78.78-.78 2.05 0 2.83L4 21.41c.39.39.9.59 1.41.59.51 0 1.02-.2 1.41-.59l7.78-7.78 2.81-2.81c.8-.78.8-2.07 0-2.86zM5.41 20L4 18.59l7.72-7.72 1.47 1.35L5.41 20z\"/>\n",
              "  </svg>\n",
              "      </button>\n",
              "      \n",
              "  <style>\n",
              "    .colab-df-container {\n",
              "      display:flex;\n",
              "      flex-wrap:wrap;\n",
              "      gap: 12px;\n",
              "    }\n",
              "\n",
              "    .colab-df-convert {\n",
              "      background-color: #E8F0FE;\n",
              "      border: none;\n",
              "      border-radius: 50%;\n",
              "      cursor: pointer;\n",
              "      display: none;\n",
              "      fill: #1967D2;\n",
              "      height: 32px;\n",
              "      padding: 0 0 0 0;\n",
              "      width: 32px;\n",
              "    }\n",
              "\n",
              "    .colab-df-convert:hover {\n",
              "      background-color: #E2EBFA;\n",
              "      box-shadow: 0px 1px 2px rgba(60, 64, 67, 0.3), 0px 1px 3px 1px rgba(60, 64, 67, 0.15);\n",
              "      fill: #174EA6;\n",
              "    }\n",
              "\n",
              "    [theme=dark] .colab-df-convert {\n",
              "      background-color: #3B4455;\n",
              "      fill: #D2E3FC;\n",
              "    }\n",
              "\n",
              "    [theme=dark] .colab-df-convert:hover {\n",
              "      background-color: #434B5C;\n",
              "      box-shadow: 0px 1px 3px 1px rgba(0, 0, 0, 0.15);\n",
              "      filter: drop-shadow(0px 1px 2px rgba(0, 0, 0, 0.3));\n",
              "      fill: #FFFFFF;\n",
              "    }\n",
              "  </style>\n",
              "\n",
              "      <script>\n",
              "        const buttonEl =\n",
              "          document.querySelector('#df-62973849-c5f3-4603-96f6-bda84140e3ad button.colab-df-convert');\n",
              "        buttonEl.style.display =\n",
              "          google.colab.kernel.accessAllowed ? 'block' : 'none';\n",
              "\n",
              "        async function convertToInteractive(key) {\n",
              "          const element = document.querySelector('#df-62973849-c5f3-4603-96f6-bda84140e3ad');\n",
              "          const dataTable =\n",
              "            await google.colab.kernel.invokeFunction('convertToInteractive',\n",
              "                                                     [key], {});\n",
              "          if (!dataTable) return;\n",
              "\n",
              "          const docLinkHtml = 'Like what you see? Visit the ' +\n",
              "            '<a target=\"_blank\" href=https://colab.research.google.com/notebooks/data_table.ipynb>data table notebook</a>'\n",
              "            + ' to learn more about interactive tables.';\n",
              "          element.innerHTML = '';\n",
              "          dataTable['output_type'] = 'display_data';\n",
              "          await google.colab.output.renderOutput(dataTable, element);\n",
              "          const docLink = document.createElement('div');\n",
              "          docLink.innerHTML = docLinkHtml;\n",
              "          element.appendChild(docLink);\n",
              "        }\n",
              "      </script>\n",
              "    </div>\n",
              "  </div>\n",
              "  "
            ]
          },
          "metadata": {},
          "execution_count": 140
        }
      ]
    },
    {
      "cell_type": "code",
      "source": [
        "df2 = df.copy()"
      ],
      "metadata": {
        "id": "LO0vaKNFXNOb"
      },
      "execution_count": 141,
      "outputs": []
    },
    {
      "cell_type": "code",
      "source": [
        "df2 = df2.dropna()"
      ],
      "metadata": {
        "id": "76ncFeIWX4gT"
      },
      "execution_count": 142,
      "outputs": []
    },
    {
      "cell_type": "markdown",
      "source": [
        "DROPEAMOS LOS VALORES NULOS PARA REALIZAR LAS OPERACIONES"
      ],
      "metadata": {
        "id": "hLmptCcdXrZb"
      }
    },
    {
      "cell_type": "code",
      "source": [
        "from statsmodels.tsa.stattools import adfuller\n",
        "d_test = adfuller(df2['Anual'])\n",
        "print('p-value: %f' % d_test[1])"
      ],
      "metadata": {
        "colab": {
          "base_uri": "https://localhost:8080/"
        },
        "id": "dL4fQnt-X__9",
        "outputId": "9ae5e37c-f957-40e6-ac55-3afeb9b750aa"
      },
      "execution_count": 143,
      "outputs": [
        {
          "output_type": "stream",
          "name": "stdout",
          "text": [
            "p-value: 0.003200\n"
          ]
        }
      ]
    },
    {
      "cell_type": "markdown",
      "source": [
        "NUESTRA VARIABLE YA ES ESTACIONARIA, YA QUE CUENTA CON UN P-VALUE MENOR A 0.05.\n",
        "POR LO TANTO DE VALORES TENEMOS QUE D=1 Y d=0"
      ],
      "metadata": {
        "id": "KBu3aoL3YIuL"
      }
    },
    {
      "cell_type": "code",
      "source": [
        "D = 1\n",
        "d = 0"
      ],
      "metadata": {
        "id": "scDdM521YGFd"
      },
      "execution_count": 144,
      "outputs": []
    },
    {
      "cell_type": "markdown",
      "source": [
        "## p y q"
      ],
      "metadata": {
        "id": "xN7TQC9FY4oT"
      }
    },
    {
      "cell_type": "code",
      "source": [
        "plot_acf(df2.Anual, lags = 12)"
      ],
      "metadata": {
        "colab": {
          "base_uri": "https://localhost:8080/",
          "height": 72
        },
        "id": "mqxwQRylY_ki",
        "outputId": "a0b60491-65b8-4393-995b-bf2e1f944f04"
      },
      "execution_count": 145,
      "outputs": [
        {
          "output_type": "execute_result",
          "data": {
            "text/plain": [
              "<Figure size 432x288 with 1 Axes>"
            ],
            "image/png": "[encoded data removed]"
          },
          "metadata": {},
          "execution_count": 145
        },
        {
          "output_type": "display_data",
          "data": {
            "text/plain": [
              "<Figure size 432x288 with 1 Axes>"
            ],
            "image/png": "[encoded data removed]"
          },
          "metadata": {
            "needs_background": "light"
          }
        }
      ]
    },
    {
      "cell_type": "code",
      "source": [
        "plot_pacf(df2.Anual, lags = 12)"
      ],
      "metadata": {
        "colab": {
          "base_uri": "https://localhost:8080/",
          "height": 72
        },
        "id": "L1HQRQGRZIID",
        "outputId": "fa73aeb7-76e2-4354-a21a-9a9ca4aecd71"
      },
      "execution_count": 146,
      "outputs": [
        {
          "output_type": "execute_result",
          "data": {
            "text/plain": [
              "<Figure size 432x288 with 1 Axes>"
            ],
            "image/png": "[encoded data removed]"
          },
          "metadata": {},
          "execution_count": 146
        },
        {
          "output_type": "display_data",
          "data": {
            "text/plain": [
              "<Figure size 432x288 with 1 Axes>"
            ],
            "image/png": "[encoded data removed]"
          },
          "metadata": {
            "needs_background": "light"
          }
        }
      ]
    },
    {
      "cell_type": "markdown",
      "source": [
        "LA RELACIÓN ES SIGNIFICATIVA CON EL REGISTRO ANTERIOR RESPECTO AL SIGUIENTE.\n",
        "\n",
        "POR LO TANTO, EL VALOR DE p = 1, MIENTRAS QUE q = 0"
      ],
      "metadata": {
        "id": "8ERhErmaZqwJ"
      }
    },
    {
      "cell_type": "code",
      "source": [
        "p = 1\n",
        "q = 0"
      ],
      "metadata": {
        "id": "Eqa7m96oZNcU"
      },
      "execution_count": 147,
      "outputs": []
    },
    {
      "cell_type": "markdown",
      "source": [
        "# Modelo SARIMA 1 (p = 1, d = 0, q = 0)(P = 0, D = 1, Q = 0)"
      ],
      "metadata": {
        "id": "JtMNcXN_aRoy"
      }
    },
    {
      "cell_type": "markdown",
      "source": [
        "ASIGNAMOS CON 0 AL RESTO DE LAS VARIABLES (P Y Q)"
      ],
      "metadata": {
        "id": "uZqcNrA6altn"
      }
    },
    {
      "cell_type": "code",
      "source": [
        "P = 0\n",
        "Q = 0"
      ],
      "metadata": {
        "id": "9eza5G_taPuv"
      },
      "execution_count": 148,
      "outputs": []
    },
    {
      "cell_type": "code",
      "source": [
        "model_1 = sm.tsa.statespace.SARIMAX(df['log'], order=(p,d,q), seasonal_order = (P,D,Q,12), trend='c',  simple_differencing=True)"
      ],
      "metadata": {
        "id": "u9BlCozZa6pz"
      },
      "execution_count": 149,
      "outputs": []
    },
    {
      "cell_type": "code",
      "source": [
        "model_1_summ = model_1.fit(disp = 0)"
      ],
      "metadata": {
        "id": "zxP9jXXfbPJQ"
      },
      "execution_count": 150,
      "outputs": []
    },
    {
      "cell_type": "code",
      "source": [
        "print(model_1_summ.summary())"
      ],
      "metadata": {
        "colab": {
          "base_uri": "https://localhost:8080/"
        },
        "id": "p49iwKRFbXRh",
        "outputId": "4089252d-8ca6-4376-b920-a567a23e83df"
      },
      "execution_count": 151,
      "outputs": [
        {
          "output_type": "stream",
          "name": "stdout",
          "text": [
            "                                     SARIMAX Results                                      \n",
            "==========================================================================================\n",
            "Dep. Variable:                           DS12.log   No. Observations:                  344\n",
            "Model:             SARIMAX(1, 0, 0)x(0, 0, 0, 12)   Log Likelihood                 743.273\n",
            "Date:                            Thu, 17 Nov 2022   AIC                          -1480.546\n",
            "Time:                                    07:41:32   BIC                          -1469.024\n",
            "Sample:                                         0   HQIC                         -1475.957\n",
            "                                            - 344                                         \n",
            "Covariance Type:                              opg                                         \n",
            "==============================================================================\n",
            "                 coef    std err          z      P>|z|      [0.025      0.975]\n",
            "------------------------------------------------------------------------------\n",
            "intercept      0.0043      0.002      2.822      0.005       0.001       0.007\n",
            "ar.L1          0.7901      0.022     36.704      0.000       0.748       0.832\n",
            "sigma2         0.0008    2.1e-05     36.869      0.000       0.001       0.001\n",
            "===================================================================================\n",
            "Ljung-Box (L1) (Q):                   0.41   Jarque-Bera (JB):              3022.66\n",
            "Prob(Q):                              0.52   Prob(JB):                         0.00\n",
            "Heteroskedasticity (H):               2.26   Skew:                            -0.44\n",
            "Prob(H) (two-sided):                  0.00   Kurtosis:                        17.50\n",
            "===================================================================================\n",
            "\n",
            "Warnings:\n",
            "[1] Covariance matrix calculated using the outer product of gradients (complex-step).\n"
          ]
        }
      ]
    },
    {
      "cell_type": "markdown",
      "source": [
        "SE PUEDE VER QUE TENEMOS P-VALUES MENORES A 0.05, CON UNA MAGNITUD DE 0.7901 PARA EL LAG 1, ASÍ COMO UN INTERCEPT DE 0.0043"
      ],
      "metadata": {
        "id": "A0mQu4PqbcO5"
      }
    },
    {
      "cell_type": "code",
      "source": [
        "plot_acf(model_1_summ.resid, lags = 12)"
      ],
      "metadata": {
        "colab": {
          "base_uri": "https://localhost:8080/",
          "height": 72
        },
        "id": "E1eZzn-3baK-",
        "outputId": "dd3a33a6-770d-43bd-eb50-49c40694ec8a"
      },
      "execution_count": 152,
      "outputs": [
        {
          "output_type": "execute_result",
          "data": {
            "text/plain": [
              "<Figure size 432x288 with 1 Axes>"
            ],
            "image/png": "[encoded data removed]"
          },
          "metadata": {},
          "execution_count": 152
        },
        {
          "output_type": "display_data",
          "data": {
            "text/plain": [
              "<Figure size 432x288 with 1 Axes>"
            ],
            "image/png": "[encoded data removed]"
          },
          "metadata": {
            "needs_background": "light"
          }
        }
      ]
    },
    {
      "cell_type": "code",
      "source": [
        "plot_pacf(model_1_summ.resid, lags = 12)"
      ],
      "metadata": {
        "colab": {
          "base_uri": "https://localhost:8080/",
          "height": 72
        },
        "id": "cQqRQdODdVhW",
        "outputId": "8921ebc4-67c0-4716-beda-948e1ade7a3d"
      },
      "execution_count": 153,
      "outputs": [
        {
          "output_type": "execute_result",
          "data": {
            "text/plain": [
              "<Figure size 432x288 with 1 Axes>"
            ],
            "image/png": "[encoded data removed]"
          },
          "metadata": {},
          "execution_count": 153
        },
        {
          "output_type": "display_data",
          "data": {
            "text/plain": [
              "<Figure size 432x288 with 1 Axes>"
            ],
            "image/png": "[encoded data removed]"
          },
          "metadata": {
            "needs_background": "light"
          }
        }
      ]
    },
    {
      "cell_type": "markdown",
      "source": [
        "APLICANDO LOS DIAGRAMAS DE AUTOCORRELACIÓN Y AUTOCORRELACIÓN PARCIAL A LOS ERRORES SE PUEDE VER UNA AUTOCORRELACIÓN NEGATIVA EN EL LAG 12. PARA ESTOS CASOS LA MEJOR FORMA DE SOLUCIONAR EL MODELO ES AÑADIENDO UNA Q DE 1."
      ],
      "metadata": {
        "id": "Zk7sQUHOdg_-"
      }
    },
    {
      "cell_type": "markdown",
      "source": [
        "# Modelo SARIMA 2 (p = 1, d = 0, q = 0)(P = 0, D = 1, Q = 1)"
      ],
      "metadata": {
        "id": "OgXB5yBFeT_3"
      }
    },
    {
      "cell_type": "markdown",
      "source": [
        "CAMBIAMOS EL VALOR DE Q DE 0 A 1"
      ],
      "metadata": {
        "id": "z46hNUuneT_4"
      }
    },
    {
      "cell_type": "code",
      "source": [
        "Q = 1"
      ],
      "metadata": {
        "id": "44IV3D9eeT_6"
      },
      "execution_count": 154,
      "outputs": []
    },
    {
      "cell_type": "code",
      "source": [
        "model_2 = sm.tsa.statespace.SARIMAX(df['log'], order=(p,d,q), seasonal_order = (P,D,Q,12), trend='c',  simple_differencing=True)"
      ],
      "metadata": {
        "id": "eFr1QbzleT_7"
      },
      "execution_count": 155,
      "outputs": []
    },
    {
      "cell_type": "code",
      "source": [
        "model_2_summ = model_2.fit(disp = 0)"
      ],
      "metadata": {
        "id": "9eZgTwcaeT_8"
      },
      "execution_count": 156,
      "outputs": []
    },
    {
      "cell_type": "code",
      "source": [
        "print(model_2_summ.summary())"
      ],
      "metadata": {
        "colab": {
          "base_uri": "https://localhost:8080/"
        },
        "outputId": "90d2dd8c-b47c-407e-fc44-1aec122e2038",
        "id": "2bnbHzyFeT_9"
      },
      "execution_count": 157,
      "outputs": [
        {
          "output_type": "stream",
          "name": "stdout",
          "text": [
            "                                      SARIMAX Results                                       \n",
            "============================================================================================\n",
            "Dep. Variable:                             DS12.log   No. Observations:                  344\n",
            "Model:             SARIMAX(1, 0, 0)x(0, 0, [1], 12)   Log Likelihood                 808.522\n",
            "Date:                              Thu, 17 Nov 2022   AIC                          -1609.044\n",
            "Time:                                      07:41:34   BIC                          -1593.682\n",
            "Sample:                                           0   HQIC                         -1602.926\n",
            "                                              - 344                                         \n",
            "Covariance Type:                                opg                                         \n",
            "==============================================================================\n",
            "                 coef    std err          z      P>|z|      [0.025      0.975]\n",
            "------------------------------------------------------------------------------\n",
            "intercept      0.0025      0.000      6.357      0.000       0.002       0.003\n",
            "ar.L1          0.8780      0.019     46.431      0.000       0.841       0.915\n",
            "ma.S.L12      -0.8411      0.047    -17.905      0.000      -0.933      -0.749\n",
            "sigma2         0.0005   1.33e-05     38.330      0.000       0.000       0.001\n",
            "===================================================================================\n",
            "Ljung-Box (L1) (Q):                   4.58   Jarque-Bera (JB):              7867.52\n",
            "Prob(Q):                              0.03   Prob(JB):                         0.00\n",
            "Heteroskedasticity (H):               2.09   Skew:                            -2.31\n",
            "Prob(H) (two-sided):                  0.00   Kurtosis:                        25.97\n",
            "===================================================================================\n",
            "\n",
            "Warnings:\n",
            "[1] Covariance matrix calculated using the outer product of gradients (complex-step).\n"
          ]
        }
      ]
    },
    {
      "cell_type": "code",
      "source": [
        "plot_acf(model_2_summ.resid, lags = 12)"
      ],
      "metadata": {
        "colab": {
          "base_uri": "https://localhost:8080/",
          "height": 72
        },
        "outputId": "5e90bc4b-7c67-4ac3-dcd2-2deba6972bca",
        "id": "DNfZKLwCeT__"
      },
      "execution_count": 158,
      "outputs": [
        {
          "output_type": "execute_result",
          "data": {
            "text/plain": [
              "<Figure size 432x288 with 1 Axes>"
            ],
            "image/png": "[encoded data removed]"
          },
          "metadata": {},
          "execution_count": 158
        },
        {
          "output_type": "display_data",
          "data": {
            "text/plain": [
              "<Figure size 432x288 with 1 Axes>"
            ],
            "image/png": "[encoded data removed]"
          },
          "metadata": {
            "needs_background": "light"
          }
        }
      ]
    },
    {
      "cell_type": "code",
      "source": [
        "plot_pacf(model_2_summ.resid, lags = 12)"
      ],
      "metadata": {
        "colab": {
          "base_uri": "https://localhost:8080/",
          "height": 72
        },
        "outputId": "34dda8c8-99c0-4d73-87bf-9e5de23d14fe",
        "id": "1SPb5szAeUAA"
      },
      "execution_count": 159,
      "outputs": [
        {
          "output_type": "execute_result",
          "data": {
            "text/plain": [
              "<Figure size 432x288 with 1 Axes>"
            ],
            "image/png": "[encoded data removed]"
          },
          "metadata": {},
          "execution_count": 159
        },
        {
          "output_type": "display_data",
          "data": {
            "text/plain": [
              "<Figure size 432x288 with 1 Axes>"
            ],
            "image/png": "[encoded data removed]"
          },
          "metadata": {
            "needs_background": "light"
          }
        }
      ]
    },
    {
      "cell_type": "markdown",
      "source": [
        "APLICANDO LOS DIAGRAMAS DE AUTOCORRELACIÓN Y AUTOCORRELACIÓN PARCIAL A LOS ERRORES AHORA SE PUEDE VER QUE EL LAG 12 YA SE ENCUENTRA EN EL ÁREA DE SIGNIFICANCIA. SIN EMBARGO,  AUN HAY FACTORES QUE PODRÍAMOS EXPLORAR, COMO BIEN PUEDE SER CAMBIAR A UNA q DE 1."
      ],
      "metadata": {
        "id": "Fl_j9QY4eUAA"
      }
    },
    {
      "cell_type": "markdown",
      "source": [
        "# Modelo SARIMA 3 (p = 1, d = 0, q = 1)(P = 0, D = 1, Q = 1)"
      ],
      "metadata": {
        "id": "-Ak-5S4kgaGc"
      }
    },
    {
      "cell_type": "markdown",
      "source": [
        "CAMBIAMOS EL VALOR DE q DE 0 A 1"
      ],
      "metadata": {
        "id": "IfLRkPYMgaGe"
      }
    },
    {
      "cell_type": "code",
      "source": [
        "q = 1"
      ],
      "metadata": {
        "id": "rj3FeHwkgaGf"
      },
      "execution_count": 160,
      "outputs": []
    },
    {
      "cell_type": "code",
      "source": [
        "model_3 = sm.tsa.statespace.SARIMAX(df['log'], order=(p,d,q), seasonal_order = (P,D,Q,12), trend='c',  simple_differencing=True)"
      ],
      "metadata": {
        "id": "iRYHai5TgaGg"
      },
      "execution_count": 161,
      "outputs": []
    },
    {
      "cell_type": "code",
      "source": [
        "model_3_summ = model_3.fit(disp = 0)"
      ],
      "metadata": {
        "id": "za7nX51RgaGh"
      },
      "execution_count": 162,
      "outputs": []
    },
    {
      "cell_type": "code",
      "source": [
        "print(model_3_summ.summary())"
      ],
      "metadata": {
        "colab": {
          "base_uri": "https://localhost:8080/"
        },
        "outputId": "d7508bbe-a986-4d53-c87b-a467fa756142",
        "id": "p2jkvAVMgaGi"
      },
      "execution_count": 163,
      "outputs": [
        {
          "output_type": "stream",
          "name": "stdout",
          "text": [
            "                                     SARIMAX Results                                      \n",
            "==========================================================================================\n",
            "Dep. Variable:                           DS12.log   No. Observations:                  344\n",
            "Model:             SARIMAX(1, 0, 1)x(0, 0, 1, 12)   Log Likelihood                 812.379\n",
            "Date:                            Thu, 17 Nov 2022   AIC                          -1614.759\n",
            "Time:                                    07:41:37   BIC                          -1595.555\n",
            "Sample:                                         0   HQIC                         -1607.110\n",
            "                                            - 344                                         \n",
            "Covariance Type:                              opg                                         \n",
            "==============================================================================\n",
            "                 coef    std err          z      P>|z|      [0.025      0.975]\n",
            "------------------------------------------------------------------------------\n",
            "intercept      0.0016      0.000      3.389      0.001       0.001       0.002\n",
            "ar.L1          0.9232      0.022     42.050      0.000       0.880       0.966\n",
            "ma.L1         -0.1977      0.037     -5.395      0.000      -0.269      -0.126\n",
            "ma.S.L12      -0.8416      0.045    -18.511      0.000      -0.931      -0.752\n",
            "sigma2         0.0005    1.3e-05     38.149      0.000       0.000       0.001\n",
            "===================================================================================\n",
            "Ljung-Box (L1) (Q):                   0.09   Jarque-Bera (JB):             10464.02\n",
            "Prob(Q):                              0.76   Prob(JB):                         0.00\n",
            "Heteroskedasticity (H):               2.35   Skew:                            -2.74\n",
            "Prob(H) (two-sided):                  0.00   Kurtosis:                        29.46\n",
            "===================================================================================\n",
            "\n",
            "Warnings:\n",
            "[1] Covariance matrix calculated using the outer product of gradients (complex-step).\n"
          ]
        }
      ]
    },
    {
      "cell_type": "code",
      "source": [
        "plot_acf(model_3_summ.resid, lags = 12)"
      ],
      "metadata": {
        "colab": {
          "base_uri": "https://localhost:8080/",
          "height": 545
        },
        "outputId": "4e0eb8c2-993d-440e-fedd-7e4c98fbfb18",
        "id": "xzuhworBgaGj"
      },
      "execution_count": 164,
      "outputs": [
        {
          "output_type": "execute_result",
          "data": {
            "text/plain": [
              "<Figure size 432x288 with 1 Axes>"
            ],
            "image/png": "[encoded data removed]"
          },
          "metadata": {},
          "execution_count": 164
        },
        {
          "output_type": "display_data",
          "data": {
            "text/plain": [
              "<Figure size 432x288 with 1 Axes>"
            ],
            "image/png": "[encoded data removed]"
          },
          "metadata": {
            "needs_background": "light"
          }
        }
      ]
    },
    {
      "cell_type": "code",
      "source": [
        "plot_pacf(model_3_summ.resid, lags = 12)"
      ],
      "metadata": {
        "colab": {
          "base_uri": "https://localhost:8080/",
          "height": 545
        },
        "outputId": "c9a394f5-1803-40f6-9de6-04da00b9db2b",
        "id": "24KNU1Y-gaGk"
      },
      "execution_count": 165,
      "outputs": [
        {
          "output_type": "execute_result",
          "data": {
            "text/plain": [
              "<Figure size 432x288 with 1 Axes>"
            ],
            "image/png": "[encoded data removed]"
          },
          "metadata": {},
          "execution_count": 165
        },
        {
          "output_type": "display_data",
          "data": {
            "text/plain": [
              "<Figure size 432x288 with 1 Axes>"
            ],
            "image/png": "[encoded data removed]"
          },
          "metadata": {
            "needs_background": "light"
          }
        }
      ]
    },
    {
      "cell_type": "markdown",
      "source": [
        "APLICANDO LOS DIAGRAMAS DE AUTOCORRELACIÓN Y AUTOCORRELACIÓN PARCIAL A LOS ERRORES EN ESTE TECER MODELO PODRÍAMOS CONSIDERAR QUE LLEGAMOS AL WHITE NOISE, DONDE NO HAY MÁS VARIABLES SIGNIFICATIVAS.\n",
        "\n",
        "ADEMÁS, TODAS LAS VARIABLES CUMPLEN CON LA REGLA DE TENER UN P-VALUE MENOR AL 0.05.\n",
        "\n",
        "TENEMOS VALORES DE AR DE 0.9232, MA'S DE -0.1977 Y -0.8416, ASÍ COMO UN INTERCEPT DE 0.0016."
      ],
      "metadata": {
        "id": "5zHkkIAsgaGk"
      }
    },
    {
      "cell_type": "markdown",
      "source": [
        "# Modelo de predicción"
      ],
      "metadata": {
        "id": "6xjDCusLh5US"
      }
    },
    {
      "cell_type": "markdown",
      "source": [
        "TENIENDO EL MODELO CALIBRADO PODEMOS REALIZAR NUESTRAS PREDICCIONES HASTA EL CIERRE DEL SEXENIO ACTUAL (SEP 2024)."
      ],
      "metadata": {
        "id": "otyL2kL4ipmF"
      }
    },
    {
      "cell_type": "code",
      "source": [
        "final_model = sm.tsa.statespace.SARIMAX(df['Valor'], order=(p,d,q), seasonal_order = (P,D,Q,12),  trend='c')\n",
        "final_model_summ = final_model.fit()"
      ],
      "metadata": {
        "id": "-VMYLuJmh63N"
      },
      "execution_count": 166,
      "outputs": []
    },
    {
      "cell_type": "code",
      "source": [
        "y = final_model_summ.predict(start=0, end=(len(df)+25))"
      ],
      "metadata": {
        "id": "SHyawHFbjG1S"
      },
      "execution_count": 167,
      "outputs": []
    },
    {
      "cell_type": "code",
      "source": [
        "df = df[['Valor', 'Periodo']]"
      ],
      "metadata": {
        "id": "vj0lRDCqjcAB"
      },
      "execution_count": 168,
      "outputs": []
    },
    {
      "cell_type": "markdown",
      "source": [
        "CAMPOS PARA LAS PREDICCIONES"
      ],
      "metadata": {
        "id": "6CcshAjDkJcr"
      }
    },
    {
      "cell_type": "code",
      "source": [
        "df = df.append(pd.Series([math.nan,'2022/09'], index=['Valor','Periodo']), ignore_index=True)\n",
        "df = df.append(pd.Series([math.nan,'2022/10'], index=['Valor','Periodo']), ignore_index=True)\n",
        "df = df.append(pd.Series([math.nan,'2022/11'], index=['Valor','Periodo']), ignore_index=True)\n",
        "df = df.append(pd.Series([math.nan,'2022/12'], index=['Valor','Periodo']), ignore_index=True)\n",
        "df = df.append(pd.Series([math.nan,'2023/01'], index=['Valor','Periodo']), ignore_index=True)\n",
        "df = df.append(pd.Series([math.nan,'2023/02'], index=['Valor','Periodo']), ignore_index=True)\n",
        "df = df.append(pd.Series([math.nan,'2023/03'], index=['Valor','Periodo']), ignore_index=True)\n",
        "df = df.append(pd.Series([math.nan,'2023/04'], index=['Valor','Periodo']), ignore_index=True)\n",
        "df = df.append(pd.Series([math.nan,'2023/05'], index=['Valor','Periodo']), ignore_index=True)\n",
        "df = df.append(pd.Series([math.nan,'2023/06'], index=['Valor','Periodo']), ignore_index=True)\n",
        "df = df.append(pd.Series([math.nan,'2023/07'], index=['Valor','Periodo']), ignore_index=True)\n",
        "df = df.append(pd.Series([math.nan,'2023/08'], index=['Valor','Periodo']), ignore_index=True)\n",
        "df = df.append(pd.Series([math.nan,'2023/09'], index=['Valor','Periodo']), ignore_index=True)\n",
        "df = df.append(pd.Series([math.nan,'2023/10'], index=['Valor','Periodo']), ignore_index=True)\n",
        "df = df.append(pd.Series([math.nan,'2023/11'], index=['Valor','Periodo']), ignore_index=True)\n",
        "df = df.append(pd.Series([math.nan,'2023/12'], index=['Valor','Periodo']), ignore_index=True)\n",
        "df = df.append(pd.Series([math.nan,'2024/01'], index=['Valor','Periodo']), ignore_index=True)\n",
        "df = df.append(pd.Series([math.nan,'2024/02'], index=['Valor','Periodo']), ignore_index=True)\n",
        "df = df.append(pd.Series([math.nan,'2024/03'], index=['Valor','Periodo']), ignore_index=True)\n",
        "df = df.append(pd.Series([math.nan,'2024/04'], index=['Valor','Periodo']), ignore_index=True)\n",
        "df = df.append(pd.Series([math.nan,'2024/05'], index=['Valor','Periodo']), ignore_index=True)\n",
        "df = df.append(pd.Series([math.nan,'2024/06'], index=['Valor','Periodo']), ignore_index=True)\n",
        "df = df.append(pd.Series([math.nan,'2024/07'], index=['Valor','Periodo']), ignore_index=True)\n",
        "df = df.append(pd.Series([math.nan,'2024/08'], index=['Valor','Periodo']), ignore_index=True)\n",
        "df = df.append(pd.Series([math.nan,'2024/09'], index=['Valor','Periodo']), ignore_index=True)"
      ],
      "metadata": {
        "id": "vEFwTXCUjhRJ"
      },
      "execution_count": 170,
      "outputs": []
    },
    {
      "cell_type": "code",
      "source": [
        "df['Predict'] = y"
      ],
      "metadata": {
        "id": "61xjh6-OkPXQ"
      },
      "execution_count": 171,
      "outputs": []
    },
    {
      "cell_type": "code",
      "source": [
        "df = df.reset_index(drop = True)\n",
        "df = df.set_index(['Periodo'], drop=True)"
      ],
      "metadata": {
        "id": "52gMu7APkV_k"
      },
      "execution_count": 172,
      "outputs": []
    },
    {
      "cell_type": "markdown",
      "source": [
        "## GRÁFICA DE PREDICCIÓN HISTÓRICA"
      ],
      "metadata": {
        "id": "wvH9SDLHkzqS"
      }
    },
    {
      "cell_type": "code",
      "source": [
        "df.iloc[12:].plot()"
      ],
      "metadata": {
        "colab": {
          "base_uri": "https://localhost:8080/",
          "height": 297
        },
        "id": "5u3mGCNBkZKQ",
        "outputId": "3bb11190-5407-4e57-d5ae-420315cf7ee7"
      },
      "execution_count": 176,
      "outputs": [
        {
          "output_type": "execute_result",
          "data": {
            "text/plain": [
              "<matplotlib.axes._subplots.AxesSubplot at 0x7f760c0a0090>"
            ]
          },
          "metadata": {},
          "execution_count": 176
        },
        {
          "output_type": "display_data",
          "data": {
            "text/plain": [
              "<Figure size 432x288 with 1 Axes>"
            ],
            "image/png": "[encoded data removed]"
          },
          "metadata": {
            "needs_background": "light"
          }
        }
      ]
    },
    {
      "cell_type": "markdown",
      "source": [
        "![imagen.png](data:image/png;base64,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)"
      ],
      "metadata": {
        "id": "b4z6sVS3mtNI"
      }
    },
    {
      "cell_type": "markdown",
      "source": [
        "## GRÁFICA DE PREDICCIÓN A CIERRE DE SEXENIO"
      ],
      "metadata": {
        "id": "RRZb52Gck8kA"
      }
    },
    {
      "cell_type": "code",
      "source": [
        "df.iloc[350:].plot()"
      ],
      "metadata": {
        "colab": {
          "base_uri": "https://localhost:8080/",
          "height": 297
        },
        "id": "WbB5b_4Zk7Fo",
        "outputId": "85d1ceab-2716-4a05-864e-a17d2dfad528"
      },
      "execution_count": 180,
      "outputs": [
        {
          "output_type": "execute_result",
          "data": {
            "text/plain": [
              "<matplotlib.axes._subplots.AxesSubplot at 0x7f760bf58bd0>"
            ]
          },
          "metadata": {},
          "execution_count": 180
        },
        {
          "output_type": "display_data",
          "data": {
            "text/plain": [
              "<Figure size 432x288 with 1 Axes>"
            ],
            "image/png": "[encoded data removed]"
          },
          "metadata": {
            "needs_background": "light"
          }
        }
      ]
    },
    {
      "cell_type": "markdown",
      "source": [
        "![imagen.png](data:image/png;base64,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)"
      ],
      "metadata": {
        "id": "t3eIy4iOmp3e"
      }
    },
    {
      "cell_type": "markdown",
      "source": [
        "## TABLA DE PREDICCIÓN A CIERRE DE SEXENIO"
      ],
      "metadata": {
        "id": "AgyTwGvUmPiI"
      }
    },
    {
      "cell_type": "code",
      "source": [
        "df.iloc[350:]"
      ],
      "metadata": {
        "colab": {
          "base_uri": "https://localhost:8080/",
          "height": 1000
        },
        "id": "oaiFRlj8lDmR",
        "outputId": "3af047ab-ba90-41db-f51d-1245ad00c366"
      },
      "execution_count": 181,
      "outputs": [
        {
          "output_type": "execute_result",
          "data": {
            "text/plain": [
              "              Valor     Predict\n",
              "Periodo                        \n",
              "2022/03  111.940152  110.545185\n",
              "2022/04  109.529866  107.307898\n",
              "2022/05  114.442424  112.817929\n",
              "2022/06  112.797501  114.889867\n",
              "2022/07  111.268587  113.209387\n",
              "2022/08  113.320302  111.768566\n",
              "2022/09         NaN  110.526705\n",
              "2022/10         NaN  116.144827\n",
              "2022/11         NaN  118.350126\n",
              "2022/12         NaN  117.040367\n",
              "2023/01         NaN  113.530171\n",
              "2023/02         NaN  111.082870\n",
              "2023/03         NaN  116.123995\n",
              "2023/04         NaN  111.806114\n",
              "2023/05         NaN  115.622564\n",
              "2023/06         NaN  115.957012\n",
              "2023/07         NaN  115.580637\n",
              "2023/08         NaN  115.828451\n",
              "2023/09         NaN  113.148850\n",
              "2023/10         NaN  118.669124\n",
              "2023/11         NaN  120.787815\n",
              "2023/12         NaN  119.401398\n",
              "2024/01         NaN  115.823348\n",
              "2024/02         NaN  113.315989\n",
              "2024/03         NaN  118.303955\n",
              "2024/04         NaN  113.939021\n",
              "2024/05         NaN  117.713822\n",
              "2024/06         NaN  118.011406\n",
              "2024/07         NaN  117.602402\n",
              "2024/08         NaN  117.821335\n",
              "2024/09         NaN  115.116171"
            ],
            "text/html": [
              "\n",
              "  <div id=\"df-2a8d5160-18b8-43a3-9a1f-1a2ca79c15f5\">\n",
              "    <div class=\"colab-df-container\">\n",
              "      <div>\n",
              "<style scoped>\n",
              "    .dataframe tbody tr th:only-of-type {\n",
              "        vertical-align: middle;\n",
              "    }\n",
              "\n",
              "    .dataframe tbody tr th {\n",
              "        vertical-align: top;\n",
              "    }\n",
              "\n",
              "    .dataframe thead th {\n",
              "        text-align: right;\n",
              "    }\n",
              "</style>\n",
              "<table border=\"1\" class=\"dataframe\">\n",
              "  <thead>\n",
              "    <tr style=\"text-align: right;\">\n",
              "      <th></th>\n",
              "      <th>Valor</th>\n",
              "      <th>Predict</th>\n",
              "    </tr>\n",
              "    <tr>\n",
              "      <th>Periodo</th>\n",
              "      <th></th>\n",
              "      <th></th>\n",
              "    </tr>\n",
              "  </thead>\n",
              "  <tbody>\n",
              "    <tr>\n",
              "      <th>2022/03</th>\n",
              "      <td>111.940152</td>\n",
              "      <td>110.545185</td>\n",
              "    </tr>\n",
              "    <tr>\n",
              "      <th>2022/04</th>\n",
              "      <td>109.529866</td>\n",
              "      <td>107.307898</td>\n",
              "    </tr>\n",
              "    <tr>\n",
              "      <th>2022/05</th>\n",
              "      <td>114.442424</td>\n",
              "      <td>112.817929</td>\n",
              "    </tr>\n",
              "    <tr>\n",
              "      <th>2022/06</th>\n",
              "      <td>112.797501</td>\n",
              "      <td>114.889867</td>\n",
              "    </tr>\n",
              "    <tr>\n",
              "      <th>2022/07</th>\n",
              "      <td>111.268587</td>\n",
              "      <td>113.209387</td>\n",
              "    </tr>\n",
              "    <tr>\n",
              "      <th>2022/08</th>\n",
              "      <td>113.320302</td>\n",
              "      <td>111.768566</td>\n",
              "    </tr>\n",
              "    <tr>\n",
              "      <th>2022/09</th>\n",
              "      <td>NaN</td>\n",
              "      <td>110.526705</td>\n",
              "    </tr>\n",
              "    <tr>\n",
              "      <th>2022/10</th>\n",
              "      <td>NaN</td>\n",
              "      <td>116.144827</td>\n",
              "    </tr>\n",
              "    <tr>\n",
              "      <th>2022/11</th>\n",
              "      <td>NaN</td>\n",
              "      <td>118.350126</td>\n",
              "    </tr>\n",
              "    <tr>\n",
              "      <th>2022/12</th>\n",
              "      <td>NaN</td>\n",
              "      <td>117.040367</td>\n",
              "    </tr>\n",
              "    <tr>\n",
              "      <th>2023/01</th>\n",
              "      <td>NaN</td>\n",
              "      <td>113.530171</td>\n",
              "    </tr>\n",
              "    <tr>\n",
              "      <th>2023/02</th>\n",
              "      <td>NaN</td>\n",
              "      <td>111.082870</td>\n",
              "    </tr>\n",
              "    <tr>\n",
              "      <th>2023/03</th>\n",
              "      <td>NaN</td>\n",
              "      <td>116.123995</td>\n",
              "    </tr>\n",
              "    <tr>\n",
              "      <th>2023/04</th>\n",
              "      <td>NaN</td>\n",
              "      <td>111.806114</td>\n",
              "    </tr>\n",
              "    <tr>\n",
              "      <th>2023/05</th>\n",
              "      <td>NaN</td>\n",
              "      <td>115.622564</td>\n",
              "    </tr>\n",
              "    <tr>\n",
              "      <th>2023/06</th>\n",
              "      <td>NaN</td>\n",
              "      <td>115.957012</td>\n",
              "    </tr>\n",
              "    <tr>\n",
              "      <th>2023/07</th>\n",
              "      <td>NaN</td>\n",
              "      <td>115.580637</td>\n",
              "    </tr>\n",
              "    <tr>\n",
              "      <th>2023/08</th>\n",
              "      <td>NaN</td>\n",
              "      <td>115.828451</td>\n",
              "    </tr>\n",
              "    <tr>\n",
              "      <th>2023/09</th>\n",
              "      <td>NaN</td>\n",
              "      <td>113.148850</td>\n",
              "    </tr>\n",
              "    <tr>\n",
              "      <th>2023/10</th>\n",
              "      <td>NaN</td>\n",
              "      <td>118.669124</td>\n",
              "    </tr>\n",
              "    <tr>\n",
              "      <th>2023/11</th>\n",
              "      <td>NaN</td>\n",
              "      <td>120.787815</td>\n",
              "    </tr>\n",
              "    <tr>\n",
              "      <th>2023/12</th>\n",
              "      <td>NaN</td>\n",
              "      <td>119.401398</td>\n",
              "    </tr>\n",
              "    <tr>\n",
              "      <th>2024/01</th>\n",
              "      <td>NaN</td>\n",
              "      <td>115.823348</td>\n",
              "    </tr>\n",
              "    <tr>\n",
              "      <th>2024/02</th>\n",
              "      <td>NaN</td>\n",
              "      <td>113.315989</td>\n",
              "    </tr>\n",
              "    <tr>\n",
              "      <th>2024/03</th>\n",
              "      <td>NaN</td>\n",
              "      <td>118.303955</td>\n",
              "    </tr>\n",
              "    <tr>\n",
              "      <th>2024/04</th>\n",
              "      <td>NaN</td>\n",
              "      <td>113.939021</td>\n",
              "    </tr>\n",
              "    <tr>\n",
              "      <th>2024/05</th>\n",
              "      <td>NaN</td>\n",
              "      <td>117.713822</td>\n",
              "    </tr>\n",
              "    <tr>\n",
              "      <th>2024/06</th>\n",
              "      <td>NaN</td>\n",
              "      <td>118.011406</td>\n",
              "    </tr>\n",
              "    <tr>\n",
              "      <th>2024/07</th>\n",
              "      <td>NaN</td>\n",
              "      <td>117.602402</td>\n",
              "    </tr>\n",
              "    <tr>\n",
              "      <th>2024/08</th>\n",
              "      <td>NaN</td>\n",
              "      <td>117.821335</td>\n",
              "    </tr>\n",
              "    <tr>\n",
              "      <th>2024/09</th>\n",
              "      <td>NaN</td>\n",
              "      <td>115.116171</td>\n",
              "    </tr>\n",
              "  </tbody>\n",
              "</table>\n",
              "</div>\n",
              "      <button class=\"colab-df-convert\" onclick=\"convertToInteractive('df-2a8d5160-18b8-43a3-9a1f-1a2ca79c15f5')\"\n",
              "              title=\"Convert this dataframe to an interactive table.\"\n",
              "              style=\"display:none;\">\n",
              "        \n",
              "  <svg xmlns=\"http://www.w3.org/2000/svg\" height=\"24px\"viewBox=\"0 0 24 24\"\n",
              "       width=\"24px\">\n",
              "    <path d=\"M0 0h24v24H0V0z\" fill=\"none\"/>\n",
              "    <path d=\"M18.56 5.44l.94 2.06.94-2.06 2.06-.94-2.06-.94-.94-2.06-.94 2.06-2.06.94zm-11 1L8.5 8.5l.94-2.06 2.06-.94-2.06-.94L8.5 2.5l-.94 2.06-2.06.94zm10 10l.94 2.06.94-2.06 2.06-.94-2.06-.94-.94-2.06-.94 2.06-2.06.94z\"/><path d=\"M17.41 7.96l-1.37-1.37c-.4-.4-.92-.59-1.43-.59-.52 0-1.04.2-1.43.59L10.3 9.45l-7.72 7.72c-.78.78-.78 2.05 0 2.83L4 21.41c.39.39.9.59 1.41.59.51 0 1.02-.2 1.41-.59l7.78-7.78 2.81-2.81c.8-.78.8-2.07 0-2.86zM5.41 20L4 18.59l7.72-7.72 1.47 1.35L5.41 20z\"/>\n",
              "  </svg>\n",
              "      </button>\n",
              "      \n",
              "  <style>\n",
              "    .colab-df-container {\n",
              "      display:flex;\n",
              "      flex-wrap:wrap;\n",
              "      gap: 12px;\n",
              "    }\n",
              "\n",
              "    .colab-df-convert {\n",
              "      background-color: #E8F0FE;\n",
              "      border: none;\n",
              "      border-radius: 50%;\n",
              "      cursor: pointer;\n",
              "      display: none;\n",
              "      fill: #1967D2;\n",
              "      height: 32px;\n",
              "      padding: 0 0 0 0;\n",
              "      width: 32px;\n",
              "    }\n",
              "\n",
              "    .colab-df-convert:hover {\n",
              "      background-color: #E2EBFA;\n",
              "      box-shadow: 0px 1px 2px rgba(60, 64, 67, 0.3), 0px 1px 3px 1px rgba(60, 64, 67, 0.15);\n",
              "      fill: #174EA6;\n",
              "    }\n",
              "\n",
              "    [theme=dark] .colab-df-convert {\n",
              "      background-color: #3B4455;\n",
              "      fill: #D2E3FC;\n",
              "    }\n",
              "\n",
              "    [theme=dark] .colab-df-convert:hover {\n",
              "      background-color: #434B5C;\n",
              "      box-shadow: 0px 1px 3px 1px rgba(0, 0, 0, 0.15);\n",
              "      filter: drop-shadow(0px 1px 2px rgba(0, 0, 0, 0.3));\n",
              "      fill: #FFFFFF;\n",
              "    }\n",
              "  </style>\n",
              "\n",
              "      <script>\n",
              "        const buttonEl =\n",
              "          document.querySelector('#df-2a8d5160-18b8-43a3-9a1f-1a2ca79c15f5 button.colab-df-convert');\n",
              "        buttonEl.style.display =\n",
              "          google.colab.kernel.accessAllowed ? 'block' : 'none';\n",
              "\n",
              "        async function convertToInteractive(key) {\n",
              "          const element = document.querySelector('#df-2a8d5160-18b8-43a3-9a1f-1a2ca79c15f5');\n",
              "          const dataTable =\n",
              "            await google.colab.kernel.invokeFunction('convertToInteractive',\n",
              "                                                     [key], {});\n",
              "          if (!dataTable) return;\n",
              "\n",
              "          const docLinkHtml = 'Like what you see? Visit the ' +\n",
              "            '<a target=\"_blank\" href=https://colab.research.google.com/notebooks/data_table.ipynb>data table notebook</a>'\n",
              "            + ' to learn more about interactive tables.';\n",
              "          element.innerHTML = '';\n",
              "          dataTable['output_type'] = 'display_data';\n",
              "          await google.colab.output.renderOutput(dataTable, element);\n",
              "          const docLink = document.createElement('div');\n",
              "          docLink.innerHTML = docLinkHtml;\n",
              "          element.appendChild(docLink);\n",
              "        }\n",
              "      </script>\n",
              "    </div>\n",
              "  </div>\n",
              "  "
            ]
          },
          "metadata": {},
          "execution_count": 181
        }
      ]
    },
    {
      "cell_type": "markdown",
      "source": [
        "# Conclusión"
      ],
      "metadata": {
        "id": "ZaExQLDmmZ3_"
      }
    },
    {
      "cell_type": "markdown",
      "source": [
        "COMO SE PUEDE OBSERVAR EN LAS GRÁFICAS Y EN LA TABLA ANTERIOR. SE PUDO OBTENER CON ÉXITO EL PRONÓSTICO DE LA ECONOMÍA MEXICANA HASTA EL CIERRE DEL SEXENIO ACTUAL, EN SEPTIEMBRE DE 2024. MANTENIENDO UNA TENDENCIA CRECIENTE EN EL MERCADO AUNQUE CON UNA LIGERA CAÍDA EN EL ÚLTIMO MES, LO CUAL PODRÍA INFERIRSE DEBIDO AL CAMBIO DE GOBIERNO."
      ],
      "metadata": {
        "id": "OtfH4lcJlXJQ"
      }
    }
  ]
}